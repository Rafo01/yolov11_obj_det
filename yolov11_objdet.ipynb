{
  "cells": [
    {
      "cell_type": "markdown",
      "source": [
        "# Frame Extraction"
      ],
      "metadata": {
        "id": "lHs1pXdq46il"
      }
    },
    {
      "cell_type": "code",
      "execution_count": null,
      "metadata": {
        "colab": {
          "base_uri": "https://localhost:8080/"
        },
        "id": "TjK_-4sIqexI",
        "outputId": "a245de73-caad-4dea-9ed3-2d57abf48fee"
      },
      "outputs": [
        {
          "name": "stdout",
          "output_type": "stream",
          "text": [
            "Searching for videos in /content/drive/MyDrive/yolov11_test_cv/data/raw_video...\n",
            "\n",
            "Found 6 videos:\n",
            "- /content/drive/MyDrive/yolov11_test_cv/data/raw_video/1.MOV\n",
            "- /content/drive/MyDrive/yolov11_test_cv/data/raw_video/2_1.MOV\n",
            "- /content/drive/MyDrive/yolov11_test_cv/data/raw_video/3_1.MOV\n",
            "- /content/drive/MyDrive/yolov11_test_cv/data/raw_video/3_2.MOV\n",
            "- /content/drive/MyDrive/yolov11_test_cv/data/raw_video/4.MOV\n",
            "- /content/drive/MyDrive/yolov11_test_cv/data/raw_video/4_1.MOV\n",
            "\n",
            "Starting motion-aware frame extraction...\n",
            "\n",
            "Processing 1 (6.0s, 179 frames)\n",
            "Base interval: 0.96s (~28 frames)\n",
            "Motion check every: 0.48s\n",
            "Saved 30 diverse frames to /content/drive/MyDrive/yolov11_test_cv/data/extracted_frames\n",
            "Frame selection diversity: 100.0% of target\n",
            "\n",
            "Processing 2_1 (49.3s, 1478 frames)\n",
            "Base interval: 1.80s (~54 frames)\n",
            "Motion check every: 0.90s\n",
            "Saved 35 diverse frames to /content/drive/MyDrive/yolov11_test_cv/data/extracted_frames\n",
            "Frame selection diversity: 120.0% of target\n",
            "\n",
            "Processing 3_1 (99.3s, 2978 frames)\n",
            "Base interval: 0.84s (~25 frames)\n",
            "Motion check every: 0.42s\n",
            "Saved 344 diverse frames to /content/drive/MyDrive/yolov11_test_cv/data/extracted_frames\n",
            "Frame selection diversity: 1150.0% of target\n",
            "\n",
            "Processing 3_2 (57.7s, 1731 frames)\n",
            "Base interval: 1.80s (~54 frames)\n",
            "Motion check every: 0.90s\n",
            "Saved 62 diverse frames to /content/drive/MyDrive/yolov11_test_cv/data/extracted_frames\n",
            "Frame selection diversity: 210.0% of target\n",
            "\n",
            "Processing 4 (71.9s, 2158 frames)\n",
            "Base interval: 0.84s (~25 frames)\n",
            "Motion check every: 0.42s\n",
            "Saved 174 diverse frames to /content/drive/MyDrive/yolov11_test_cv/data/extracted_frames\n",
            "Frame selection diversity: 580.0% of target\n",
            "\n",
            "Processing 4_1 (33.8s, 1013 frames)\n",
            "Base interval: 1.80s (~54 frames)\n",
            "Motion check every: 0.90s\n",
            "Saved 34 diverse frames to /content/drive/MyDrive/yolov11_test_cv/data/extracted_frames\n",
            "Frame selection diversity: 116.7% of target\n",
            "\n",
            "Frame extraction completed!\n"
          ]
        }
      ],
      "source": [
        "import os\n",
        "import cv2\n",
        "import numpy as np\n",
        "from pathlib import Path\n",
        "\n",
        "def get_video_paths(folder_path, extensions=None, recursive=True):\n",
        "    \"\"\"\n",
        "    Get all video file paths from a folder.\n",
        "\n",
        "    Args:\n",
        "        folder_path (str): Path to the folder containing videos.\n",
        "        extensions (list, optional): List of video extensions to look for.\n",
        "                                     Defaults to common video formats.\n",
        "        recursive (bool, optional): Whether to search subfolders recursively.\n",
        "                                    Defaults to True.\n",
        "\n",
        "    Returns:\n",
        "        list: List of absolute paths to video files.\n",
        "    \"\"\"\n",
        "    if extensions is None:\n",
        "        extensions = ['.mp4', '.avi', '.mov', '.mkv', '.flv', '.webm', '.wmv']\n",
        "\n",
        "    video_paths = []\n",
        "\n",
        "    if recursive:\n",
        "        for root, _, files in os.walk(folder_path):\n",
        "            for file in files:\n",
        "                if any(file.lower().endswith(ext) for ext in extensions):\n",
        "                    video_paths.append(os.path.join(root, file))\n",
        "    else:\n",
        "        for file in os.listdir(folder_path):\n",
        "            if any(file.lower().endswith(ext) for ext in extensions):\n",
        "                video_paths.append(os.path.join(folder_path, file))\n",
        "\n",
        "    return video_paths\n",
        "\n",
        "def calculate_adaptive_interval(duration, motion_threshold=0.5):\n",
        "    \"\"\"\n",
        "    Calculate frame interval considering both duration and expected motion.\n",
        "\n",
        "    Args:\n",
        "        duration (float): Video duration in seconds\n",
        "        motion_threshold (float): Expected motion level (0-1)\n",
        "\n",
        "    Returns:\n",
        "        tuple: (base_interval, motion_check_interval)\n",
        "    \"\"\"\n",
        "    # base interval based on duration\n",
        "    if duration < 5:\n",
        "        base = duration / 15  # Ensure at least 15 frames for very short videos\n",
        "    elif duration < 10:\n",
        "        base = 0.8\n",
        "    elif duration < 30:\n",
        "        base = 1.0\n",
        "    elif duration < 60:\n",
        "        base = 1.5\n",
        "    else:\n",
        "        base = 0.7\n",
        "\n",
        "    # lower threshold = more frames\n",
        "    motion_factor = 1.5 - motion_threshold  # 2x faster check motion\n",
        "    return (base * motion_factor, base * motion_factor * 0.5)\n",
        "\n",
        "def extract_diverse_frames(video_paths, base_output_dir=\"extracted_frames\", motion_threshold=0.3):\n",
        "    \"\"\"\n",
        "    Extract frames with emphasis on diversity and key moments.\n",
        "\n",
        "    Args:\n",
        "        video_paths (list): List of video file paths\n",
        "        base_output_dir (str): Output directory for extracted frames\n",
        "        motion_threshold (float): Sensitivity to motion (0-1, lower=more sensitive)\n",
        "    \"\"\"\n",
        "    Path(base_output_dir).mkdir(parents=True, exist_ok=True)\n",
        "\n",
        "    for video_path in video_paths:\n",
        "        video_name = Path(video_path).stem\n",
        "        output_folder = os.path.join(base_output_dir)\n",
        "        os.makedirs(output_folder, exist_ok=True)\n",
        "\n",
        "        cap = cv2.VideoCapture(video_path)\n",
        "        if not cap.isOpened():\n",
        "            print(f\"Warning: Could not open video {video_path}\")\n",
        "            continue\n",
        "\n",
        "        fps = cap.get(cv2.CAP_PROP_FPS)\n",
        "        total_frames = int(cap.get(cv2.CAP_PROP_FRAME_COUNT))\n",
        "        duration = total_frames / fps\n",
        "\n",
        "        base_interval, motion_interval = calculate_adaptive_interval(duration, motion_threshold)\n",
        "        frame_interval = max(1, int(fps * base_interval))\n",
        "        motion_check_interval = max(1, int(fps * motion_interval))\n",
        "\n",
        "        print(f\"\\nProcessing {video_name} ({duration:.1f}s, {total_frames} frames)\")\n",
        "        print(f\"Base interval: {base_interval:.2f}s (~{frame_interval} frames)\")\n",
        "        print(f\"Motion check every: {motion_interval:.2f}s\")\n",
        "\n",
        "        # always capture first and last frames!!!\n",
        "        selected_frames = {0, total_frames-1}\n",
        "\n",
        "        # adding key frames at scene changes\n",
        "        success, prev_frame = cap.read()\n",
        "        if not success:\n",
        "            continue\n",
        "\n",
        "        prev_gray = cv2.cvtColor(prev_frame, cv2.COLOR_BGR2GRAY)\n",
        "        prev_gray = cv2.GaussianBlur(prev_gray, (21, 21), 0)\n",
        "        frame_diffs = []\n",
        "\n",
        "        for frame_num in range(1, total_frames):\n",
        "            ret, frame = cap.read()\n",
        "            if not ret:\n",
        "                break\n",
        "\n",
        "            # checkking for motion periodically\n",
        "            if frame_num % motion_check_interval == 0:\n",
        "                gray = cv2.cvtColor(frame, cv2.COLOR_BGR2GRAY)\n",
        "                gray = cv2.GaussianBlur(gray, (21, 21), 0)\n",
        "                delta = cv2.absdiff(gray, prev_gray)\n",
        "                thresh = cv2.threshold(delta, 25, 255, cv2.THRESH_BINARY)[1]\n",
        "                changed_pixels = cv2.countNonZero(thresh)\n",
        "                change_percent = changed_pixels / (gray.shape[0] * gray.shape[1])\n",
        "                frame_diffs.append((frame_num, change_percent))\n",
        "\n",
        "                if change_percent > (motion_threshold * 0.05):  # scale threshold\n",
        "                    selected_frames.add(frame_num)\n",
        "                    prev_gray = gray\n",
        "\n",
        "            # add frames at regular intervals\n",
        "            if frame_num % frame_interval == 0:\n",
        "                selected_frames.add(frame_num)\n",
        "\n",
        "        # add most dynamic frames if we didnt get enough variation\n",
        "        if len(selected_frames) < min(30, total_frames) and frame_diffs:\n",
        "            frame_diffs.sort(key=lambda x: x[1], reverse=True)\n",
        "            needed = min(30, total_frames) - len(selected_frames)\n",
        "            for i in range(min(needed, len(frame_diffs))):\n",
        "                selected_frames.add(frame_diffs[i][0])\n",
        "\n",
        "        # ensure minimum frame count\n",
        "        min_frames = min(30, total_frames)\n",
        "        while len(selected_frames) < min_frames:\n",
        "            extra_frame = np.random.randint(0, total_frames)\n",
        "            selected_frames.add(extra_frame)\n",
        "\n",
        "        # saving selected frames\n",
        "        saved_count = 0\n",
        "        for frame_num in sorted(selected_frames):\n",
        "            cap.set(cv2.CAP_PROP_POS_FRAMES, frame_num)\n",
        "            success, frame = cap.read()\n",
        "            if success:\n",
        "                frame_path = os.path.join(output_folder,\n",
        "                                       f\"{video_name}_frame_{frame_num:06d}.jpg\")\n",
        "                cv2.imwrite(frame_path, frame)\n",
        "                saved_count += 1\n",
        "\n",
        "        cap.release()\n",
        "        print(f\"Saved {saved_count} diverse frames to {output_folder}\")\n",
        "        print(f\"Frame selection diversity: {len(selected_frames)/min_frames:.1%} of target\")\n",
        "\n",
        "\n",
        "VIDEO_DIR = \"/content/drive/MyDrive/yolov11_test_cv/data/raw_video\"\n",
        "OUTPUT_DIR = \"/content/drive/MyDrive/yolov11_test_cv/data/extracted_frames\"\n",
        "MOTION_THRESHOLD = 0.3  # lower = more sensitive to motion\n",
        "\n",
        "if __name__ == \"__main__\":\n",
        "    print(f\"Searching for videos in {VIDEO_DIR}...\")\n",
        "    video_paths = get_video_paths(VIDEO_DIR)\n",
        "\n",
        "    if not video_paths:\n",
        "        print(\"No videos found in the specified directory.\")\n",
        "    else:\n",
        "        print(f\"\\nFound {len(video_paths)} videos:\")\n",
        "        for v in video_paths:\n",
        "            print(f\"- {v}\")\n",
        "\n",
        "        # extract frames with motion-aware adaptive intervals\n",
        "        print(\"\\nStarting motion-aware frame extraction...\")\n",
        "        extract_diverse_frames(\n",
        "            video_paths=video_paths,\n",
        "            base_output_dir=OUTPUT_DIR,\n",
        "            motion_threshold=MOTION_THRESHOLD\n",
        "        )\n",
        "        print(\"\\nFrame extraction completed!\")"
      ]
    },
    {
      "cell_type": "markdown",
      "metadata": {
        "id": "BmJYvfGCJ9XC"
      },
      "source": [
        "# Filter classes (due to labelImg)"
      ]
    },
    {
      "cell_type": "code",
      "execution_count": null,
      "metadata": {
        "colab": {
          "base_uri": "https://localhost:8080/"
        },
        "id": "vELBnRDjJ7_v",
        "outputId": "e96ded57-8c95-448c-8de6-08bcb7c4d65e"
      },
      "outputs": [
        {
          "name": "stdout",
          "output_type": "stream",
          "text": [
            "Class filtering and remapping complete!\n"
          ]
        }
      ],
      "source": [
        "import os\n",
        "from pathlib import Path\n",
        "\n",
        "# format: {original_id: new_id}\n",
        "class_id_mapping = {\n",
        "    15: 0,  # container\n",
        "    17: 1,  # cup\n",
        "    24: 2,  # tea\n",
        "    20: 3,  # soup\n",
        "    21: 4,  # meat\n",
        "    22: 5,  # salad\n",
        "    23: 6,  # dish\n",
        "    26: 7   # plate\n",
        "}\n",
        "\n",
        "folders = ['/content/drive/MyDrive/yolov11_test_cv/data/anno_labelimg']\n",
        "\n",
        "for folder in folders:\n",
        "    labels_path = Path(folder)\n",
        "\n",
        "    for label_file in labels_path.glob('*.txt'):\n",
        "        new_lines = []\n",
        "\n",
        "        with open(label_file, 'r') as f:\n",
        "            lines = f.readlines()\n",
        "\n",
        "        for line in lines:\n",
        "            parts = line.strip().split()\n",
        "            if len(parts) < 5:  # skipping invalid lines\n",
        "                continue\n",
        "\n",
        "            original_id = int(parts[0])\n",
        "\n",
        "            # check if this is a class I want to keep\n",
        "            if original_id in class_id_mapping:\n",
        "                new_id = class_id_mapping[original_id]\n",
        "                new_line = f\"{new_id} {' '.join(parts[1:])}\\n\"\n",
        "                new_lines.append(new_line)\n",
        "\n",
        "        with open(label_file, 'w') as f:  # overwrite original\n",
        "            f.writelines(new_lines)\n",
        "\n",
        "print(\"Class filtering and remapping complete!\")"
      ]
    },
    {
      "cell_type": "markdown",
      "source": [
        "# Prepare images to auto-labeling\n"
      ],
      "metadata": {
        "id": "0kNRjSzyrDdP"
      }
    },
    {
      "cell_type": "code",
      "source": [
        "import os\n",
        "import shutil\n",
        "import yaml\n",
        "\n",
        "\n",
        "BASE_PATH = '/content/drive/MyDrive/yolov11_test_cv/data'\n",
        "ALL_IMAGES_DIR = os.path.join(BASE_PATH, 'extracted_frames')\n",
        "ALL_LABELS_DIR = os.path.join(BASE_PATH, 'anno_labelimg')\n",
        "\n",
        "YOLOV8_DIR = os.path.join(BASE_PATH, 'yolov8')\n",
        "IMAGES_TRAIN = os.path.join(YOLOV8_DIR, 'images/train')\n",
        "IMAGES_UNLABELED = os.path.join(YOLOV8_DIR, 'images/unlabeled')\n",
        "LABELS_TRAIN = os.path.join(YOLOV8_DIR, 'labels/train')\n",
        "CLASSES_FILE = os.path.join(YOLOV8_DIR, 'classes.txt')\n",
        "DATA_YAML_FILE = os.path.join(YOLOV8_DIR, 'data.yaml')\n",
        "\n",
        "os.makedirs(IMAGES_TRAIN, exist_ok=True)\n",
        "os.makedirs(IMAGES_UNLABELED, exist_ok=True)\n",
        "os.makedirs(LABELS_TRAIN, exist_ok=True)\n",
        "\n",
        "# collecting base names of labeled images\n",
        "labeled_image_names = set()\n",
        "for label_file in os.listdir(ALL_LABELS_DIR):\n",
        "    if label_file.endswith('.txt'):\n",
        "        labeled_image_names.add(os.path.splitext(label_file)[0])\n",
        "\n",
        "# images to train or unlabeled\n",
        "for image_file in os.listdir(ALL_IMAGES_DIR):\n",
        "    base_name, ext = os.path.splitext(image_file)\n",
        "    src = os.path.join(ALL_IMAGES_DIR, image_file)\n",
        "\n",
        "    if base_name in labeled_image_names:\n",
        "        dst = os.path.join(IMAGES_TRAIN, image_file)\n",
        "    else:\n",
        "        dst = os.path.join(IMAGES_UNLABELED, image_file)\n",
        "\n",
        "    shutil.copy2(src, dst)\n",
        "\n",
        "# labels\n",
        "for label_file in os.listdir(ALL_LABELS_DIR):\n",
        "    if label_file.endswith('.txt'):\n",
        "        shutil.copy2(\n",
        "            os.path.join(ALL_LABELS_DIR, label_file),\n",
        "            os.path.join(LABELS_TRAIN, label_file)\n",
        "        )\n",
        "\n",
        "# classes\n",
        "default_classes = ['container', 'cup', 'tea', 'soup', 'meat', 'salad', 'dish', 'plate']\n",
        "with open(CLASSES_FILE, 'w') as f:\n",
        "    f.writelines(f\"{cls}\\n\" for cls in default_classes)\n",
        "\n",
        "\n",
        "data_yaml = {\n",
        "    'path': YOLOV8_DIR,\n",
        "    'train': 'images/train',\n",
        "    'val': 'images/train',\n",
        "    'names': {i: name for i, name in enumerate(default_classes)}\n",
        "}\n",
        "with open(DATA_YAML_FILE, 'w') as f:\n",
        "    yaml.dump(data_yaml, f, sort_keys=False)\n",
        "\n",
        "print(f\"YOLOv8 dataset prepared at: {YOLOV8_DIR}\")\n",
        "print(f\"Training images: {IMAGES_TRAIN}\")\n",
        "print(f\"Unlabeled images: {IMAGES_UNLABELED}\")\n",
        "print(f\"data.yaml created: {DATA_YAML_FILE}\")"
      ],
      "metadata": {
        "id": "8uZFvU3zswxv"
      },
      "execution_count": null,
      "outputs": []
    },
    {
      "cell_type": "code",
      "source": [
        "folder_path = \"/content/drive/MyDrive/yolov11_test_cv/data/yolov8/images/unlabeled\"\n",
        "\n",
        "txt_files = [f for f in os.listdir(folder_path)]\n",
        "print(f\"Number of .txt files: {len(txt_files)}\")"
      ],
      "metadata": {
        "colab": {
          "base_uri": "https://localhost:8080/"
        },
        "id": "9VmTKutCrBaq",
        "outputId": "34e40b37-95d6-4b84-97ac-d5bcc9160550"
      },
      "execution_count": null,
      "outputs": [
        {
          "output_type": "stream",
          "name": "stdout",
          "text": [
            "Number of .txt files: 499\n"
          ]
        }
      ]
    },
    {
      "cell_type": "markdown",
      "source": [
        "# YOLOv8 semi-auto-labeling\n"
      ],
      "metadata": {
        "id": "t9S1dGY6vbfP"
      }
    },
    {
      "cell_type": "code",
      "source": [
        "#!pip install ultralytics\n",
        "#!pip uninstall -y torch torchvision torchaudio ultralytics\n",
        "#!pip install torch torchvision torchaudio --index-url https://download.pytorch.org/whl/cu118"
      ],
      "metadata": {
        "id": "u5oWwFr6vjzk"
      },
      "execution_count": null,
      "outputs": []
    },
    {
      "cell_type": "code",
      "source": [
        "#!pip install ultralytics"
      ],
      "metadata": {
        "id": "1E5fEpbky_8D"
      },
      "execution_count": null,
      "outputs": []
    },
    {
      "cell_type": "code",
      "source": [
        "import os\n",
        "import shutil\n",
        "from ultralytics import YOLO\n",
        "from tqdm import tqdm\n",
        "\n",
        "BASE_PATH = '/content/drive/MyDrive/yolov11_test_cv/data/yolov8'\n",
        "DATA_YAML = os.path.join(BASE_PATH, 'data.yaml')\n",
        "UNLABELED_IMAGES = os.path.join(BASE_PATH, 'images', 'unlabeled')\n",
        "UNLABELED_LABELS_OUT = os.path.join(BASE_PATH, 'labels', 'unlabeled')\n",
        "os.makedirs(UNLABELED_LABELS_OUT, exist_ok=True)\n",
        "\n",
        "# train on labeled images\n",
        "model = YOLO('yolov8n.pt')\n",
        "model.train(\n",
        "    data=DATA_YAML,\n",
        "    epochs=2,\n",
        "    imgsz=640,\n",
        "    batch=16,\n",
        "    project=os.path.join(BASE_PATH, 'runs'),\n",
        "    name='yolo_train'\n",
        ")\n",
        "\n",
        "# loading trained model\n",
        "trained_model = YOLO(os.path.join(BASE_PATH, 'runs', 'yolo_train', 'weights', 'best.pt'))\n",
        "\n",
        "# predict in batches\n",
        "image_list = sorted([\n",
        "    os.path.join(UNLABELED_IMAGES, fname)\n",
        "    for fname in os.listdir(UNLABELED_IMAGES)\n",
        "    if fname.lower().endswith(('.jpg', '.jpeg', '.png'))\n",
        "])\n",
        "\n",
        "batch_size = 10\n",
        "print(f\"Total images: {len(image_list)} | Batch size: {batch_size}\")\n",
        "\n",
        "for i in tqdm(range(0, len(image_list), batch_size)):\n",
        "    batch = image_list[i:i+batch_size]\n",
        "    trained_model.predict(\n",
        "        source=batch,\n",
        "        save_txt=True,\n",
        "        save_conf=True,\n",
        "        project=os.path.join(BASE_PATH, 'runs'),\n",
        "        name='autolabel',\n",
        "        conf=0.3,\n",
        "        verbose=False\n",
        "    )\n",
        "\n",
        "# copy predictions\n",
        "predicted_labels_dir = os.path.join(BASE_PATH, 'runs', 'autolabel', 'labels')\n",
        "\n",
        "for fname in os.listdir(predicted_labels_dir):\n",
        "    if fname.endswith('.txt'):\n",
        "        shutil.copy(\n",
        "            os.path.join(predicted_labels_dir, fname),\n",
        "            os.path.join(UNLABELED_LABELS_OUT, fname)\n",
        "        )\n",
        "\n",
        "print(f\"Auto-labeling complete! Labels saved in: {UNLABELED_LABELS_OUT}\")\n"
      ],
      "metadata": {
        "colab": {
          "base_uri": "https://localhost:8080/"
        },
        "id": "5XhPgDJ3Mm-s",
        "outputId": "f26cca9d-a087-4cc2-b1a0-366ca577195a"
      },
      "execution_count": null,
      "outputs": [
        {
          "output_type": "stream",
          "name": "stdout",
          "text": [
            "Ultralytics 8.3.162 🚀 Python-3.11.13 torch-2.7.1+cu118 CPU (Intel Xeon 2.20GHz)\n",
            "\u001b[34m\u001b[1mengine/trainer: \u001b[0magnostic_nms=False, amp=True, augment=False, auto_augment=randaugment, batch=16, bgr=0.0, box=7.5, cache=False, cfg=None, classes=None, close_mosaic=10, cls=0.5, conf=None, copy_paste=0.0, copy_paste_mode=flip, cos_lr=False, cutmix=0.0, data=/content/drive/MyDrive/yolov11_test_cv/data/yolov8/data.yaml, degrees=0.0, deterministic=True, device=cpu, dfl=1.5, dnn=False, dropout=0.0, dynamic=False, embed=None, epochs=2, erasing=0.4, exist_ok=False, fliplr=0.5, flipud=0.0, format=torchscript, fraction=1.0, freeze=None, half=False, hsv_h=0.015, hsv_s=0.7, hsv_v=0.4, imgsz=640, int8=False, iou=0.7, keras=False, kobj=1.0, line_width=None, lr0=0.01, lrf=0.01, mask_ratio=4, max_det=300, mixup=0.0, mode=train, model=yolov8s.pt, momentum=0.937, mosaic=1.0, multi_scale=False, name=yolo_train4, nbs=64, nms=False, opset=None, optimize=False, optimizer=auto, overlap_mask=True, patience=100, perspective=0.0, plots=True, pose=12.0, pretrained=True, profile=False, project=/content/drive/MyDrive/yolov11_test_cv/data/yolov8/runs, rect=False, resume=False, retina_masks=False, save=True, save_conf=False, save_crop=False, save_dir=/content/drive/MyDrive/yolov11_test_cv/data/yolov8/runs/yolo_train4, save_frames=False, save_json=False, save_period=-1, save_txt=False, scale=0.5, seed=0, shear=0.0, show=False, show_boxes=True, show_conf=True, show_labels=True, simplify=True, single_cls=False, source=None, split=val, stream_buffer=False, task=detect, time=None, tracker=botsort.yaml, translate=0.1, val=True, verbose=True, vid_stride=1, visualize=False, warmup_bias_lr=0.1, warmup_epochs=3.0, warmup_momentum=0.8, weight_decay=0.0005, workers=8, workspace=None\n",
            "Overriding model.yaml nc=80 with nc=8\n",
            "\n",
            "                   from  n    params  module                                       arguments                     \n",
            "  0                  -1  1       928  ultralytics.nn.modules.conv.Conv             [3, 32, 3, 2]                 \n",
            "  1                  -1  1     18560  ultralytics.nn.modules.conv.Conv             [32, 64, 3, 2]                \n",
            "  2                  -1  1     29056  ultralytics.nn.modules.block.C2f             [64, 64, 1, True]             \n",
            "  3                  -1  1     73984  ultralytics.nn.modules.conv.Conv             [64, 128, 3, 2]               \n",
            "  4                  -1  2    197632  ultralytics.nn.modules.block.C2f             [128, 128, 2, True]           \n",
            "  5                  -1  1    295424  ultralytics.nn.modules.conv.Conv             [128, 256, 3, 2]              \n",
            "  6                  -1  2    788480  ultralytics.nn.modules.block.C2f             [256, 256, 2, True]           \n",
            "  7                  -1  1   1180672  ultralytics.nn.modules.conv.Conv             [256, 512, 3, 2]              \n",
            "  8                  -1  1   1838080  ultralytics.nn.modules.block.C2f             [512, 512, 1, True]           \n",
            "  9                  -1  1    656896  ultralytics.nn.modules.block.SPPF            [512, 512, 5]                 \n",
            " 10                  -1  1         0  torch.nn.modules.upsampling.Upsample         [None, 2, 'nearest']          \n",
            " 11             [-1, 6]  1         0  ultralytics.nn.modules.conv.Concat           [1]                           \n",
            " 12                  -1  1    591360  ultralytics.nn.modules.block.C2f             [768, 256, 1]                 \n",
            " 13                  -1  1         0  torch.nn.modules.upsampling.Upsample         [None, 2, 'nearest']          \n",
            " 14             [-1, 4]  1         0  ultralytics.nn.modules.conv.Concat           [1]                           \n",
            " 15                  -1  1    148224  ultralytics.nn.modules.block.C2f             [384, 128, 1]                 \n",
            " 16                  -1  1    147712  ultralytics.nn.modules.conv.Conv             [128, 128, 3, 2]              \n",
            " 17            [-1, 12]  1         0  ultralytics.nn.modules.conv.Concat           [1]                           \n",
            " 18                  -1  1    493056  ultralytics.nn.modules.block.C2f             [384, 256, 1]                 \n",
            " 19                  -1  1    590336  ultralytics.nn.modules.conv.Conv             [256, 256, 3, 2]              \n",
            " 20             [-1, 9]  1         0  ultralytics.nn.modules.conv.Concat           [1]                           \n",
            " 21                  -1  1   1969152  ultralytics.nn.modules.block.C2f             [768, 512, 1]                 \n",
            " 22        [15, 18, 21]  1   2119144  ultralytics.nn.modules.head.Detect           [8, [128, 256, 512]]          \n",
            "Model summary: 129 layers, 11,138,696 parameters, 11,138,680 gradients, 28.7 GFLOPs\n",
            "\n",
            "Transferred 349/355 items from pretrained weights\n",
            "Freezing layer 'model.22.dfl.conv.weight'\n",
            "\u001b[34m\u001b[1mtrain: \u001b[0mFast image access ✅ (ping: 3.7±4.9 ms, read: 133.3±38.2 MB/s, size: 1883.7 KB)\n"
          ]
        },
        {
          "output_type": "stream",
          "name": "stderr",
          "text": [
            "\u001b[34m\u001b[1mtrain: \u001b[0mScanning /content/drive/MyDrive/yolov11_test_cv/data/yolov8/labels/train.cache... 180 images, 1 backgrounds, 0 corrupt: 100%|██████████| 180/180 [00:00<?, ?it/s]\n"
          ]
        },
        {
          "output_type": "stream",
          "name": "stdout",
          "text": [
            "\u001b[34m\u001b[1malbumentations: \u001b[0mBlur(p=0.01, blur_limit=(3, 7)), MedianBlur(p=0.01, blur_limit=(3, 7)), ToGray(p=0.01, method='weighted_average', num_output_channels=3), CLAHE(p=0.01, clip_limit=(1.0, 4.0), tile_grid_size=(8, 8))\n",
            "\u001b[34m\u001b[1mval: \u001b[0mFast image access ✅ (ping: 0.7±0.5 ms, read: 206.8±85.4 MB/s, size: 2062.3 KB)\n"
          ]
        },
        {
          "output_type": "stream",
          "name": "stderr",
          "text": [
            "/usr/local/lib/python3.11/dist-packages/torch/utils/data/dataloader.py:665: UserWarning: 'pin_memory' argument is set as true but no accelerator is found, then device pinned memory won't be used.\n",
            "  warnings.warn(warn_msg)\n",
            "\u001b[34m\u001b[1mval: \u001b[0mScanning /content/drive/MyDrive/yolov11_test_cv/data/yolov8/labels/train.cache... 180 images, 1 backgrounds, 0 corrupt: 100%|██████████| 180/180 [00:00<?, ?it/s]\n",
            "/usr/local/lib/python3.11/dist-packages/torch/utils/data/dataloader.py:665: UserWarning: 'pin_memory' argument is set as true but no accelerator is found, then device pinned memory won't be used.\n",
            "  warnings.warn(warn_msg)\n"
          ]
        },
        {
          "output_type": "stream",
          "name": "stdout",
          "text": [
            "Plotting labels to /content/drive/MyDrive/yolov11_test_cv/data/yolov8/runs/yolo_train4/labels.jpg... \n",
            "\u001b[34m\u001b[1moptimizer:\u001b[0m 'optimizer=auto' found, ignoring 'lr0=0.01' and 'momentum=0.937' and determining best 'optimizer', 'lr0' and 'momentum' automatically... \n",
            "\u001b[34m\u001b[1moptimizer:\u001b[0m AdamW(lr=0.000833, momentum=0.9) with parameter groups 57 weight(decay=0.0), 64 weight(decay=0.0005), 63 bias(decay=0.0)\n",
            "Image sizes 640 train, 640 val\n",
            "Using 0 dataloader workers\n",
            "Logging results to \u001b[1m/content/drive/MyDrive/yolov11_test_cv/data/yolov8/runs/yolo_train4\u001b[0m\n",
            "Starting training for 2 epochs...\n",
            "\n",
            "      Epoch    GPU_mem   box_loss   cls_loss   dfl_loss  Instances       Size\n"
          ]
        },
        {
          "output_type": "stream",
          "name": "stderr",
          "text": [
            "        1/2         0G      1.074      3.012       1.08         37        640: 100%|██████████| 12/12 [07:17<00:00, 36.49s/it]\n",
            "                 Class     Images  Instances      Box(P          R      mAP50  mAP50-95):  17%|█▋        | 1/6 [00:19<01:36, 19.33s/it]"
          ]
        },
        {
          "output_type": "stream",
          "name": "stdout",
          "text": [
            "WARNING ⚠️ NMS time limit 3.600s exceeded\n"
          ]
        },
        {
          "output_type": "stream",
          "name": "stderr",
          "text": [
            "                 Class     Images  Instances      Box(P          R      mAP50  mAP50-95):  67%|██████▋   | 4/6 [01:14<00:36, 18.42s/it]"
          ]
        },
        {
          "output_type": "stream",
          "name": "stdout",
          "text": [
            "WARNING ⚠️ NMS time limit 3.600s exceeded\n"
          ]
        },
        {
          "output_type": "stream",
          "name": "stderr",
          "text": [
            "                 Class     Images  Instances      Box(P          R      mAP50  mAP50-95): 100%|██████████| 6/6 [01:43<00:00, 17.18s/it]"
          ]
        },
        {
          "output_type": "stream",
          "name": "stdout",
          "text": [
            "                   all        180       1128      0.679      0.641      0.607       0.48\n"
          ]
        },
        {
          "output_type": "stream",
          "name": "stderr",
          "text": [
            "\n"
          ]
        },
        {
          "output_type": "stream",
          "name": "stdout",
          "text": [
            "\n",
            "      Epoch    GPU_mem   box_loss   cls_loss   dfl_loss  Instances       Size\n"
          ]
        },
        {
          "output_type": "stream",
          "name": "stderr",
          "text": [
            "        2/2         0G     0.8432      1.075     0.9656         59        640: 100%|██████████| 12/12 [06:36<00:00, 33.01s/it]\n",
            "                 Class     Images  Instances      Box(P          R      mAP50  mAP50-95): 100%|██████████| 6/6 [01:38<00:00, 16.35s/it]"
          ]
        },
        {
          "output_type": "stream",
          "name": "stdout",
          "text": [
            "                   all        180       1128      0.921      0.799      0.815      0.663\n"
          ]
        },
        {
          "output_type": "stream",
          "name": "stderr",
          "text": [
            "\n"
          ]
        },
        {
          "output_type": "stream",
          "name": "stdout",
          "text": [
            "\n",
            "2 epochs completed in 0.289 hours.\n",
            "Optimizer stripped from /content/drive/MyDrive/yolov11_test_cv/data/yolov8/runs/yolo_train4/weights/last.pt, 22.5MB\n",
            "Optimizer stripped from /content/drive/MyDrive/yolov11_test_cv/data/yolov8/runs/yolo_train4/weights/best.pt, 22.5MB\n",
            "\n",
            "Validating /content/drive/MyDrive/yolov11_test_cv/data/yolov8/runs/yolo_train4/weights/best.pt...\n",
            "Ultralytics 8.3.162 🚀 Python-3.11.13 torch-2.7.1+cu118 CPU (Intel Xeon 2.20GHz)\n",
            "Model summary (fused): 72 layers, 11,128,680 parameters, 0 gradients, 28.5 GFLOPs\n"
          ]
        },
        {
          "output_type": "stream",
          "name": "stderr",
          "text": [
            "                 Class     Images  Instances      Box(P          R      mAP50  mAP50-95): 100%|██████████| 6/6 [01:37<00:00, 16.17s/it]\n"
          ]
        },
        {
          "output_type": "stream",
          "name": "stdout",
          "text": [
            "                   all        180       1128      0.923      0.799      0.815      0.663\n",
            "                   cup        179        498      0.866      0.964      0.977      0.779\n",
            "                  soup          1          2          1          0   9.49e-05   8.54e-05\n",
            "                  meat         66         66      0.841          1      0.995      0.789\n",
            "                 salad         65        131      0.912      0.908      0.949      0.666\n",
            "                  dish        153        153      0.971      0.987      0.994      0.931\n",
            "                 plate        100        278      0.946      0.935      0.977      0.816\n",
            "Speed: 1.4ms preprocess, 378.4ms inference, 0.0ms loss, 84.6ms postprocess per image\n",
            "Results saved to \u001b[1m/content/drive/MyDrive/yolov11_test_cv/data/yolov8/runs/yolo_train4\u001b[0m\n",
            "Total images: 499 | Batch size: 10\n"
          ]
        },
        {
          "output_type": "stream",
          "name": "stderr",
          "text": [
            "\r  0%|          | 0/50 [00:00<?, ?it/s]"
          ]
        },
        {
          "output_type": "stream",
          "name": "stdout",
          "text": [
            "Results saved to \u001b[1m/content/drive/MyDrive/yolov11_test_cv/data/yolov8/runs/autolabel3\u001b[0m\n",
            "10 labels saved to /content/drive/MyDrive/yolov11_test_cv/data/yolov8/runs/autolabel3/labels\n"
          ]
        },
        {
          "output_type": "stream",
          "name": "stderr",
          "text": [
            "\r  2%|▏         | 1/50 [00:09<07:30,  9.19s/it]"
          ]
        },
        {
          "output_type": "stream",
          "name": "stdout",
          "text": [
            "Results saved to \u001b[1m/content/drive/MyDrive/yolov11_test_cv/data/yolov8/runs/autolabel4\u001b[0m\n",
            "10 labels saved to /content/drive/MyDrive/yolov11_test_cv/data/yolov8/runs/autolabel4/labels\n"
          ]
        },
        {
          "output_type": "stream",
          "name": "stderr",
          "text": [
            "\r  4%|▍         | 2/50 [00:13<05:16,  6.59s/it]"
          ]
        },
        {
          "output_type": "stream",
          "name": "stdout",
          "text": [
            "Results saved to \u001b[1m/content/drive/MyDrive/yolov11_test_cv/data/yolov8/runs/autolabel5\u001b[0m\n",
            "10 labels saved to /content/drive/MyDrive/yolov11_test_cv/data/yolov8/runs/autolabel5/labels\n"
          ]
        },
        {
          "output_type": "stream",
          "name": "stderr",
          "text": [
            "\r  6%|▌         | 3/50 [00:20<04:59,  6.37s/it]"
          ]
        },
        {
          "output_type": "stream",
          "name": "stdout",
          "text": [
            "Results saved to \u001b[1m/content/drive/MyDrive/yolov11_test_cv/data/yolov8/runs/autolabel6\u001b[0m\n",
            "10 labels saved to /content/drive/MyDrive/yolov11_test_cv/data/yolov8/runs/autolabel6/labels\n"
          ]
        },
        {
          "output_type": "stream",
          "name": "stderr",
          "text": [
            "\r  8%|▊         | 4/50 [00:24<04:23,  5.73s/it]"
          ]
        },
        {
          "output_type": "stream",
          "name": "stdout",
          "text": [
            "Results saved to \u001b[1m/content/drive/MyDrive/yolov11_test_cv/data/yolov8/runs/autolabel7\u001b[0m\n",
            "10 labels saved to /content/drive/MyDrive/yolov11_test_cv/data/yolov8/runs/autolabel7/labels\n"
          ]
        },
        {
          "output_type": "stream",
          "name": "stderr",
          "text": [
            "\r 10%|█         | 5/50 [00:29<04:01,  5.37s/it]"
          ]
        },
        {
          "output_type": "stream",
          "name": "stdout",
          "text": [
            "Results saved to \u001b[1m/content/drive/MyDrive/yolov11_test_cv/data/yolov8/runs/autolabel8\u001b[0m\n",
            "10 labels saved to /content/drive/MyDrive/yolov11_test_cv/data/yolov8/runs/autolabel8/labels\n"
          ]
        },
        {
          "output_type": "stream",
          "name": "stderr",
          "text": [
            "\r 12%|█▏        | 6/50 [00:35<04:10,  5.70s/it]"
          ]
        },
        {
          "output_type": "stream",
          "name": "stdout",
          "text": [
            "Results saved to \u001b[1m/content/drive/MyDrive/yolov11_test_cv/data/yolov8/runs/autolabel9\u001b[0m\n",
            "10 labels saved to /content/drive/MyDrive/yolov11_test_cv/data/yolov8/runs/autolabel9/labels\n"
          ]
        },
        {
          "output_type": "stream",
          "name": "stderr",
          "text": [
            "\r 14%|█▍        | 7/50 [00:40<03:51,  5.39s/it]"
          ]
        },
        {
          "output_type": "stream",
          "name": "stdout",
          "text": [
            "Results saved to \u001b[1m/content/drive/MyDrive/yolov11_test_cv/data/yolov8/runs/autolabel10\u001b[0m\n",
            "10 labels saved to /content/drive/MyDrive/yolov11_test_cv/data/yolov8/runs/autolabel10/labels\n"
          ]
        },
        {
          "output_type": "stream",
          "name": "stderr",
          "text": [
            "\r 16%|█▌        | 8/50 [00:46<03:50,  5.50s/it]"
          ]
        },
        {
          "output_type": "stream",
          "name": "stdout",
          "text": [
            "Results saved to \u001b[1m/content/drive/MyDrive/yolov11_test_cv/data/yolov8/runs/autolabel11\u001b[0m\n",
            "10 labels saved to /content/drive/MyDrive/yolov11_test_cv/data/yolov8/runs/autolabel11/labels\n"
          ]
        },
        {
          "output_type": "stream",
          "name": "stderr",
          "text": [
            "\r 18%|█▊        | 9/50 [00:52<03:50,  5.63s/it]"
          ]
        },
        {
          "output_type": "stream",
          "name": "stdout",
          "text": [
            "Results saved to \u001b[1m/content/drive/MyDrive/yolov11_test_cv/data/yolov8/runs/autolabel12\u001b[0m\n",
            "10 labels saved to /content/drive/MyDrive/yolov11_test_cv/data/yolov8/runs/autolabel12/labels\n"
          ]
        },
        {
          "output_type": "stream",
          "name": "stderr",
          "text": [
            "\r 20%|██        | 10/50 [00:57<03:41,  5.54s/it]"
          ]
        },
        {
          "output_type": "stream",
          "name": "stdout",
          "text": [
            "Results saved to \u001b[1m/content/drive/MyDrive/yolov11_test_cv/data/yolov8/runs/autolabel13\u001b[0m\n",
            "10 labels saved to /content/drive/MyDrive/yolov11_test_cv/data/yolov8/runs/autolabel13/labels\n"
          ]
        },
        {
          "output_type": "stream",
          "name": "stderr",
          "text": [
            "\r 22%|██▏       | 11/50 [01:03<03:42,  5.72s/it]"
          ]
        },
        {
          "output_type": "stream",
          "name": "stdout",
          "text": [
            "Results saved to \u001b[1m/content/drive/MyDrive/yolov11_test_cv/data/yolov8/runs/autolabel14\u001b[0m\n",
            "10 labels saved to /content/drive/MyDrive/yolov11_test_cv/data/yolov8/runs/autolabel14/labels\n"
          ]
        },
        {
          "output_type": "stream",
          "name": "stderr",
          "text": [
            "\r 24%|██▍       | 12/50 [01:08<03:26,  5.44s/it]"
          ]
        },
        {
          "output_type": "stream",
          "name": "stdout",
          "text": [
            "Results saved to \u001b[1m/content/drive/MyDrive/yolov11_test_cv/data/yolov8/runs/autolabel15\u001b[0m\n",
            "10 labels saved to /content/drive/MyDrive/yolov11_test_cv/data/yolov8/runs/autolabel15/labels\n"
          ]
        },
        {
          "output_type": "stream",
          "name": "stderr",
          "text": [
            "\r 26%|██▌       | 13/50 [01:14<03:26,  5.58s/it]"
          ]
        },
        {
          "output_type": "stream",
          "name": "stdout",
          "text": [
            "Results saved to \u001b[1m/content/drive/MyDrive/yolov11_test_cv/data/yolov8/runs/autolabel16\u001b[0m\n",
            "10 labels saved to /content/drive/MyDrive/yolov11_test_cv/data/yolov8/runs/autolabel16/labels\n"
          ]
        },
        {
          "output_type": "stream",
          "name": "stderr",
          "text": [
            "\r 28%|██▊       | 14/50 [01:19<03:14,  5.41s/it]"
          ]
        },
        {
          "output_type": "stream",
          "name": "stdout",
          "text": [
            "Results saved to \u001b[1m/content/drive/MyDrive/yolov11_test_cv/data/yolov8/runs/autolabel17\u001b[0m\n",
            "10 labels saved to /content/drive/MyDrive/yolov11_test_cv/data/yolov8/runs/autolabel17/labels\n"
          ]
        },
        {
          "output_type": "stream",
          "name": "stderr",
          "text": [
            "\r 30%|███       | 15/50 [01:24<03:03,  5.24s/it]"
          ]
        },
        {
          "output_type": "stream",
          "name": "stdout",
          "text": [
            "Results saved to \u001b[1m/content/drive/MyDrive/yolov11_test_cv/data/yolov8/runs/autolabel18\u001b[0m\n",
            "10 labels saved to /content/drive/MyDrive/yolov11_test_cv/data/yolov8/runs/autolabel18/labels\n"
          ]
        },
        {
          "output_type": "stream",
          "name": "stderr",
          "text": [
            "\r 32%|███▏      | 16/50 [01:30<03:07,  5.51s/it]"
          ]
        },
        {
          "output_type": "stream",
          "name": "stdout",
          "text": [
            "Results saved to \u001b[1m/content/drive/MyDrive/yolov11_test_cv/data/yolov8/runs/autolabel19\u001b[0m\n",
            "10 labels saved to /content/drive/MyDrive/yolov11_test_cv/data/yolov8/runs/autolabel19/labels\n"
          ]
        },
        {
          "output_type": "stream",
          "name": "stderr",
          "text": [
            "\r 34%|███▍      | 17/50 [01:35<02:55,  5.31s/it]"
          ]
        },
        {
          "output_type": "stream",
          "name": "stdout",
          "text": [
            "Results saved to \u001b[1m/content/drive/MyDrive/yolov11_test_cv/data/yolov8/runs/autolabel20\u001b[0m\n",
            "10 labels saved to /content/drive/MyDrive/yolov11_test_cv/data/yolov8/runs/autolabel20/labels\n"
          ]
        },
        {
          "output_type": "stream",
          "name": "stderr",
          "text": [
            "\r 36%|███▌      | 18/50 [01:40<02:51,  5.36s/it]"
          ]
        },
        {
          "output_type": "stream",
          "name": "stdout",
          "text": [
            "Results saved to \u001b[1m/content/drive/MyDrive/yolov11_test_cv/data/yolov8/runs/autolabel21\u001b[0m\n",
            "10 labels saved to /content/drive/MyDrive/yolov11_test_cv/data/yolov8/runs/autolabel21/labels\n"
          ]
        },
        {
          "output_type": "stream",
          "name": "stderr",
          "text": [
            "\r 38%|███▊      | 19/50 [01:46<02:47,  5.40s/it]"
          ]
        },
        {
          "output_type": "stream",
          "name": "stdout",
          "text": [
            "Results saved to \u001b[1m/content/drive/MyDrive/yolov11_test_cv/data/yolov8/runs/autolabel22\u001b[0m\n",
            "10 labels saved to /content/drive/MyDrive/yolov11_test_cv/data/yolov8/runs/autolabel22/labels\n"
          ]
        },
        {
          "output_type": "stream",
          "name": "stderr",
          "text": [
            "\r 40%|████      | 20/50 [01:51<02:36,  5.22s/it]"
          ]
        },
        {
          "output_type": "stream",
          "name": "stdout",
          "text": [
            "Results saved to \u001b[1m/content/drive/MyDrive/yolov11_test_cv/data/yolov8/runs/autolabel23\u001b[0m\n",
            "10 labels saved to /content/drive/MyDrive/yolov11_test_cv/data/yolov8/runs/autolabel23/labels\n"
          ]
        },
        {
          "output_type": "stream",
          "name": "stderr",
          "text": [
            "\r 42%|████▏     | 21/50 [01:57<02:39,  5.51s/it]"
          ]
        },
        {
          "output_type": "stream",
          "name": "stdout",
          "text": [
            "Results saved to \u001b[1m/content/drive/MyDrive/yolov11_test_cv/data/yolov8/runs/autolabel24\u001b[0m\n",
            "10 labels saved to /content/drive/MyDrive/yolov11_test_cv/data/yolov8/runs/autolabel24/labels\n"
          ]
        },
        {
          "output_type": "stream",
          "name": "stderr",
          "text": [
            "\r 44%|████▍     | 22/50 [02:02<02:28,  5.29s/it]"
          ]
        },
        {
          "output_type": "stream",
          "name": "stdout",
          "text": [
            "Results saved to \u001b[1m/content/drive/MyDrive/yolov11_test_cv/data/yolov8/runs/autolabel25\u001b[0m\n",
            "10 labels saved to /content/drive/MyDrive/yolov11_test_cv/data/yolov8/runs/autolabel25/labels\n"
          ]
        },
        {
          "output_type": "stream",
          "name": "stderr",
          "text": [
            "\r 46%|████▌     | 23/50 [02:07<02:20,  5.20s/it]"
          ]
        },
        {
          "output_type": "stream",
          "name": "stdout",
          "text": [
            "Results saved to \u001b[1m/content/drive/MyDrive/yolov11_test_cv/data/yolov8/runs/autolabel26\u001b[0m\n",
            "10 labels saved to /content/drive/MyDrive/yolov11_test_cv/data/yolov8/runs/autolabel26/labels\n"
          ]
        },
        {
          "output_type": "stream",
          "name": "stderr",
          "text": [
            "\r 48%|████▊     | 24/50 [02:13<02:21,  5.45s/it]"
          ]
        },
        {
          "output_type": "stream",
          "name": "stdout",
          "text": [
            "Results saved to \u001b[1m/content/drive/MyDrive/yolov11_test_cv/data/yolov8/runs/autolabel27\u001b[0m\n",
            "10 labels saved to /content/drive/MyDrive/yolov11_test_cv/data/yolov8/runs/autolabel27/labels\n"
          ]
        },
        {
          "output_type": "stream",
          "name": "stderr",
          "text": [
            "\r 50%|█████     | 25/50 [02:17<02:11,  5.26s/it]"
          ]
        },
        {
          "output_type": "stream",
          "name": "stdout",
          "text": [
            "Results saved to \u001b[1m/content/drive/MyDrive/yolov11_test_cv/data/yolov8/runs/autolabel28\u001b[0m\n",
            "10 labels saved to /content/drive/MyDrive/yolov11_test_cv/data/yolov8/runs/autolabel28/labels\n"
          ]
        },
        {
          "output_type": "stream",
          "name": "stderr",
          "text": [
            "\r 52%|█████▏    | 26/50 [02:23<02:10,  5.45s/it]"
          ]
        },
        {
          "output_type": "stream",
          "name": "stdout",
          "text": [
            "Results saved to \u001b[1m/content/drive/MyDrive/yolov11_test_cv/data/yolov8/runs/autolabel29\u001b[0m\n",
            "10 labels saved to /content/drive/MyDrive/yolov11_test_cv/data/yolov8/runs/autolabel29/labels\n"
          ]
        },
        {
          "output_type": "stream",
          "name": "stderr",
          "text": [
            "\r 54%|█████▍    | 27/50 [02:28<02:02,  5.31s/it]"
          ]
        },
        {
          "output_type": "stream",
          "name": "stdout",
          "text": [
            "Results saved to \u001b[1m/content/drive/MyDrive/yolov11_test_cv/data/yolov8/runs/autolabel30\u001b[0m\n",
            "10 labels saved to /content/drive/MyDrive/yolov11_test_cv/data/yolov8/runs/autolabel30/labels\n"
          ]
        },
        {
          "output_type": "stream",
          "name": "stderr",
          "text": [
            "\r 56%|█████▌    | 28/50 [02:33<01:53,  5.16s/it]"
          ]
        },
        {
          "output_type": "stream",
          "name": "stdout",
          "text": [
            "Results saved to \u001b[1m/content/drive/MyDrive/yolov11_test_cv/data/yolov8/runs/autolabel31\u001b[0m\n",
            "10 labels saved to /content/drive/MyDrive/yolov11_test_cv/data/yolov8/runs/autolabel31/labels\n"
          ]
        },
        {
          "output_type": "stream",
          "name": "stderr",
          "text": [
            "\r 58%|█████▊    | 29/50 [02:39<01:54,  5.47s/it]"
          ]
        },
        {
          "output_type": "stream",
          "name": "stdout",
          "text": [
            "Results saved to \u001b[1m/content/drive/MyDrive/yolov11_test_cv/data/yolov8/runs/autolabel32\u001b[0m\n",
            "10 labels saved to /content/drive/MyDrive/yolov11_test_cv/data/yolov8/runs/autolabel32/labels\n"
          ]
        },
        {
          "output_type": "stream",
          "name": "stderr",
          "text": [
            "\r 60%|██████    | 30/50 [02:44<01:45,  5.28s/it]"
          ]
        },
        {
          "output_type": "stream",
          "name": "stdout",
          "text": [
            "Results saved to \u001b[1m/content/drive/MyDrive/yolov11_test_cv/data/yolov8/runs/autolabel33\u001b[0m\n",
            "10 labels saved to /content/drive/MyDrive/yolov11_test_cv/data/yolov8/runs/autolabel33/labels\n"
          ]
        },
        {
          "output_type": "stream",
          "name": "stderr",
          "text": [
            "\r 62%|██████▏   | 31/50 [02:50<01:41,  5.32s/it]"
          ]
        },
        {
          "output_type": "stream",
          "name": "stdout",
          "text": [
            "Results saved to \u001b[1m/content/drive/MyDrive/yolov11_test_cv/data/yolov8/runs/autolabel34\u001b[0m\n",
            "10 labels saved to /content/drive/MyDrive/yolov11_test_cv/data/yolov8/runs/autolabel34/labels\n"
          ]
        },
        {
          "output_type": "stream",
          "name": "stderr",
          "text": [
            "\r 64%|██████▍   | 32/50 [02:55<01:36,  5.39s/it]"
          ]
        },
        {
          "output_type": "stream",
          "name": "stdout",
          "text": [
            "Results saved to \u001b[1m/content/drive/MyDrive/yolov11_test_cv/data/yolov8/runs/autolabel35\u001b[0m\n",
            "10 labels saved to /content/drive/MyDrive/yolov11_test_cv/data/yolov8/runs/autolabel35/labels\n"
          ]
        },
        {
          "output_type": "stream",
          "name": "stderr",
          "text": [
            "\r 66%|██████▌   | 33/50 [03:00<01:28,  5.22s/it]"
          ]
        },
        {
          "output_type": "stream",
          "name": "stdout",
          "text": [
            "Results saved to \u001b[1m/content/drive/MyDrive/yolov11_test_cv/data/yolov8/runs/autolabel36\u001b[0m\n",
            "10 labels saved to /content/drive/MyDrive/yolov11_test_cv/data/yolov8/runs/autolabel36/labels\n"
          ]
        },
        {
          "output_type": "stream",
          "name": "stderr",
          "text": [
            "\r 68%|██████▊   | 34/50 [03:06<01:28,  5.51s/it]"
          ]
        },
        {
          "output_type": "stream",
          "name": "stdout",
          "text": [
            "Results saved to \u001b[1m/content/drive/MyDrive/yolov11_test_cv/data/yolov8/runs/autolabel37\u001b[0m\n",
            "10 labels saved to /content/drive/MyDrive/yolov11_test_cv/data/yolov8/runs/autolabel37/labels\n"
          ]
        },
        {
          "output_type": "stream",
          "name": "stderr",
          "text": [
            "\r 70%|███████   | 35/50 [03:11<01:19,  5.30s/it]"
          ]
        },
        {
          "output_type": "stream",
          "name": "stdout",
          "text": [
            "Results saved to \u001b[1m/content/drive/MyDrive/yolov11_test_cv/data/yolov8/runs/autolabel38\u001b[0m\n",
            "10 labels saved to /content/drive/MyDrive/yolov11_test_cv/data/yolov8/runs/autolabel38/labels\n"
          ]
        },
        {
          "output_type": "stream",
          "name": "stderr",
          "text": [
            "\r 72%|███████▏  | 36/50 [03:16<01:12,  5.17s/it]"
          ]
        },
        {
          "output_type": "stream",
          "name": "stdout",
          "text": [
            "Results saved to \u001b[1m/content/drive/MyDrive/yolov11_test_cv/data/yolov8/runs/autolabel39\u001b[0m\n",
            "10 labels saved to /content/drive/MyDrive/yolov11_test_cv/data/yolov8/runs/autolabel39/labels\n"
          ]
        },
        {
          "output_type": "stream",
          "name": "stderr",
          "text": [
            "\r 74%|███████▍  | 37/50 [03:23<01:16,  5.87s/it]"
          ]
        },
        {
          "output_type": "stream",
          "name": "stdout",
          "text": [
            "Results saved to \u001b[1m/content/drive/MyDrive/yolov11_test_cv/data/yolov8/runs/autolabel40\u001b[0m\n",
            "10 labels saved to /content/drive/MyDrive/yolov11_test_cv/data/yolov8/runs/autolabel40/labels\n"
          ]
        },
        {
          "output_type": "stream",
          "name": "stderr",
          "text": [
            "\r 76%|███████▌  | 38/50 [03:28<01:06,  5.56s/it]"
          ]
        },
        {
          "output_type": "stream",
          "name": "stdout",
          "text": [
            "Results saved to \u001b[1m/content/drive/MyDrive/yolov11_test_cv/data/yolov8/runs/autolabel41\u001b[0m\n",
            "10 labels saved to /content/drive/MyDrive/yolov11_test_cv/data/yolov8/runs/autolabel41/labels\n"
          ]
        },
        {
          "output_type": "stream",
          "name": "stderr",
          "text": [
            "\r 78%|███████▊  | 39/50 [03:34<01:03,  5.74s/it]"
          ]
        },
        {
          "output_type": "stream",
          "name": "stdout",
          "text": [
            "Results saved to \u001b[1m/content/drive/MyDrive/yolov11_test_cv/data/yolov8/runs/autolabel42\u001b[0m\n",
            "10 labels saved to /content/drive/MyDrive/yolov11_test_cv/data/yolov8/runs/autolabel42/labels\n"
          ]
        },
        {
          "output_type": "stream",
          "name": "stderr",
          "text": [
            "\r 80%|████████  | 40/50 [03:39<00:54,  5.47s/it]"
          ]
        },
        {
          "output_type": "stream",
          "name": "stdout",
          "text": [
            "Results saved to \u001b[1m/content/drive/MyDrive/yolov11_test_cv/data/yolov8/runs/autolabel43\u001b[0m\n",
            "10 labels saved to /content/drive/MyDrive/yolov11_test_cv/data/yolov8/runs/autolabel43/labels\n"
          ]
        },
        {
          "output_type": "stream",
          "name": "stderr",
          "text": [
            "\r 82%|████████▏ | 41/50 [03:44<00:47,  5.32s/it]"
          ]
        },
        {
          "output_type": "stream",
          "name": "stdout",
          "text": [
            "Results saved to \u001b[1m/content/drive/MyDrive/yolov11_test_cv/data/yolov8/runs/autolabel44\u001b[0m\n",
            "10 labels saved to /content/drive/MyDrive/yolov11_test_cv/data/yolov8/runs/autolabel44/labels\n"
          ]
        },
        {
          "output_type": "stream",
          "name": "stderr",
          "text": [
            "\r 84%|████████▍ | 42/50 [03:50<00:44,  5.51s/it]"
          ]
        },
        {
          "output_type": "stream",
          "name": "stdout",
          "text": [
            "Results saved to \u001b[1m/content/drive/MyDrive/yolov11_test_cv/data/yolov8/runs/autolabel45\u001b[0m\n",
            "10 labels saved to /content/drive/MyDrive/yolov11_test_cv/data/yolov8/runs/autolabel45/labels\n"
          ]
        },
        {
          "output_type": "stream",
          "name": "stderr",
          "text": [
            "\r 86%|████████▌ | 43/50 [03:56<00:40,  5.79s/it]"
          ]
        },
        {
          "output_type": "stream",
          "name": "stdout",
          "text": [
            "Results saved to \u001b[1m/content/drive/MyDrive/yolov11_test_cv/data/yolov8/runs/autolabel46\u001b[0m\n",
            "10 labels saved to /content/drive/MyDrive/yolov11_test_cv/data/yolov8/runs/autolabel46/labels\n"
          ]
        },
        {
          "output_type": "stream",
          "name": "stderr",
          "text": [
            "\r 88%|████████▊ | 44/50 [04:05<00:39,  6.50s/it]"
          ]
        },
        {
          "output_type": "stream",
          "name": "stdout",
          "text": [
            "Results saved to \u001b[1m/content/drive/MyDrive/yolov11_test_cv/data/yolov8/runs/autolabel47\u001b[0m\n",
            "10 labels saved to /content/drive/MyDrive/yolov11_test_cv/data/yolov8/runs/autolabel47/labels\n"
          ]
        },
        {
          "output_type": "stream",
          "name": "stderr",
          "text": [
            "\r 90%|█████████ | 45/50 [04:10<00:30,  6.03s/it]"
          ]
        },
        {
          "output_type": "stream",
          "name": "stdout",
          "text": [
            "Results saved to \u001b[1m/content/drive/MyDrive/yolov11_test_cv/data/yolov8/runs/autolabel48\u001b[0m\n",
            "10 labels saved to /content/drive/MyDrive/yolov11_test_cv/data/yolov8/runs/autolabel48/labels\n"
          ]
        },
        {
          "output_type": "stream",
          "name": "stderr",
          "text": [
            "\r 92%|█████████▏| 46/50 [04:15<00:23,  5.97s/it]"
          ]
        },
        {
          "output_type": "stream",
          "name": "stdout",
          "text": [
            "Results saved to \u001b[1m/content/drive/MyDrive/yolov11_test_cv/data/yolov8/runs/autolabel49\u001b[0m\n",
            "10 labels saved to /content/drive/MyDrive/yolov11_test_cv/data/yolov8/runs/autolabel49/labels\n"
          ]
        },
        {
          "output_type": "stream",
          "name": "stderr",
          "text": [
            "\r 94%|█████████▍| 47/50 [04:20<00:17,  5.69s/it]"
          ]
        },
        {
          "output_type": "stream",
          "name": "stdout",
          "text": [
            "Results saved to \u001b[1m/content/drive/MyDrive/yolov11_test_cv/data/yolov8/runs/autolabel50\u001b[0m\n",
            "10 labels saved to /content/drive/MyDrive/yolov11_test_cv/data/yolov8/runs/autolabel50/labels\n"
          ]
        },
        {
          "output_type": "stream",
          "name": "stderr",
          "text": [
            "\r 96%|█████████▌| 48/50 [04:25<00:10,  5.43s/it]"
          ]
        },
        {
          "output_type": "stream",
          "name": "stdout",
          "text": [
            "Results saved to \u001b[1m/content/drive/MyDrive/yolov11_test_cv/data/yolov8/runs/autolabel51\u001b[0m\n",
            "10 labels saved to /content/drive/MyDrive/yolov11_test_cv/data/yolov8/runs/autolabel51/labels\n"
          ]
        },
        {
          "output_type": "stream",
          "name": "stderr",
          "text": [
            "\r 98%|█████████▊| 49/50 [04:31<00:05,  5.65s/it]"
          ]
        },
        {
          "output_type": "stream",
          "name": "stdout",
          "text": [
            "Results saved to \u001b[1m/content/drive/MyDrive/yolov11_test_cv/data/yolov8/runs/autolabel52\u001b[0m\n",
            "9 labels saved to /content/drive/MyDrive/yolov11_test_cv/data/yolov8/runs/autolabel52/labels\n"
          ]
        },
        {
          "output_type": "stream",
          "name": "stderr",
          "text": [
            "100%|██████████| 50/50 [04:36<00:00,  5.53s/it]\n"
          ]
        },
        {
          "output_type": "stream",
          "name": "stdout",
          "text": [
            "✅ Auto-labeling complete! Labels saved in: /content/drive/MyDrive/yolov11_test_cv/data/yolov8/labels/unlabeled\n"
          ]
        }
      ]
    },
    {
      "cell_type": "code",
      "source": [
        "import os\n",
        "import shutil\n",
        "\n",
        "# base directory where autolabel folders exist\n",
        "BASE_RUNS_PATH = '/content/drive/MyDrive/yolov11_test_cv/data/yolov8/runs'\n",
        "TARGET_LABELS_PATH = '/content/drive/MyDrive/yolov11_test_cv/data/yolov8/labels_500_auto'\n",
        "\n",
        "# check existence\n",
        "os.makedirs(TARGET_LABELS_PATH, exist_ok=True)\n",
        "\n",
        "# through all subfolders that start with 'autolabel'\n",
        "for folder_name in os.listdir(BASE_RUNS_PATH):\n",
        "    if folder_name.startswith('autolabel'):\n",
        "        labels_path = os.path.join(BASE_RUNS_PATH, folder_name, 'labels')\n",
        "\n",
        "        if os.path.isdir(labels_path):\n",
        "            for label_file in os.listdir(labels_path):\n",
        "                if label_file.endswith('.txt'):\n",
        "                    src = os.path.join(labels_path, label_file)\n",
        "                    dst = os.path.join(TARGET_LABELS_PATH, label_file)\n",
        "                    shutil.copy2(src, dst)\n",
        "\n",
        "print(f\"All label files copied to: {TARGET_LABELS_PATH}\")\n"
      ],
      "metadata": {
        "id": "6W11Dasphk78"
      },
      "execution_count": null,
      "outputs": []
    },
    {
      "cell_type": "code",
      "source": [
        "folder_path = '/content/drive/MyDrive/yolov11_test_cv/data/yolov8/labels_500_auto'\n",
        "\n",
        "txt_files = [f for f in os.listdir(folder_path)]\n",
        "print(f\"Number of .txt files: {len(txt_files)}\")\n"
      ],
      "metadata": {
        "colab": {
          "base_uri": "https://localhost:8080/"
        },
        "id": "UFy2XKzYC1RQ",
        "outputId": "693bc727-2871-4e7c-a976-fb826b55aa81"
      },
      "execution_count": null,
      "outputs": [
        {
          "output_type": "stream",
          "name": "stdout",
          "text": [
            "Number of .txt files: 499\n"
          ]
        }
      ]
    },
    {
      "cell_type": "markdown",
      "metadata": {
        "id": "hn95zFcXMfOR"
      },
      "source": [
        "# Train Test Val split"
      ]
    },
    {
      "cell_type": "code",
      "source": [
        "import os\n",
        "import shutil\n",
        "import yaml\n",
        "import random\n",
        "from tqdm import tqdm\n",
        "\n",
        "class YOLOv11DatasetSplitter:\n",
        "    def __init__(self, image_dir, label_manual_dir, label_auto_dir, classes_file, output_dir):\n",
        "        self.image_dir = image_dir\n",
        "        self.label_manual_dir = label_manual_dir\n",
        "        self.label_auto_dir = label_auto_dir\n",
        "        self.classes_file = classes_file\n",
        "        self.output_dir = output_dir\n",
        "\n",
        "        self.splits = ['train', 'val', 'test']\n",
        "        for split in self.splits:\n",
        "            os.makedirs(os.path.join(output_dir, 'images', split), exist_ok=True)\n",
        "            os.makedirs(os.path.join(output_dir, 'labels', split), exist_ok=True)\n",
        "\n",
        "        with open(classes_file, 'r') as f:\n",
        "            self.class_names = [line.strip() for line in f.readlines()]\n",
        "\n",
        "        # mapping of all images → label path: manual or auto\n",
        "        self.label_map = self._map_labels()\n",
        "\n",
        "    def _map_labels(self):\n",
        "        label_map = {}\n",
        "        for label_dir in [self.label_manual_dir, self.label_auto_dir]:\n",
        "            for file in os.listdir(label_dir):\n",
        "                if file.endswith('.txt'):\n",
        "                    key = os.path.splitext(file)[0]\n",
        "                    label_map[key] = os.path.join(label_dir, file)\n",
        "        return label_map\n",
        "\n",
        "    def _get_all_labeled_images(self):\n",
        "        \"\"\"Return only images that have a corresponding label file\"\"\"\n",
        "        return [\n",
        "            fname for fname in os.listdir(self.image_dir)\n",
        "            if os.path.splitext(fname)[0] in self.label_map\n",
        "        ]\n",
        "\n",
        "    def _get_manual_images(self):\n",
        "        return [\n",
        "            fname for fname in os.listdir(self.image_dir)\n",
        "            if os.path.exists(os.path.join(self.label_manual_dir, os.path.splitext(fname)[0] + '.txt'))\n",
        "        ]\n",
        "\n",
        "    def split_dataset(self, train_ratio=0.7, val_ratio=0.2):\n",
        "        manual_images = self._get_manual_images()\n",
        "        all_labeled_images = self._get_all_labeled_images()\n",
        "\n",
        "        # test set from MANUALLY labeled images!!!\n",
        "        random.seed(42)\n",
        "        random.shuffle(manual_images)\n",
        "        test_size = int(0.3 * len(manual_images))\n",
        "        test_images = manual_images[:test_size]\n",
        "\n",
        "        # train and val\n",
        "        trainval_images = list(set(all_labeled_images) - set(test_images))\n",
        "        random.shuffle(trainval_images)\n",
        "\n",
        "        train_size = int(train_ratio * len(trainval_images))\n",
        "        val_size = int(val_ratio * len(trainval_images))\n",
        "\n",
        "        train_images = trainval_images[:train_size]\n",
        "        val_images = trainval_images[train_size:train_size + val_size]\n",
        "\n",
        "        print(f\"Train: {len(train_images)} | Val: {len(val_images)} | Test: {len(test_images)}\")\n",
        "\n",
        "        self._copy_split(train_images, 'train')\n",
        "        self._copy_split(val_images, 'val')\n",
        "        self._copy_split(test_images, 'test')\n",
        "\n",
        "        self._save_classes_txt()\n",
        "        self._save_dataset_yaml()\n",
        "\n",
        "    def _copy_split(self, images, split):\n",
        "        for img_name in tqdm(images, desc=f\"Copying {split}\"):\n",
        "            base = os.path.splitext(img_name)[0]\n",
        "            img_src = os.path.join(self.image_dir, img_name)\n",
        "            label_src = self.label_map.get(base)\n",
        "\n",
        "            if not os.path.exists(img_src) or not label_src:\n",
        "                continue\n",
        "\n",
        "            img_dst = os.path.join(self.output_dir, 'images', split, img_name)\n",
        "            label_dst = os.path.join(self.output_dir, 'labels', split, base + '.txt')\n",
        "\n",
        "            shutil.copy2(img_src, img_dst)\n",
        "            shutil.copy2(label_src, label_dst)\n",
        "\n",
        "    def _save_classes_txt(self):\n",
        "        out_path = os.path.join(self.output_dir, 'classes.txt')\n",
        "        with open(out_path, 'w') as f:\n",
        "            for cls in self.class_names:\n",
        "                f.write(cls + '\\n')\n",
        "\n",
        "    def _save_dataset_yaml(self):\n",
        "        yaml_data = {\n",
        "            'train': os.path.join(self.output_dir, 'images', 'train'),\n",
        "            'val': os.path.join(self.output_dir, 'images', 'val'),\n",
        "            'test': os.path.join(self.output_dir, 'images', 'test'),\n",
        "            'nc': len(self.class_names),\n",
        "            'names': self.class_names\n",
        "        }\n",
        "        with open(os.path.join(self.output_dir, 'dataset.yaml'), 'w') as f:\n",
        "            yaml.dump(yaml_data, f, sort_keys=False)\n",
        "\n",
        "\n",
        "if __name__ == \"__main__\":\n",
        "    image_dir = \"/content/drive/MyDrive/yolov11_test_cv/data/extracted_frames\"\n",
        "    label_manual_dir = \"/content/drive/MyDrive/yolov11_test_cv/data/anno_labelimg\"\n",
        "    label_auto_dir = \"/content/drive/MyDrive/yolov11_test_cv/data/yolov8/labels_500_auto\"\n",
        "    classes_file = \"/content/drive/MyDrive/yolov11_test_cv/data/classes.txt\"\n",
        "    output_dir = \"/content/drive/MyDrive/yolov11_test_cv/yolov11_dataset\"\n",
        "\n",
        "    splitter = YOLOv11DatasetSplitter(\n",
        "        image_dir=image_dir,\n",
        "        label_manual_dir=label_manual_dir,\n",
        "        label_auto_dir=label_auto_dir,\n",
        "        classes_file=classes_file,\n",
        "        output_dir=output_dir\n",
        "    )\n",
        "\n",
        "    splitter.split_dataset()\n",
        "    print(f\"\\n Dataset prepared at: {output_dir}\")\n",
        "    print(f\"Structure: images/train, val, test and labels/train, val, test\")\n"
      ],
      "metadata": {
        "colab": {
          "base_uri": "https://localhost:8080/"
        },
        "id": "RNEN9Kdgo0Nd",
        "outputId": "a9d6c446-c6d0-455e-df32-47304741bd3c"
      },
      "execution_count": 1,
      "outputs": [
        {
          "output_type": "stream",
          "name": "stdout",
          "text": [
            "Train: 437 | Val: 125 | Test: 54\n"
          ]
        },
        {
          "output_type": "stream",
          "name": "stderr",
          "text": [
            "Copying train: 100%|██████████| 437/437 [00:41<00:00, 10.62it/s]\n",
            "Copying val: 100%|██████████| 125/125 [00:06<00:00, 18.15it/s]\n",
            "Copying test: 100%|██████████| 54/54 [00:03<00:00, 17.94it/s]"
          ]
        },
        {
          "output_type": "stream",
          "name": "stdout",
          "text": [
            "\n",
            " Dataset prepared at: /content/drive/MyDrive/yolov11_test_cv/yolov11_dataset\n",
            "Structure: images/train, val, test and labels/train, val, test\n"
          ]
        },
        {
          "output_type": "stream",
          "name": "stderr",
          "text": [
            "\n"
          ]
        }
      ]
    },
    {
      "cell_type": "code",
      "source": [
        "def check_yolo_dataset(base_path):\n",
        "    splits = ['train', 'val', 'test']\n",
        "    stats = {}\n",
        "\n",
        "    for split in splits:\n",
        "        print(f\"\\n Checking {split} set...\")\n",
        "        img_dir = os.path.join(base_path, 'images', split)\n",
        "        label_dir = os.path.join(base_path, 'labels', split)\n",
        "\n",
        "        img_files = [f for f in os.listdir(img_dir) if f.endswith(('.jpg', '.jpeg', '.png'))]\n",
        "        label_files = [f for f in os.listdir(label_dir) if f.endswith('.txt')]\n",
        "\n",
        "        img_bases = set(os.path.splitext(f)[0] for f in img_files)\n",
        "        label_bases = set(os.path.splitext(f)[0] for f in label_files)\n",
        "\n",
        "        # Checking for missing labels or images\n",
        "        missing_labels = img_bases - label_bases\n",
        "        missing_images = label_bases - img_bases\n",
        "\n",
        "        # checking for empty label files\n",
        "        empty_labels = []\n",
        "        bad_format_labels = []\n",
        "        for file in label_files:\n",
        "            path = os.path.join(label_dir, file)\n",
        "            with open(path, 'r') as f:\n",
        "                lines = f.readlines()\n",
        "                if len(lines) == 0:\n",
        "                    empty_labels.append(file)\n",
        "                else:\n",
        "                    for line in lines:\n",
        "                        parts = line.strip().split()\n",
        "                        if len(parts) < 5:\n",
        "                            bad_format_labels.append(file)\n",
        "                            break\n",
        "\n",
        "        stats[split] = {\n",
        "            'images': len(img_files),\n",
        "            'labels': len(label_files),\n",
        "            'missing_labels': list(missing_labels),\n",
        "            'missing_images': list(missing_images),\n",
        "            'empty_labels': empty_labels,\n",
        "            'bad_format_labels': bad_format_labels\n",
        "        }\n",
        "\n",
        "        print(f\"Images: {len(img_files)} | Labels: {len(label_files)}\")\n",
        "        print(f\"Missing labels: {len(missing_labels)}\")\n",
        "        print(f\"Missing images: {len(missing_images)}\")\n",
        "        print(f\"Empty label files: {len(empty_labels)}\")\n",
        "        print(f\"Bad format labels: {len(bad_format_labels)}\")\n",
        "\n",
        "    return stats\n",
        "\n",
        "if __name__ == \"__main__\":\n",
        "    dataset_path = \"/content/drive/MyDrive/yolov11_test_cv/yolov11_dataset\"\n",
        "    summary = check_yolo_dataset(dataset_path)\n"
      ],
      "metadata": {
        "colab": {
          "base_uri": "https://localhost:8080/"
        },
        "id": "MkS8lLKrlY88",
        "outputId": "0941aa2b-d2ea-47a5-fb4e-9203a5084d0b"
      },
      "execution_count": 2,
      "outputs": [
        {
          "output_type": "stream",
          "name": "stdout",
          "text": [
            "\n",
            " Checking train set...\n",
            "Images: 437 | Labels: 437\n",
            "Missing labels: 0\n",
            "Missing images: 0\n",
            "Empty label files: 1\n",
            "Bad format labels: 0\n",
            "\n",
            " Checking val set...\n",
            "Images: 125 | Labels: 125\n",
            "Missing labels: 0\n",
            "Missing images: 0\n",
            "Empty label files: 0\n",
            "Bad format labels: 0\n",
            "\n",
            " Checking test set...\n",
            "Images: 54 | Labels: 54\n",
            "Missing labels: 0\n",
            "Missing images: 0\n",
            "Empty label files: 0\n",
            "Bad format labels: 0\n"
          ]
        }
      ]
    },
    {
      "cell_type": "markdown",
      "metadata": {
        "id": "V_INfIa8-D2G"
      },
      "source": [
        "# Augmentation"
      ]
    },
    {
      "cell_type": "code",
      "execution_count": 4,
      "metadata": {
        "colab": {
          "base_uri": "https://localhost:8080/"
        },
        "id": "k-7X4NnIM7Zw",
        "outputId": "fb0d186b-c01b-4c0b-f520-1033a963f87f"
      },
      "outputs": [
        {
          "output_type": "stream",
          "name": "stderr",
          "text": [
            "/tmp/ipython-input-4-3642194342.py:70: UserWarning: Argument(s) 'var_limit' are not valid for transform GaussNoise\n",
            "  A.GaussNoise(var_limit=(10.0, 50.0), p=0.3),\n",
            "/tmp/ipython-input-4-3642194342.py:73: UserWarning: Argument(s) 'max_holes, max_h_size, max_w_size, min_holes, min_h_size, min_w_size, mask_fill_value' are not valid for transform CoarseDropout\n",
            "  A.CoarseDropout(max_holes=8, max_h_size=32, max_w_size=32,\n",
            "Augmenting:   4%|▍         | 18/437 [00:12<02:42,  2.57it/s]"
          ]
        },
        {
          "output_type": "stream",
          "name": "stdout",
          "text": [
            "Augmentation error for 4_frame_001224.jpg (aug1): Expected y_min for bbox [ 3.4069550e-01 -4.9173832e-07  4.8841852e-01  3.0292648e-01\n",
            "  7.0000000e+00] to be in the range [0.0, 1.0], got -4.917383193969727e-07.\n",
            "Augmentation error for 4_frame_001224.jpg (aug2): Expected y_min for bbox [ 3.4069550e-01 -4.9173832e-07  4.8841852e-01  3.0292648e-01\n",
            "  7.0000000e+00] to be in the range [0.0, 1.0], got -4.917383193969727e-07.\n"
          ]
        },
        {
          "output_type": "stream",
          "name": "stderr",
          "text": [
            "Augmenting:   7%|▋         | 31/437 [00:21<03:31,  1.92it/s]"
          ]
        },
        {
          "output_type": "stream",
          "name": "stdout",
          "text": [
            "Augmentation error for 4_frame_000225.jpg (aug1): Expected y_min for bbox [ 3.4031349e-01 -4.9173832e-07  4.8747849e-01  3.0182052e-01\n",
            "  7.0000000e+00] to be in the range [0.0, 1.0], got -4.917383193969727e-07.\n",
            "Augmentation error for 4_frame_000225.jpg (aug2): Expected y_min for bbox [ 3.4031349e-01 -4.9173832e-07  4.8747849e-01  3.0182052e-01\n",
            "  7.0000000e+00] to be in the range [0.0, 1.0], got -4.917383193969727e-07.\n"
          ]
        },
        {
          "output_type": "stream",
          "name": "stderr",
          "text": [
            "Augmenting:   8%|▊         | 34/437 [00:22<02:28,  2.71it/s]"
          ]
        },
        {
          "output_type": "stream",
          "name": "stdout",
          "text": [
            "Augmentation error for 4_frame_001325.jpg (aug1): Expected y_min for bbox [ 3.4029502e-01 -5.0663948e-07  4.8868901e-01  3.0109251e-01\n",
            "  7.0000000e+00] to be in the range [0.0, 1.0], got -5.066394805908203e-07.\n",
            "Augmentation error for 4_frame_001325.jpg (aug2): Expected y_min for bbox [ 3.4029502e-01 -5.0663948e-07  4.8868901e-01  3.0109251e-01\n",
            "  7.0000000e+00] to be in the range [0.0, 1.0], got -5.066394805908203e-07.\n"
          ]
        },
        {
          "output_type": "stream",
          "name": "stderr",
          "text": [
            "Augmenting:  14%|█▍        | 62/437 [00:41<03:51,  1.62it/s]"
          ]
        },
        {
          "output_type": "stream",
          "name": "stdout",
          "text": [
            "Augmentation error for 3_2_frame_001269.jpg (aug1): Expected y_min for bbox [ 3.2259399e-01 -4.9173832e-07  4.6601999e-01  2.9851252e-01\n",
            "  7.0000000e+00] to be in the range [0.0, 1.0], got -4.917383193969727e-07.\n",
            "Augmentation error for 3_2_frame_001269.jpg (aug2): Expected y_min for bbox [ 3.2259399e-01 -4.9173832e-07  4.6601999e-01  2.9851252e-01\n",
            "  7.0000000e+00] to be in the range [0.0, 1.0], got -4.917383193969727e-07.\n"
          ]
        },
        {
          "output_type": "stream",
          "name": "stderr",
          "text": [
            "Augmenting:  18%|█▊        | 77/437 [00:54<04:00,  1.50it/s]"
          ]
        },
        {
          "output_type": "stream",
          "name": "stdout",
          "text": [
            "Augmentation error for 4_frame_000550.jpg (aug1): Expected y_min for bbox [ 3.4076798e-01 -5.0663948e-07  4.8840600e-01  3.0141249e-01\n",
            "  7.0000000e+00] to be in the range [0.0, 1.0], got -5.066394805908203e-07.\n",
            "Augmentation error for 4_frame_000550.jpg (aug2): Expected y_min for bbox [ 3.4076798e-01 -5.0663948e-07  4.8840600e-01  3.0141249e-01\n",
            "  7.0000000e+00] to be in the range [0.0, 1.0], got -5.066394805908203e-07.\n"
          ]
        },
        {
          "output_type": "stream",
          "name": "stderr",
          "text": [
            "Augmenting:  19%|█▉        | 83/437 [00:57<03:17,  1.79it/s]"
          ]
        },
        {
          "output_type": "stream",
          "name": "stdout",
          "text": [
            "Augmentation error for 4_frame_000125.jpg (aug1): Expected y_min for bbox [ 3.401540e-01 -4.917383e-07  4.893340e-01  3.016045e-01  7.000000e+00] to be in the range [0.0, 1.0], got -4.917383193969727e-07.\n",
            "Augmentation error for 4_frame_000125.jpg (aug2): Expected y_min for bbox [ 3.401540e-01 -4.917383e-07  4.893340e-01  3.016045e-01  7.000000e+00] to be in the range [0.0, 1.0], got -4.917383193969727e-07.\n"
          ]
        },
        {
          "output_type": "stream",
          "name": "stderr",
          "text": [
            "Augmenting:  22%|██▏       | 98/437 [01:13<04:18,  1.31it/s]"
          ]
        },
        {
          "output_type": "stream",
          "name": "stdout",
          "text": [
            "Augmentation error for 4_frame_000192.jpg (aug1): Expected y_min for bbox [ 3.402750e-01 -4.917383e-07  4.894070e-01  3.005945e-01  7.000000e+00] to be in the range [0.0, 1.0], got -4.917383193969727e-07.\n",
            "Augmentation error for 4_frame_000192.jpg (aug2): Expected y_min for bbox [ 3.402750e-01 -4.917383e-07  4.894070e-01  3.005945e-01  7.000000e+00] to be in the range [0.0, 1.0], got -4.917383193969727e-07.\n"
          ]
        },
        {
          "output_type": "stream",
          "name": "stderr",
          "text": [
            "Augmenting:  24%|██▍       | 106/437 [01:20<04:00,  1.38it/s]"
          ]
        },
        {
          "output_type": "stream",
          "name": "stdout",
          "text": [
            "Augmentation error for 4_frame_000072.jpg (aug1): Expected y_min for bbox [ 3.4023750e-01 -5.0663948e-07  4.8922253e-01  3.0120251e-01\n",
            "  7.0000000e+00] to be in the range [0.0, 1.0], got -5.066394805908203e-07.\n",
            "Augmentation error for 4_frame_000072.jpg (aug2): Expected y_min for bbox [ 3.4023750e-01 -5.0663948e-07  4.8922253e-01  3.0120251e-01\n",
            "  7.0000000e+00] to be in the range [0.0, 1.0], got -5.066394805908203e-07.\n"
          ]
        },
        {
          "output_type": "stream",
          "name": "stderr",
          "text": [
            "Augmenting:  25%|██▍       | 108/437 [01:22<04:25,  1.24it/s]"
          ]
        },
        {
          "output_type": "stream",
          "name": "stdout",
          "text": [
            "Augmentation error for 4_1_frame_000054.jpg (aug1): Expected y_min for bbox [ 3.4081501e-01 -4.9173832e-07  4.8839098e-01  3.0426252e-01\n",
            "  7.0000000e+00] to be in the range [0.0, 1.0], got -4.917383193969727e-07.\n",
            "Augmentation error for 4_1_frame_000054.jpg (aug2): Expected y_min for bbox [ 3.4081501e-01 -4.9173832e-07  4.8839098e-01  3.0426252e-01\n",
            "  7.0000000e+00] to be in the range [0.0, 1.0], got -4.917383193969727e-07.\n"
          ]
        },
        {
          "output_type": "stream",
          "name": "stderr",
          "text": [
            "Augmenting:  27%|██▋       | 119/437 [01:31<03:13,  1.65it/s]"
          ]
        },
        {
          "output_type": "stream",
          "name": "stdout",
          "text": [
            "Augmentation error for 3_2_frame_000216.jpg (aug1): Expected y_min for bbox [ 3.2162350e-01 -4.9173832e-07  4.5695448e-01  2.9890049e-01\n",
            "  7.0000000e+00] to be in the range [0.0, 1.0], got -4.917383193969727e-07.\n",
            "Augmentation error for 3_2_frame_000216.jpg (aug2): Expected y_min for bbox [ 3.2162350e-01 -4.9173832e-07  4.5695448e-01  2.9890049e-01\n",
            "  7.0000000e+00] to be in the range [0.0, 1.0], got -4.917383193969727e-07.\n"
          ]
        },
        {
          "output_type": "stream",
          "name": "stderr",
          "text": [
            "Augmenting:  28%|██▊       | 122/437 [01:35<05:16,  1.01s/it]"
          ]
        },
        {
          "output_type": "stream",
          "name": "stdout",
          "text": [
            "Augmentation error for 4_frame_000950.jpg (aug1): Expected y_min for bbox [ 3.4084350e-01 -5.0663948e-07  4.8856848e-01  3.0329850e-01\n",
            "  7.0000000e+00] to be in the range [0.0, 1.0], got -5.066394805908203e-07.\n",
            "Augmentation error for 4_frame_000950.jpg (aug2): Expected y_min for bbox [ 3.4084350e-01 -5.0663948e-07  4.8856848e-01  3.0329850e-01\n",
            "  7.0000000e+00] to be in the range [0.0, 1.0], got -5.066394805908203e-07.\n"
          ]
        },
        {
          "output_type": "stream",
          "name": "stderr",
          "text": [
            "Augmenting:  32%|███▏      | 138/437 [01:45<03:07,  1.60it/s]"
          ]
        },
        {
          "output_type": "stream",
          "name": "stdout",
          "text": [
            "Augmentation error for 4_frame_000175.jpg (aug1): Expected y_min for bbox [ 3.401550e-01 -5.066395e-07  4.887110e-01  3.016825e-01  7.000000e+00] to be in the range [0.0, 1.0], got -5.066394805908203e-07.\n",
            "Augmentation error for 4_frame_000175.jpg (aug2): Expected y_min for bbox [ 3.401550e-01 -5.066395e-07  4.887110e-01  3.016825e-01  7.000000e+00] to be in the range [0.0, 1.0], got -5.066394805908203e-07.\n"
          ]
        },
        {
          "output_type": "stream",
          "name": "stderr",
          "text": [
            "Augmenting:  32%|███▏      | 142/437 [01:48<03:12,  1.53it/s]"
          ]
        },
        {
          "output_type": "stream",
          "name": "stdout",
          "text": [
            "Augmentation error for 4_frame_000036.jpg (aug1): Expected y_min for bbox [ 3.402740e-01 -5.066395e-07  4.895340e-01  3.000325e-01  7.000000e+00] to be in the range [0.0, 1.0], got -5.066394805908203e-07.\n",
            "Augmentation error for 4_frame_000036.jpg (aug2): Expected y_min for bbox [ 3.402740e-01 -5.066395e-07  4.895340e-01  3.000325e-01  7.000000e+00] to be in the range [0.0, 1.0], got -5.066394805908203e-07.\n"
          ]
        },
        {
          "output_type": "stream",
          "name": "stderr",
          "text": [
            "Augmenting:  43%|████▎     | 188/437 [02:34<03:40,  1.13it/s]"
          ]
        },
        {
          "output_type": "stream",
          "name": "stdout",
          "text": [
            "Augmentation error for 3_2_frame_000081.jpg (aug1): Expected y_min for bbox [ 3.205910e-01 -5.066395e-07  4.603230e-01  2.990345e-01  7.000000e+00] to be in the range [0.0, 1.0], got -5.066394805908203e-07.\n",
            "Augmentation error for 3_2_frame_000081.jpg (aug2): Expected y_min for bbox [ 3.205910e-01 -5.066395e-07  4.603230e-01  2.990345e-01  7.000000e+00] to be in the range [0.0, 1.0], got -5.066394805908203e-07.\n"
          ]
        },
        {
          "output_type": "stream",
          "name": "stderr",
          "text": [
            "Augmenting:  46%|████▌     | 201/437 [02:45<02:30,  1.56it/s]"
          ]
        },
        {
          "output_type": "stream",
          "name": "stdout",
          "text": [
            "Augmentation error for 4_frame_000700.jpg (aug1): Expected y_min for bbox [ 3.4071100e-01 -5.0663948e-07  4.8778498e-01  3.0097049e-01\n",
            "  7.0000000e+00] to be in the range [0.0, 1.0], got -5.066394805908203e-07.\n",
            "Augmentation error for 4_frame_000700.jpg (aug2): Expected y_min for bbox [ 3.4071100e-01 -5.0663948e-07  4.8778498e-01  3.0097049e-01\n",
            "  7.0000000e+00] to be in the range [0.0, 1.0], got -5.066394805908203e-07.\n"
          ]
        },
        {
          "output_type": "stream",
          "name": "stderr",
          "text": [
            "Augmenting:  48%|████▊     | 208/437 [02:49<01:56,  1.97it/s]"
          ]
        },
        {
          "output_type": "stream",
          "name": "stdout",
          "text": [
            "Augmentation error for 4_frame_001596.jpg (aug1): Expected x_min for bbox [-2.0489097e-08  1.6271499e-01  1.7597580e-02  3.9534900e-01\n",
            "  7.0000000e+00] to be in the range [0.0, 1.0], got -2.0489096641540527e-08.\n",
            "Augmentation error for 4_frame_001596.jpg (aug2): Expected x_min for bbox [-2.0489097e-08  1.6271499e-01  1.7597580e-02  3.9534900e-01\n",
            "  7.0000000e+00] to be in the range [0.0, 1.0], got -2.0489096641540527e-08.\n"
          ]
        },
        {
          "output_type": "stream",
          "name": "stderr",
          "text": [
            "Augmenting:  62%|██████▏   | 272/437 [03:55<02:03,  1.34it/s]"
          ]
        },
        {
          "output_type": "stream",
          "name": "stdout",
          "text": [
            "Augmentation error for 4_1_frame_000648.jpg (aug1): Expected x_min for bbox [-5.0291419e-08  7.0979893e-03  3.3309847e-02  2.6901200e-01\n",
            "  7.0000000e+00] to be in the range [0.0, 1.0], got -5.029141902923584e-08.\n",
            "Augmentation error for 4_1_frame_000648.jpg (aug2): Expected x_min for bbox [-5.0291419e-08  7.0979893e-03  3.3309847e-02  2.6901200e-01\n",
            "  7.0000000e+00] to be in the range [0.0, 1.0], got -5.029141902923584e-08.\n"
          ]
        },
        {
          "output_type": "stream",
          "name": "stderr",
          "text": [
            "Augmenting:  64%|██████▎   | 278/437 [04:01<02:37,  1.01it/s]"
          ]
        },
        {
          "output_type": "stream",
          "name": "stdout",
          "text": [
            "Augmentation error for 3_2_frame_001215.jpg (aug1): Expected y_min for bbox [ 3.225125e-01 -4.917383e-07  4.658795e-01  2.985685e-01  7.000000e+00] to be in the range [0.0, 1.0], got -4.917383193969727e-07.\n",
            "Augmentation error for 3_2_frame_001215.jpg (aug2): Expected y_min for bbox [ 3.225125e-01 -4.917383e-07  4.658795e-01  2.985685e-01  7.000000e+00] to be in the range [0.0, 1.0], got -4.917383193969727e-07.\n"
          ]
        },
        {
          "output_type": "stream",
          "name": "stderr",
          "text": [
            "Augmenting:  72%|███████▏  | 314/437 [04:30<01:58,  1.04it/s]"
          ]
        },
        {
          "output_type": "stream",
          "name": "stdout",
          "text": [
            "Augmentation error for 4_frame_000180.jpg (aug1): Expected y_min for bbox [ 3.403690e-01 -5.066395e-07  4.889310e-01  3.014605e-01  7.000000e+00] to be in the range [0.0, 1.0], got -5.066394805908203e-07.\n",
            "Augmentation error for 4_frame_000180.jpg (aug2): Expected y_min for bbox [ 3.403690e-01 -5.066395e-07  4.889310e-01  3.014605e-01  7.000000e+00] to be in the range [0.0, 1.0], got -5.066394805908203e-07.\n"
          ]
        },
        {
          "output_type": "stream",
          "name": "stderr",
          "text": [
            "\rAugmenting:  72%|███████▏  | 315/437 [04:31<01:36,  1.26it/s]"
          ]
        },
        {
          "output_type": "stream",
          "name": "stdout",
          "text": [
            "Augmentation error for 4_frame_000625.jpg (aug1): Expected y_min for bbox [ 3.4034401e-01 -4.9173832e-07  4.8830801e-01  3.0109048e-01\n",
            "  7.0000000e+00] to be in the range [0.0, 1.0], got -4.917383193969727e-07.\n",
            "Augmentation error for 4_frame_000625.jpg (aug2): Expected y_min for bbox [ 3.4034401e-01 -4.9173832e-07  4.8830801e-01  3.0109048e-01\n",
            "  7.0000000e+00] to be in the range [0.0, 1.0], got -4.917383193969727e-07.\n"
          ]
        },
        {
          "output_type": "stream",
          "name": "stderr",
          "text": [
            "Augmenting:  78%|███████▊  | 343/437 [05:01<02:02,  1.30s/it]"
          ]
        },
        {
          "output_type": "stream",
          "name": "stdout",
          "text": [
            "Augmentation error for 4_frame_000096.jpg (aug1): Expected y_min for bbox [ 3.4022248e-01 -4.9173832e-07  4.8931950e-01  3.0161649e-01\n",
            "  7.0000000e+00] to be in the range [0.0, 1.0], got -4.917383193969727e-07.\n",
            "Augmentation error for 4_frame_000096.jpg (aug2): Expected y_min for bbox [ 3.4022248e-01 -4.9173832e-07  4.8931950e-01  3.0161649e-01\n",
            "  7.0000000e+00] to be in the range [0.0, 1.0], got -4.917383193969727e-07.\n"
          ]
        },
        {
          "output_type": "stream",
          "name": "stderr",
          "text": [
            "Augmenting:  82%|████████▏ | 358/437 [05:11<01:07,  1.17it/s]"
          ]
        },
        {
          "output_type": "stream",
          "name": "stdout",
          "text": [
            "Augmentation error for 3_2_frame_001161.jpg (aug1): Expected y_min for bbox [ 3.223005e-01 -4.917383e-07  4.659115e-01  2.984985e-01  7.000000e+00] to be in the range [0.0, 1.0], got -4.917383193969727e-07.\n",
            "Augmentation error for 3_2_frame_001161.jpg (aug2): Expected y_min for bbox [ 3.223005e-01 -4.917383e-07  4.659115e-01  2.984985e-01  7.000000e+00] to be in the range [0.0, 1.0], got -4.917383193969727e-07.\n"
          ]
        },
        {
          "output_type": "stream",
          "name": "stderr",
          "text": [
            "Augmenting:  86%|████████▋ | 377/437 [05:28<00:46,  1.28it/s]"
          ]
        },
        {
          "output_type": "stream",
          "name": "stdout",
          "text": [
            "Augmentation error for 4_frame_001440.jpg (aug1): Expected y_min for bbox [ 3.441525e-01 -4.991889e-07  4.878335e-01  2.369585e-01  7.000000e+00] to be in the range [0.0, 1.0], got -4.991888999938965e-07.\n",
            "Augmentation error for 4_frame_001440.jpg (aug2): Expected y_min for bbox [ 3.441525e-01 -4.991889e-07  4.878335e-01  2.369585e-01  7.000000e+00] to be in the range [0.0, 1.0], got -4.991888999938965e-07.\n"
          ]
        },
        {
          "output_type": "stream",
          "name": "stderr",
          "text": [
            "Augmenting:  95%|█████████▌| 417/437 [06:00<00:13,  1.53it/s]"
          ]
        },
        {
          "output_type": "stream",
          "name": "stdout",
          "text": [
            "No labels found for 1_frame_000072.jpg\n"
          ]
        },
        {
          "output_type": "stream",
          "name": "stderr",
          "text": [
            "\rAugmenting:  96%|█████████▌| 418/437 [06:01<00:11,  1.64it/s]"
          ]
        },
        {
          "output_type": "stream",
          "name": "stdout",
          "text": [
            "Augmentation error for 4_frame_000348.jpg (aug1): Expected y_min for bbox [ 3.4029150e-01 -5.0663948e-07  4.8786253e-01  3.0122450e-01\n",
            "  7.0000000e+00] to be in the range [0.0, 1.0], got -5.066394805908203e-07.\n",
            "Augmentation error for 4_frame_000348.jpg (aug2): Expected y_min for bbox [ 3.4029150e-01 -5.0663948e-07  4.8786253e-01  3.0122450e-01\n",
            "  7.0000000e+00] to be in the range [0.0, 1.0], got -5.066394805908203e-07.\n"
          ]
        },
        {
          "output_type": "stream",
          "name": "stderr",
          "text": [
            "Augmenting:  99%|█████████▉| 434/437 [06:11<00:01,  1.81it/s]"
          ]
        },
        {
          "output_type": "stream",
          "name": "stdout",
          "text": [
            "Augmentation error for 4_frame_000275.jpg (aug1): Expected y_min for bbox [ 3.4032550e-01 -5.0663948e-07  4.8755452e-01  3.0189049e-01\n",
            "  7.0000000e+00] to be in the range [0.0, 1.0], got -5.066394805908203e-07.\n",
            "Augmentation error for 4_frame_000275.jpg (aug2): Expected y_min for bbox [ 3.4032550e-01 -5.0663948e-07  4.8755452e-01  3.0189049e-01\n",
            "  7.0000000e+00] to be in the range [0.0, 1.0], got -5.066394805908203e-07.\n"
          ]
        },
        {
          "output_type": "stream",
          "name": "stderr",
          "text": [
            "Augmenting: 100%|██████████| 437/437 [06:16<00:00,  1.16it/s]"
          ]
        },
        {
          "output_type": "stream",
          "name": "stdout",
          "text": [
            "Saved dataset.yaml to: /content/drive/MyDrive/yolov11_test_cv/yolov11_dataset/dataset.yaml\n",
            "Augmentation complete.\n"
          ]
        },
        {
          "output_type": "stream",
          "name": "stderr",
          "text": [
            "\n"
          ]
        }
      ],
      "source": [
        "import os\n",
        "import cv2\n",
        "import yaml\n",
        "import numpy as np\n",
        "import albumentations as A\n",
        "from tqdm import tqdm\n",
        "from pathlib import Path\n",
        "\n",
        "class YOLODatasetAugmentor:\n",
        "    def __init__(self, input_image_dir, input_label_dir, output_dir, augmentations_per_image=2, yaml_path='dataset.yaml'):\n",
        "        self.image_dir = self._validate_directory(input_image_dir, \"Input image\")\n",
        "        self.label_dir = self._validate_directory(input_label_dir, \"Input label\")\n",
        "        self.output_dir = output_dir\n",
        "        self.augmentations_per_image = max(1, int(augmentations_per_image))\n",
        "        self.yaml_path = self._validate_yaml_path(yaml_path)\n",
        "\n",
        "        # output directories\n",
        "        self.aug_image_dir = os.path.join(output_dir, 'images', 'train')\n",
        "        self.aug_label_dir = os.path.join(output_dir, 'labels', 'train')\n",
        "        os.makedirs(self.aug_image_dir, exist_ok=True)\n",
        "        os.makedirs(self.aug_label_dir, exist_ok=True)\n",
        "\n",
        "        # init yaml config\n",
        "        self.yaml_data = self._initialize_yaml_data()\n",
        "\n",
        "        # albumentations transform\n",
        "        self.transform = self._create_augmentation_pipeline()\n",
        "\n",
        "    def _validate_directory(self, path, dir_type):\n",
        "        if not os.path.exists(path):\n",
        "            raise ValueError(f\"{dir_type} directory does not exist: {path}\")\n",
        "        if not os.access(path, os.R_OK):\n",
        "            raise ValueError(f\"{dir_type} directory is not readable: {path}\")\n",
        "        return path\n",
        "\n",
        "    def _validate_yaml_path(self, yaml_path):\n",
        "        yaml_dir = os.path.dirname(yaml_path)\n",
        "        if yaml_dir and not os.path.exists(yaml_dir):\n",
        "            raise ValueError(f\"YAML directory does not exist: {yaml_dir}\")\n",
        "        if os.path.exists(yaml_path) and not os.access(yaml_path, os.R_OK):\n",
        "            raise ValueError(f\"YAML file is not readable: {yaml_path}\")\n",
        "        return yaml_path\n",
        "\n",
        "    def _load_class_names(self):\n",
        "        classes_file = os.path.join(os.path.dirname(self.yaml_path), 'classes.txt')\n",
        "        if os.path.exists(classes_file):\n",
        "            with open(classes_file, 'r') as f:\n",
        "                return [line.strip() for line in f if line.strip()]\n",
        "        print(\"Warning: classes.txt not found. Using default names.\")\n",
        "        return [f\"class_{i}\" for i in range(8)]\n",
        "\n",
        "    def _initialize_yaml_data(self):\n",
        "        class_names = self._load_class_names()\n",
        "        return {\n",
        "            'train': 'images/train',\n",
        "            'val': 'images/val',\n",
        "            'test': 'images/test',\n",
        "            'nc': len(class_names),\n",
        "            'names': class_names\n",
        "        }\n",
        "\n",
        "    def _create_augmentation_pipeline(self):\n",
        "        return A.Compose([\n",
        "            A.RandomResizedCrop(size=(640, 640), scale=(0.8, 1.0), ratio=(0.75, 1.33), p=0.5),\n",
        "            A.HorizontalFlip(p=0.5),\n",
        "            A.VerticalFlip(p=0.2),\n",
        "            A.Affine(scale=(0.9, 1.1), rotate=(-15, 15), translate_percent=(0.05, 0.05), p=0.5),\n",
        "            A.ColorJitter(brightness=0.2, contrast=0.2, saturation=0.2, hue=0.1, p=0.5),\n",
        "            A.RandomGamma(gamma_limit=(80, 120), p=0.3),\n",
        "            A.GaussNoise(var_limit=(10.0, 50.0), p=0.3),\n",
        "            A.GaussianBlur(blur_limit=(3, 7), p=0.2),\n",
        "\n",
        "            A.CoarseDropout(max_holes=8, max_h_size=32, max_w_size=32,\n",
        "                min_holes=1, min_h_size=8, min_w_size=8, mask_fill_value=0, p=0.3),\n",
        "        ], bbox_params=A.BboxParams(\n",
        "            format='yolo',\n",
        "            min_area=16,\n",
        "            min_visibility=0.1,\n",
        "            label_fields=['class_labels'],\n",
        "            check_each_transform=False  # disables internal validation\n",
        "        ))\n",
        "\n",
        "    def _load_yolo_labels(self, label_path):\n",
        "        if not os.path.exists(label_path):\n",
        "            return [], []\n",
        "\n",
        "        boxes, class_labels = [], []\n",
        "        with open(label_path, 'r') as f:\n",
        "            for line in f:\n",
        "                parts = line.strip().split()\n",
        "                if len(parts) >= 5:\n",
        "                    try:\n",
        "                        cls = int(float(parts[0]))\n",
        "                        box = list(map(float, parts[1:5]))  # yolo format\n",
        "\n",
        "                        # Validate box values have to be in [0, 1]\n",
        "                        if any(b < 0 or b > 1 for b in box):\n",
        "                            print(f\"Invalid box in {label_path}: {box}\")\n",
        "                            continue\n",
        "\n",
        "                        boxes.append(box)\n",
        "                        class_labels.append(cls)\n",
        "                    except Exception as e:\n",
        "                        print(f\"Label parse error in {label_path}: {e}\")\n",
        "                        continue\n",
        "\n",
        "        return boxes, class_labels\n",
        "\n",
        "    def _save_yolo_labels(self, label_path, boxes, class_labels):\n",
        "        with open(label_path, 'w') as f:\n",
        "            for cls, box in zip(class_labels, boxes):\n",
        "                f.write(f\"{cls} {' '.join(map(str, box))}\\n\")\n",
        "\n",
        "    def _update_yaml(self):\n",
        "        try:\n",
        "            with open(self.yaml_path, 'w') as f:\n",
        "                yaml.dump(self.yaml_data, f, sort_keys=False)\n",
        "            print(f\"Saved dataset.yaml to: {self.yaml_path}\")\n",
        "        except Exception as e:\n",
        "            print(f\"Error saving YAML: {e}\")\n",
        "\n",
        "    def augment_dataset(self):\n",
        "        image_files = [f for f in os.listdir(self.image_dir)\n",
        "                       if f.lower().endswith(('.jpg', '.jpeg', '.png'))]\n",
        "\n",
        "        if not image_files:\n",
        "            print(f\"No images found in {self.image_dir}\")\n",
        "            return\n",
        "\n",
        "        for img_file in tqdm(image_files, desc=\"Augmenting\"):\n",
        "            base_name = os.path.splitext(img_file)[0]\n",
        "            img_path = os.path.join(self.image_dir, img_file)\n",
        "            label_path = os.path.join(self.label_dir, f\"{base_name}.txt\")\n",
        "\n",
        "            image = cv2.imread(img_path)\n",
        "            if image is None:\n",
        "                print(f\"Could not read image: {img_path}\")\n",
        "                continue\n",
        "            image = cv2.cvtColor(image, cv2.COLOR_BGR2RGB)\n",
        "\n",
        "            boxes, class_labels = self._load_yolo_labels(label_path)\n",
        "            if not boxes:\n",
        "                print(f\"No labels found for {img_file}\")\n",
        "                continue\n",
        "\n",
        "            # saving original image and labels\n",
        "            aug_img_path = os.path.join(self.aug_image_dir, f\"{base_name}_aug0.jpg\")\n",
        "            aug_lbl_path = os.path.join(self.aug_label_dir, f\"{base_name}_aug0.txt\")\n",
        "            cv2.imwrite(aug_img_path, cv2.cvtColor(image, cv2.COLOR_RGB2BGR))\n",
        "            self._save_yolo_labels(aug_lbl_path, boxes, class_labels)\n",
        "\n",
        "            # generate augmentations\n",
        "            for i in range(1, self.augmentations_per_image):\n",
        "                try:\n",
        "                    transformed = self.transform(image=image, bboxes=boxes, class_labels=class_labels)\n",
        "\n",
        "                    clipped_bboxes = []\n",
        "                    clipped_classes = []\n",
        "                    for box, cls in zip(transformed['bboxes'], transformed['class_labels']):\n",
        "                        x, y, w, h = box\n",
        "                        x = min(max(x, 0.0), 1.0)\n",
        "                        y = min(max(y, 0.0), 1.0)\n",
        "                        w = min(max(w, 0.0), 1.0)\n",
        "                        h = min(max(h, 0.0), 1.0)\n",
        "                        if w > 0 and h > 0:\n",
        "                            clipped_bboxes.append([x, y, w, h])\n",
        "                            clipped_classes.append(cls)\n",
        "\n",
        "                    if not clipped_bboxes:\n",
        "                        continue\n",
        "\n",
        "                    aug_img_path = os.path.join(self.aug_image_dir, f\"{base_name}_aug{i}.jpg\")\n",
        "                    aug_lbl_path = os.path.join(self.aug_label_dir, f\"{base_name}_aug{i}.txt\")\n",
        "                    cv2.imwrite(aug_img_path, cv2.cvtColor(transformed['image'], cv2.COLOR_RGB2BGR))\n",
        "                    self._save_yolo_labels(aug_lbl_path, clipped_bboxes, clipped_classes)\n",
        "\n",
        "                except Exception as e:\n",
        "                    print(f\"Augmentation error for {img_file} (aug{i}): {e}\")\n",
        "                    continue\n",
        "\n",
        "        self._update_yaml()\n",
        "\n",
        "if __name__ == \"__main__\":\n",
        "    input_image_dir = \"/content/drive/MyDrive/yolov11_test_cv/yolov11_dataset/images/train\"\n",
        "    input_label_dir = \"/content/drive/MyDrive/yolov11_test_cv/yolov11_dataset/labels/train/\"\n",
        "    output_dir = \"/content/drive/MyDrive/yolov11_test_cv/yolov11_dataset\"\n",
        "    yaml_path = os.path.join(output_dir, \"dataset.yaml\")\n",
        "\n",
        "    augmentor = YOLODatasetAugmentor(\n",
        "        input_image_dir=input_image_dir,\n",
        "        input_label_dir=input_label_dir,\n",
        "        output_dir=output_dir,\n",
        "        augmentations_per_image=3,\n",
        "        yaml_path=yaml_path\n",
        "    )\n",
        "\n",
        "    augmentor.augment_dataset()\n",
        "    print(\"Augmentation complete.\")\n"
      ]
    },
    {
      "cell_type": "markdown",
      "metadata": {
        "id": "mKRVC9CKgHPh"
      },
      "source": [
        "# Train YOLOv11\n"
      ]
    },
    {
      "cell_type": "code",
      "execution_count": 2,
      "metadata": {
        "id": "b6ipIYfrPt1P"
      },
      "outputs": [],
      "source": [
        "import os\n",
        "import yaml\n",
        "import torch\n",
        "import cv2\n",
        "import numpy as np\n",
        "from pathlib import Path\n",
        "from ultralytics import YOLO\n",
        "import matplotlib.pyplot as plt\n",
        "import pandas as pd\n",
        "from sklearn.model_selection import ParameterGrid\n",
        "from PIL import Image\n",
        "import psutil\n",
        "\n",
        "class YOLOv11Trainer:\n",
        "    def __init__(self, dataset_yaml, base_yaml, train_yaml, inference_yaml):\n",
        "        \"\"\"Initialize trainer with configuration files\"\"\"\n",
        "        # set base dataset path\n",
        "        self.dataset_base_path = Path(dataset_yaml).parent\n",
        "        print(f\"Dataset base path: {self.dataset_base_path}\")\n",
        "\n",
        "        # system checks\n",
        "        self._check_system_resources()\n",
        "\n",
        "        # device configs\n",
        "        self.device = 'cuda' if torch.cuda.is_available() else 'cpu'\n",
        "        print(f\"Using device: {self.device}\")\n",
        "\n",
        "        # Load configs\n",
        "        self.dataset_cfg = self._load_and_validate_yaml(dataset_yaml)\n",
        "        self.base_cfg = self._load_and_validate_yaml(base_yaml)\n",
        "        self.train_cfg = self._load_and_validate_yaml(train_yaml)\n",
        "        self.inference_cfg = self._load_and_validate_yaml(inference_yaml)\n",
        "\n",
        "        # validate dataset structure\n",
        "        self._validate_dataset_structure()\n",
        "\n",
        "        # optimize for available resources\n",
        "        self._optimize_for_resources()\n",
        "\n",
        "        # setup output directories\n",
        "        self.output_dir = Path('runs') / 'train'\n",
        "        self.output_dir.mkdir(parents=True, exist_ok=True)\n",
        "\n",
        "        # init model\n",
        "        self.model = self._init_model()\n",
        "        self.history = []\n",
        "        self.best_model_path = None\n",
        "\n",
        "    def _check_system_resources(self):\n",
        "        \"\"\"Verify sufficient system resources\"\"\"\n",
        "        mem = psutil.virtual_memory()\n",
        "        print(f\"Available RAM: {mem.available / (1024**3):.2f} GB\")\n",
        "        if mem.available < 4 * 1024**3:  # Less than 4GB\n",
        "            raise RuntimeError(\"Insufficient RAM (minimum 4GB required)\")\n",
        "\n",
        "    def _load_and_validate_yaml(self, path):\n",
        "        \"\"\"Load and validate YAML configuration\"\"\"\n",
        "        path = Path(path)\n",
        "        if not path.exists():\n",
        "            raise FileNotFoundError(f\"Config file not found: {path}\")\n",
        "        with open(path) as f:\n",
        "            config = yaml.safe_load(f)\n",
        "        return config\n",
        "\n",
        "    def _validate_dataset_structure(self):\n",
        "        \"\"\"Validate dataset folder structure and files\"\"\"\n",
        "        required_dirs = [\n",
        "            self.dataset_base_path / 'images' / 'train',\n",
        "            self.dataset_base_path / 'images' / 'val',\n",
        "            self.dataset_base_path / 'images' / 'test',\n",
        "            self.dataset_base_path / 'labels' / 'train',\n",
        "            self.dataset_base_path / 'labels' / 'val',\n",
        "            self.dataset_base_path / 'labels' / 'test'\n",
        "        ]\n",
        "        for dir_path in required_dirs:\n",
        "            if not dir_path.exists():\n",
        "                raise FileNotFoundError(f\"Required directory not found: {dir_path}\")\n",
        "        # check classes.txt optional, since dataset.yaml includes names\n",
        "        classes_file = self.dataset_base_path / 'classes.txt'\n",
        "        if classes_file.exists():\n",
        "            with open(classes_file) as f:\n",
        "                class_names = [line.strip() for line in f if line.strip()]\n",
        "            if class_names != self.dataset_cfg['names']:\n",
        "                print(f\"Warning: classes.txt names {class_names} differ from dataset.yaml names {self.dataset_cfg['names']}\")\n",
        "\n",
        "    def _optimize_for_resources(self):\n",
        "        \"\"\"Adjust parameters based on available resources\"\"\"\n",
        "        if self.device == 'cpu':\n",
        "            print(\"Optimizing for CPU...\")\n",
        "            # reduce memory-intensive settings\n",
        "            self.train_cfg['training']['batch_size'] = min(8, self.train_cfg['training']['batch_size'])\n",
        "            self.base_cfg['system']['num_workers'] = min(2, self.base_cfg['system']['num_workers'])\n",
        "            self.base_cfg['data']['img_size'] = [min(512, self.base_cfg['data']['img_size'][0])] * 2\n",
        "            # disable heavy augmentations\n",
        "            self.train_cfg['data_augmentation']['mosaic'] = 0.0\n",
        "            self.train_cfg['data_augmentation']['mixup'] = 0.0\n",
        "\n",
        "    def _init_model(self):\n",
        "        \"\"\"Initialize model with memory awareness\"\"\"\n",
        "        model_size = self.base_cfg['model']['architecture'][-1]  # s/m/l/x I chosed s\n",
        "        if self.device == 'cpu' and model_size in ['l', 'x']:\n",
        "            print(f\"Reducing model size from yolov11{model_size} to yolov11s for CPU\")\n",
        "            model_size = 's'\n",
        "\n",
        "        model_name = f'yolov11{model_size}'\n",
        "\n",
        "        try:\n",
        "            if self.base_cfg['model']['pretrained']:\n",
        "                try:\n",
        "                    print(f\"Loading {model_name}.pt\")\n",
        "                    return YOLO(f'{model_name}.pt').to(self.device)\n",
        "                except:\n",
        "                    print(f\"Falling back to yolov8{model_size}.pt\")\n",
        "                    return YOLO(f'yolov8{model_size}.pt').to(self.device)\n",
        "            print(f\"Initializing from scratch: {model_name}.yaml\")\n",
        "            return YOLO(f'{model_name}.yaml').to(self.device)\n",
        "        except Exception as e:\n",
        "            raise RuntimeError(f\"Model initialization failed: {e}\")\n",
        "\n",
        "    def train(self, params=None):\n",
        "        \"\"\"Train model with memory control\"\"\"\n",
        "        try:\n",
        "            # create temporary dataset yaml\n",
        "            temp_yaml = self._create_temp_dataset_yaml()\n",
        "\n",
        "            # dase configs\n",
        "            cfg = {\n",
        "                'data': str(temp_yaml),\n",
        "                'epochs': self.train_cfg['training']['epochs'],\n",
        "                'batch': self.train_cfg['training']['batch_size'],\n",
        "                'imgsz': self.base_cfg['data']['img_size'][0],\n",
        "                'device': self.device,\n",
        "                'workers': self.base_cfg['system']['num_workers'],\n",
        "                'seed': self.base_cfg['system']['seed'],\n",
        "                'project': str(self.output_dir),\n",
        "                'name': self.base_cfg['logging']['name'],\n",
        "                'exist_ok': True,\n",
        "                'cos_lr': self.train_cfg['scheduler']['type'] == 'cosine',\n",
        "                'lr0': self.train_cfg['optimizer']['lr'],\n",
        "                'momentum': self.train_cfg['optimizer']['momentum'],\n",
        "                'weight_decay': self.train_cfg['optimizer']['weight_decay'],\n",
        "                'fliplr': self.train_cfg['data_augmentation']['fliplr'],\n",
        "            }\n",
        "\n",
        "            # apply custom parameters if provided\n",
        "            if params:\n",
        "                cfg.update(params)\n",
        "                cfg['name'] = f\"{cfg['name']}_opt_{len(self.history)+1}\"\n",
        "\n",
        "            print(\"\\nTraining configuration:\")\n",
        "            for k, v in cfg.items():\n",
        "                print(f\"{k}: {v}\")\n",
        "\n",
        "            # clearing memory before training\n",
        "            torch.cuda.empty_cache() if self.device == 'cuda' else None\n",
        "\n",
        "            # rain with memory monitoring\n",
        "            results = self._train_with_memory_control(cfg)\n",
        "\n",
        "            # save results and model path\n",
        "            self.history.append({'params': cfg, 'results': results})\n",
        "            self.best_model_path = Path(cfg['project']) / cfg['name'] / 'weights' / 'best.pt'\n",
        "\n",
        "            # clean up\n",
        "            temp_yaml.unlink(missing_ok=True)\n",
        "\n",
        "            return results\n",
        "\n",
        "        except Exception as e:\n",
        "            print(f\"Training error: {e}\")\n",
        "            raise\n",
        "\n",
        "    def _create_temp_dataset_yaml(self):\n",
        "        \"\"\"Create temporary dataset YAML with absolute paths\"\"\"\n",
        "        temp_yaml_path = self.output_dir / 'temp_dataset.yaml'\n",
        "        with open(temp_yaml_path, 'w') as f:\n",
        "            yaml.dump({\n",
        "                'train': str(self.dataset_base_path / self.dataset_cfg['train']),\n",
        "                'val': str(self.dataset_base_path / self.dataset_cfg['val']),\n",
        "                'test': str(self.dataset_base_path / self.dataset_cfg['test']),\n",
        "                'nc': self.dataset_cfg['nc'],\n",
        "                'names': self.dataset_cfg['names']\n",
        "            }, f)\n",
        "        return temp_yaml_path\n",
        "\n",
        "    def _train_with_memory_control(self, cfg):\n",
        "        \"\"\"Handle memory issues during training\"\"\"\n",
        "        try:\n",
        "            return self.model.train(**cfg)\n",
        "        except RuntimeError as e:\n",
        "            if 'CUDA out of memory' in str(e):\n",
        "                print(\"\\nOut of memory! Reducing batch size...\")\n",
        "                cfg['batch'] = max(1, cfg['batch'] // 2)\n",
        "                print(f\"New batch size: {cfg['batch']}\")\n",
        "                return self.model.train(**cfg)\n",
        "            raise\n",
        "\n",
        "    def optimize_hyperparameters(self, n_iter=2):\n",
        "        \"\"\"Run hyperparameter optimization\"\"\"\n",
        "        param_grid = {\n",
        "            'lr0': [0.01, 0.001],\n",
        "            'batch': [8, 4] if self.device == 'cpu' else [16, 32],\n",
        "            'weight_decay': [0.0005, 0.001]\n",
        "        }\n",
        "\n",
        "        best_score = 0\n",
        "        best_params = None\n",
        "\n",
        "        print(f\"\\nStarting hyperparameter optimization ({n_iter} iterations)...\")\n",
        "\n",
        "        for i, params in enumerate(ParameterGrid(param_grid)):\n",
        "            if i >= n_iter:\n",
        "                break\n",
        "\n",
        "            print(f\"\\nIteration {i+1}/{n_iter}: {params}\")\n",
        "\n",
        "            try:\n",
        "                self.train(params)\n",
        "                metrics = self.validate()\n",
        "\n",
        "                if metrics and metrics['mAP50-95'] > best_score:\n",
        "                    best_score = metrics['mAP50-95']\n",
        "                    best_params = params\n",
        "\n",
        "                print(f\"Current mAP50-95: {metrics['mAP50-95']:.4f}\")\n",
        "\n",
        "            except Exception as e:\n",
        "                print(f\"Iteration {i+1} failed: {e}\")\n",
        "                continue\n",
        "\n",
        "        print(f\"\\nBest mAP50-95: {best_score:.4f}\")\n",
        "        print(f\"Best parameters: {best_params}\")\n",
        "\n",
        "        return best_params, best_score\n",
        "\n",
        "    def validate(self):\n",
        "        \"\"\"Validate model on validation set\"\"\"\n",
        "        try:\n",
        "            if not self.best_model_path:\n",
        "                raise ValueError(\"No trained model available for validation\")\n",
        "\n",
        "            print(\"\\nRunning validation...\")\n",
        "            model = YOLO(str(self.best_model_path))\n",
        "\n",
        "            metrics = model.val(\n",
        "                data=str(self._create_temp_dataset_yaml()),\n",
        "                batch=self.train_cfg['training']['batch_size'],\n",
        "                imgsz=self.base_cfg['data']['img_size'][0],\n",
        "                device=self.device\n",
        "            )\n",
        "\n",
        "            val_results = {\n",
        "                'mAP50': metrics.box.map50,\n",
        "                'mAP50-95': metrics.box.map,\n",
        "                'precision': metrics.box.p,\n",
        "                'recall': metrics.box.r,\n",
        "                'f1': metrics.box.f1\n",
        "            }\n",
        "\n",
        "            print(\"\\nValidation Results:\")\n",
        "            for k, v in val_results.items():\n",
        "                print(f\"{k}: {v:.4f}\")\n",
        "\n",
        "            return val_results\n",
        "\n",
        "        except Exception as e:\n",
        "            print(f\"Validation error: {e}\")\n",
        "            return None\n",
        "\n",
        "    def test(self, num_samples=5, save_dir='test_results'):\n",
        "        \"\"\"Test model on test set with visualization\"\"\"\n",
        "        try:\n",
        "            if not self.best_model_path:\n",
        "                raise ValueError(\"No trained model available for testing\")\n",
        "\n",
        "            print(f\"\\nTesting model on {num_samples} samples...\")\n",
        "            test_dir = self.output_dir / save_dir\n",
        "            test_dir.mkdir(exist_ok=True)\n",
        "\n",
        "            model = YOLO(str(self.best_model_path))\n",
        "\n",
        "            # Get test images\n",
        "            test_images = list((self.dataset_base_path / self.dataset_cfg['test']).glob('*.[jp][pn]g'))\n",
        "            if not test_images:\n",
        "                raise FileNotFoundError(f\"No images found in test directory: {self.dataset_base_path / self.dataset_cfg['test']}\")\n",
        "\n",
        "            # Process sample images\n",
        "            sample_images = test_images[:min(num_samples, len(test_images))]\n",
        "            test_results = []\n",
        "\n",
        "            for img_path in sample_images:\n",
        "                results = model.predict(\n",
        "                    source=str(img_path),\n",
        "                    imgsz=self.base_cfg['data']['img_size'][0],\n",
        "                    conf=self.inference_cfg['inference']['conf_thres'],\n",
        "                    iou=self.inference_cfg['inference']['iou_thres'],\n",
        "                    device=self.device\n",
        "                )\n",
        "\n",
        "                # Save visualization\n",
        "                for r in results:\n",
        "                    im_array = r.plot()\n",
        "                    im = Image.fromarray(im_array[..., ::-1])\n",
        "                    save_path = test_dir / f\"result_{img_path.name}\"\n",
        "                    im.save(save_path)\n",
        "                    print(f\"Saved: {save_path}\")\n",
        "                    test_results.append({\n",
        "                        'image': img_path.name,\n",
        "                        'predictions': len(r.boxes),\n",
        "                        'average_conf': r.boxes.conf.mean().item() if len(r.boxes) > 0 else 0\n",
        "                    })\n",
        "\n",
        "            # Full test set evaluation\n",
        "            test_metrics = model.val(\n",
        "                data=str(self._create_temp_dataset_yaml()),\n",
        "                split='test',\n",
        "                batch=self.train_cfg['training']['batch_size'],\n",
        "                imgsz=self.base_cfg['data']['img_size'][0],\n",
        "                device=self.device\n",
        "            )\n",
        "\n",
        "            full_test_results = {\n",
        "                'mAP50': test_metrics.box.map50,\n",
        "                'mAP50-95': test_metrics.box.map,\n",
        "                'precision': test_metrics.box.p,\n",
        "                'recall': test_metrics.box.r,\n",
        "                'f1': test_metrics.box.f1,\n",
        "                'sample_results': test_results\n",
        "            }\n",
        "\n",
        "            print(\"\\nTest Set Metrics:\")\n",
        "            for k, v in full_test_results.items():\n",
        "                if k != 'sample_results':\n",
        "                    print(f\"{k}: {v:.4f}\")\n",
        "\n",
        "            # Save test results\n",
        "            self._save_test_results(full_test_results, test_dir)\n",
        "\n",
        "            return full_test_results\n",
        "\n",
        "        except Exception as e:\n",
        "            print(f\"Testing error: {e}\")\n",
        "            return None\n",
        "\n",
        "    def _save_test_results(self, results, test_dir):\n",
        "        \"\"\"Save test results and update report\"\"\"\n",
        "        try:\n",
        "            # Save numerical results\n",
        "            df = pd.DataFrame([{k:v for k,v in results.items() if k != 'sample_candidates'}])\n",
        "            df.to_csv(test_dir / 'test_metrics.csv', index=False)\n",
        "\n",
        "            # Save sample predictions\n",
        "            sample_df = pd.DataFrame(results['sample_results'])\n",
        "            sample_df.to_csv(test_dir / 'sample_predictions.csv', index=False)\n",
        "\n",
        "            # Update report\n",
        "            self._update_report_with_test_results(results, test_dir)\n",
        "\n",
        "        except Exception as e:\n",
        "            print(f\"Error saving test results: {e}\")\n",
        "\n",
        "    def _update_report_with_test_results(self, results, test_dir):\n",
        "        \"\"\"Add test results to the report\"\"\"\n",
        "        try:\n",
        "            report_path = self.output_dir / 'training_report.md'\n",
        "\n",
        "            with open(report_path, 'a') as f:\n",
        "                f.write(\"\\n## Test Set Evaluation\\n\")\n",
        "                f.write(f\"- mAP50: {results['mAP50']:.4f}\\n\")\n",
        "                f.write(f\"- mAP50-95: {results['mAP50-95']:.4f}\\n\")\n",
        "                f.write(f\"- Precision: {results['precision']:.4f}\\n\")\n",
        "                f.write(f\"- Recall: {results['recall']:.4f}\\n\")\n",
        "                f.write(f\"- F1 Score: {results['f1']:.4f}\\n\\n\")\n",
        "\n",
        "                f.write(\"### Sample Predictions\\n\")\n",
        "                for sample in results['sample_results'][:3]:  # Show first 3 samples\n",
        "                    img_name = sample['image']\n",
        "                    f.write(f\"- {img_name}: {sample['predictions']} detections (avg conf: {sample['average_conf']:.2f})\\n\")\n",
        "                    img_path = test_dir / f\"result_{img_name}\"\n",
        "                    if img_path.exists():\n",
        "                        f.write(f\"![{img_name}]({test_dir.name}/result_{img_name})\\n\")\n",
        "\n",
        "            print(f\"Updated report with test results: {report_path}\")\n",
        "\n",
        "        except Exception as e:\n",
        "            print(f\"Error updating report: {e}\")\n",
        "\n",
        "    def generate_report(self):\n",
        "        \"\"\"Generate comprehensive training report\"\"\"\n",
        "        try:\n",
        "            if not self.history:\n",
        "                raise ValueError(\"No training history to report\")\n",
        "\n",
        "            report_path = self.output_dir / 'training_report.md'\n",
        "\n",
        "            with open(report_path, 'w') as f:\n",
        "                f.write(\"# YOLOv11 Training Report\\n\\n\")\n",
        "\n",
        "                # System and dataset info\n",
        "                f.write(\"## System Information\\n\")\n",
        "                f.write(f\"- Device: {self.device}\\n\")\n",
        "                f.write(f\"- CUDA Available: {torch.cuda.is_available()}\\n\")\n",
        "                if torch.cuda.is_available():\n",
        "                    f.write(f\"- CUDA Device: {torch.cuda.get_device_name()}\\n\")\n",
        "                f.write(\"\\n\")\n",
        "\n",
        "                f.write(\"## Dataset Information\\n\")\n",
        "                f.write(f\"- Classes: {self.dataset_cfg['names']}\\n\")\n",
        "                f.write(f\"- Training samples: {len(list((self.dataset_base_path / self.dataset_cfg['train']).glob('*.[jp][pn]g')))}\\n\")\n",
        "                f.write(f\"- Validation samples: {len(list((self.dataset_base_path / self.dataset_cfg['val']).glob('*.[jp][pn]g')))}\\n\")\n",
        "                f.write(f\"- Test samples: {len(list((self.dataset_base_path / self.dataset_cfg['test']).glob('*.[jp][pn]g')))}\\n\\n\")\n",
        "\n",
        "                # Training summary\n",
        "                f.write(\"## Training Summary\\n\")\n",
        "                for i, run in enumerate(self.history):\n",
        "                    f.write(f\"### Run {i+1}\\n\")\n",
        "                    f.write(f\"- Epochs: {run['params']['epochs']}\\n\")\n",
        "                    f.write(f\"- Batch size: {run['params']['batch']}\\n\")\n",
        "                    f.write(f\"- Learning rate: {run['params']['lr0']}\\n\")\n",
        "                    f.write(f\"- Image size: {run['params']['imgsz']}\\n\\n\")\n",
        "\n",
        "                # Validation results\n",
        "                val_results = self.validate()\n",
        "                if val_results:\n",
        "                    f.write(\"## Validation Results\\n\")\n",
        "                    for k, v in val_results.items():\n",
        "                        f.write(f\"- {k}: {v:.4f}\\n\")\n",
        "                    f.write(\"\\n\")\n",
        "\n",
        "            print(f\"Report generated: {report_path}\")\n",
        "            return report_path\n",
        "\n",
        "        except Exception as e:\n",
        "            print(f\"Report generation error: {e}\")\n",
        "            return None\n"
      ]
    },
    {
      "cell_type": "code",
      "source": [
        "if __name__ == \"__main__\":\n",
        "    try:\n",
        "        # Configuration paths\n",
        "        config_files = {\n",
        "            'dataset_yaml': \"/content/drive/MyDrive/yolov11_test_cv/yolov11_dataset/dataset.yaml\",\n",
        "            'base_yaml': \"/content/drive/MyDrive/yolov11_test_cv/configs/base.yml\",\n",
        "            'train_yaml': \"/content/drive/MyDrive/yolov11_test_cv/configs/train.yml\",\n",
        "            'inference_yaml': \"/content/drive/MyDrive/yolov11_test_cv/configs/inference.yml\"\n",
        "        }\n",
        "\n",
        "        # Debug: List files in configs directory\n",
        "        configs_dir = \"/content/drive/MyDrive/yolov11_test_cv/configs\"\n",
        "        print(f\"Checking configs directory: {configs_dir}\")\n",
        "        if os.path.exists(configs_dir):\n",
        "            print(f\"Files found: {os.listdir(configs_dir)}\")\n",
        "        else:\n",
        "            print(f\"Configs directory does not exist: {configs_dir}\")\n",
        "\n",
        "        # Verify config files exist\n",
        "        for name, path in config_files.items():\n",
        "            if not Path(path).exists():\n",
        "                raise FileNotFoundError(f\"Config file not found: {path}\")\n",
        "\n",
        "        # Initialize trainer\n",
        "        trainer = YOLOv11Trainer(**config_files)\n",
        "\n",
        "        # Training pipeline\n",
        "        print(\"\\n1. Starting training...\")\n",
        "        trainer.train()\n",
        "\n",
        "        print(\"\\n2. Optimizing hyperparameters...\")\n",
        "        trainer.optimize_hyperparameters(n_iter=2)\n",
        "\n",
        "        print(\"\\n3. Generating report...\")\n",
        "        trainer.generate_report()\n",
        "\n",
        "        print(\"\\n4. Running validation...\")\n",
        "        trainer.validate()\n",
        "\n",
        "        print(\"\\n5. Testing and visualizing results...\")\n",
        "        trainer.test(num_samples=5)\n",
        "\n",
        "        print(f\"\\nTraining complete! Results saved in: {trainer.output_dir}\")\n",
        "\n",
        "    except Exception as e:\n",
        "        print(f\"\\nCritical error: {e}\")"
      ],
      "metadata": {
        "colab": {
          "base_uri": "https://localhost:8080/"
        },
        "id": "822807dn97Vp",
        "outputId": "8f067dd9-52a0-4b10-f252-5d2c135500d2"
      },
      "execution_count": 5,
      "outputs": [
        {
          "metadata": {
            "tags": null
          },
          "name": "stdout",
          "output_type": "stream",
          "text": [
            "Checking configs directory: /content/drive/MyDrive/yolov11_test_cv/configs\n",
            "Files found: ['inference.yml', 'base.yml', 'train.yml']\n",
            "Dataset base path: /content/drive/MyDrive/yolov11_test_cv/yolov11_dataset\n",
            "Available RAM: 10.45 GB\n",
            "Using device: cpu\n",
            "Optimizing for CPU...\n",
            "Loading yolov11s.pt\n",
            "Falling back to yolov8s.pt\n",
            "\n",
            "1. Starting training...\n",
            "\n",
            "Training configuration:\n",
            "data: runs/train/temp_dataset.yaml\n",
            "epochs: 2\n",
            "batch: 8\n",
            "imgsz: 512\n",
            "device: cpu\n",
            "workers: 2\n",
            "seed: 0\n",
            "project: runs/train\n",
            "name: yolov11-exp\n",
            "exist_ok: True\n",
            "cos_lr: True\n",
            "lr0: 0.01\n",
            "momentum: 0.937\n",
            "weight_decay: 0.0005\n",
            "fliplr: 0.5\n",
            "Ultralytics 8.3.162 🚀 Python-3.11.13 torch-2.7.1+cu118 CPU (Intel Xeon 2.20GHz)\n",
            "\u001b[34m\u001b[1mengine/trainer: \u001b[0magnostic_nms=False, amp=True, augment=False, auto_augment=randaugment, batch=8, bgr=0.0, box=7.5, cache=False, cfg=None, classes=None, close_mosaic=10, cls=0.5, conf=None, copy_paste=0.0, copy_paste_mode=flip, cos_lr=True, cutmix=0.0, data=runs/train/temp_dataset.yaml, degrees=0.0, deterministic=True, device=cpu, dfl=1.5, dnn=False, dropout=0.0, dynamic=False, embed=None, epochs=2, erasing=0.4, exist_ok=True, fliplr=0.5, flipud=0.0, format=torchscript, fraction=1.0, freeze=None, half=False, hsv_h=0.015, hsv_s=0.7, hsv_v=0.4, imgsz=512, int8=False, iou=0.7, keras=False, kobj=1.0, line_width=None, lr0=0.01, lrf=0.01, mask_ratio=4, max_det=300, mixup=0.0, mode=train, model=yolov8s.pt, momentum=0.937, mosaic=1.0, multi_scale=False, name=yolov11-exp, nbs=64, nms=False, opset=None, optimize=False, optimizer=auto, overlap_mask=True, patience=100, perspective=0.0, plots=True, pose=12.0, pretrained=True, profile=False, project=runs/train, rect=False, resume=False, retina_masks=False, save=True, save_conf=False, save_crop=False, save_dir=runs/train/yolov11-exp, save_frames=False, save_json=False, save_period=-1, save_txt=False, scale=0.5, seed=0, shear=0.0, show=False, show_boxes=True, show_conf=True, show_labels=True, simplify=True, single_cls=False, source=None, split=val, stream_buffer=False, task=detect, time=None, tracker=botsort.yaml, translate=0.1, val=True, verbose=True, vid_stride=1, visualize=False, warmup_bias_lr=0.1, warmup_epochs=3.0, warmup_momentum=0.8, weight_decay=0.0005, workers=2, workspace=None\n",
            "Overriding model.yaml nc=80 with nc=8\n",
            "\n",
            "                   from  n    params  module                                       arguments                     \n",
            "  0                  -1  1       928  ultralytics.nn.modules.conv.Conv             [3, 32, 3, 2]                 \n",
            "  1                  -1  1     18560  ultralytics.nn.modules.conv.Conv             [32, 64, 3, 2]                \n",
            "  2                  -1  1     29056  ultralytics.nn.modules.block.C2f             [64, 64, 1, True]             \n",
            "  3                  -1  1     73984  ultralytics.nn.modules.conv.Conv             [64, 128, 3, 2]               \n",
            "  4                  -1  2    197632  ultralytics.nn.modules.block.C2f             [128, 128, 2, True]           \n",
            "  5                  -1  1    295424  ultralytics.nn.modules.conv.Conv             [128, 256, 3, 2]              \n",
            "  6                  -1  2    788480  ultralytics.nn.modules.block.C2f             [256, 256, 2, True]           \n",
            "  7                  -1  1   1180672  ultralytics.nn.modules.conv.Conv             [256, 512, 3, 2]              \n",
            "  8                  -1  1   1838080  ultralytics.nn.modules.block.C2f             [512, 512, 1, True]           \n",
            "  9                  -1  1    656896  ultralytics.nn.modules.block.SPPF            [512, 512, 5]                 \n",
            " 10                  -1  1         0  torch.nn.modules.upsampling.Upsample         [None, 2, 'nearest']          \n",
            " 11             [-1, 6]  1         0  ultralytics.nn.modules.conv.Concat           [1]                           \n",
            " 12                  -1  1    591360  ultralytics.nn.modules.block.C2f             [768, 256, 1]                 \n",
            " 13                  -1  1         0  torch.nn.modules.upsampling.Upsample         [None, 2, 'nearest']          \n",
            " 14             [-1, 4]  1         0  ultralytics.nn.modules.conv.Concat           [1]                           \n",
            " 15                  -1  1    148224  ultralytics.nn.modules.block.C2f             [384, 128, 1]                 \n",
            " 16                  -1  1    147712  ultralytics.nn.modules.conv.Conv             [128, 128, 3, 2]              \n",
            " 17            [-1, 12]  1         0  ultralytics.nn.modules.conv.Concat           [1]                           \n",
            " 18                  -1  1    493056  ultralytics.nn.modules.block.C2f             [384, 256, 1]                 \n",
            " 19                  -1  1    590336  ultralytics.nn.modules.conv.Conv             [256, 256, 3, 2]              \n",
            " 20             [-1, 9]  1         0  ultralytics.nn.modules.conv.Concat           [1]                           \n",
            " 21                  -1  1   1969152  ultralytics.nn.modules.block.C2f             [768, 512, 1]                 \n",
            " 22        [15, 18, 21]  1   2119144  ultralytics.nn.modules.head.Detect           [8, [128, 256, 512]]          \n",
            "Model summary: 129 layers, 11,138,696 parameters, 11,138,680 gradients, 28.7 GFLOPs\n",
            "\n",
            "Transferred 349/355 items from pretrained weights\n",
            "Freezing layer 'model.22.dfl.conv.weight'\n",
            "\u001b[34m\u001b[1mtrain: \u001b[0mFast image access ✅ (ping: 2.1±3.1 ms, read: 80.6±76.6 MB/s, size: 1341.3 KB)\n"
          ]
        },
        {
          "metadata": {
            "tags": null
          },
          "name": "stderr",
          "output_type": "stream",
          "text": [
            "\u001b[34m\u001b[1mtrain: \u001b[0mScanning /content/drive/MyDrive/yolov11_test_cv/yolov11_dataset/labels/train... 1695 images, 1 backgrounds, 355 corrupt: 100%|██████████| 1695/1695 [00:50<00:00, 33.29it/s]"
          ]
        },
        {
          "metadata": {
            "tags": null
          },
          "name": "stdout",
          "output_type": "stream",
          "text": [
            "\u001b[34m\u001b[1mtrain: \u001b[0m/content/drive/MyDrive/yolov11_test_cv/yolov11_dataset/images/train/1_frame_000009.jpg: ignoring corrupt image/label: labels require 5 columns, 6 columns detected\n",
            "\u001b[34m\u001b[1mtrain: \u001b[0m/content/drive/MyDrive/yolov11_test_cv/yolov11_dataset/images/train/1_frame_000014.jpg: ignoring corrupt image/label: labels require 5 columns, 6 columns detected\n",
            "\u001b[34m\u001b[1mtrain: \u001b[0m/content/drive/MyDrive/yolov11_test_cv/yolov11_dataset/images/train/1_frame_000020.jpg: ignoring corrupt image/label: labels require 5 columns, 6 columns detected\n",
            "\u001b[34m\u001b[1mtrain: \u001b[0m/content/drive/MyDrive/yolov11_test_cv/yolov11_dataset/images/train/1_frame_000026.jpg: ignoring corrupt image/label: labels require 5 columns, 6 columns detected\n",
            "\u001b[34m\u001b[1mtrain: \u001b[0m/content/drive/MyDrive/yolov11_test_cv/yolov11_dataset/images/train/1_frame_000028.jpg: ignoring corrupt image/label: labels require 5 columns, 6 columns detected\n",
            "\u001b[34m\u001b[1mtrain: \u001b[0m/content/drive/MyDrive/yolov11_test_cv/yolov11_dataset/images/train/1_frame_000050.jpg: ignoring corrupt image/label: labels require 5 columns, 6 columns detected\n",
            "\u001b[34m\u001b[1mtrain: \u001b[0m/content/drive/MyDrive/yolov11_test_cv/yolov11_dataset/images/train/1_frame_000056.jpg: ignoring corrupt image/label: labels require 5 columns, 6 columns detected\n",
            "\u001b[34m\u001b[1mtrain: \u001b[0m/content/drive/MyDrive/yolov11_test_cv/yolov11_dataset/images/train/1_frame_000084.jpg: ignoring corrupt image/label: labels require 5 columns, 6 columns detected\n",
            "\u001b[34m\u001b[1mtrain: \u001b[0m/content/drive/MyDrive/yolov11_test_cv/yolov11_dataset/images/train/1_frame_000087.jpg: ignoring corrupt image/label: labels require 5 columns, 6 columns detected\n",
            "\u001b[34m\u001b[1mtrain: \u001b[0m/content/drive/MyDrive/yolov11_test_cv/yolov11_dataset/images/train/1_frame_000098.jpg: ignoring corrupt image/label: labels require 5 columns, 6 columns detected\n",
            "\u001b[34m\u001b[1mtrain: \u001b[0m/content/drive/MyDrive/yolov11_test_cv/yolov11_dataset/images/train/1_frame_000163.jpg: ignoring corrupt image/label: labels require 5 columns, 6 columns detected\n",
            "\u001b[34m\u001b[1mtrain: \u001b[0m/content/drive/MyDrive/yolov11_test_cv/yolov11_dataset/images/train/2_1_frame_000054.jpg: ignoring corrupt image/label: labels require 5 columns, 6 columns detected\n",
            "\u001b[34m\u001b[1mtrain: \u001b[0m/content/drive/MyDrive/yolov11_test_cv/yolov11_dataset/images/train/2_1_frame_000108.jpg: ignoring corrupt image/label: labels require 5 columns, 6 columns detected\n",
            "\u001b[34m\u001b[1mtrain: \u001b[0m/content/drive/MyDrive/yolov11_test_cv/yolov11_dataset/images/train/2_1_frame_000324.jpg: ignoring corrupt image/label: labels require 5 columns, 6 columns detected\n",
            "\u001b[34m\u001b[1mtrain: \u001b[0m/content/drive/MyDrive/yolov11_test_cv/yolov11_dataset/images/train/2_1_frame_000432.jpg: ignoring corrupt image/label: labels require 5 columns, 6 columns detected\n",
            "\u001b[34m\u001b[1mtrain: \u001b[0m/content/drive/MyDrive/yolov11_test_cv/yolov11_dataset/images/train/2_1_frame_000486.jpg: ignoring corrupt image/label: labels require 5 columns, 6 columns detected\n",
            "\u001b[34m\u001b[1mtrain: \u001b[0m/content/drive/MyDrive/yolov11_test_cv/yolov11_dataset/images/train/2_1_frame_000702.jpg: ignoring corrupt image/label: labels require 5 columns, 6 columns detected\n",
            "\u001b[34m\u001b[1mtrain: \u001b[0m/content/drive/MyDrive/yolov11_test_cv/yolov11_dataset/images/train/2_1_frame_000810.jpg: ignoring corrupt image/label: labels require 5 columns, 6 columns detected\n",
            "\u001b[34m\u001b[1mtrain: \u001b[0m/content/drive/MyDrive/yolov11_test_cv/yolov11_dataset/images/train/2_1_frame_000972.jpg: ignoring corrupt image/label: labels require 5 columns, 6 columns detected\n",
            "\u001b[34m\u001b[1mtrain: \u001b[0m/content/drive/MyDrive/yolov11_test_cv/yolov11_dataset/images/train/2_1_frame_001026.jpg: ignoring corrupt image/label: labels require 5 columns, 6 columns detected\n",
            "\u001b[34m\u001b[1mtrain: \u001b[0m/content/drive/MyDrive/yolov11_test_cv/yolov11_dataset/images/train/2_1_frame_001080.jpg: ignoring corrupt image/label: labels require 5 columns, 6 columns detected\n",
            "\u001b[34m\u001b[1mtrain: \u001b[0m/content/drive/MyDrive/yolov11_test_cv/yolov11_dataset/images/train/2_1_frame_001134.jpg: ignoring corrupt image/label: labels require 5 columns, 6 columns detected\n",
            "\u001b[34m\u001b[1mtrain: \u001b[0m/content/drive/MyDrive/yolov11_test_cv/yolov11_dataset/images/train/2_1_frame_001377.jpg: ignoring corrupt image/label: labels require 5 columns, 6 columns detected\n",
            "\u001b[34m\u001b[1mtrain: \u001b[0m/content/drive/MyDrive/yolov11_test_cv/yolov11_dataset/images/train/3_1_frame_000025.jpg: ignoring corrupt image/label: labels require 5 columns, 6 columns detected\n",
            "\u001b[34m\u001b[1mtrain: \u001b[0m/content/drive/MyDrive/yolov11_test_cv/yolov11_dataset/images/train/3_1_frame_000060.jpg: ignoring corrupt image/label: labels require 5 columns, 6 columns detected\n",
            "\u001b[34m\u001b[1mtrain: \u001b[0m/content/drive/MyDrive/yolov11_test_cv/yolov11_dataset/images/train/3_1_frame_000075.jpg: ignoring corrupt image/label: labels require 5 columns, 6 columns detected\n",
            "\u001b[34m\u001b[1mtrain: \u001b[0m/content/drive/MyDrive/yolov11_test_cv/yolov11_dataset/images/train/3_1_frame_000096.jpg: ignoring corrupt image/label: labels require 5 columns, 6 columns detected\n",
            "\u001b[34m\u001b[1mtrain: \u001b[0m/content/drive/MyDrive/yolov11_test_cv/yolov11_dataset/images/train/3_1_frame_000100.jpg: ignoring corrupt image/label: labels require 5 columns, 6 columns detected\n",
            "\u001b[34m\u001b[1mtrain: \u001b[0m/content/drive/MyDrive/yolov11_test_cv/yolov11_dataset/images/train/3_1_frame_000125.jpg: ignoring corrupt image/label: labels require 5 columns, 6 columns detected\n",
            "\u001b[34m\u001b[1mtrain: \u001b[0m/content/drive/MyDrive/yolov11_test_cv/yolov11_dataset/images/train/3_1_frame_000132.jpg: ignoring corrupt image/label: labels require 5 columns, 6 columns detected\n",
            "\u001b[34m\u001b[1mtrain: \u001b[0m/content/drive/MyDrive/yolov11_test_cv/yolov11_dataset/images/train/3_1_frame_000150.jpg: ignoring corrupt image/label: labels require 5 columns, 6 columns detected\n",
            "\u001b[34m\u001b[1mtrain: \u001b[0m/content/drive/MyDrive/yolov11_test_cv/yolov11_dataset/images/train/3_1_frame_000156.jpg: ignoring corrupt image/label: labels require 5 columns, 6 columns detected\n",
            "\u001b[34m\u001b[1mtrain: \u001b[0m/content/drive/MyDrive/yolov11_test_cv/yolov11_dataset/images/train/3_1_frame_000168.jpg: ignoring corrupt image/label: labels require 5 columns, 6 columns detected\n",
            "\u001b[34m\u001b[1mtrain: \u001b[0m/content/drive/MyDrive/yolov11_test_cv/yolov11_dataset/images/train/3_1_frame_000192.jpg: ignoring corrupt image/label: labels require 5 columns, 6 columns detected\n",
            "\u001b[34m\u001b[1mtrain: \u001b[0m/content/drive/MyDrive/yolov11_test_cv/yolov11_dataset/images/train/3_1_frame_000200.jpg: ignoring corrupt image/label: labels require 5 columns, 6 columns detected\n",
            "\u001b[34m\u001b[1mtrain: \u001b[0m/content/drive/MyDrive/yolov11_test_cv/yolov11_dataset/images/train/3_1_frame_000204.jpg: ignoring corrupt image/label: labels require 5 columns, 6 columns detected\n",
            "\u001b[34m\u001b[1mtrain: \u001b[0m/content/drive/MyDrive/yolov11_test_cv/yolov11_dataset/images/train/3_1_frame_000216.jpg: ignoring corrupt image/label: labels require 5 columns, 6 columns detected\n",
            "\u001b[34m\u001b[1mtrain: \u001b[0m/content/drive/MyDrive/yolov11_test_cv/yolov11_dataset/images/train/3_1_frame_000225.jpg: ignoring corrupt image/label: labels require 5 columns, 6 columns detected\n",
            "\u001b[34m\u001b[1mtrain: \u001b[0m/content/drive/MyDrive/yolov11_test_cv/yolov11_dataset/images/train/3_1_frame_000228.jpg: ignoring corrupt image/label: labels require 5 columns, 6 columns detected\n",
            "\u001b[34m\u001b[1mtrain: \u001b[0m/content/drive/MyDrive/yolov11_test_cv/yolov11_dataset/images/train/3_1_frame_000250.jpg: ignoring corrupt image/label: labels require 5 columns, 6 columns detected\n",
            "\u001b[34m\u001b[1mtrain: \u001b[0m/content/drive/MyDrive/yolov11_test_cv/yolov11_dataset/images/train/3_1_frame_000264.jpg: ignoring corrupt image/label: labels require 5 columns, 6 columns detected\n",
            "\u001b[34m\u001b[1mtrain: \u001b[0m/content/drive/MyDrive/yolov11_test_cv/yolov11_dataset/images/train/3_1_frame_000275.jpg: ignoring corrupt image/label: labels require 5 columns, 6 columns detected\n",
            "\u001b[34m\u001b[1mtrain: \u001b[0m/content/drive/MyDrive/yolov11_test_cv/yolov11_dataset/images/train/3_1_frame_000276.jpg: ignoring corrupt image/label: labels require 5 columns, 6 columns detected\n",
            "\u001b[34m\u001b[1mtrain: \u001b[0m/content/drive/MyDrive/yolov11_test_cv/yolov11_dataset/images/train/3_1_frame_000288.jpg: ignoring corrupt image/label: labels require 5 columns, 6 columns detected\n",
            "\u001b[34m\u001b[1mtrain: \u001b[0m/content/drive/MyDrive/yolov11_test_cv/yolov11_dataset/images/train/3_1_frame_000300.jpg: ignoring corrupt image/label: labels require 5 columns, 6 columns detected\n",
            "\u001b[34m\u001b[1mtrain: \u001b[0m/content/drive/MyDrive/yolov11_test_cv/yolov11_dataset/images/train/3_1_frame_000312.jpg: ignoring corrupt image/label: labels require 5 columns, 6 columns detected\n",
            "\u001b[34m\u001b[1mtrain: \u001b[0m/content/drive/MyDrive/yolov11_test_cv/yolov11_dataset/images/train/3_1_frame_000324.jpg: ignoring corrupt image/label: labels require 5 columns, 6 columns detected\n",
            "\u001b[34m\u001b[1mtrain: \u001b[0m/content/drive/MyDrive/yolov11_test_cv/yolov11_dataset/images/train/3_1_frame_000325.jpg: ignoring corrupt image/label: labels require 5 columns, 6 columns detected\n",
            "\u001b[34m\u001b[1mtrain: \u001b[0m/content/drive/MyDrive/yolov11_test_cv/yolov11_dataset/images/train/3_1_frame_000336.jpg: ignoring corrupt image/label: labels require 5 columns, 6 columns detected\n",
            "\u001b[34m\u001b[1mtrain: \u001b[0m/content/drive/MyDrive/yolov11_test_cv/yolov11_dataset/images/train/3_1_frame_000348.jpg: ignoring corrupt image/label: labels require 5 columns, 6 columns detected\n",
            "\u001b[34m\u001b[1mtrain: \u001b[0m/content/drive/MyDrive/yolov11_test_cv/yolov11_dataset/images/train/3_1_frame_000350.jpg: ignoring corrupt image/label: labels require 5 columns, 6 columns detected\n",
            "\u001b[34m\u001b[1mtrain: \u001b[0m/content/drive/MyDrive/yolov11_test_cv/yolov11_dataset/images/train/3_1_frame_000375.jpg: ignoring corrupt image/label: labels require 5 columns, 6 columns detected\n",
            "\u001b[34m\u001b[1mtrain: \u001b[0m/content/drive/MyDrive/yolov11_test_cv/yolov11_dataset/images/train/3_1_frame_000384.jpg: ignoring corrupt image/label: labels require 5 columns, 6 columns detected\n",
            "\u001b[34m\u001b[1mtrain: \u001b[0m/content/drive/MyDrive/yolov11_test_cv/yolov11_dataset/images/train/3_1_frame_000396.jpg: ignoring corrupt image/label: labels require 5 columns, 6 columns detected\n",
            "\u001b[34m\u001b[1mtrain: \u001b[0m/content/drive/MyDrive/yolov11_test_cv/yolov11_dataset/images/train/3_1_frame_000400.jpg: ignoring corrupt image/label: labels require 5 columns, 6 columns detected\n",
            "\u001b[34m\u001b[1mtrain: \u001b[0m/content/drive/MyDrive/yolov11_test_cv/yolov11_dataset/images/train/3_1_frame_000420.jpg: ignoring corrupt image/label: labels require 5 columns, 6 columns detected\n",
            "\u001b[34m\u001b[1mtrain: \u001b[0m/content/drive/MyDrive/yolov11_test_cv/yolov11_dataset/images/train/3_1_frame_000425.jpg: ignoring corrupt image/label: labels require 5 columns, 6 columns detected\n",
            "\u001b[34m\u001b[1mtrain: \u001b[0m/content/drive/MyDrive/yolov11_test_cv/yolov11_dataset/images/train/3_1_frame_000432.jpg: ignoring corrupt image/label: labels require 5 columns, 6 columns detected\n",
            "\u001b[34m\u001b[1mtrain: \u001b[0m/content/drive/MyDrive/yolov11_test_cv/yolov11_dataset/images/train/3_1_frame_000450.jpg: ignoring corrupt image/label: labels require 5 columns, 6 columns detected\n",
            "\u001b[34m\u001b[1mtrain: \u001b[0m/content/drive/MyDrive/yolov11_test_cv/yolov11_dataset/images/train/3_1_frame_000468.jpg: ignoring corrupt image/label: labels require 5 columns, 6 columns detected\n",
            "\u001b[34m\u001b[1mtrain: \u001b[0m/content/drive/MyDrive/yolov11_test_cv/yolov11_dataset/images/train/3_1_frame_000475.jpg: ignoring corrupt image/label: labels require 5 columns, 6 columns detected\n",
            "\u001b[34m\u001b[1mtrain: \u001b[0m/content/drive/MyDrive/yolov11_test_cv/yolov11_dataset/images/train/3_1_frame_000480.jpg: ignoring corrupt image/label: labels require 5 columns, 6 columns detected\n",
            "\u001b[34m\u001b[1mtrain: \u001b[0m/content/drive/MyDrive/yolov11_test_cv/yolov11_dataset/images/train/3_1_frame_000492.jpg: ignoring corrupt image/label: labels require 5 columns, 6 columns detected\n",
            "\u001b[34m\u001b[1mtrain: \u001b[0m/content/drive/MyDrive/yolov11_test_cv/yolov11_dataset/images/train/3_1_frame_000500.jpg: ignoring corrupt image/label: labels require 5 columns, 6 columns detected\n",
            "\u001b[34m\u001b[1mtrain: \u001b[0m/content/drive/MyDrive/yolov11_test_cv/yolov11_dataset/images/train/3_1_frame_000504.jpg: ignoring corrupt image/label: labels require 5 columns, 6 columns detected\n",
            "\u001b[34m\u001b[1mtrain: \u001b[0m/content/drive/MyDrive/yolov11_test_cv/yolov11_dataset/images/train/3_1_frame_000516.jpg: ignoring corrupt image/label: labels require 5 columns, 6 columns detected\n",
            "\u001b[34m\u001b[1mtrain: \u001b[0m/content/drive/MyDrive/yolov11_test_cv/yolov11_dataset/images/train/3_1_frame_000540.jpg: ignoring corrupt image/label: labels require 5 columns, 6 columns detected\n",
            "\u001b[34m\u001b[1mtrain: \u001b[0m/content/drive/MyDrive/yolov11_test_cv/yolov11_dataset/images/train/3_1_frame_000575.jpg: ignoring corrupt image/label: labels require 5 columns, 6 columns detected\n",
            "\u001b[34m\u001b[1mtrain: \u001b[0m/content/drive/MyDrive/yolov11_test_cv/yolov11_dataset/images/train/3_1_frame_000576.jpg: ignoring corrupt image/label: labels require 5 columns, 6 columns detected\n",
            "\u001b[34m\u001b[1mtrain: \u001b[0m/content/drive/MyDrive/yolov11_test_cv/yolov11_dataset/images/train/3_1_frame_000588.jpg: ignoring corrupt image/label: labels require 5 columns, 6 columns detected\n",
            "\u001b[34m\u001b[1mtrain: \u001b[0m/content/drive/MyDrive/yolov11_test_cv/yolov11_dataset/images/train/3_1_frame_000612.jpg: ignoring corrupt image/label: labels require 5 columns, 6 columns detected\n",
            "\u001b[34m\u001b[1mtrain: \u001b[0m/content/drive/MyDrive/yolov11_test_cv/yolov11_dataset/images/train/3_1_frame_000648.jpg: ignoring corrupt image/label: labels require 5 columns, 6 columns detected\n",
            "\u001b[34m\u001b[1mtrain: \u001b[0m/content/drive/MyDrive/yolov11_test_cv/yolov11_dataset/images/train/3_1_frame_000650.jpg: ignoring corrupt image/label: labels require 5 columns, 6 columns detected\n",
            "\u001b[34m\u001b[1mtrain: \u001b[0m/content/drive/MyDrive/yolov11_test_cv/yolov11_dataset/images/train/3_1_frame_000675.jpg: ignoring corrupt image/label: labels require 5 columns, 6 columns detected\n",
            "\u001b[34m\u001b[1mtrain: \u001b[0m/content/drive/MyDrive/yolov11_test_cv/yolov11_dataset/images/train/3_1_frame_000684.jpg: ignoring corrupt image/label: labels require 5 columns, 6 columns detected\n",
            "\u001b[34m\u001b[1mtrain: \u001b[0m/content/drive/MyDrive/yolov11_test_cv/yolov11_dataset/images/train/3_1_frame_000696.jpg: ignoring corrupt image/label: labels require 5 columns, 6 columns detected\n",
            "\u001b[34m\u001b[1mtrain: \u001b[0m/content/drive/MyDrive/yolov11_test_cv/yolov11_dataset/images/train/3_1_frame_000700.jpg: ignoring corrupt image/label: labels require 5 columns, 6 columns detected\n",
            "\u001b[34m\u001b[1mtrain: \u001b[0m/content/drive/MyDrive/yolov11_test_cv/yolov11_dataset/images/train/3_1_frame_000708.jpg: ignoring corrupt image/label: labels require 5 columns, 6 columns detected\n",
            "\u001b[34m\u001b[1mtrain: \u001b[0m/content/drive/MyDrive/yolov11_test_cv/yolov11_dataset/images/train/3_1_frame_000720.jpg: ignoring corrupt image/label: labels require 5 columns, 6 columns detected\n",
            "\u001b[34m\u001b[1mtrain: \u001b[0m/content/drive/MyDrive/yolov11_test_cv/yolov11_dataset/images/train/3_1_frame_000725.jpg: ignoring corrupt image/label: labels require 5 columns, 6 columns detected\n",
            "\u001b[34m\u001b[1mtrain: \u001b[0m/content/drive/MyDrive/yolov11_test_cv/yolov11_dataset/images/train/3_1_frame_000732.jpg: ignoring corrupt image/label: labels require 5 columns, 6 columns detected\n",
            "\u001b[34m\u001b[1mtrain: \u001b[0m/content/drive/MyDrive/yolov11_test_cv/yolov11_dataset/images/train/3_1_frame_000744.jpg: ignoring corrupt image/label: labels require 5 columns, 6 columns detected\n",
            "\u001b[34m\u001b[1mtrain: \u001b[0m/content/drive/MyDrive/yolov11_test_cv/yolov11_dataset/images/train/3_1_frame_000750.jpg: ignoring corrupt image/label: labels require 5 columns, 6 columns detected\n",
            "\u001b[34m\u001b[1mtrain: \u001b[0m/content/drive/MyDrive/yolov11_test_cv/yolov11_dataset/images/train/3_1_frame_000756.jpg: ignoring corrupt image/label: labels require 5 columns, 6 columns detected\n",
            "\u001b[34m\u001b[1mtrain: \u001b[0m/content/drive/MyDrive/yolov11_test_cv/yolov11_dataset/images/train/3_1_frame_000775.jpg: ignoring corrupt image/label: labels require 5 columns, 6 columns detected\n",
            "\u001b[34m\u001b[1mtrain: \u001b[0m/content/drive/MyDrive/yolov11_test_cv/yolov11_dataset/images/train/3_1_frame_000800.jpg: ignoring corrupt image/label: labels require 5 columns, 6 columns detected\n",
            "\u001b[34m\u001b[1mtrain: \u001b[0m/content/drive/MyDrive/yolov11_test_cv/yolov11_dataset/images/train/3_1_frame_000804.jpg: ignoring corrupt image/label: labels require 5 columns, 6 columns detected\n",
            "\u001b[34m\u001b[1mtrain: \u001b[0m/content/drive/MyDrive/yolov11_test_cv/yolov11_dataset/images/train/3_1_frame_000816.jpg: ignoring corrupt image/label: labels require 5 columns, 6 columns detected\n",
            "\u001b[34m\u001b[1mtrain: \u001b[0m/content/drive/MyDrive/yolov11_test_cv/yolov11_dataset/images/train/3_1_frame_000828.jpg: ignoring corrupt image/label: labels require 5 columns, 6 columns detected\n",
            "\u001b[34m\u001b[1mtrain: \u001b[0m/content/drive/MyDrive/yolov11_test_cv/yolov11_dataset/images/train/3_1_frame_000850.jpg: ignoring corrupt image/label: labels require 5 columns, 6 columns detected\n",
            "\u001b[34m\u001b[1mtrain: \u001b[0m/content/drive/MyDrive/yolov11_test_cv/yolov11_dataset/images/train/3_1_frame_000875.jpg: ignoring corrupt image/label: labels require 5 columns, 6 columns detected\n",
            "\u001b[34m\u001b[1mtrain: \u001b[0m/content/drive/MyDrive/yolov11_test_cv/yolov11_dataset/images/train/3_1_frame_000900.jpg: ignoring corrupt image/label: labels require 5 columns, 6 columns detected\n",
            "\u001b[34m\u001b[1mtrain: \u001b[0m/content/drive/MyDrive/yolov11_test_cv/yolov11_dataset/images/train/3_1_frame_000924.jpg: ignoring corrupt image/label: labels require 5 columns, 6 columns detected\n",
            "\u001b[34m\u001b[1mtrain: \u001b[0m/content/drive/MyDrive/yolov11_test_cv/yolov11_dataset/images/train/3_1_frame_000950.jpg: ignoring corrupt image/label: labels require 5 columns, 6 columns detected\n",
            "\u001b[34m\u001b[1mtrain: \u001b[0m/content/drive/MyDrive/yolov11_test_cv/yolov11_dataset/images/train/3_1_frame_000975.jpg: ignoring corrupt image/label: labels require 5 columns, 6 columns detected\n",
            "\u001b[34m\u001b[1mtrain: \u001b[0m/content/drive/MyDrive/yolov11_test_cv/yolov11_dataset/images/train/3_1_frame_000984.jpg: ignoring corrupt image/label: labels require 5 columns, 6 columns detected\n",
            "\u001b[34m\u001b[1mtrain: \u001b[0m/content/drive/MyDrive/yolov11_test_cv/yolov11_dataset/images/train/3_1_frame_001000.jpg: ignoring corrupt image/label: labels require 5 columns, 6 columns detected\n",
            "\u001b[34m\u001b[1mtrain: \u001b[0m/content/drive/MyDrive/yolov11_test_cv/yolov11_dataset/images/train/3_1_frame_001008.jpg: ignoring corrupt image/label: labels require 5 columns, 6 columns detected\n",
            "\u001b[34m\u001b[1mtrain: \u001b[0m/content/drive/MyDrive/yolov11_test_cv/yolov11_dataset/images/train/3_1_frame_001020.jpg: ignoring corrupt image/label: labels require 5 columns, 6 columns detected\n",
            "\u001b[34m\u001b[1mtrain: \u001b[0m/content/drive/MyDrive/yolov11_test_cv/yolov11_dataset/images/train/3_1_frame_001032.jpg: ignoring corrupt image/label: labels require 5 columns, 6 columns detected\n",
            "\u001b[34m\u001b[1mtrain: \u001b[0m/content/drive/MyDrive/yolov11_test_cv/yolov11_dataset/images/train/3_1_frame_001044.jpg: ignoring corrupt image/label: labels require 5 columns, 6 columns detected\n",
            "\u001b[34m\u001b[1mtrain: \u001b[0m/content/drive/MyDrive/yolov11_test_cv/yolov11_dataset/images/train/3_1_frame_001050.jpg: ignoring corrupt image/label: labels require 5 columns, 6 columns detected\n",
            "\u001b[34m\u001b[1mtrain: \u001b[0m/content/drive/MyDrive/yolov11_test_cv/yolov11_dataset/images/train/3_1_frame_001056.jpg: ignoring corrupt image/label: labels require 5 columns, 6 columns detected\n",
            "\u001b[34m\u001b[1mtrain: \u001b[0m/content/drive/MyDrive/yolov11_test_cv/yolov11_dataset/images/train/3_1_frame_001068.jpg: ignoring corrupt image/label: labels require 5 columns, 6 columns detected\n",
            "\u001b[34m\u001b[1mtrain: \u001b[0m/content/drive/MyDrive/yolov11_test_cv/yolov11_dataset/images/train/3_1_frame_001080.jpg: ignoring corrupt image/label: labels require 5 columns, 6 columns detected\n",
            "\u001b[34m\u001b[1mtrain: \u001b[0m/content/drive/MyDrive/yolov11_test_cv/yolov11_dataset/images/train/3_1_frame_001092.jpg: ignoring corrupt image/label: labels require 5 columns, 6 columns detected\n",
            "\u001b[34m\u001b[1mtrain: \u001b[0m/content/drive/MyDrive/yolov11_test_cv/yolov11_dataset/images/train/3_1_frame_001100.jpg: ignoring corrupt image/label: labels require 5 columns, 6 columns detected\n",
            "\u001b[34m\u001b[1mtrain: \u001b[0m/content/drive/MyDrive/yolov11_test_cv/yolov11_dataset/images/train/3_1_frame_001104.jpg: ignoring corrupt image/label: labels require 5 columns, 6 columns detected\n",
            "\u001b[34m\u001b[1mtrain: \u001b[0m/content/drive/MyDrive/yolov11_test_cv/yolov11_dataset/images/train/3_1_frame_001116.jpg: ignoring corrupt image/label: labels require 5 columns, 6 columns detected\n",
            "\u001b[34m\u001b[1mtrain: \u001b[0m/content/drive/MyDrive/yolov11_test_cv/yolov11_dataset/images/train/3_1_frame_001128.jpg: ignoring corrupt image/label: labels require 5 columns, 6 columns detected\n",
            "\u001b[34m\u001b[1mtrain: \u001b[0m/content/drive/MyDrive/yolov11_test_cv/yolov11_dataset/images/train/3_1_frame_001140.jpg: ignoring corrupt image/label: labels require 5 columns, 6 columns detected\n",
            "\u001b[34m\u001b[1mtrain: \u001b[0m/content/drive/MyDrive/yolov11_test_cv/yolov11_dataset/images/train/3_1_frame_001150.jpg: ignoring corrupt image/label: labels require 5 columns, 6 columns detected\n",
            "\u001b[34m\u001b[1mtrain: \u001b[0m/content/drive/MyDrive/yolov11_test_cv/yolov11_dataset/images/train/3_1_frame_001152.jpg: ignoring corrupt image/label: labels require 5 columns, 6 columns detected\n",
            "\u001b[34m\u001b[1mtrain: \u001b[0m/content/drive/MyDrive/yolov11_test_cv/yolov11_dataset/images/train/3_1_frame_001164.jpg: ignoring corrupt image/label: labels require 5 columns, 6 columns detected\n",
            "\u001b[34m\u001b[1mtrain: \u001b[0m/content/drive/MyDrive/yolov11_test_cv/yolov11_dataset/images/train/3_1_frame_001175.jpg: ignoring corrupt image/label: labels require 5 columns, 6 columns detected\n",
            "\u001b[34m\u001b[1mtrain: \u001b[0m/content/drive/MyDrive/yolov11_test_cv/yolov11_dataset/images/train/3_1_frame_001225.jpg: ignoring corrupt image/label: labels require 5 columns, 6 columns detected\n",
            "\u001b[34m\u001b[1mtrain: \u001b[0m/content/drive/MyDrive/yolov11_test_cv/yolov11_dataset/images/train/3_1_frame_001250.jpg: ignoring corrupt image/label: labels require 5 columns, 6 columns detected\n",
            "\u001b[34m\u001b[1mtrain: \u001b[0m/content/drive/MyDrive/yolov11_test_cv/yolov11_dataset/images/train/3_1_frame_001260.jpg: ignoring corrupt image/label: labels require 5 columns, 6 columns detected\n",
            "\u001b[34m\u001b[1mtrain: \u001b[0m/content/drive/MyDrive/yolov11_test_cv/yolov11_dataset/images/train/3_1_frame_001275.jpg: ignoring corrupt image/label: labels require 5 columns, 6 columns detected\n",
            "\u001b[34m\u001b[1mtrain: \u001b[0m/content/drive/MyDrive/yolov11_test_cv/yolov11_dataset/images/train/3_1_frame_001284.jpg: ignoring corrupt image/label: labels require 5 columns, 6 columns detected\n",
            "\u001b[34m\u001b[1mtrain: \u001b[0m/content/drive/MyDrive/yolov11_test_cv/yolov11_dataset/images/train/3_1_frame_001296.jpg: ignoring corrupt image/label: labels require 5 columns, 6 columns detected\n",
            "\u001b[34m\u001b[1mtrain: \u001b[0m/content/drive/MyDrive/yolov11_test_cv/yolov11_dataset/images/train/3_1_frame_001300.jpg: ignoring corrupt image/label: labels require 5 columns, 6 columns detected\n",
            "\u001b[34m\u001b[1mtrain: \u001b[0m/content/drive/MyDrive/yolov11_test_cv/yolov11_dataset/images/train/3_1_frame_001332.jpg: ignoring corrupt image/label: labels require 5 columns, 6 columns detected\n",
            "\u001b[34m\u001b[1mtrain: \u001b[0m/content/drive/MyDrive/yolov11_test_cv/yolov11_dataset/images/train/3_1_frame_001350.jpg: ignoring corrupt image/label: labels require 5 columns, 6 columns detected\n",
            "\u001b[34m\u001b[1mtrain: \u001b[0m/content/drive/MyDrive/yolov11_test_cv/yolov11_dataset/images/train/3_1_frame_001356.jpg: ignoring corrupt image/label: labels require 5 columns, 6 columns detected\n",
            "\u001b[34m\u001b[1mtrain: \u001b[0m/content/drive/MyDrive/yolov11_test_cv/yolov11_dataset/images/train/3_1_frame_001368.jpg: ignoring corrupt image/label: labels require 5 columns, 6 columns detected\n",
            "\u001b[34m\u001b[1mtrain: \u001b[0m/content/drive/MyDrive/yolov11_test_cv/yolov11_dataset/images/train/3_1_frame_001375.jpg: ignoring corrupt image/label: labels require 5 columns, 6 columns detected\n",
            "\u001b[34m\u001b[1mtrain: \u001b[0m/content/drive/MyDrive/yolov11_test_cv/yolov11_dataset/images/train/3_1_frame_001425.jpg: ignoring corrupt image/label: labels require 5 columns, 6 columns detected\n",
            "\u001b[34m\u001b[1mtrain: \u001b[0m/content/drive/MyDrive/yolov11_test_cv/yolov11_dataset/images/train/3_1_frame_001440.jpg: ignoring corrupt image/label: labels require 5 columns, 6 columns detected\n",
            "\u001b[34m\u001b[1mtrain: \u001b[0m/content/drive/MyDrive/yolov11_test_cv/yolov11_dataset/images/train/3_1_frame_001450.jpg: ignoring corrupt image/label: labels require 5 columns, 6 columns detected\n",
            "\u001b[34m\u001b[1mtrain: \u001b[0m/content/drive/MyDrive/yolov11_test_cv/yolov11_dataset/images/train/3_1_frame_001452.jpg: ignoring corrupt image/label: labels require 5 columns, 6 columns detected\n",
            "\u001b[34m\u001b[1mtrain: \u001b[0m/content/drive/MyDrive/yolov11_test_cv/yolov11_dataset/images/train/3_1_frame_001464.jpg: ignoring corrupt image/label: labels require 5 columns, 6 columns detected\n",
            "\u001b[34m\u001b[1mtrain: \u001b[0m/content/drive/MyDrive/yolov11_test_cv/yolov11_dataset/images/train/3_1_frame_001475.jpg: ignoring corrupt image/label: labels require 5 columns, 6 columns detected\n",
            "\u001b[34m\u001b[1mtrain: \u001b[0m/content/drive/MyDrive/yolov11_test_cv/yolov11_dataset/images/train/3_1_frame_001476.jpg: ignoring corrupt image/label: labels require 5 columns, 6 columns detected\n",
            "\u001b[34m\u001b[1mtrain: \u001b[0m/content/drive/MyDrive/yolov11_test_cv/yolov11_dataset/images/train/3_1_frame_001488.jpg: ignoring corrupt image/label: labels require 5 columns, 6 columns detected\n",
            "\u001b[34m\u001b[1mtrain: \u001b[0m/content/drive/MyDrive/yolov11_test_cv/yolov11_dataset/images/train/3_1_frame_001524.jpg: ignoring corrupt image/label: labels require 5 columns, 6 columns detected\n",
            "\u001b[34m\u001b[1mtrain: \u001b[0m/content/drive/MyDrive/yolov11_test_cv/yolov11_dataset/images/train/3_1_frame_001572.jpg: ignoring corrupt image/label: labels require 5 columns, 6 columns detected\n",
            "\u001b[34m\u001b[1mtrain: \u001b[0m/content/drive/MyDrive/yolov11_test_cv/yolov11_dataset/images/train/3_1_frame_001584.jpg: ignoring corrupt image/label: labels require 5 columns, 6 columns detected\n",
            "\u001b[34m\u001b[1mtrain: \u001b[0m/content/drive/MyDrive/yolov11_test_cv/yolov11_dataset/images/train/3_1_frame_001600.jpg: ignoring corrupt image/label: labels require 5 columns, 6 columns detected\n",
            "\u001b[34m\u001b[1mtrain: \u001b[0m/content/drive/MyDrive/yolov11_test_cv/yolov11_dataset/images/train/3_1_frame_001625.jpg: ignoring corrupt image/label: labels require 5 columns, 6 columns detected\n",
            "\u001b[34m\u001b[1mtrain: \u001b[0m/content/drive/MyDrive/yolov11_test_cv/yolov11_dataset/images/train/3_1_frame_001632.jpg: ignoring corrupt image/label: labels require 5 columns, 6 columns detected\n",
            "\u001b[34m\u001b[1mtrain: \u001b[0m/content/drive/MyDrive/yolov11_test_cv/yolov11_dataset/images/train/3_1_frame_001644.jpg: ignoring corrupt image/label: labels require 5 columns, 6 columns detected\n",
            "\u001b[34m\u001b[1mtrain: \u001b[0m/content/drive/MyDrive/yolov11_test_cv/yolov11_dataset/images/train/3_1_frame_001650.jpg: ignoring corrupt image/label: labels require 5 columns, 6 columns detected\n",
            "\u001b[34m\u001b[1mtrain: \u001b[0m/content/drive/MyDrive/yolov11_test_cv/yolov11_dataset/images/train/3_1_frame_001656.jpg: ignoring corrupt image/label: labels require 5 columns, 6 columns detected\n",
            "\u001b[34m\u001b[1mtrain: \u001b[0m/content/drive/MyDrive/yolov11_test_cv/yolov11_dataset/images/train/3_1_frame_001700.jpg: ignoring corrupt image/label: labels require 5 columns, 6 columns detected\n",
            "\u001b[34m\u001b[1mtrain: \u001b[0m/content/drive/MyDrive/yolov11_test_cv/yolov11_dataset/images/train/3_1_frame_001704.jpg: ignoring corrupt image/label: labels require 5 columns, 6 columns detected\n",
            "\u001b[34m\u001b[1mtrain: \u001b[0m/content/drive/MyDrive/yolov11_test_cv/yolov11_dataset/images/train/3_1_frame_001716.jpg: ignoring corrupt image/label: labels require 5 columns, 6 columns detected\n",
            "\u001b[34m\u001b[1mtrain: \u001b[0m/content/drive/MyDrive/yolov11_test_cv/yolov11_dataset/images/train/3_1_frame_001725.jpg: ignoring corrupt image/label: labels require 5 columns, 6 columns detected\n",
            "\u001b[34m\u001b[1mtrain: \u001b[0m/content/drive/MyDrive/yolov11_test_cv/yolov11_dataset/images/train/3_1_frame_001740.jpg: ignoring corrupt image/label: labels require 5 columns, 6 columns detected\n",
            "\u001b[34m\u001b[1mtrain: \u001b[0m/content/drive/MyDrive/yolov11_test_cv/yolov11_dataset/images/train/3_1_frame_001750.jpg: ignoring corrupt image/label: labels require 5 columns, 6 columns detected\n",
            "\u001b[34m\u001b[1mtrain: \u001b[0m/content/drive/MyDrive/yolov11_test_cv/yolov11_dataset/images/train/3_1_frame_001752.jpg: ignoring corrupt image/label: labels require 5 columns, 6 columns detected\n",
            "\u001b[34m\u001b[1mtrain: \u001b[0m/content/drive/MyDrive/yolov11_test_cv/yolov11_dataset/images/train/3_1_frame_001764.jpg: ignoring corrupt image/label: labels require 5 columns, 6 columns detected\n",
            "\u001b[34m\u001b[1mtrain: \u001b[0m/content/drive/MyDrive/yolov11_test_cv/yolov11_dataset/images/train/3_1_frame_001775.jpg: ignoring corrupt image/label: labels require 5 columns, 6 columns detected\n",
            "\u001b[34m\u001b[1mtrain: \u001b[0m/content/drive/MyDrive/yolov11_test_cv/yolov11_dataset/images/train/3_1_frame_001776.jpg: ignoring corrupt image/label: labels require 5 columns, 6 columns detected\n",
            "\u001b[34m\u001b[1mtrain: \u001b[0m/content/drive/MyDrive/yolov11_test_cv/yolov11_dataset/images/train/3_1_frame_001788.jpg: ignoring corrupt image/label: labels require 5 columns, 6 columns detected\n",
            "\u001b[34m\u001b[1mtrain: \u001b[0m/content/drive/MyDrive/yolov11_test_cv/yolov11_dataset/images/train/3_1_frame_001800.jpg: ignoring corrupt image/label: labels require 5 columns, 6 columns detected\n",
            "\u001b[34m\u001b[1mtrain: \u001b[0m/content/drive/MyDrive/yolov11_test_cv/yolov11_dataset/images/train/3_1_frame_001812.jpg: ignoring corrupt image/label: labels require 5 columns, 6 columns detected\n",
            "\u001b[34m\u001b[1mtrain: \u001b[0m/content/drive/MyDrive/yolov11_test_cv/yolov11_dataset/images/train/3_1_frame_001836.jpg: ignoring corrupt image/label: labels require 5 columns, 6 columns detected\n",
            "\u001b[34m\u001b[1mtrain: \u001b[0m/content/drive/MyDrive/yolov11_test_cv/yolov11_dataset/images/train/3_1_frame_001848.jpg: ignoring corrupt image/label: labels require 5 columns, 6 columns detected\n",
            "\u001b[34m\u001b[1mtrain: \u001b[0m/content/drive/MyDrive/yolov11_test_cv/yolov11_dataset/images/train/3_1_frame_001850.jpg: ignoring corrupt image/label: labels require 5 columns, 6 columns detected\n",
            "\u001b[34m\u001b[1mtrain: \u001b[0m/content/drive/MyDrive/yolov11_test_cv/yolov11_dataset/images/train/3_1_frame_001860.jpg: ignoring corrupt image/label: labels require 5 columns, 6 columns detected\n",
            "\u001b[34m\u001b[1mtrain: \u001b[0m/content/drive/MyDrive/yolov11_test_cv/yolov11_dataset/images/train/3_1_frame_001875.jpg: ignoring corrupt image/label: labels require 5 columns, 6 columns detected\n",
            "\u001b[34m\u001b[1mtrain: \u001b[0m/content/drive/MyDrive/yolov11_test_cv/yolov11_dataset/images/train/3_1_frame_001900.jpg: ignoring corrupt image/label: labels require 5 columns, 6 columns detected\n",
            "\u001b[34m\u001b[1mtrain: \u001b[0m/content/drive/MyDrive/yolov11_test_cv/yolov11_dataset/images/train/3_1_frame_001908.jpg: ignoring corrupt image/label: labels require 5 columns, 6 columns detected\n",
            "\u001b[34m\u001b[1mtrain: \u001b[0m/content/drive/MyDrive/yolov11_test_cv/yolov11_dataset/images/train/3_1_frame_001932.jpg: ignoring corrupt image/label: labels require 5 columns, 6 columns detected\n",
            "\u001b[34m\u001b[1mtrain: \u001b[0m/content/drive/MyDrive/yolov11_test_cv/yolov11_dataset/images/train/3_1_frame_001944.jpg: ignoring corrupt image/label: labels require 5 columns, 6 columns detected\n",
            "\u001b[34m\u001b[1mtrain: \u001b[0m/content/drive/MyDrive/yolov11_test_cv/yolov11_dataset/images/train/3_1_frame_001956.jpg: ignoring corrupt image/label: labels require 5 columns, 6 columns detected\n",
            "\u001b[34m\u001b[1mtrain: \u001b[0m/content/drive/MyDrive/yolov11_test_cv/yolov11_dataset/images/train/3_1_frame_001968.jpg: ignoring corrupt image/label: labels require 5 columns, 6 columns detected\n",
            "\u001b[34m\u001b[1mtrain: \u001b[0m/content/drive/MyDrive/yolov11_test_cv/yolov11_dataset/images/train/3_1_frame_001975.jpg: ignoring corrupt image/label: labels require 5 columns, 6 columns detected\n",
            "\u001b[34m\u001b[1mtrain: \u001b[0m/content/drive/MyDrive/yolov11_test_cv/yolov11_dataset/images/train/3_1_frame_001980.jpg: ignoring corrupt image/label: labels require 5 columns, 6 columns detected\n",
            "\u001b[34m\u001b[1mtrain: \u001b[0m/content/drive/MyDrive/yolov11_test_cv/yolov11_dataset/images/train/3_1_frame_002000.jpg: ignoring corrupt image/label: labels require 5 columns, 6 columns detected\n",
            "\u001b[34m\u001b[1mtrain: \u001b[0m/content/drive/MyDrive/yolov11_test_cv/yolov11_dataset/images/train/3_1_frame_002016.jpg: ignoring corrupt image/label: labels require 5 columns, 6 columns detected\n",
            "\u001b[34m\u001b[1mtrain: \u001b[0m/content/drive/MyDrive/yolov11_test_cv/yolov11_dataset/images/train/3_1_frame_002025.jpg: ignoring corrupt image/label: labels require 5 columns, 6 columns detected\n",
            "\u001b[34m\u001b[1mtrain: \u001b[0m/content/drive/MyDrive/yolov11_test_cv/yolov11_dataset/images/train/3_1_frame_002028.jpg: ignoring corrupt image/label: labels require 5 columns, 6 columns detected\n",
            "\u001b[34m\u001b[1mtrain: \u001b[0m/content/drive/MyDrive/yolov11_test_cv/yolov11_dataset/images/train/3_1_frame_002040.jpg: ignoring corrupt image/label: labels require 5 columns, 6 columns detected\n",
            "\u001b[34m\u001b[1mtrain: \u001b[0m/content/drive/MyDrive/yolov11_test_cv/yolov11_dataset/images/train/3_1_frame_002050.jpg: ignoring corrupt image/label: labels require 5 columns, 6 columns detected\n",
            "\u001b[34m\u001b[1mtrain: \u001b[0m/content/drive/MyDrive/yolov11_test_cv/yolov11_dataset/images/train/3_1_frame_002052.jpg: ignoring corrupt image/label: labels require 5 columns, 6 columns detected\n",
            "\u001b[34m\u001b[1mtrain: \u001b[0m/content/drive/MyDrive/yolov11_test_cv/yolov11_dataset/images/train/3_1_frame_002064.jpg: ignoring corrupt image/label: labels require 5 columns, 6 columns detected\n",
            "\u001b[34m\u001b[1mtrain: \u001b[0m/content/drive/MyDrive/yolov11_test_cv/yolov11_dataset/images/train/3_1_frame_002088.jpg: ignoring corrupt image/label: labels require 5 columns, 6 columns detected\n",
            "\u001b[34m\u001b[1mtrain: \u001b[0m/content/drive/MyDrive/yolov11_test_cv/yolov11_dataset/images/train/3_1_frame_002100.jpg: ignoring corrupt image/label: labels require 5 columns, 6 columns detected\n",
            "\u001b[34m\u001b[1mtrain: \u001b[0m/content/drive/MyDrive/yolov11_test_cv/yolov11_dataset/images/train/3_1_frame_002112.jpg: ignoring corrupt image/label: labels require 5 columns, 6 columns detected\n",
            "\u001b[34m\u001b[1mtrain: \u001b[0m/content/drive/MyDrive/yolov11_test_cv/yolov11_dataset/images/train/3_1_frame_002124.jpg: ignoring corrupt image/label: labels require 5 columns, 6 columns detected\n",
            "\u001b[34m\u001b[1mtrain: \u001b[0m/content/drive/MyDrive/yolov11_test_cv/yolov11_dataset/images/train/3_1_frame_002125.jpg: ignoring corrupt image/label: labels require 5 columns, 6 columns detected\n",
            "\u001b[34m\u001b[1mtrain: \u001b[0m/content/drive/MyDrive/yolov11_test_cv/yolov11_dataset/images/train/3_1_frame_002136.jpg: ignoring corrupt image/label: labels require 5 columns, 6 columns detected\n",
            "\u001b[34m\u001b[1mtrain: \u001b[0m/content/drive/MyDrive/yolov11_test_cv/yolov11_dataset/images/train/3_1_frame_002148.jpg: ignoring corrupt image/label: labels require 5 columns, 6 columns detected\n",
            "\u001b[34m\u001b[1mtrain: \u001b[0m/content/drive/MyDrive/yolov11_test_cv/yolov11_dataset/images/train/3_1_frame_002160.jpg: ignoring corrupt image/label: labels require 5 columns, 6 columns detected\n",
            "\u001b[34m\u001b[1mtrain: \u001b[0m/content/drive/MyDrive/yolov11_test_cv/yolov11_dataset/images/train/3_1_frame_002172.jpg: ignoring corrupt image/label: labels require 5 columns, 6 columns detected\n",
            "\u001b[34m\u001b[1mtrain: \u001b[0m/content/drive/MyDrive/yolov11_test_cv/yolov11_dataset/images/train/3_1_frame_002184.jpg: ignoring corrupt image/label: labels require 5 columns, 6 columns detected\n",
            "\u001b[34m\u001b[1mtrain: \u001b[0m/content/drive/MyDrive/yolov11_test_cv/yolov11_dataset/images/train/3_1_frame_002196.jpg: ignoring corrupt image/label: labels require 5 columns, 6 columns detected\n",
            "\u001b[34m\u001b[1mtrain: \u001b[0m/content/drive/MyDrive/yolov11_test_cv/yolov11_dataset/images/train/3_1_frame_002225.jpg: ignoring corrupt image/label: labels require 5 columns, 6 columns detected\n",
            "\u001b[34m\u001b[1mtrain: \u001b[0m/content/drive/MyDrive/yolov11_test_cv/yolov11_dataset/images/train/3_1_frame_002244.jpg: ignoring corrupt image/label: labels require 5 columns, 6 columns detected\n",
            "\u001b[34m\u001b[1mtrain: \u001b[0m/content/drive/MyDrive/yolov11_test_cv/yolov11_dataset/images/train/3_1_frame_002250.jpg: ignoring corrupt image/label: labels require 5 columns, 6 columns detected\n",
            "\u001b[34m\u001b[1mtrain: \u001b[0m/content/drive/MyDrive/yolov11_test_cv/yolov11_dataset/images/train/3_1_frame_002280.jpg: ignoring corrupt image/label: labels require 5 columns, 6 columns detected\n",
            "\u001b[34m\u001b[1mtrain: \u001b[0m/content/drive/MyDrive/yolov11_test_cv/yolov11_dataset/images/train/3_1_frame_002292.jpg: ignoring corrupt image/label: labels require 5 columns, 6 columns detected\n",
            "\u001b[34m\u001b[1mtrain: \u001b[0m/content/drive/MyDrive/yolov11_test_cv/yolov11_dataset/images/train/3_1_frame_002316.jpg: ignoring corrupt image/label: labels require 5 columns, 6 columns detected\n",
            "\u001b[34m\u001b[1mtrain: \u001b[0m/content/drive/MyDrive/yolov11_test_cv/yolov11_dataset/images/train/3_1_frame_002325.jpg: ignoring corrupt image/label: labels require 5 columns, 6 columns detected\n",
            "\u001b[34m\u001b[1mtrain: \u001b[0m/content/drive/MyDrive/yolov11_test_cv/yolov11_dataset/images/train/3_1_frame_002328.jpg: ignoring corrupt image/label: labels require 5 columns, 6 columns detected\n",
            "\u001b[34m\u001b[1mtrain: \u001b[0m/content/drive/MyDrive/yolov11_test_cv/yolov11_dataset/images/train/3_1_frame_002340.jpg: ignoring corrupt image/label: labels require 5 columns, 6 columns detected\n",
            "\u001b[34m\u001b[1mtrain: \u001b[0m/content/drive/MyDrive/yolov11_test_cv/yolov11_dataset/images/train/3_1_frame_002375.jpg: ignoring corrupt image/label: labels require 5 columns, 6 columns detected\n",
            "\u001b[34m\u001b[1mtrain: \u001b[0m/content/drive/MyDrive/yolov11_test_cv/yolov11_dataset/images/train/3_1_frame_002400.jpg: ignoring corrupt image/label: labels require 5 columns, 6 columns detected\n",
            "\u001b[34m\u001b[1mtrain: \u001b[0m/content/drive/MyDrive/yolov11_test_cv/yolov11_dataset/images/train/3_1_frame_002424.jpg: ignoring corrupt image/label: labels require 5 columns, 6 columns detected\n",
            "\u001b[34m\u001b[1mtrain: \u001b[0m/content/drive/MyDrive/yolov11_test_cv/yolov11_dataset/images/train/3_1_frame_002460.jpg: ignoring corrupt image/label: labels require 5 columns, 6 columns detected\n",
            "\u001b[34m\u001b[1mtrain: \u001b[0m/content/drive/MyDrive/yolov11_test_cv/yolov11_dataset/images/train/3_1_frame_002472.jpg: ignoring corrupt image/label: labels require 5 columns, 6 columns detected\n",
            "\u001b[34m\u001b[1mtrain: \u001b[0m/content/drive/MyDrive/yolov11_test_cv/yolov11_dataset/images/train/3_1_frame_002484.jpg: ignoring corrupt image/label: labels require 5 columns, 6 columns detected\n",
            "\u001b[34m\u001b[1mtrain: \u001b[0m/content/drive/MyDrive/yolov11_test_cv/yolov11_dataset/images/train/3_1_frame_002496.jpg: ignoring corrupt image/label: labels require 5 columns, 6 columns detected\n",
            "\u001b[34m\u001b[1mtrain: \u001b[0m/content/drive/MyDrive/yolov11_test_cv/yolov11_dataset/images/train/3_1_frame_002500.jpg: ignoring corrupt image/label: labels require 5 columns, 6 columns detected\n",
            "\u001b[34m\u001b[1mtrain: \u001b[0m/content/drive/MyDrive/yolov11_test_cv/yolov11_dataset/images/train/3_1_frame_002525.jpg: ignoring corrupt image/label: labels require 5 columns, 6 columns detected\n",
            "\u001b[34m\u001b[1mtrain: \u001b[0m/content/drive/MyDrive/yolov11_test_cv/yolov11_dataset/images/train/3_1_frame_002544.jpg: ignoring corrupt image/label: labels require 5 columns, 6 columns detected\n",
            "\u001b[34m\u001b[1mtrain: \u001b[0m/content/drive/MyDrive/yolov11_test_cv/yolov11_dataset/images/train/3_1_frame_002556.jpg: ignoring corrupt image/label: labels require 5 columns, 6 columns detected\n",
            "\u001b[34m\u001b[1mtrain: \u001b[0m/content/drive/MyDrive/yolov11_test_cv/yolov11_dataset/images/train/3_1_frame_002575.jpg: ignoring corrupt image/label: labels require 5 columns, 6 columns detected\n",
            "\u001b[34m\u001b[1mtrain: \u001b[0m/content/drive/MyDrive/yolov11_test_cv/yolov11_dataset/images/train/3_1_frame_002600.jpg: ignoring corrupt image/label: labels require 5 columns, 6 columns detected\n",
            "\u001b[34m\u001b[1mtrain: \u001b[0m/content/drive/MyDrive/yolov11_test_cv/yolov11_dataset/images/train/3_1_frame_002604.jpg: ignoring corrupt image/label: labels require 5 columns, 6 columns detected\n",
            "\u001b[34m\u001b[1mtrain: \u001b[0m/content/drive/MyDrive/yolov11_test_cv/yolov11_dataset/images/train/3_1_frame_002625.jpg: ignoring corrupt image/label: labels require 5 columns, 6 columns detected\n",
            "\u001b[34m\u001b[1mtrain: \u001b[0m/content/drive/MyDrive/yolov11_test_cv/yolov11_dataset/images/train/3_1_frame_002650.jpg: ignoring corrupt image/label: labels require 5 columns, 6 columns detected\n",
            "\u001b[34m\u001b[1mtrain: \u001b[0m/content/drive/MyDrive/yolov11_test_cv/yolov11_dataset/images/train/3_1_frame_002664.jpg: ignoring corrupt image/label: labels require 5 columns, 6 columns detected\n",
            "\u001b[34m\u001b[1mtrain: \u001b[0m/content/drive/MyDrive/yolov11_test_cv/yolov11_dataset/images/train/3_1_frame_002675.jpg: ignoring corrupt image/label: labels require 5 columns, 6 columns detected\n",
            "\u001b[34m\u001b[1mtrain: \u001b[0m/content/drive/MyDrive/yolov11_test_cv/yolov11_dataset/images/train/3_1_frame_002676.jpg: ignoring corrupt image/label: labels require 5 columns, 6 columns detected\n",
            "\u001b[34m\u001b[1mtrain: \u001b[0m/content/drive/MyDrive/yolov11_test_cv/yolov11_dataset/images/train/3_1_frame_002700.jpg: ignoring corrupt image/label: labels require 5 columns, 6 columns detected\n",
            "\u001b[34m\u001b[1mtrain: \u001b[0m/content/drive/MyDrive/yolov11_test_cv/yolov11_dataset/images/train/3_1_frame_002712.jpg: ignoring corrupt image/label: labels require 5 columns, 6 columns detected\n",
            "\u001b[34m\u001b[1mtrain: \u001b[0m/content/drive/MyDrive/yolov11_test_cv/yolov11_dataset/images/train/3_1_frame_002736.jpg: ignoring corrupt image/label: labels require 5 columns, 6 columns detected\n",
            "\u001b[34m\u001b[1mtrain: \u001b[0m/content/drive/MyDrive/yolov11_test_cv/yolov11_dataset/images/train/3_1_frame_002772.jpg: ignoring corrupt image/label: labels require 5 columns, 6 columns detected\n",
            "\u001b[34m\u001b[1mtrain: \u001b[0m/content/drive/MyDrive/yolov11_test_cv/yolov11_dataset/images/train/3_1_frame_002784.jpg: ignoring corrupt image/label: labels require 5 columns, 6 columns detected\n",
            "\u001b[34m\u001b[1mtrain: \u001b[0m/content/drive/MyDrive/yolov11_test_cv/yolov11_dataset/images/train/3_1_frame_002808.jpg: ignoring corrupt image/label: labels require 5 columns, 6 columns detected\n",
            "\u001b[34m\u001b[1mtrain: \u001b[0m/content/drive/MyDrive/yolov11_test_cv/yolov11_dataset/images/train/3_1_frame_002820.jpg: ignoring corrupt image/label: labels require 5 columns, 6 columns detected\n",
            "\u001b[34m\u001b[1mtrain: \u001b[0m/content/drive/MyDrive/yolov11_test_cv/yolov11_dataset/images/train/3_1_frame_002844.jpg: ignoring corrupt image/label: labels require 5 columns, 6 columns detected\n",
            "\u001b[34m\u001b[1mtrain: \u001b[0m/content/drive/MyDrive/yolov11_test_cv/yolov11_dataset/images/train/3_1_frame_002850.jpg: ignoring corrupt image/label: labels require 5 columns, 6 columns detected\n",
            "\u001b[34m\u001b[1mtrain: \u001b[0m/content/drive/MyDrive/yolov11_test_cv/yolov11_dataset/images/train/3_1_frame_002868.jpg: ignoring corrupt image/label: labels require 5 columns, 6 columns detected\n",
            "\u001b[34m\u001b[1mtrain: \u001b[0m/content/drive/MyDrive/yolov11_test_cv/yolov11_dataset/images/train/3_1_frame_002875.jpg: ignoring corrupt image/label: labels require 5 columns, 6 columns detected\n",
            "\u001b[34m\u001b[1mtrain: \u001b[0m/content/drive/MyDrive/yolov11_test_cv/yolov11_dataset/images/train/3_1_frame_002916.jpg: ignoring corrupt image/label: labels require 5 columns, 6 columns detected\n",
            "\u001b[34m\u001b[1mtrain: \u001b[0m/content/drive/MyDrive/yolov11_test_cv/yolov11_dataset/images/train/3_1_frame_002925.jpg: ignoring corrupt image/label: labels require 5 columns, 6 columns detected\n",
            "\u001b[34m\u001b[1mtrain: \u001b[0m/content/drive/MyDrive/yolov11_test_cv/yolov11_dataset/images/train/3_1_frame_002928.jpg: ignoring corrupt image/label: labels require 5 columns, 6 columns detected\n",
            "\u001b[34m\u001b[1mtrain: \u001b[0m/content/drive/MyDrive/yolov11_test_cv/yolov11_dataset/images/train/3_1_frame_002950.jpg: ignoring corrupt image/label: labels require 5 columns, 6 columns detected\n",
            "\u001b[34m\u001b[1mtrain: \u001b[0m/content/drive/MyDrive/yolov11_test_cv/yolov11_dataset/images/train/3_2_frame_000000.jpg: ignoring corrupt image/label: labels require 5 columns, 6 columns detected\n",
            "\u001b[34m\u001b[1mtrain: \u001b[0m/content/drive/MyDrive/yolov11_test_cv/yolov11_dataset/images/train/3_2_frame_000027.jpg: ignoring corrupt image/label: labels require 5 columns, 6 columns detected\n",
            "\u001b[34m\u001b[1mtrain: \u001b[0m/content/drive/MyDrive/yolov11_test_cv/yolov11_dataset/images/train/3_2_frame_000054.jpg: ignoring corrupt image/label: labels require 5 columns, 6 columns detected\n",
            "\u001b[34m\u001b[1mtrain: \u001b[0m/content/drive/MyDrive/yolov11_test_cv/yolov11_dataset/images/train/3_2_frame_000081.jpg: ignoring corrupt image/label: labels require 5 columns, 6 columns detected\n",
            "\u001b[34m\u001b[1mtrain: \u001b[0m/content/drive/MyDrive/yolov11_test_cv/yolov11_dataset/images/train/3_2_frame_000135.jpg: ignoring corrupt image/label: labels require 5 columns, 6 columns detected\n",
            "\u001b[34m\u001b[1mtrain: \u001b[0m/content/drive/MyDrive/yolov11_test_cv/yolov11_dataset/images/train/3_2_frame_000189.jpg: ignoring corrupt image/label: labels require 5 columns, 6 columns detected\n",
            "\u001b[34m\u001b[1mtrain: \u001b[0m/content/drive/MyDrive/yolov11_test_cv/yolov11_dataset/images/train/3_2_frame_000216.jpg: ignoring corrupt image/label: labels require 5 columns, 6 columns detected\n",
            "\u001b[34m\u001b[1mtrain: \u001b[0m/content/drive/MyDrive/yolov11_test_cv/yolov11_dataset/images/train/3_2_frame_000243.jpg: ignoring corrupt image/label: labels require 5 columns, 6 columns detected\n",
            "\u001b[34m\u001b[1mtrain: \u001b[0m/content/drive/MyDrive/yolov11_test_cv/yolov11_dataset/images/train/3_2_frame_000297.jpg: ignoring corrupt image/label: labels require 5 columns, 6 columns detected\n",
            "\u001b[34m\u001b[1mtrain: \u001b[0m/content/drive/MyDrive/yolov11_test_cv/yolov11_dataset/images/train/3_2_frame_000378.jpg: ignoring corrupt image/label: labels require 5 columns, 6 columns detected\n",
            "\u001b[34m\u001b[1mtrain: \u001b[0m/content/drive/MyDrive/yolov11_test_cv/yolov11_dataset/images/train/3_2_frame_000405.jpg: ignoring corrupt image/label: labels require 5 columns, 6 columns detected\n",
            "\u001b[34m\u001b[1mtrain: \u001b[0m/content/drive/MyDrive/yolov11_test_cv/yolov11_dataset/images/train/3_2_frame_000513.jpg: ignoring corrupt image/label: labels require 5 columns, 6 columns detected\n",
            "\u001b[34m\u001b[1mtrain: \u001b[0m/content/drive/MyDrive/yolov11_test_cv/yolov11_dataset/images/train/3_2_frame_000567.jpg: ignoring corrupt image/label: labels require 5 columns, 6 columns detected\n",
            "\u001b[34m\u001b[1mtrain: \u001b[0m/content/drive/MyDrive/yolov11_test_cv/yolov11_dataset/images/train/3_2_frame_000675.jpg: ignoring corrupt image/label: labels require 5 columns, 6 columns detected\n",
            "\u001b[34m\u001b[1mtrain: \u001b[0m/content/drive/MyDrive/yolov11_test_cv/yolov11_dataset/images/train/3_2_frame_000810.jpg: ignoring corrupt image/label: labels require 5 columns, 6 columns detected\n",
            "\u001b[34m\u001b[1mtrain: \u001b[0m/content/drive/MyDrive/yolov11_test_cv/yolov11_dataset/images/train/3_2_frame_000999.jpg: ignoring corrupt image/label: labels require 5 columns, 6 columns detected\n",
            "\u001b[34m\u001b[1mtrain: \u001b[0m/content/drive/MyDrive/yolov11_test_cv/yolov11_dataset/images/train/3_2_frame_001080.jpg: ignoring corrupt image/label: labels require 5 columns, 6 columns detected\n",
            "\u001b[34m\u001b[1mtrain: \u001b[0m/content/drive/MyDrive/yolov11_test_cv/yolov11_dataset/images/train/3_2_frame_001134.jpg: ignoring corrupt image/label: labels require 5 columns, 6 columns detected\n",
            "\u001b[34m\u001b[1mtrain: \u001b[0m/content/drive/MyDrive/yolov11_test_cv/yolov11_dataset/images/train/3_2_frame_001161.jpg: ignoring corrupt image/label: labels require 5 columns, 6 columns detected\n",
            "\u001b[34m\u001b[1mtrain: \u001b[0m/content/drive/MyDrive/yolov11_test_cv/yolov11_dataset/images/train/3_2_frame_001215.jpg: ignoring corrupt image/label: labels require 5 columns, 6 columns detected\n",
            "\u001b[34m\u001b[1mtrain: \u001b[0m/content/drive/MyDrive/yolov11_test_cv/yolov11_dataset/images/train/3_2_frame_001269.jpg: ignoring corrupt image/label: labels require 5 columns, 6 columns detected\n",
            "\u001b[34m\u001b[1mtrain: \u001b[0m/content/drive/MyDrive/yolov11_test_cv/yolov11_dataset/images/train/3_2_frame_001296.jpg: ignoring corrupt image/label: labels require 5 columns, 6 columns detected\n",
            "\u001b[34m\u001b[1mtrain: \u001b[0m/content/drive/MyDrive/yolov11_test_cv/yolov11_dataset/images/train/3_2_frame_001350.jpg: ignoring corrupt image/label: labels require 5 columns, 6 columns detected\n",
            "\u001b[34m\u001b[1mtrain: \u001b[0m/content/drive/MyDrive/yolov11_test_cv/yolov11_dataset/images/train/3_2_frame_001377.jpg: ignoring corrupt image/label: labels require 5 columns, 6 columns detected\n",
            "\u001b[34m\u001b[1mtrain: \u001b[0m/content/drive/MyDrive/yolov11_test_cv/yolov11_dataset/images/train/3_2_frame_001431.jpg: ignoring corrupt image/label: labels require 5 columns, 6 columns detected\n",
            "\u001b[34m\u001b[1mtrain: \u001b[0m/content/drive/MyDrive/yolov11_test_cv/yolov11_dataset/images/train/3_2_frame_001512.jpg: ignoring corrupt image/label: labels require 5 columns, 6 columns detected\n",
            "\u001b[34m\u001b[1mtrain: \u001b[0m/content/drive/MyDrive/yolov11_test_cv/yolov11_dataset/images/train/3_2_frame_001620.jpg: ignoring corrupt image/label: labels require 5 columns, 6 columns detected\n",
            "\u001b[34m\u001b[1mtrain: \u001b[0m/content/drive/MyDrive/yolov11_test_cv/yolov11_dataset/images/train/4_1_frame_000000.jpg: ignoring corrupt image/label: labels require 5 columns, 6 columns detected\n",
            "\u001b[34m\u001b[1mtrain: \u001b[0m/content/drive/MyDrive/yolov11_test_cv/yolov11_dataset/images/train/4_1_frame_000054.jpg: ignoring corrupt image/label: labels require 5 columns, 6 columns detected\n",
            "\u001b[34m\u001b[1mtrain: \u001b[0m/content/drive/MyDrive/yolov11_test_cv/yolov11_dataset/images/train/4_1_frame_000108.jpg: ignoring corrupt image/label: labels require 5 columns, 6 columns detected\n",
            "\u001b[34m\u001b[1mtrain: \u001b[0m/content/drive/MyDrive/yolov11_test_cv/yolov11_dataset/images/train/4_1_frame_000162.jpg: ignoring corrupt image/label: labels require 5 columns, 6 columns detected\n",
            "\u001b[34m\u001b[1mtrain: \u001b[0m/content/drive/MyDrive/yolov11_test_cv/yolov11_dataset/images/train/4_1_frame_000405.jpg: ignoring corrupt image/label: labels require 5 columns, 6 columns detected\n",
            "\u001b[34m\u001b[1mtrain: \u001b[0m/content/drive/MyDrive/yolov11_test_cv/yolov11_dataset/images/train/4_1_frame_000486.jpg: ignoring corrupt image/label: labels require 5 columns, 6 columns detected\n",
            "\u001b[34m\u001b[1mtrain: \u001b[0m/content/drive/MyDrive/yolov11_test_cv/yolov11_dataset/images/train/4_1_frame_000513.jpg: ignoring corrupt image/label: labels require 5 columns, 6 columns detected\n",
            "\u001b[34m\u001b[1mtrain: \u001b[0m/content/drive/MyDrive/yolov11_test_cv/yolov11_dataset/images/train/4_1_frame_000567.jpg: ignoring corrupt image/label: labels require 5 columns, 6 columns detected\n",
            "\u001b[34m\u001b[1mtrain: \u001b[0m/content/drive/MyDrive/yolov11_test_cv/yolov11_dataset/images/train/4_1_frame_000594.jpg: ignoring corrupt image/label: labels require 5 columns, 6 columns detected\n",
            "\u001b[34m\u001b[1mtrain: \u001b[0m/content/drive/MyDrive/yolov11_test_cv/yolov11_dataset/images/train/4_1_frame_000648.jpg: ignoring corrupt image/label: labels require 5 columns, 6 columns detected\n",
            "\u001b[34m\u001b[1mtrain: \u001b[0m/content/drive/MyDrive/yolov11_test_cv/yolov11_dataset/images/train/4_1_frame_000675.jpg: ignoring corrupt image/label: labels require 5 columns, 6 columns detected\n",
            "\u001b[34m\u001b[1mtrain: \u001b[0m/content/drive/MyDrive/yolov11_test_cv/yolov11_dataset/images/train/4_1_frame_000702.jpg: ignoring corrupt image/label: labels require 5 columns, 6 columns detected\n",
            "\u001b[34m\u001b[1mtrain: \u001b[0m/content/drive/MyDrive/yolov11_test_cv/yolov11_dataset/images/train/4_1_frame_000729.jpg: ignoring corrupt image/label: labels require 5 columns, 6 columns detected\n",
            "\u001b[34m\u001b[1mtrain: \u001b[0m/content/drive/MyDrive/yolov11_test_cv/yolov11_dataset/images/train/4_1_frame_000783.jpg: ignoring corrupt image/label: labels require 5 columns, 6 columns detected\n",
            "\u001b[34m\u001b[1mtrain: \u001b[0m/content/drive/MyDrive/yolov11_test_cv/yolov11_dataset/images/train/4_1_frame_000810.jpg: ignoring corrupt image/label: labels require 5 columns, 6 columns detected\n",
            "\u001b[34m\u001b[1mtrain: \u001b[0m/content/drive/MyDrive/yolov11_test_cv/yolov11_dataset/images/train/4_1_frame_000972.jpg: ignoring corrupt image/label: labels require 5 columns, 6 columns detected\n",
            "\u001b[34m\u001b[1mtrain: \u001b[0m/content/drive/MyDrive/yolov11_test_cv/yolov11_dataset/images/train/4_frame_000000.jpg: ignoring corrupt image/label: labels require 5 columns, 6 columns detected\n",
            "\u001b[34m\u001b[1mtrain: \u001b[0m/content/drive/MyDrive/yolov11_test_cv/yolov11_dataset/images/train/4_frame_000036.jpg: ignoring corrupt image/label: labels require 5 columns, 6 columns detected\n",
            "\u001b[34m\u001b[1mtrain: \u001b[0m/content/drive/MyDrive/yolov11_test_cv/yolov11_dataset/images/train/4_frame_000050.jpg: ignoring corrupt image/label: labels require 5 columns, 6 columns detected\n",
            "\u001b[34m\u001b[1mtrain: \u001b[0m/content/drive/MyDrive/yolov11_test_cv/yolov11_dataset/images/train/4_frame_000060.jpg: ignoring corrupt image/label: labels require 5 columns, 6 columns detected\n",
            "\u001b[34m\u001b[1mtrain: \u001b[0m/content/drive/MyDrive/yolov11_test_cv/yolov11_dataset/images/train/4_frame_000072.jpg: ignoring corrupt image/label: labels require 5 columns, 6 columns detected\n",
            "\u001b[34m\u001b[1mtrain: \u001b[0m/content/drive/MyDrive/yolov11_test_cv/yolov11_dataset/images/train/4_frame_000084.jpg: ignoring corrupt image/label: labels require 5 columns, 6 columns detected\n",
            "\u001b[34m\u001b[1mtrain: \u001b[0m/content/drive/MyDrive/yolov11_test_cv/yolov11_dataset/images/train/4_frame_000096.jpg: ignoring corrupt image/label: labels require 5 columns, 6 columns detected\n",
            "\u001b[34m\u001b[1mtrain: \u001b[0m/content/drive/MyDrive/yolov11_test_cv/yolov11_dataset/images/train/4_frame_000108.jpg: ignoring corrupt image/label: labels require 5 columns, 6 columns detected\n",
            "\u001b[34m\u001b[1mtrain: \u001b[0m/content/drive/MyDrive/yolov11_test_cv/yolov11_dataset/images/train/4_frame_000125.jpg: ignoring corrupt image/label: labels require 5 columns, 6 columns detected\n",
            "\u001b[34m\u001b[1mtrain: \u001b[0m/content/drive/MyDrive/yolov11_test_cv/yolov11_dataset/images/train/4_frame_000150.jpg: ignoring corrupt image/label: labels require 5 columns, 6 columns detected\n",
            "\u001b[34m\u001b[1mtrain: \u001b[0m/content/drive/MyDrive/yolov11_test_cv/yolov11_dataset/images/train/4_frame_000175.jpg: ignoring corrupt image/label: labels require 5 columns, 6 columns detected\n",
            "\u001b[34m\u001b[1mtrain: \u001b[0m/content/drive/MyDrive/yolov11_test_cv/yolov11_dataset/images/train/4_frame_000180.jpg: ignoring corrupt image/label: labels require 5 columns, 6 columns detected\n",
            "\u001b[34m\u001b[1mtrain: \u001b[0m/content/drive/MyDrive/yolov11_test_cv/yolov11_dataset/images/train/4_frame_000192.jpg: ignoring corrupt image/label: labels require 5 columns, 6 columns detected\n",
            "\u001b[34m\u001b[1mtrain: \u001b[0m/content/drive/MyDrive/yolov11_test_cv/yolov11_dataset/images/train/4_frame_000204.jpg: ignoring corrupt image/label: labels require 5 columns, 6 columns detected\n",
            "\u001b[34m\u001b[1mtrain: \u001b[0m/content/drive/MyDrive/yolov11_test_cv/yolov11_dataset/images/train/4_frame_000216.jpg: ignoring corrupt image/label: labels require 5 columns, 6 columns detected\n",
            "\u001b[34m\u001b[1mtrain: \u001b[0m/content/drive/MyDrive/yolov11_test_cv/yolov11_dataset/images/train/4_frame_000225.jpg: ignoring corrupt image/label: labels require 5 columns, 6 columns detected\n",
            "\u001b[34m\u001b[1mtrain: \u001b[0m/content/drive/MyDrive/yolov11_test_cv/yolov11_dataset/images/train/4_frame_000250.jpg: ignoring corrupt image/label: labels require 5 columns, 6 columns detected\n",
            "\u001b[34m\u001b[1mtrain: \u001b[0m/content/drive/MyDrive/yolov11_test_cv/yolov11_dataset/images/train/4_frame_000275.jpg: ignoring corrupt image/label: labels require 5 columns, 6 columns detected\n",
            "\u001b[34m\u001b[1mtrain: \u001b[0m/content/drive/MyDrive/yolov11_test_cv/yolov11_dataset/images/train/4_frame_000348.jpg: ignoring corrupt image/label: labels require 5 columns, 6 columns detected\n",
            "\u001b[34m\u001b[1mtrain: \u001b[0m/content/drive/MyDrive/yolov11_test_cv/yolov11_dataset/images/train/4_frame_000350.jpg: ignoring corrupt image/label: labels require 5 columns, 6 columns detected\n",
            "\u001b[34m\u001b[1mtrain: \u001b[0m/content/drive/MyDrive/yolov11_test_cv/yolov11_dataset/images/train/4_frame_000375.jpg: ignoring corrupt image/label: labels require 5 columns, 6 columns detected\n",
            "\u001b[34m\u001b[1mtrain: \u001b[0m/content/drive/MyDrive/yolov11_test_cv/yolov11_dataset/images/train/4_frame_000400.jpg: ignoring corrupt image/label: labels require 5 columns, 6 columns detected\n",
            "\u001b[34m\u001b[1mtrain: \u001b[0m/content/drive/MyDrive/yolov11_test_cv/yolov11_dataset/images/train/4_frame_000500.jpg: ignoring corrupt image/label: labels require 5 columns, 6 columns detected\n",
            "\u001b[34m\u001b[1mtrain: \u001b[0m/content/drive/MyDrive/yolov11_test_cv/yolov11_dataset/images/train/4_frame_000525.jpg: ignoring corrupt image/label: labels require 5 columns, 6 columns detected\n",
            "\u001b[34m\u001b[1mtrain: \u001b[0m/content/drive/MyDrive/yolov11_test_cv/yolov11_dataset/images/train/4_frame_000550.jpg: ignoring corrupt image/label: labels require 5 columns, 6 columns detected\n",
            "\u001b[34m\u001b[1mtrain: \u001b[0m/content/drive/MyDrive/yolov11_test_cv/yolov11_dataset/images/train/4_frame_000600.jpg: ignoring corrupt image/label: labels require 5 columns, 6 columns detected\n",
            "\u001b[34m\u001b[1mtrain: \u001b[0m/content/drive/MyDrive/yolov11_test_cv/yolov11_dataset/images/train/4_frame_000612.jpg: ignoring corrupt image/label: labels require 5 columns, 6 columns detected\n",
            "\u001b[34m\u001b[1mtrain: \u001b[0m/content/drive/MyDrive/yolov11_test_cv/yolov11_dataset/images/train/4_frame_000625.jpg: ignoring corrupt image/label: labels require 5 columns, 6 columns detected\n",
            "\u001b[34m\u001b[1mtrain: \u001b[0m/content/drive/MyDrive/yolov11_test_cv/yolov11_dataset/images/train/4_frame_000650.jpg: ignoring corrupt image/label: labels require 5 columns, 6 columns detected\n",
            "\u001b[34m\u001b[1mtrain: \u001b[0m/content/drive/MyDrive/yolov11_test_cv/yolov11_dataset/images/train/4_frame_000672.jpg: ignoring corrupt image/label: labels require 5 columns, 6 columns detected\n",
            "\u001b[34m\u001b[1mtrain: \u001b[0m/content/drive/MyDrive/yolov11_test_cv/yolov11_dataset/images/train/4_frame_000675.jpg: ignoring corrupt image/label: labels require 5 columns, 6 columns detected\n",
            "\u001b[34m\u001b[1mtrain: \u001b[0m/content/drive/MyDrive/yolov11_test_cv/yolov11_dataset/images/train/4_frame_000700.jpg: ignoring corrupt image/label: labels require 5 columns, 6 columns detected\n",
            "\u001b[34m\u001b[1mtrain: \u001b[0m/content/drive/MyDrive/yolov11_test_cv/yolov11_dataset/images/train/4_frame_000732.jpg: ignoring corrupt image/label: labels require 5 columns, 6 columns detected\n",
            "\u001b[34m\u001b[1mtrain: \u001b[0m/content/drive/MyDrive/yolov11_test_cv/yolov11_dataset/images/train/4_frame_000744.jpg: ignoring corrupt image/label: labels require 5 columns, 6 columns detected\n",
            "\u001b[34m\u001b[1mtrain: \u001b[0m/content/drive/MyDrive/yolov11_test_cv/yolov11_dataset/images/train/4_frame_000775.jpg: ignoring corrupt image/label: labels require 5 columns, 6 columns detected\n",
            "\u001b[34m\u001b[1mtrain: \u001b[0m/content/drive/MyDrive/yolov11_test_cv/yolov11_dataset/images/train/4_frame_000804.jpg: ignoring corrupt image/label: labels require 5 columns, 6 columns detected\n",
            "\u001b[34m\u001b[1mtrain: \u001b[0m/content/drive/MyDrive/yolov11_test_cv/yolov11_dataset/images/train/4_frame_000825.jpg: ignoring corrupt image/label: labels require 5 columns, 6 columns detected\n",
            "\u001b[34m\u001b[1mtrain: \u001b[0m/content/drive/MyDrive/yolov11_test_cv/yolov11_dataset/images/train/4_frame_000828.jpg: ignoring corrupt image/label: labels require 5 columns, 6 columns detected\n",
            "\u001b[34m\u001b[1mtrain: \u001b[0m/content/drive/MyDrive/yolov11_test_cv/yolov11_dataset/images/train/4_frame_000850.jpg: ignoring corrupt image/label: labels require 5 columns, 6 columns detected\n",
            "\u001b[34m\u001b[1mtrain: \u001b[0m/content/drive/MyDrive/yolov11_test_cv/yolov11_dataset/images/train/4_frame_000875.jpg: ignoring corrupt image/label: labels require 5 columns, 6 columns detected\n",
            "\u001b[34m\u001b[1mtrain: \u001b[0m/content/drive/MyDrive/yolov11_test_cv/yolov11_dataset/images/train/4_frame_000900.jpg: ignoring corrupt image/label: labels require 5 columns, 6 columns detected\n",
            "\u001b[34m\u001b[1mtrain: \u001b[0m/content/drive/MyDrive/yolov11_test_cv/yolov11_dataset/images/train/4_frame_000925.jpg: ignoring corrupt image/label: labels require 5 columns, 6 columns detected\n",
            "\u001b[34m\u001b[1mtrain: \u001b[0m/content/drive/MyDrive/yolov11_test_cv/yolov11_dataset/images/train/4_frame_000950.jpg: ignoring corrupt image/label: labels require 5 columns, 6 columns detected\n",
            "\u001b[34m\u001b[1mtrain: \u001b[0m/content/drive/MyDrive/yolov11_test_cv/yolov11_dataset/images/train/4_frame_000975.jpg: ignoring corrupt image/label: labels require 5 columns, 6 columns detected\n",
            "\u001b[34m\u001b[1mtrain: \u001b[0m/content/drive/MyDrive/yolov11_test_cv/yolov11_dataset/images/train/4_frame_001100.jpg: ignoring corrupt image/label: labels require 5 columns, 6 columns detected\n",
            "\u001b[34m\u001b[1mtrain: \u001b[0m/content/drive/MyDrive/yolov11_test_cv/yolov11_dataset/images/train/4_frame_001175.jpg: ignoring corrupt image/label: labels require 5 columns, 6 columns detected\n",
            "\u001b[34m\u001b[1mtrain: \u001b[0m/content/drive/MyDrive/yolov11_test_cv/yolov11_dataset/images/train/4_frame_001176.jpg: ignoring corrupt image/label: labels require 5 columns, 6 columns detected\n",
            "\u001b[34m\u001b[1mtrain: \u001b[0m/content/drive/MyDrive/yolov11_test_cv/yolov11_dataset/images/train/4_frame_001188.jpg: ignoring corrupt image/label: labels require 5 columns, 6 columns detected\n",
            "\u001b[34m\u001b[1mtrain: \u001b[0m/content/drive/MyDrive/yolov11_test_cv/yolov11_dataset/images/train/4_frame_001200.jpg: ignoring corrupt image/label: labels require 5 columns, 6 columns detected\n",
            "\u001b[34m\u001b[1mtrain: \u001b[0m/content/drive/MyDrive/yolov11_test_cv/yolov11_dataset/images/train/4_frame_001224.jpg: ignoring corrupt image/label: labels require 5 columns, 6 columns detected\n",
            "\u001b[34m\u001b[1mtrain: \u001b[0m/content/drive/MyDrive/yolov11_test_cv/yolov11_dataset/images/train/4_frame_001225.jpg: ignoring corrupt image/label: labels require 5 columns, 6 columns detected\n",
            "\u001b[34m\u001b[1mtrain: \u001b[0m/content/drive/MyDrive/yolov11_test_cv/yolov11_dataset/images/train/4_frame_001236.jpg: ignoring corrupt image/label: labels require 5 columns, 6 columns detected\n",
            "\u001b[34m\u001b[1mtrain: \u001b[0m/content/drive/MyDrive/yolov11_test_cv/yolov11_dataset/images/train/4_frame_001248.jpg: ignoring corrupt image/label: labels require 5 columns, 6 columns detected\n",
            "\u001b[34m\u001b[1mtrain: \u001b[0m/content/drive/MyDrive/yolov11_test_cv/yolov11_dataset/images/train/4_frame_001250.jpg: ignoring corrupt image/label: labels require 5 columns, 6 columns detected\n",
            "\u001b[34m\u001b[1mtrain: \u001b[0m/content/drive/MyDrive/yolov11_test_cv/yolov11_dataset/images/train/4_frame_001260.jpg: ignoring corrupt image/label: labels require 5 columns, 6 columns detected\n",
            "\u001b[34m\u001b[1mtrain: \u001b[0m/content/drive/MyDrive/yolov11_test_cv/yolov11_dataset/images/train/4_frame_001320.jpg: ignoring corrupt image/label: labels require 5 columns, 6 columns detected\n",
            "\u001b[34m\u001b[1mtrain: \u001b[0m/content/drive/MyDrive/yolov11_test_cv/yolov11_dataset/images/train/4_frame_001325.jpg: ignoring corrupt image/label: labels require 5 columns, 6 columns detected\n",
            "\u001b[34m\u001b[1mtrain: \u001b[0m/content/drive/MyDrive/yolov11_test_cv/yolov11_dataset/images/train/4_frame_001332.jpg: ignoring corrupt image/label: labels require 5 columns, 6 columns detected\n",
            "\u001b[34m\u001b[1mtrain: \u001b[0m/content/drive/MyDrive/yolov11_test_cv/yolov11_dataset/images/train/4_frame_001344.jpg: ignoring corrupt image/label: labels require 5 columns, 6 columns detected\n",
            "\u001b[34m\u001b[1mtrain: \u001b[0m/content/drive/MyDrive/yolov11_test_cv/yolov11_dataset/images/train/4_frame_001380.jpg: ignoring corrupt image/label: labels require 5 columns, 6 columns detected\n",
            "\u001b[34m\u001b[1mtrain: \u001b[0m/content/drive/MyDrive/yolov11_test_cv/yolov11_dataset/images/train/4_frame_001440.jpg: ignoring corrupt image/label: labels require 5 columns, 6 columns detected\n",
            "\u001b[34m\u001b[1mtrain: \u001b[0m/content/drive/MyDrive/yolov11_test_cv/yolov11_dataset/images/train/4_frame_001450.jpg: ignoring corrupt image/label: labels require 5 columns, 6 columns detected\n",
            "\u001b[34m\u001b[1mtrain: \u001b[0m/content/drive/MyDrive/yolov11_test_cv/yolov11_dataset/images/train/4_frame_001452.jpg: ignoring corrupt image/label: labels require 5 columns, 6 columns detected\n",
            "\u001b[34m\u001b[1mtrain: \u001b[0m/content/drive/MyDrive/yolov11_test_cv/yolov11_dataset/images/train/4_frame_001512.jpg: ignoring corrupt image/label: labels require 5 columns, 6 columns detected\n",
            "\u001b[34m\u001b[1mtrain: \u001b[0m/content/drive/MyDrive/yolov11_test_cv/yolov11_dataset/images/train/4_frame_001572.jpg: ignoring corrupt image/label: labels require 5 columns, 6 columns detected\n",
            "\u001b[34m\u001b[1mtrain: \u001b[0m/content/drive/MyDrive/yolov11_test_cv/yolov11_dataset/images/train/4_frame_001596.jpg: ignoring corrupt image/label: labels require 5 columns, 6 columns detected\n",
            "\u001b[34m\u001b[1mtrain: \u001b[0m/content/drive/MyDrive/yolov11_test_cv/yolov11_dataset/images/train/4_frame_001700.jpg: ignoring corrupt image/label: labels require 5 columns, 6 columns detected\n",
            "\u001b[34m\u001b[1mtrain: \u001b[0m/content/drive/MyDrive/yolov11_test_cv/yolov11_dataset/images/train/4_frame_001728.jpg: ignoring corrupt image/label: labels require 5 columns, 6 columns detected\n",
            "\u001b[34m\u001b[1mtrain: \u001b[0m/content/drive/MyDrive/yolov11_test_cv/yolov11_dataset/images/train/4_frame_001752.jpg: ignoring corrupt image/label: labels require 5 columns, 6 columns detected\n",
            "\u001b[34m\u001b[1mtrain: \u001b[0m/content/drive/MyDrive/yolov11_test_cv/yolov11_dataset/images/train/4_frame_001824.jpg: ignoring corrupt image/label: labels require 5 columns, 6 columns detected\n",
            "\u001b[34m\u001b[1mtrain: \u001b[0m/content/drive/MyDrive/yolov11_test_cv/yolov11_dataset/images/train/4_frame_001884.jpg: ignoring corrupt image/label: labels require 5 columns, 6 columns detected\n",
            "\u001b[34m\u001b[1mtrain: \u001b[0m/content/drive/MyDrive/yolov11_test_cv/yolov11_dataset/images/train/4_frame_001900.jpg: ignoring corrupt image/label: labels require 5 columns, 6 columns detected\n",
            "\u001b[34m\u001b[1mtrain: \u001b[0m/content/drive/MyDrive/yolov11_test_cv/yolov11_dataset/images/train/4_frame_001908.jpg: ignoring corrupt image/label: labels require 5 columns, 6 columns detected\n",
            "\u001b[34m\u001b[1mtrain: \u001b[0m/content/drive/MyDrive/yolov11_test_cv/yolov11_dataset/images/train/4_frame_001925.jpg: ignoring corrupt image/label: labels require 5 columns, 6 columns detected\n",
            "\u001b[34m\u001b[1mtrain: \u001b[0m/content/drive/MyDrive/yolov11_test_cv/yolov11_dataset/images/train/4_frame_002000.jpg: ignoring corrupt image/label: labels require 5 columns, 6 columns detected\n",
            "\u001b[34m\u001b[1mtrain: \u001b[0m/content/drive/MyDrive/yolov11_test_cv/yolov11_dataset/images/train/4_frame_002050.jpg: ignoring corrupt image/label: labels require 5 columns, 6 columns detected\n",
            "\u001b[34m\u001b[1mtrain: \u001b[0m/content/drive/MyDrive/yolov11_test_cv/yolov11_dataset/images/train/4_frame_002100.jpg: ignoring corrupt image/label: labels require 5 columns, 6 columns detected\n",
            "\u001b[34m\u001b[1mtrain: \u001b[0m/content/drive/MyDrive/yolov11_test_cv/yolov11_dataset/images/train/4_frame_002125.jpg: ignoring corrupt image/label: labels require 5 columns, 6 columns detected\n",
            "\u001b[34m\u001b[1mtrain: \u001b[0m/content/drive/MyDrive/yolov11_test_cv/yolov11_dataset/images/train/4_frame_002136.jpg: ignoring corrupt image/label: labels require 5 columns, 6 columns detected\n",
            "\u001b[34m\u001b[1mtrain: \u001b[0m/content/drive/MyDrive/yolov11_test_cv/yolov11_dataset/images/train/4_frame_002150.jpg: ignoring corrupt image/label: labels require 5 columns, 6 columns detected\n"
          ]
        },
        {
          "metadata": {
            "tags": null
          },
          "name": "stderr",
          "output_type": "stream",
          "text": [
            "\n"
          ]
        },
        {
          "metadata": {
            "tags": null
          },
          "name": "stdout",
          "output_type": "stream",
          "text": [
            "\u001b[34m\u001b[1mtrain: \u001b[0mNew cache created: /content/drive/MyDrive/yolov11_test_cv/yolov11_dataset/labels/train.cache\n",
            "\u001b[34m\u001b[1malbumentations: \u001b[0mBlur(p=0.01, blur_limit=(3, 7)), MedianBlur(p=0.01, blur_limit=(3, 7)), ToGray(p=0.01, method='weighted_average', num_output_channels=3), CLAHE(p=0.01, clip_limit=(1.0, 4.0), tile_grid_size=(8, 8))\n"
          ]
        },
        {
          "metadata": {
            "tags": null
          },
          "name": "stderr",
          "output_type": "stream",
          "text": [
            "/usr/local/lib/python3.11/dist-packages/torch/utils/data/dataloader.py:665: UserWarning: 'pin_memory' argument is set as true but no accelerator is found, then device pinned memory won't be used.\n",
            "  warnings.warn(warn_msg)\n"
          ]
        },
        {
          "metadata": {
            "tags": null
          },
          "name": "stdout",
          "output_type": "stream",
          "text": [
            "\u001b[34m\u001b[1mval: \u001b[0mFast image access ✅ (ping: 0.6±0.2 ms, read: 57.5±45.6 MB/s, size: 2120.5 KB)\n"
          ]
        },
        {
          "metadata": {
            "tags": null
          },
          "name": "stderr",
          "output_type": "stream",
          "text": [
            "\u001b[34m\u001b[1mval: \u001b[0mScanning /content/drive/MyDrive/yolov11_test_cv/yolov11_dataset/labels/val... 125 images, 0 backgrounds, 93 corrupt: 100%|██████████| 125/125 [00:01<00:00, 94.43it/s]"
          ]
        },
        {
          "metadata": {
            "tags": null
          },
          "name": "stdout",
          "output_type": "stream",
          "text": [
            "\u001b[34m\u001b[1mval: \u001b[0m/content/drive/MyDrive/yolov11_test_cv/yolov11_dataset/images/val/1_frame_000058.jpg: ignoring corrupt image/label: labels require 5 columns, 6 columns detected\n",
            "\u001b[34m\u001b[1mval: \u001b[0m/content/drive/MyDrive/yolov11_test_cv/yolov11_dataset/images/val/1_frame_000071.jpg: ignoring corrupt image/label: labels require 5 columns, 6 columns detected\n",
            "\u001b[34m\u001b[1mval: \u001b[0m/content/drive/MyDrive/yolov11_test_cv/yolov11_dataset/images/val/1_frame_000178.jpg: ignoring corrupt image/label: labels require 5 columns, 6 columns detected\n",
            "\u001b[34m\u001b[1mval: \u001b[0m/content/drive/MyDrive/yolov11_test_cv/yolov11_dataset/images/val/2_1_frame_000297.jpg: ignoring corrupt image/label: labels require 5 columns, 6 columns detected\n",
            "\u001b[34m\u001b[1mval: \u001b[0m/content/drive/MyDrive/yolov11_test_cv/yolov11_dataset/images/val/2_1_frame_000594.jpg: ignoring corrupt image/label: labels require 5 columns, 6 columns detected\n",
            "\u001b[34m\u001b[1mval: \u001b[0m/content/drive/MyDrive/yolov11_test_cv/yolov11_dataset/images/val/2_1_frame_001404.jpg: ignoring corrupt image/label: labels require 5 columns, 6 columns detected\n",
            "\u001b[34m\u001b[1mval: \u001b[0m/content/drive/MyDrive/yolov11_test_cv/yolov11_dataset/images/val/2_1_frame_001458.jpg: ignoring corrupt image/label: labels require 5 columns, 6 columns detected\n",
            "\u001b[34m\u001b[1mval: \u001b[0m/content/drive/MyDrive/yolov11_test_cv/yolov11_dataset/images/val/3_1_frame_000050.jpg: ignoring corrupt image/label: labels require 5 columns, 6 columns detected\n",
            "\u001b[34m\u001b[1mval: \u001b[0m/content/drive/MyDrive/yolov11_test_cv/yolov11_dataset/images/val/3_1_frame_000108.jpg: ignoring corrupt image/label: labels require 5 columns, 6 columns detected\n",
            "\u001b[34m\u001b[1mval: \u001b[0m/content/drive/MyDrive/yolov11_test_cv/yolov11_dataset/images/val/3_1_frame_000144.jpg: ignoring corrupt image/label: labels require 5 columns, 6 columns detected\n",
            "\u001b[34m\u001b[1mval: \u001b[0m/content/drive/MyDrive/yolov11_test_cv/yolov11_dataset/images/val/3_1_frame_000372.jpg: ignoring corrupt image/label: labels require 5 columns, 6 columns detected\n",
            "\u001b[34m\u001b[1mval: \u001b[0m/content/drive/MyDrive/yolov11_test_cv/yolov11_dataset/images/val/3_1_frame_000408.jpg: ignoring corrupt image/label: labels require 5 columns, 6 columns detected\n",
            "\u001b[34m\u001b[1mval: \u001b[0m/content/drive/MyDrive/yolov11_test_cv/yolov11_dataset/images/val/3_1_frame_000444.jpg: ignoring corrupt image/label: labels require 5 columns, 6 columns detected\n",
            "\u001b[34m\u001b[1mval: \u001b[0m/content/drive/MyDrive/yolov11_test_cv/yolov11_dataset/images/val/3_1_frame_000525.jpg: ignoring corrupt image/label: labels require 5 columns, 6 columns detected\n",
            "\u001b[34m\u001b[1mval: \u001b[0m/content/drive/MyDrive/yolov11_test_cv/yolov11_dataset/images/val/3_1_frame_000528.jpg: ignoring corrupt image/label: labels require 5 columns, 6 columns detected\n",
            "\u001b[34m\u001b[1mval: \u001b[0m/content/drive/MyDrive/yolov11_test_cv/yolov11_dataset/images/val/3_1_frame_000552.jpg: ignoring corrupt image/label: labels require 5 columns, 6 columns detected\n",
            "\u001b[34m\u001b[1mval: \u001b[0m/content/drive/MyDrive/yolov11_test_cv/yolov11_dataset/images/val/3_1_frame_000600.jpg: ignoring corrupt image/label: labels require 5 columns, 6 columns detected\n",
            "\u001b[34m\u001b[1mval: \u001b[0m/content/drive/MyDrive/yolov11_test_cv/yolov11_dataset/images/val/3_1_frame_000624.jpg: ignoring corrupt image/label: labels require 5 columns, 6 columns detected\n",
            "\u001b[34m\u001b[1mval: \u001b[0m/content/drive/MyDrive/yolov11_test_cv/yolov11_dataset/images/val/3_1_frame_000625.jpg: ignoring corrupt image/label: labels require 5 columns, 6 columns detected\n",
            "\u001b[34m\u001b[1mval: \u001b[0m/content/drive/MyDrive/yolov11_test_cv/yolov11_dataset/images/val/3_1_frame_000660.jpg: ignoring corrupt image/label: labels require 5 columns, 6 columns detected\n",
            "\u001b[34m\u001b[1mval: \u001b[0m/content/drive/MyDrive/yolov11_test_cv/yolov11_dataset/images/val/3_1_frame_000780.jpg: ignoring corrupt image/label: labels require 5 columns, 6 columns detected\n",
            "\u001b[34m\u001b[1mval: \u001b[0m/content/drive/MyDrive/yolov11_test_cv/yolov11_dataset/images/val/3_1_frame_000792.jpg: ignoring corrupt image/label: labels require 5 columns, 6 columns detected\n",
            "\u001b[34m\u001b[1mval: \u001b[0m/content/drive/MyDrive/yolov11_test_cv/yolov11_dataset/images/val/3_1_frame_000840.jpg: ignoring corrupt image/label: labels require 5 columns, 6 columns detected\n",
            "\u001b[34m\u001b[1mval: \u001b[0m/content/drive/MyDrive/yolov11_test_cv/yolov11_dataset/images/val/3_1_frame_000864.jpg: ignoring corrupt image/label: labels require 5 columns, 6 columns detected\n",
            "\u001b[34m\u001b[1mval: \u001b[0m/content/drive/MyDrive/yolov11_test_cv/yolov11_dataset/images/val/3_1_frame_000888.jpg: ignoring corrupt image/label: labels require 5 columns, 6 columns detected\n",
            "\u001b[34m\u001b[1mval: \u001b[0m/content/drive/MyDrive/yolov11_test_cv/yolov11_dataset/images/val/3_1_frame_001025.jpg: ignoring corrupt image/label: labels require 5 columns, 6 columns detected\n",
            "\u001b[34m\u001b[1mval: \u001b[0m/content/drive/MyDrive/yolov11_test_cv/yolov11_dataset/images/val/3_1_frame_001075.jpg: ignoring corrupt image/label: labels require 5 columns, 6 columns detected\n",
            "\u001b[34m\u001b[1mval: \u001b[0m/content/drive/MyDrive/yolov11_test_cv/yolov11_dataset/images/val/3_1_frame_001224.jpg: ignoring corrupt image/label: labels require 5 columns, 6 columns detected\n",
            "\u001b[34m\u001b[1mval: \u001b[0m/content/drive/MyDrive/yolov11_test_cv/yolov11_dataset/images/val/3_1_frame_001236.jpg: ignoring corrupt image/label: labels require 5 columns, 6 columns detected\n",
            "\u001b[34m\u001b[1mval: \u001b[0m/content/drive/MyDrive/yolov11_test_cv/yolov11_dataset/images/val/3_1_frame_001248.jpg: ignoring corrupt image/label: labels require 5 columns, 6 columns detected\n",
            "\u001b[34m\u001b[1mval: \u001b[0m/content/drive/MyDrive/yolov11_test_cv/yolov11_dataset/images/val/3_1_frame_001320.jpg: ignoring corrupt image/label: labels require 5 columns, 6 columns detected\n",
            "\u001b[34m\u001b[1mval: \u001b[0m/content/drive/MyDrive/yolov11_test_cv/yolov11_dataset/images/val/3_1_frame_001325.jpg: ignoring corrupt image/label: labels require 5 columns, 6 columns detected\n",
            "\u001b[34m\u001b[1mval: \u001b[0m/content/drive/MyDrive/yolov11_test_cv/yolov11_dataset/images/val/3_1_frame_001404.jpg: ignoring corrupt image/label: labels require 5 columns, 6 columns detected\n",
            "\u001b[34m\u001b[1mval: \u001b[0m/content/drive/MyDrive/yolov11_test_cv/yolov11_dataset/images/val/3_1_frame_001416.jpg: ignoring corrupt image/label: labels require 5 columns, 6 columns detected\n",
            "\u001b[34m\u001b[1mval: \u001b[0m/content/drive/MyDrive/yolov11_test_cv/yolov11_dataset/images/val/3_1_frame_001525.jpg: ignoring corrupt image/label: labels require 5 columns, 6 columns detected\n",
            "\u001b[34m\u001b[1mval: \u001b[0m/content/drive/MyDrive/yolov11_test_cv/yolov11_dataset/images/val/3_1_frame_001536.jpg: ignoring corrupt image/label: labels require 5 columns, 6 columns detected\n",
            "\u001b[34m\u001b[1mval: \u001b[0m/content/drive/MyDrive/yolov11_test_cv/yolov11_dataset/images/val/3_1_frame_001560.jpg: ignoring corrupt image/label: labels require 5 columns, 6 columns detected\n",
            "\u001b[34m\u001b[1mval: \u001b[0m/content/drive/MyDrive/yolov11_test_cv/yolov11_dataset/images/val/3_1_frame_001575.jpg: ignoring corrupt image/label: labels require 5 columns, 6 columns detected\n",
            "\u001b[34m\u001b[1mval: \u001b[0m/content/drive/MyDrive/yolov11_test_cv/yolov11_dataset/images/val/3_1_frame_001680.jpg: ignoring corrupt image/label: labels require 5 columns, 6 columns detected\n",
            "\u001b[34m\u001b[1mval: \u001b[0m/content/drive/MyDrive/yolov11_test_cv/yolov11_dataset/images/val/3_1_frame_001825.jpg: ignoring corrupt image/label: labels require 5 columns, 6 columns detected\n",
            "\u001b[34m\u001b[1mval: \u001b[0m/content/drive/MyDrive/yolov11_test_cv/yolov11_dataset/images/val/3_1_frame_001896.jpg: ignoring corrupt image/label: labels require 5 columns, 6 columns detected\n",
            "\u001b[34m\u001b[1mval: \u001b[0m/content/drive/MyDrive/yolov11_test_cv/yolov11_dataset/images/val/3_1_frame_001950.jpg: ignoring corrupt image/label: labels require 5 columns, 6 columns detected\n",
            "\u001b[34m\u001b[1mval: \u001b[0m/content/drive/MyDrive/yolov11_test_cv/yolov11_dataset/images/val/3_1_frame_001992.jpg: ignoring corrupt image/label: labels require 5 columns, 6 columns detected\n",
            "\u001b[34m\u001b[1mval: \u001b[0m/content/drive/MyDrive/yolov11_test_cv/yolov11_dataset/images/val/3_1_frame_002076.jpg: ignoring corrupt image/label: labels require 5 columns, 6 columns detected\n",
            "\u001b[34m\u001b[1mval: \u001b[0m/content/drive/MyDrive/yolov11_test_cv/yolov11_dataset/images/val/3_1_frame_002175.jpg: ignoring corrupt image/label: labels require 5 columns, 6 columns detected\n",
            "\u001b[34m\u001b[1mval: \u001b[0m/content/drive/MyDrive/yolov11_test_cv/yolov11_dataset/images/val/3_1_frame_002200.jpg: ignoring corrupt image/label: labels require 5 columns, 6 columns detected\n",
            "\u001b[34m\u001b[1mval: \u001b[0m/content/drive/MyDrive/yolov11_test_cv/yolov11_dataset/images/val/3_1_frame_002275.jpg: ignoring corrupt image/label: labels require 5 columns, 6 columns detected\n",
            "\u001b[34m\u001b[1mval: \u001b[0m/content/drive/MyDrive/yolov11_test_cv/yolov11_dataset/images/val/3_1_frame_002304.jpg: ignoring corrupt image/label: labels require 5 columns, 6 columns detected\n",
            "\u001b[34m\u001b[1mval: \u001b[0m/content/drive/MyDrive/yolov11_test_cv/yolov11_dataset/images/val/3_1_frame_002364.jpg: ignoring corrupt image/label: labels require 5 columns, 6 columns detected\n",
            "\u001b[34m\u001b[1mval: \u001b[0m/content/drive/MyDrive/yolov11_test_cv/yolov11_dataset/images/val/3_1_frame_002376.jpg: ignoring corrupt image/label: labels require 5 columns, 6 columns detected\n",
            "\u001b[34m\u001b[1mval: \u001b[0m/content/drive/MyDrive/yolov11_test_cv/yolov11_dataset/images/val/3_1_frame_002412.jpg: ignoring corrupt image/label: labels require 5 columns, 6 columns detected\n",
            "\u001b[34m\u001b[1mval: \u001b[0m/content/drive/MyDrive/yolov11_test_cv/yolov11_dataset/images/val/3_1_frame_002425.jpg: ignoring corrupt image/label: labels require 5 columns, 6 columns detected\n",
            "\u001b[34m\u001b[1mval: \u001b[0m/content/drive/MyDrive/yolov11_test_cv/yolov11_dataset/images/val/3_1_frame_002448.jpg: ignoring corrupt image/label: labels require 5 columns, 6 columns detected\n",
            "\u001b[34m\u001b[1mval: \u001b[0m/content/drive/MyDrive/yolov11_test_cv/yolov11_dataset/images/val/3_1_frame_002532.jpg: ignoring corrupt image/label: labels require 5 columns, 6 columns detected\n",
            "\u001b[34m\u001b[1mval: \u001b[0m/content/drive/MyDrive/yolov11_test_cv/yolov11_dataset/images/val/3_1_frame_002568.jpg: ignoring corrupt image/label: labels require 5 columns, 6 columns detected\n",
            "\u001b[34m\u001b[1mval: \u001b[0m/content/drive/MyDrive/yolov11_test_cv/yolov11_dataset/images/val/3_1_frame_002616.jpg: ignoring corrupt image/label: labels require 5 columns, 6 columns detected\n",
            "\u001b[34m\u001b[1mval: \u001b[0m/content/drive/MyDrive/yolov11_test_cv/yolov11_dataset/images/val/3_1_frame_002640.jpg: ignoring corrupt image/label: labels require 5 columns, 6 columns detected\n",
            "\u001b[34m\u001b[1mval: \u001b[0m/content/drive/MyDrive/yolov11_test_cv/yolov11_dataset/images/val/3_1_frame_002725.jpg: ignoring corrupt image/label: labels require 5 columns, 6 columns detected\n",
            "\u001b[34m\u001b[1mval: \u001b[0m/content/drive/MyDrive/yolov11_test_cv/yolov11_dataset/images/val/3_1_frame_002832.jpg: ignoring corrupt image/label: labels require 5 columns, 6 columns detected\n",
            "\u001b[34m\u001b[1mval: \u001b[0m/content/drive/MyDrive/yolov11_test_cv/yolov11_dataset/images/val/3_1_frame_002880.jpg: ignoring corrupt image/label: labels require 5 columns, 6 columns detected\n",
            "\u001b[34m\u001b[1mval: \u001b[0m/content/drive/MyDrive/yolov11_test_cv/yolov11_dataset/images/val/3_1_frame_002892.jpg: ignoring corrupt image/label: labels require 5 columns, 6 columns detected\n",
            "\u001b[34m\u001b[1mval: \u001b[0m/content/drive/MyDrive/yolov11_test_cv/yolov11_dataset/images/val/3_1_frame_002904.jpg: ignoring corrupt image/label: labels require 5 columns, 6 columns detected\n",
            "\u001b[34m\u001b[1mval: \u001b[0m/content/drive/MyDrive/yolov11_test_cv/yolov11_dataset/images/val/3_1_frame_002940.jpg: ignoring corrupt image/label: labels require 5 columns, 6 columns detected\n",
            "\u001b[34m\u001b[1mval: \u001b[0m/content/drive/MyDrive/yolov11_test_cv/yolov11_dataset/images/val/3_1_frame_002952.jpg: ignoring corrupt image/label: labels require 5 columns, 6 columns detected\n",
            "\u001b[34m\u001b[1mval: \u001b[0m/content/drive/MyDrive/yolov11_test_cv/yolov11_dataset/images/val/3_2_frame_000918.jpg: ignoring corrupt image/label: labels require 5 columns, 6 columns detected\n",
            "\u001b[34m\u001b[1mval: \u001b[0m/content/drive/MyDrive/yolov11_test_cv/yolov11_dataset/images/val/3_2_frame_000972.jpg: ignoring corrupt image/label: labels require 5 columns, 6 columns detected\n",
            "\u001b[34m\u001b[1mval: \u001b[0m/content/drive/MyDrive/yolov11_test_cv/yolov11_dataset/images/val/3_2_frame_001053.jpg: ignoring corrupt image/label: labels require 5 columns, 6 columns detected\n",
            "\u001b[34m\u001b[1mval: \u001b[0m/content/drive/MyDrive/yolov11_test_cv/yolov11_dataset/images/val/4_1_frame_000297.jpg: ignoring corrupt image/label: labels require 5 columns, 6 columns detected\n",
            "\u001b[34m\u001b[1mval: \u001b[0m/content/drive/MyDrive/yolov11_test_cv/yolov11_dataset/images/val/4_1_frame_000324.jpg: ignoring corrupt image/label: labels require 5 columns, 6 columns detected\n",
            "\u001b[34m\u001b[1mval: \u001b[0m/content/drive/MyDrive/yolov11_test_cv/yolov11_dataset/images/val/4_1_frame_000351.jpg: ignoring corrupt image/label: labels require 5 columns, 6 columns detected\n",
            "\u001b[34m\u001b[1mval: \u001b[0m/content/drive/MyDrive/yolov11_test_cv/yolov11_dataset/images/val/4_1_frame_000432.jpg: ignoring corrupt image/label: labels require 5 columns, 6 columns detected\n",
            "\u001b[34m\u001b[1mval: \u001b[0m/content/drive/MyDrive/yolov11_test_cv/yolov11_dataset/images/val/4_1_frame_000918.jpg: ignoring corrupt image/label: labels require 5 columns, 6 columns detected\n",
            "\u001b[34m\u001b[1mval: \u001b[0m/content/drive/MyDrive/yolov11_test_cv/yolov11_dataset/images/val/4_frame_000025.jpg: ignoring corrupt image/label: labels require 5 columns, 6 columns detected\n",
            "\u001b[34m\u001b[1mval: \u001b[0m/content/drive/MyDrive/yolov11_test_cv/yolov11_dataset/images/val/4_frame_000228.jpg: ignoring corrupt image/label: labels require 5 columns, 6 columns detected\n",
            "\u001b[34m\u001b[1mval: \u001b[0m/content/drive/MyDrive/yolov11_test_cv/yolov11_dataset/images/val/4_frame_000300.jpg: ignoring corrupt image/label: labels require 5 columns, 6 columns detected\n",
            "\u001b[34m\u001b[1mval: \u001b[0m/content/drive/MyDrive/yolov11_test_cv/yolov11_dataset/images/val/4_frame_000324.jpg: ignoring corrupt image/label: labels require 5 columns, 6 columns detected\n",
            "\u001b[34m\u001b[1mval: \u001b[0m/content/drive/MyDrive/yolov11_test_cv/yolov11_dataset/images/val/4_frame_000450.jpg: ignoring corrupt image/label: labels require 5 columns, 6 columns detected\n",
            "\u001b[34m\u001b[1mval: \u001b[0m/content/drive/MyDrive/yolov11_test_cv/yolov11_dataset/images/val/4_frame_000475.jpg: ignoring corrupt image/label: labels require 5 columns, 6 columns detected\n",
            "\u001b[34m\u001b[1mval: \u001b[0m/content/drive/MyDrive/yolov11_test_cv/yolov11_dataset/images/val/4_frame_000575.jpg: ignoring corrupt image/label: labels require 5 columns, 6 columns detected\n",
            "\u001b[34m\u001b[1mval: \u001b[0m/content/drive/MyDrive/yolov11_test_cv/yolov11_dataset/images/val/4_frame_000800.jpg: ignoring corrupt image/label: labels require 5 columns, 6 columns detected\n",
            "\u001b[34m\u001b[1mval: \u001b[0m/content/drive/MyDrive/yolov11_test_cv/yolov11_dataset/images/val/4_frame_001025.jpg: ignoring corrupt image/label: labels require 5 columns, 6 columns detected\n",
            "\u001b[34m\u001b[1mval: \u001b[0m/content/drive/MyDrive/yolov11_test_cv/yolov11_dataset/images/val/4_frame_001075.jpg: ignoring corrupt image/label: labels require 5 columns, 6 columns detected\n",
            "\u001b[34m\u001b[1mval: \u001b[0m/content/drive/MyDrive/yolov11_test_cv/yolov11_dataset/images/val/4_frame_001125.jpg: ignoring corrupt image/label: labels require 5 columns, 6 columns detected\n",
            "\u001b[34m\u001b[1mval: \u001b[0m/content/drive/MyDrive/yolov11_test_cv/yolov11_dataset/images/val/4_frame_001150.jpg: ignoring corrupt image/label: labels require 5 columns, 6 columns detected\n",
            "\u001b[34m\u001b[1mval: \u001b[0m/content/drive/MyDrive/yolov11_test_cv/yolov11_dataset/images/val/4_frame_001375.jpg: ignoring corrupt image/label: labels require 5 columns, 6 columns detected\n",
            "\u001b[34m\u001b[1mval: \u001b[0m/content/drive/MyDrive/yolov11_test_cv/yolov11_dataset/images/val/4_frame_001525.jpg: ignoring corrupt image/label: labels require 5 columns, 6 columns detected\n",
            "\u001b[34m\u001b[1mval: \u001b[0m/content/drive/MyDrive/yolov11_test_cv/yolov11_dataset/images/val/4_frame_001675.jpg: ignoring corrupt image/label: labels require 5 columns, 6 columns detected\n",
            "\u001b[34m\u001b[1mval: \u001b[0m/content/drive/MyDrive/yolov11_test_cv/yolov11_dataset/images/val/4_frame_001850.jpg: ignoring corrupt image/label: labels require 5 columns, 6 columns detected\n",
            "\u001b[34m\u001b[1mval: \u001b[0m/content/drive/MyDrive/yolov11_test_cv/yolov11_dataset/images/val/4_frame_001875.jpg: ignoring corrupt image/label: labels require 5 columns, 6 columns detected\n",
            "\u001b[34m\u001b[1mval: \u001b[0m/content/drive/MyDrive/yolov11_test_cv/yolov11_dataset/images/val/4_frame_001896.jpg: ignoring corrupt image/label: labels require 5 columns, 6 columns detected\n",
            "\u001b[34m\u001b[1mval: \u001b[0m/content/drive/MyDrive/yolov11_test_cv/yolov11_dataset/images/val/4_frame_001950.jpg: ignoring corrupt image/label: labels require 5 columns, 6 columns detected\n",
            "\u001b[34m\u001b[1mval: \u001b[0m/content/drive/MyDrive/yolov11_test_cv/yolov11_dataset/images/val/4_frame_001975.jpg: ignoring corrupt image/label: labels require 5 columns, 6 columns detected\n",
            "\u001b[34m\u001b[1mval: \u001b[0m/content/drive/MyDrive/yolov11_test_cv/yolov11_dataset/images/val/4_frame_002025.jpg: ignoring corrupt image/label: labels require 5 columns, 6 columns detected\n",
            "\u001b[34m\u001b[1mval: \u001b[0mNew cache created: /content/drive/MyDrive/yolov11_test_cv/yolov11_dataset/labels/val.cache\n"
          ]
        },
        {
          "metadata": {
            "tags": null
          },
          "name": "stderr",
          "output_type": "stream",
          "text": [
            "\n",
            "/usr/local/lib/python3.11/dist-packages/torch/utils/data/dataloader.py:665: UserWarning: 'pin_memory' argument is set as true but no accelerator is found, then device pinned memory won't be used.\n",
            "  warnings.warn(warn_msg)\n"
          ]
        },
        {
          "metadata": {
            "tags": null
          },
          "name": "stdout",
          "output_type": "stream",
          "text": [
            "Plotting labels to runs/train/yolov11-exp/labels.jpg... \n",
            "\u001b[34m\u001b[1moptimizer:\u001b[0m 'optimizer=auto' found, ignoring 'lr0=0.01' and 'momentum=0.937' and determining best 'optimizer', 'lr0' and 'momentum' automatically... \n",
            "\u001b[34m\u001b[1moptimizer:\u001b[0m AdamW(lr=0.000833, momentum=0.9) with parameter groups 57 weight(decay=0.0), 64 weight(decay=0.0005), 63 bias(decay=0.0)\n",
            "Image sizes 512 train, 512 val\n",
            "Using 0 dataloader workers\n",
            "Logging results to \u001b[1mruns/train/yolov11-exp\u001b[0m\n",
            "Starting training for 2 epochs...\n",
            "\n",
            "      Epoch    GPU_mem   box_loss   cls_loss   dfl_loss  Instances       Size\n"
          ]
        },
        {
          "metadata": {
            "tags": null
          },
          "name": "stderr",
          "output_type": "stream",
          "text": [
            "        1/2         0G     0.8972      1.162      1.039         52        512: 100%|██████████| 168/168 [32:50<00:00, 11.73s/it]\n",
            "                 Class     Images  Instances      Box(P          R      mAP50  mAP50-95): 100%|██████████| 2/2 [00:12<00:00,  6.06s/it]"
          ]
        },
        {
          "metadata": {
            "tags": null
          },
          "name": "stdout",
          "output_type": "stream",
          "text": [
            "                   all         32        202      0.996      0.991      0.991      0.829\n"
          ]
        },
        {
          "metadata": {
            "tags": null
          },
          "name": "stderr",
          "output_type": "stream",
          "text": [
            "\n"
          ]
        },
        {
          "metadata": {
            "tags": null
          },
          "name": "stdout",
          "output_type": "stream",
          "text": [
            "\n",
            "      Epoch    GPU_mem   box_loss   cls_loss   dfl_loss  Instances       Size\n"
          ]
        },
        {
          "metadata": {
            "tags": null
          },
          "name": "stderr",
          "output_type": "stream",
          "text": [
            "        2/2         0G     0.6624     0.4751     0.9243         35        512: 100%|██████████| 168/168 [31:38<00:00, 11.30s/it]\n",
            "                 Class     Images  Instances      Box(P          R      mAP50  mAP50-95): 100%|██████████| 2/2 [00:10<00:00,  5.27s/it]"
          ]
        },
        {
          "metadata": {
            "tags": null
          },
          "name": "stdout",
          "output_type": "stream",
          "text": [
            "                   all         32        202      0.996      0.991      0.991      0.849\n"
          ]
        },
        {
          "metadata": {
            "tags": null
          },
          "name": "stderr",
          "output_type": "stream",
          "text": [
            "\n"
          ]
        },
        {
          "metadata": {
            "tags": null
          },
          "name": "stdout",
          "output_type": "stream",
          "text": [
            "\n",
            "2 epochs completed in 1.081 hours.\n",
            "Optimizer stripped from runs/train/yolov11-exp/weights/last.pt, 22.5MB\n",
            "Optimizer stripped from runs/train/yolov11-exp/weights/best.pt, 22.5MB\n",
            "\n",
            "Validating runs/train/yolov11-exp/weights/best.pt...\n",
            "Ultralytics 8.3.162 🚀 Python-3.11.13 torch-2.7.1+cu118 CPU (Intel Xeon 2.20GHz)\n",
            "Model summary (fused): 72 layers, 11,128,680 parameters, 0 gradients, 28.5 GFLOPs\n"
          ]
        },
        {
          "metadata": {
            "tags": null
          },
          "name": "stderr",
          "output_type": "stream",
          "text": [
            "                 Class     Images  Instances      Box(P          R      mAP50  mAP50-95): 100%|██████████| 2/2 [00:10<00:00,  5.11s/it]\n"
          ]
        },
        {
          "metadata": {
            "tags": null
          },
          "name": "stdout",
          "output_type": "stream",
          "text": [
            "                   all         32        202      0.996      0.991      0.991      0.849\n",
            "                   cup         32         87          1      0.978      0.995      0.833\n",
            "                  meat         15         15      0.992          1      0.995      0.845\n",
            "                 salad         15         30      0.997          1      0.995      0.819\n",
            "                  dish         27         27      0.995          1      0.995      0.898\n",
            "                 plate         14         43      0.999      0.977      0.978       0.85\n",
            "Speed: 0.9ms preprocess, 233.3ms inference, 0.0ms loss, 0.5ms postprocess per image\n",
            "Results saved to \u001b[1mruns/train/yolov11-exp\u001b[0m\n",
            "\n",
            "2. Optimizing hyperparameters...\n",
            "\n",
            "Starting hyperparameter optimization (2 iterations)...\n",
            "\n",
            "Iteration 1/2: {'batch': 8, 'lr0': 0.01, 'weight_decay': 0.0005}\n",
            "\n",
            "Training configuration:\n",
            "data: runs/train/temp_dataset.yaml\n",
            "epochs: 2\n",
            "batch: 8\n",
            "imgsz: 512\n",
            "device: cpu\n",
            "workers: 2\n",
            "seed: 0\n",
            "project: runs/train\n",
            "name: yolov11-exp_opt_2\n",
            "exist_ok: True\n",
            "cos_lr: True\n",
            "lr0: 0.01\n",
            "momentum: 0.937\n",
            "weight_decay: 0.0005\n",
            "fliplr: 0.5\n",
            "Ultralytics 8.3.162 🚀 Python-3.11.13 torch-2.7.1+cu118 CPU (Intel Xeon 2.20GHz)\n",
            "\u001b[34m\u001b[1mengine/trainer: \u001b[0magnostic_nms=False, amp=True, augment=False, auto_augment=randaugment, batch=8, bgr=0.0, box=7.5, cache=False, cfg=None, classes=None, close_mosaic=10, cls=0.5, conf=None, copy_paste=0.0, copy_paste_mode=flip, cos_lr=True, cutmix=0.0, data=runs/train/temp_dataset.yaml, degrees=0.0, deterministic=True, device=cpu, dfl=1.5, dnn=False, dropout=0.0, dynamic=False, embed=None, epochs=2, erasing=0.4, exist_ok=True, fliplr=0.5, flipud=0.0, format=torchscript, fraction=1.0, freeze=None, half=False, hsv_h=0.015, hsv_s=0.7, hsv_v=0.4, imgsz=512, int8=False, iou=0.7, keras=False, kobj=1.0, line_width=None, lr0=0.01, lrf=0.01, mask_ratio=4, max_det=300, mixup=0.0, mode=train, model=yolov8s.pt, momentum=0.937, mosaic=1.0, multi_scale=False, name=yolov11-exp_opt_2, nbs=64, nms=False, opset=None, optimize=False, optimizer=auto, overlap_mask=True, patience=100, perspective=0.0, plots=True, pose=12.0, pretrained=True, profile=False, project=runs/train, rect=False, resume=False, retina_masks=False, save=True, save_conf=False, save_crop=False, save_dir=runs/train/yolov11-exp_opt_2, save_frames=False, save_json=False, save_period=-1, save_txt=False, scale=0.5, seed=0, shear=0.0, show=False, show_boxes=True, show_conf=True, show_labels=True, simplify=True, single_cls=False, source=None, split=val, stream_buffer=False, task=detect, time=None, tracker=botsort.yaml, translate=0.1, val=True, verbose=True, vid_stride=1, visualize=False, warmup_bias_lr=0.0, warmup_epochs=3.0, warmup_momentum=0.8, weight_decay=0.0005, workers=2, workspace=None\n",
            "\n",
            "                   from  n    params  module                                       arguments                     \n",
            "  0                  -1  1       928  ultralytics.nn.modules.conv.Conv             [3, 32, 3, 2]                 \n",
            "  1                  -1  1     18560  ultralytics.nn.modules.conv.Conv             [32, 64, 3, 2]                \n",
            "  2                  -1  1     29056  ultralytics.nn.modules.block.C2f             [64, 64, 1, True]             \n",
            "  3                  -1  1     73984  ultralytics.nn.modules.conv.Conv             [64, 128, 3, 2]               \n",
            "  4                  -1  2    197632  ultralytics.nn.modules.block.C2f             [128, 128, 2, True]           \n",
            "  5                  -1  1    295424  ultralytics.nn.modules.conv.Conv             [128, 256, 3, 2]              \n",
            "  6                  -1  2    788480  ultralytics.nn.modules.block.C2f             [256, 256, 2, True]           \n",
            "  7                  -1  1   1180672  ultralytics.nn.modules.conv.Conv             [256, 512, 3, 2]              \n",
            "  8                  -1  1   1838080  ultralytics.nn.modules.block.C2f             [512, 512, 1, True]           \n",
            "  9                  -1  1    656896  ultralytics.nn.modules.block.SPPF            [512, 512, 5]                 \n",
            " 10                  -1  1         0  torch.nn.modules.upsampling.Upsample         [None, 2, 'nearest']          \n",
            " 11             [-1, 6]  1         0  ultralytics.nn.modules.conv.Concat           [1]                           \n",
            " 12                  -1  1    591360  ultralytics.nn.modules.block.C2f             [768, 256, 1]                 \n",
            " 13                  -1  1         0  torch.nn.modules.upsampling.Upsample         [None, 2, 'nearest']          \n",
            " 14             [-1, 4]  1         0  ultralytics.nn.modules.conv.Concat           [1]                           \n",
            " 15                  -1  1    148224  ultralytics.nn.modules.block.C2f             [384, 128, 1]                 \n",
            " 16                  -1  1    147712  ultralytics.nn.modules.conv.Conv             [128, 128, 3, 2]              \n",
            " 17            [-1, 12]  1         0  ultralytics.nn.modules.conv.Concat           [1]                           \n",
            " 18                  -1  1    493056  ultralytics.nn.modules.block.C2f             [384, 256, 1]                 \n",
            " 19                  -1  1    590336  ultralytics.nn.modules.conv.Conv             [256, 256, 3, 2]              \n",
            " 20             [-1, 9]  1         0  ultralytics.nn.modules.conv.Concat           [1]                           \n",
            " 21                  -1  1   1969152  ultralytics.nn.modules.block.C2f             [768, 512, 1]                 \n",
            " 22        [15, 18, 21]  1   2119144  ultralytics.nn.modules.head.Detect           [8, [128, 256, 512]]          \n",
            "Model summary: 129 layers, 11,138,696 parameters, 11,138,680 gradients, 28.7 GFLOPs\n",
            "\n",
            "Transferred 355/355 items from pretrained weights\n",
            "Freezing layer 'model.22.dfl.conv.weight'\n",
            "\u001b[34m\u001b[1mtrain: \u001b[0mFast image access ✅ (ping: 0.6±0.1 ms, read: 146.1±109.2 MB/s, size: 1341.3 KB)\n"
          ]
        },
        {
          "metadata": {
            "tags": null
          },
          "name": "stderr",
          "output_type": "stream",
          "text": [
            "\u001b[34m\u001b[1mtrain: \u001b[0mScanning /content/drive/MyDrive/yolov11_test_cv/yolov11_dataset/labels/train.cache... 1695 images, 1 backgrounds, 355 corrupt: 100%|██████████| 1695/1695 [00:00<?, ?it/s]"
          ]
        },
        {
          "metadata": {
            "tags": null
          },
          "name": "stdout",
          "output_type": "stream",
          "text": [
            "\u001b[34m\u001b[1mtrain: \u001b[0m/content/drive/MyDrive/yolov11_test_cv/yolov11_dataset/images/train/1_frame_000009.jpg: ignoring corrupt image/label: labels require 5 columns, 6 columns detected\n",
            "\u001b[34m\u001b[1mtrain: \u001b[0m/content/drive/MyDrive/yolov11_test_cv/yolov11_dataset/images/train/1_frame_000014.jpg: ignoring corrupt image/label: labels require 5 columns, 6 columns detected\n",
            "\u001b[34m\u001b[1mtrain: \u001b[0m/content/drive/MyDrive/yolov11_test_cv/yolov11_dataset/images/train/1_frame_000020.jpg: ignoring corrupt image/label: labels require 5 columns, 6 columns detected\n",
            "\u001b[34m\u001b[1mtrain: \u001b[0m/content/drive/MyDrive/yolov11_test_cv/yolov11_dataset/images/train/1_frame_000026.jpg: ignoring corrupt image/label: labels require 5 columns, 6 columns detected\n",
            "\u001b[34m\u001b[1mtrain: \u001b[0m/content/drive/MyDrive/yolov11_test_cv/yolov11_dataset/images/train/1_frame_000028.jpg: ignoring corrupt image/label: labels require 5 columns, 6 columns detected\n",
            "\u001b[34m\u001b[1mtrain: \u001b[0m/content/drive/MyDrive/yolov11_test_cv/yolov11_dataset/images/train/1_frame_000050.jpg: ignoring corrupt image/label: labels require 5 columns, 6 columns detected\n",
            "\u001b[34m\u001b[1mtrain: \u001b[0m/content/drive/MyDrive/yolov11_test_cv/yolov11_dataset/images/train/1_frame_000056.jpg: ignoring corrupt image/label: labels require 5 columns, 6 columns detected\n",
            "\u001b[34m\u001b[1mtrain: \u001b[0m/content/drive/MyDrive/yolov11_test_cv/yolov11_dataset/images/train/1_frame_000084.jpg: ignoring corrupt image/label: labels require 5 columns, 6 columns detected\n",
            "\u001b[34m\u001b[1mtrain: \u001b[0m/content/drive/MyDrive/yolov11_test_cv/yolov11_dataset/images/train/1_frame_000087.jpg: ignoring corrupt image/label: labels require 5 columns, 6 columns detected\n",
            "\u001b[34m\u001b[1mtrain: \u001b[0m/content/drive/MyDrive/yolov11_test_cv/yolov11_dataset/images/train/1_frame_000098.jpg: ignoring corrupt image/label: labels require 5 columns, 6 columns detected\n",
            "\u001b[34m\u001b[1mtrain: \u001b[0m/content/drive/MyDrive/yolov11_test_cv/yolov11_dataset/images/train/1_frame_000163.jpg: ignoring corrupt image/label: labels require 5 columns, 6 columns detected\n",
            "\u001b[34m\u001b[1mtrain: \u001b[0m/content/drive/MyDrive/yolov11_test_cv/yolov11_dataset/images/train/2_1_frame_000054.jpg: ignoring corrupt image/label: labels require 5 columns, 6 columns detected\n",
            "\u001b[34m\u001b[1mtrain: \u001b[0m/content/drive/MyDrive/yolov11_test_cv/yolov11_dataset/images/train/2_1_frame_000108.jpg: ignoring corrupt image/label: labels require 5 columns, 6 columns detected\n",
            "\u001b[34m\u001b[1mtrain: \u001b[0m/content/drive/MyDrive/yolov11_test_cv/yolov11_dataset/images/train/2_1_frame_000324.jpg: ignoring corrupt image/label: labels require 5 columns, 6 columns detected\n",
            "\u001b[34m\u001b[1mtrain: \u001b[0m/content/drive/MyDrive/yolov11_test_cv/yolov11_dataset/images/train/2_1_frame_000432.jpg: ignoring corrupt image/label: labels require 5 columns, 6 columns detected\n",
            "\u001b[34m\u001b[1mtrain: \u001b[0m/content/drive/MyDrive/yolov11_test_cv/yolov11_dataset/images/train/2_1_frame_000486.jpg: ignoring corrupt image/label: labels require 5 columns, 6 columns detected\n",
            "\u001b[34m\u001b[1mtrain: \u001b[0m/content/drive/MyDrive/yolov11_test_cv/yolov11_dataset/images/train/2_1_frame_000702.jpg: ignoring corrupt image/label: labels require 5 columns, 6 columns detected\n",
            "\u001b[34m\u001b[1mtrain: \u001b[0m/content/drive/MyDrive/yolov11_test_cv/yolov11_dataset/images/train/2_1_frame_000810.jpg: ignoring corrupt image/label: labels require 5 columns, 6 columns detected\n",
            "\u001b[34m\u001b[1mtrain: \u001b[0m/content/drive/MyDrive/yolov11_test_cv/yolov11_dataset/images/train/2_1_frame_000972.jpg: ignoring corrupt image/label: labels require 5 columns, 6 columns detected\n",
            "\u001b[34m\u001b[1mtrain: \u001b[0m/content/drive/MyDrive/yolov11_test_cv/yolov11_dataset/images/train/2_1_frame_001026.jpg: ignoring corrupt image/label: labels require 5 columns, 6 columns detected\n",
            "\u001b[34m\u001b[1mtrain: \u001b[0m/content/drive/MyDrive/yolov11_test_cv/yolov11_dataset/images/train/2_1_frame_001080.jpg: ignoring corrupt image/label: labels require 5 columns, 6 columns detected\n",
            "\u001b[34m\u001b[1mtrain: \u001b[0m/content/drive/MyDrive/yolov11_test_cv/yolov11_dataset/images/train/2_1_frame_001134.jpg: ignoring corrupt image/label: labels require 5 columns, 6 columns detected\n",
            "\u001b[34m\u001b[1mtrain: \u001b[0m/content/drive/MyDrive/yolov11_test_cv/yolov11_dataset/images/train/2_1_frame_001377.jpg: ignoring corrupt image/label: labels require 5 columns, 6 columns detected\n",
            "\u001b[34m\u001b[1mtrain: \u001b[0m/content/drive/MyDrive/yolov11_test_cv/yolov11_dataset/images/train/3_1_frame_000025.jpg: ignoring corrupt image/label: labels require 5 columns, 6 columns detected\n",
            "\u001b[34m\u001b[1mtrain: \u001b[0m/content/drive/MyDrive/yolov11_test_cv/yolov11_dataset/images/train/3_1_frame_000060.jpg: ignoring corrupt image/label: labels require 5 columns, 6 columns detected\n",
            "\u001b[34m\u001b[1mtrain: \u001b[0m/content/drive/MyDrive/yolov11_test_cv/yolov11_dataset/images/train/3_1_frame_000075.jpg: ignoring corrupt image/label: labels require 5 columns, 6 columns detected\n",
            "\u001b[34m\u001b[1mtrain: \u001b[0m/content/drive/MyDrive/yolov11_test_cv/yolov11_dataset/images/train/3_1_frame_000096.jpg: ignoring corrupt image/label: labels require 5 columns, 6 columns detected\n",
            "\u001b[34m\u001b[1mtrain: \u001b[0m/content/drive/MyDrive/yolov11_test_cv/yolov11_dataset/images/train/3_1_frame_000100.jpg: ignoring corrupt image/label: labels require 5 columns, 6 columns detected\n",
            "\u001b[34m\u001b[1mtrain: \u001b[0m/content/drive/MyDrive/yolov11_test_cv/yolov11_dataset/images/train/3_1_frame_000125.jpg: ignoring corrupt image/label: labels require 5 columns, 6 columns detected\n",
            "\u001b[34m\u001b[1mtrain: \u001b[0m/content/drive/MyDrive/yolov11_test_cv/yolov11_dataset/images/train/3_1_frame_000132.jpg: ignoring corrupt image/label: labels require 5 columns, 6 columns detected\n",
            "\u001b[34m\u001b[1mtrain: \u001b[0m/content/drive/MyDrive/yolov11_test_cv/yolov11_dataset/images/train/3_1_frame_000150.jpg: ignoring corrupt image/label: labels require 5 columns, 6 columns detected\n",
            "\u001b[34m\u001b[1mtrain: \u001b[0m/content/drive/MyDrive/yolov11_test_cv/yolov11_dataset/images/train/3_1_frame_000156.jpg: ignoring corrupt image/label: labels require 5 columns, 6 columns detected\n",
            "\u001b[34m\u001b[1mtrain: \u001b[0m/content/drive/MyDrive/yolov11_test_cv/yolov11_dataset/images/train/3_1_frame_000168.jpg: ignoring corrupt image/label: labels require 5 columns, 6 columns detected\n",
            "\u001b[34m\u001b[1mtrain: \u001b[0m/content/drive/MyDrive/yolov11_test_cv/yolov11_dataset/images/train/3_1_frame_000192.jpg: ignoring corrupt image/label: labels require 5 columns, 6 columns detected\n",
            "\u001b[34m\u001b[1mtrain: \u001b[0m/content/drive/MyDrive/yolov11_test_cv/yolov11_dataset/images/train/3_1_frame_000200.jpg: ignoring corrupt image/label: labels require 5 columns, 6 columns detected\n",
            "\u001b[34m\u001b[1mtrain: \u001b[0m/content/drive/MyDrive/yolov11_test_cv/yolov11_dataset/images/train/3_1_frame_000204.jpg: ignoring corrupt image/label: labels require 5 columns, 6 columns detected\n",
            "\u001b[34m\u001b[1mtrain: \u001b[0m/content/drive/MyDrive/yolov11_test_cv/yolov11_dataset/images/train/3_1_frame_000216.jpg: ignoring corrupt image/label: labels require 5 columns, 6 columns detected\n",
            "\u001b[34m\u001b[1mtrain: \u001b[0m/content/drive/MyDrive/yolov11_test_cv/yolov11_dataset/images/train/3_1_frame_000225.jpg: ignoring corrupt image/label: labels require 5 columns, 6 columns detected\n",
            "\u001b[34m\u001b[1mtrain: \u001b[0m/content/drive/MyDrive/yolov11_test_cv/yolov11_dataset/images/train/3_1_frame_000228.jpg: ignoring corrupt image/label: labels require 5 columns, 6 columns detected\n",
            "\u001b[34m\u001b[1mtrain: \u001b[0m/content/drive/MyDrive/yolov11_test_cv/yolov11_dataset/images/train/3_1_frame_000250.jpg: ignoring corrupt image/label: labels require 5 columns, 6 columns detected\n",
            "\u001b[34m\u001b[1mtrain: \u001b[0m/content/drive/MyDrive/yolov11_test_cv/yolov11_dataset/images/train/3_1_frame_000264.jpg: ignoring corrupt image/label: labels require 5 columns, 6 columns detected\n",
            "\u001b[34m\u001b[1mtrain: \u001b[0m/content/drive/MyDrive/yolov11_test_cv/yolov11_dataset/images/train/3_1_frame_000275.jpg: ignoring corrupt image/label: labels require 5 columns, 6 columns detected\n",
            "\u001b[34m\u001b[1mtrain: \u001b[0m/content/drive/MyDrive/yolov11_test_cv/yolov11_dataset/images/train/3_1_frame_000276.jpg: ignoring corrupt image/label: labels require 5 columns, 6 columns detected\n",
            "\u001b[34m\u001b[1mtrain: \u001b[0m/content/drive/MyDrive/yolov11_test_cv/yolov11_dataset/images/train/3_1_frame_000288.jpg: ignoring corrupt image/label: labels require 5 columns, 6 columns detected\n",
            "\u001b[34m\u001b[1mtrain: \u001b[0m/content/drive/MyDrive/yolov11_test_cv/yolov11_dataset/images/train/3_1_frame_000300.jpg: ignoring corrupt image/label: labels require 5 columns, 6 columns detected\n",
            "\u001b[34m\u001b[1mtrain: \u001b[0m/content/drive/MyDrive/yolov11_test_cv/yolov11_dataset/images/train/3_1_frame_000312.jpg: ignoring corrupt image/label: labels require 5 columns, 6 columns detected\n",
            "\u001b[34m\u001b[1mtrain: \u001b[0m/content/drive/MyDrive/yolov11_test_cv/yolov11_dataset/images/train/3_1_frame_000324.jpg: ignoring corrupt image/label: labels require 5 columns, 6 columns detected\n",
            "\u001b[34m\u001b[1mtrain: \u001b[0m/content/drive/MyDrive/yolov11_test_cv/yolov11_dataset/images/train/3_1_frame_000325.jpg: ignoring corrupt image/label: labels require 5 columns, 6 columns detected\n",
            "\u001b[34m\u001b[1mtrain: \u001b[0m/content/drive/MyDrive/yolov11_test_cv/yolov11_dataset/images/train/3_1_frame_000336.jpg: ignoring corrupt image/label: labels require 5 columns, 6 columns detected\n",
            "\u001b[34m\u001b[1mtrain: \u001b[0m/content/drive/MyDrive/yolov11_test_cv/yolov11_dataset/images/train/3_1_frame_000348.jpg: ignoring corrupt image/label: labels require 5 columns, 6 columns detected\n",
            "\u001b[34m\u001b[1mtrain: \u001b[0m/content/drive/MyDrive/yolov11_test_cv/yolov11_dataset/images/train/3_1_frame_000350.jpg: ignoring corrupt image/label: labels require 5 columns, 6 columns detected\n",
            "\u001b[34m\u001b[1mtrain: \u001b[0m/content/drive/MyDrive/yolov11_test_cv/yolov11_dataset/images/train/3_1_frame_000375.jpg: ignoring corrupt image/label: labels require 5 columns, 6 columns detected\n",
            "\u001b[34m\u001b[1mtrain: \u001b[0m/content/drive/MyDrive/yolov11_test_cv/yolov11_dataset/images/train/3_1_frame_000384.jpg: ignoring corrupt image/label: labels require 5 columns, 6 columns detected\n",
            "\u001b[34m\u001b[1mtrain: \u001b[0m/content/drive/MyDrive/yolov11_test_cv/yolov11_dataset/images/train/3_1_frame_000396.jpg: ignoring corrupt image/label: labels require 5 columns, 6 columns detected\n",
            "\u001b[34m\u001b[1mtrain: \u001b[0m/content/drive/MyDrive/yolov11_test_cv/yolov11_dataset/images/train/3_1_frame_000400.jpg: ignoring corrupt image/label: labels require 5 columns, 6 columns detected\n",
            "\u001b[34m\u001b[1mtrain: \u001b[0m/content/drive/MyDrive/yolov11_test_cv/yolov11_dataset/images/train/3_1_frame_000420.jpg: ignoring corrupt image/label: labels require 5 columns, 6 columns detected\n",
            "\u001b[34m\u001b[1mtrain: \u001b[0m/content/drive/MyDrive/yolov11_test_cv/yolov11_dataset/images/train/3_1_frame_000425.jpg: ignoring corrupt image/label: labels require 5 columns, 6 columns detected\n",
            "\u001b[34m\u001b[1mtrain: \u001b[0m/content/drive/MyDrive/yolov11_test_cv/yolov11_dataset/images/train/3_1_frame_000432.jpg: ignoring corrupt image/label: labels require 5 columns, 6 columns detected\n",
            "\u001b[34m\u001b[1mtrain: \u001b[0m/content/drive/MyDrive/yolov11_test_cv/yolov11_dataset/images/train/3_1_frame_000450.jpg: ignoring corrupt image/label: labels require 5 columns, 6 columns detected\n",
            "\u001b[34m\u001b[1mtrain: \u001b[0m/content/drive/MyDrive/yolov11_test_cv/yolov11_dataset/images/train/3_1_frame_000468.jpg: ignoring corrupt image/label: labels require 5 columns, 6 columns detected\n",
            "\u001b[34m\u001b[1mtrain: \u001b[0m/content/drive/MyDrive/yolov11_test_cv/yolov11_dataset/images/train/3_1_frame_000475.jpg: ignoring corrupt image/label: labels require 5 columns, 6 columns detected\n",
            "\u001b[34m\u001b[1mtrain: \u001b[0m/content/drive/MyDrive/yolov11_test_cv/yolov11_dataset/images/train/3_1_frame_000480.jpg: ignoring corrupt image/label: labels require 5 columns, 6 columns detected\n",
            "\u001b[34m\u001b[1mtrain: \u001b[0m/content/drive/MyDrive/yolov11_test_cv/yolov11_dataset/images/train/3_1_frame_000492.jpg: ignoring corrupt image/label: labels require 5 columns, 6 columns detected\n",
            "\u001b[34m\u001b[1mtrain: \u001b[0m/content/drive/MyDrive/yolov11_test_cv/yolov11_dataset/images/train/3_1_frame_000500.jpg: ignoring corrupt image/label: labels require 5 columns, 6 columns detected\n",
            "\u001b[34m\u001b[1mtrain: \u001b[0m/content/drive/MyDrive/yolov11_test_cv/yolov11_dataset/images/train/3_1_frame_000504.jpg: ignoring corrupt image/label: labels require 5 columns, 6 columns detected\n",
            "\u001b[34m\u001b[1mtrain: \u001b[0m/content/drive/MyDrive/yolov11_test_cv/yolov11_dataset/images/train/3_1_frame_000516.jpg: ignoring corrupt image/label: labels require 5 columns, 6 columns detected\n",
            "\u001b[34m\u001b[1mtrain: \u001b[0m/content/drive/MyDrive/yolov11_test_cv/yolov11_dataset/images/train/3_1_frame_000540.jpg: ignoring corrupt image/label: labels require 5 columns, 6 columns detected\n",
            "\u001b[34m\u001b[1mtrain: \u001b[0m/content/drive/MyDrive/yolov11_test_cv/yolov11_dataset/images/train/3_1_frame_000575.jpg: ignoring corrupt image/label: labels require 5 columns, 6 columns detected\n",
            "\u001b[34m\u001b[1mtrain: \u001b[0m/content/drive/MyDrive/yolov11_test_cv/yolov11_dataset/images/train/3_1_frame_000576.jpg: ignoring corrupt image/label: labels require 5 columns, 6 columns detected\n",
            "\u001b[34m\u001b[1mtrain: \u001b[0m/content/drive/MyDrive/yolov11_test_cv/yolov11_dataset/images/train/3_1_frame_000588.jpg: ignoring corrupt image/label: labels require 5 columns, 6 columns detected\n",
            "\u001b[34m\u001b[1mtrain: \u001b[0m/content/drive/MyDrive/yolov11_test_cv/yolov11_dataset/images/train/3_1_frame_000612.jpg: ignoring corrupt image/label: labels require 5 columns, 6 columns detected\n",
            "\u001b[34m\u001b[1mtrain: \u001b[0m/content/drive/MyDrive/yolov11_test_cv/yolov11_dataset/images/train/3_1_frame_000648.jpg: ignoring corrupt image/label: labels require 5 columns, 6 columns detected\n",
            "\u001b[34m\u001b[1mtrain: \u001b[0m/content/drive/MyDrive/yolov11_test_cv/yolov11_dataset/images/train/3_1_frame_000650.jpg: ignoring corrupt image/label: labels require 5 columns, 6 columns detected\n",
            "\u001b[34m\u001b[1mtrain: \u001b[0m/content/drive/MyDrive/yolov11_test_cv/yolov11_dataset/images/train/3_1_frame_000675.jpg: ignoring corrupt image/label: labels require 5 columns, 6 columns detected\n",
            "\u001b[34m\u001b[1mtrain: \u001b[0m/content/drive/MyDrive/yolov11_test_cv/yolov11_dataset/images/train/3_1_frame_000684.jpg: ignoring corrupt image/label: labels require 5 columns, 6 columns detected\n",
            "\u001b[34m\u001b[1mtrain: \u001b[0m/content/drive/MyDrive/yolov11_test_cv/yolov11_dataset/images/train/3_1_frame_000696.jpg: ignoring corrupt image/label: labels require 5 columns, 6 columns detected\n",
            "\u001b[34m\u001b[1mtrain: \u001b[0m/content/drive/MyDrive/yolov11_test_cv/yolov11_dataset/images/train/3_1_frame_000700.jpg: ignoring corrupt image/label: labels require 5 columns, 6 columns detected\n",
            "\u001b[34m\u001b[1mtrain: \u001b[0m/content/drive/MyDrive/yolov11_test_cv/yolov11_dataset/images/train/3_1_frame_000708.jpg: ignoring corrupt image/label: labels require 5 columns, 6 columns detected\n",
            "\u001b[34m\u001b[1mtrain: \u001b[0m/content/drive/MyDrive/yolov11_test_cv/yolov11_dataset/images/train/3_1_frame_000720.jpg: ignoring corrupt image/label: labels require 5 columns, 6 columns detected\n",
            "\u001b[34m\u001b[1mtrain: \u001b[0m/content/drive/MyDrive/yolov11_test_cv/yolov11_dataset/images/train/3_1_frame_000725.jpg: ignoring corrupt image/label: labels require 5 columns, 6 columns detected\n",
            "\u001b[34m\u001b[1mtrain: \u001b[0m/content/drive/MyDrive/yolov11_test_cv/yolov11_dataset/images/train/3_1_frame_000732.jpg: ignoring corrupt image/label: labels require 5 columns, 6 columns detected\n",
            "\u001b[34m\u001b[1mtrain: \u001b[0m/content/drive/MyDrive/yolov11_test_cv/yolov11_dataset/images/train/3_1_frame_000744.jpg: ignoring corrupt image/label: labels require 5 columns, 6 columns detected\n",
            "\u001b[34m\u001b[1mtrain: \u001b[0m/content/drive/MyDrive/yolov11_test_cv/yolov11_dataset/images/train/3_1_frame_000750.jpg: ignoring corrupt image/label: labels require 5 columns, 6 columns detected\n",
            "\u001b[34m\u001b[1mtrain: \u001b[0m/content/drive/MyDrive/yolov11_test_cv/yolov11_dataset/images/train/3_1_frame_000756.jpg: ignoring corrupt image/label: labels require 5 columns, 6 columns detected\n",
            "\u001b[34m\u001b[1mtrain: \u001b[0m/content/drive/MyDrive/yolov11_test_cv/yolov11_dataset/images/train/3_1_frame_000775.jpg: ignoring corrupt image/label: labels require 5 columns, 6 columns detected\n",
            "\u001b[34m\u001b[1mtrain: \u001b[0m/content/drive/MyDrive/yolov11_test_cv/yolov11_dataset/images/train/3_1_frame_000800.jpg: ignoring corrupt image/label: labels require 5 columns, 6 columns detected\n",
            "\u001b[34m\u001b[1mtrain: \u001b[0m/content/drive/MyDrive/yolov11_test_cv/yolov11_dataset/images/train/3_1_frame_000804.jpg: ignoring corrupt image/label: labels require 5 columns, 6 columns detected\n",
            "\u001b[34m\u001b[1mtrain: \u001b[0m/content/drive/MyDrive/yolov11_test_cv/yolov11_dataset/images/train/3_1_frame_000816.jpg: ignoring corrupt image/label: labels require 5 columns, 6 columns detected\n",
            "\u001b[34m\u001b[1mtrain: \u001b[0m/content/drive/MyDrive/yolov11_test_cv/yolov11_dataset/images/train/3_1_frame_000828.jpg: ignoring corrupt image/label: labels require 5 columns, 6 columns detected\n",
            "\u001b[34m\u001b[1mtrain: \u001b[0m/content/drive/MyDrive/yolov11_test_cv/yolov11_dataset/images/train/3_1_frame_000850.jpg: ignoring corrupt image/label: labels require 5 columns, 6 columns detected\n",
            "\u001b[34m\u001b[1mtrain: \u001b[0m/content/drive/MyDrive/yolov11_test_cv/yolov11_dataset/images/train/3_1_frame_000875.jpg: ignoring corrupt image/label: labels require 5 columns, 6 columns detected\n",
            "\u001b[34m\u001b[1mtrain: \u001b[0m/content/drive/MyDrive/yolov11_test_cv/yolov11_dataset/images/train/3_1_frame_000900.jpg: ignoring corrupt image/label: labels require 5 columns, 6 columns detected\n",
            "\u001b[34m\u001b[1mtrain: \u001b[0m/content/drive/MyDrive/yolov11_test_cv/yolov11_dataset/images/train/3_1_frame_000924.jpg: ignoring corrupt image/label: labels require 5 columns, 6 columns detected\n",
            "\u001b[34m\u001b[1mtrain: \u001b[0m/content/drive/MyDrive/yolov11_test_cv/yolov11_dataset/images/train/3_1_frame_000950.jpg: ignoring corrupt image/label: labels require 5 columns, 6 columns detected\n",
            "\u001b[34m\u001b[1mtrain: \u001b[0m/content/drive/MyDrive/yolov11_test_cv/yolov11_dataset/images/train/3_1_frame_000975.jpg: ignoring corrupt image/label: labels require 5 columns, 6 columns detected\n",
            "\u001b[34m\u001b[1mtrain: \u001b[0m/content/drive/MyDrive/yolov11_test_cv/yolov11_dataset/images/train/3_1_frame_000984.jpg: ignoring corrupt image/label: labels require 5 columns, 6 columns detected\n",
            "\u001b[34m\u001b[1mtrain: \u001b[0m/content/drive/MyDrive/yolov11_test_cv/yolov11_dataset/images/train/3_1_frame_001000.jpg: ignoring corrupt image/label: labels require 5 columns, 6 columns detected\n",
            "\u001b[34m\u001b[1mtrain: \u001b[0m/content/drive/MyDrive/yolov11_test_cv/yolov11_dataset/images/train/3_1_frame_001008.jpg: ignoring corrupt image/label: labels require 5 columns, 6 columns detected\n",
            "\u001b[34m\u001b[1mtrain: \u001b[0m/content/drive/MyDrive/yolov11_test_cv/yolov11_dataset/images/train/3_1_frame_001020.jpg: ignoring corrupt image/label: labels require 5 columns, 6 columns detected\n",
            "\u001b[34m\u001b[1mtrain: \u001b[0m/content/drive/MyDrive/yolov11_test_cv/yolov11_dataset/images/train/3_1_frame_001032.jpg: ignoring corrupt image/label: labels require 5 columns, 6 columns detected\n",
            "\u001b[34m\u001b[1mtrain: \u001b[0m/content/drive/MyDrive/yolov11_test_cv/yolov11_dataset/images/train/3_1_frame_001044.jpg: ignoring corrupt image/label: labels require 5 columns, 6 columns detected\n",
            "\u001b[34m\u001b[1mtrain: \u001b[0m/content/drive/MyDrive/yolov11_test_cv/yolov11_dataset/images/train/3_1_frame_001050.jpg: ignoring corrupt image/label: labels require 5 columns, 6 columns detected\n",
            "\u001b[34m\u001b[1mtrain: \u001b[0m/content/drive/MyDrive/yolov11_test_cv/yolov11_dataset/images/train/3_1_frame_001056.jpg: ignoring corrupt image/label: labels require 5 columns, 6 columns detected\n",
            "\u001b[34m\u001b[1mtrain: \u001b[0m/content/drive/MyDrive/yolov11_test_cv/yolov11_dataset/images/train/3_1_frame_001068.jpg: ignoring corrupt image/label: labels require 5 columns, 6 columns detected\n",
            "\u001b[34m\u001b[1mtrain: \u001b[0m/content/drive/MyDrive/yolov11_test_cv/yolov11_dataset/images/train/3_1_frame_001080.jpg: ignoring corrupt image/label: labels require 5 columns, 6 columns detected\n",
            "\u001b[34m\u001b[1mtrain: \u001b[0m/content/drive/MyDrive/yolov11_test_cv/yolov11_dataset/images/train/3_1_frame_001092.jpg: ignoring corrupt image/label: labels require 5 columns, 6 columns detected\n",
            "\u001b[34m\u001b[1mtrain: \u001b[0m/content/drive/MyDrive/yolov11_test_cv/yolov11_dataset/images/train/3_1_frame_001100.jpg: ignoring corrupt image/label: labels require 5 columns, 6 columns detected\n",
            "\u001b[34m\u001b[1mtrain: \u001b[0m/content/drive/MyDrive/yolov11_test_cv/yolov11_dataset/images/train/3_1_frame_001104.jpg: ignoring corrupt image/label: labels require 5 columns, 6 columns detected\n",
            "\u001b[34m\u001b[1mtrain: \u001b[0m/content/drive/MyDrive/yolov11_test_cv/yolov11_dataset/images/train/3_1_frame_001116.jpg: ignoring corrupt image/label: labels require 5 columns, 6 columns detected\n",
            "\u001b[34m\u001b[1mtrain: \u001b[0m/content/drive/MyDrive/yolov11_test_cv/yolov11_dataset/images/train/3_1_frame_001128.jpg: ignoring corrupt image/label: labels require 5 columns, 6 columns detected\n",
            "\u001b[34m\u001b[1mtrain: \u001b[0m/content/drive/MyDrive/yolov11_test_cv/yolov11_dataset/images/train/3_1_frame_001140.jpg: ignoring corrupt image/label: labels require 5 columns, 6 columns detected\n",
            "\u001b[34m\u001b[1mtrain: \u001b[0m/content/drive/MyDrive/yolov11_test_cv/yolov11_dataset/images/train/3_1_frame_001150.jpg: ignoring corrupt image/label: labels require 5 columns, 6 columns detected\n",
            "\u001b[34m\u001b[1mtrain: \u001b[0m/content/drive/MyDrive/yolov11_test_cv/yolov11_dataset/images/train/3_1_frame_001152.jpg: ignoring corrupt image/label: labels require 5 columns, 6 columns detected\n",
            "\u001b[34m\u001b[1mtrain: \u001b[0m/content/drive/MyDrive/yolov11_test_cv/yolov11_dataset/images/train/3_1_frame_001164.jpg: ignoring corrupt image/label: labels require 5 columns, 6 columns detected\n",
            "\u001b[34m\u001b[1mtrain: \u001b[0m/content/drive/MyDrive/yolov11_test_cv/yolov11_dataset/images/train/3_1_frame_001175.jpg: ignoring corrupt image/label: labels require 5 columns, 6 columns detected\n",
            "\u001b[34m\u001b[1mtrain: \u001b[0m/content/drive/MyDrive/yolov11_test_cv/yolov11_dataset/images/train/3_1_frame_001225.jpg: ignoring corrupt image/label: labels require 5 columns, 6 columns detected\n",
            "\u001b[34m\u001b[1mtrain: \u001b[0m/content/drive/MyDrive/yolov11_test_cv/yolov11_dataset/images/train/3_1_frame_001250.jpg: ignoring corrupt image/label: labels require 5 columns, 6 columns detected\n",
            "\u001b[34m\u001b[1mtrain: \u001b[0m/content/drive/MyDrive/yolov11_test_cv/yolov11_dataset/images/train/3_1_frame_001260.jpg: ignoring corrupt image/label: labels require 5 columns, 6 columns detected\n",
            "\u001b[34m\u001b[1mtrain: \u001b[0m/content/drive/MyDrive/yolov11_test_cv/yolov11_dataset/images/train/3_1_frame_001275.jpg: ignoring corrupt image/label: labels require 5 columns, 6 columns detected\n",
            "\u001b[34m\u001b[1mtrain: \u001b[0m/content/drive/MyDrive/yolov11_test_cv/yolov11_dataset/images/train/3_1_frame_001284.jpg: ignoring corrupt image/label: labels require 5 columns, 6 columns detected\n",
            "\u001b[34m\u001b[1mtrain: \u001b[0m/content/drive/MyDrive/yolov11_test_cv/yolov11_dataset/images/train/3_1_frame_001296.jpg: ignoring corrupt image/label: labels require 5 columns, 6 columns detected\n",
            "\u001b[34m\u001b[1mtrain: \u001b[0m/content/drive/MyDrive/yolov11_test_cv/yolov11_dataset/images/train/3_1_frame_001300.jpg: ignoring corrupt image/label: labels require 5 columns, 6 columns detected\n",
            "\u001b[34m\u001b[1mtrain: \u001b[0m/content/drive/MyDrive/yolov11_test_cv/yolov11_dataset/images/train/3_1_frame_001332.jpg: ignoring corrupt image/label: labels require 5 columns, 6 columns detected\n",
            "\u001b[34m\u001b[1mtrain: \u001b[0m/content/drive/MyDrive/yolov11_test_cv/yolov11_dataset/images/train/3_1_frame_001350.jpg: ignoring corrupt image/label: labels require 5 columns, 6 columns detected\n",
            "\u001b[34m\u001b[1mtrain: \u001b[0m/content/drive/MyDrive/yolov11_test_cv/yolov11_dataset/images/train/3_1_frame_001356.jpg: ignoring corrupt image/label: labels require 5 columns, 6 columns detected\n",
            "\u001b[34m\u001b[1mtrain: \u001b[0m/content/drive/MyDrive/yolov11_test_cv/yolov11_dataset/images/train/3_1_frame_001368.jpg: ignoring corrupt image/label: labels require 5 columns, 6 columns detected\n",
            "\u001b[34m\u001b[1mtrain: \u001b[0m/content/drive/MyDrive/yolov11_test_cv/yolov11_dataset/images/train/3_1_frame_001375.jpg: ignoring corrupt image/label: labels require 5 columns, 6 columns detected\n",
            "\u001b[34m\u001b[1mtrain: \u001b[0m/content/drive/MyDrive/yolov11_test_cv/yolov11_dataset/images/train/3_1_frame_001425.jpg: ignoring corrupt image/label: labels require 5 columns, 6 columns detected\n",
            "\u001b[34m\u001b[1mtrain: \u001b[0m/content/drive/MyDrive/yolov11_test_cv/yolov11_dataset/images/train/3_1_frame_001440.jpg: ignoring corrupt image/label: labels require 5 columns, 6 columns detected\n",
            "\u001b[34m\u001b[1mtrain: \u001b[0m/content/drive/MyDrive/yolov11_test_cv/yolov11_dataset/images/train/3_1_frame_001450.jpg: ignoring corrupt image/label: labels require 5 columns, 6 columns detected\n",
            "\u001b[34m\u001b[1mtrain: \u001b[0m/content/drive/MyDrive/yolov11_test_cv/yolov11_dataset/images/train/3_1_frame_001452.jpg: ignoring corrupt image/label: labels require 5 columns, 6 columns detected\n",
            "\u001b[34m\u001b[1mtrain: \u001b[0m/content/drive/MyDrive/yolov11_test_cv/yolov11_dataset/images/train/3_1_frame_001464.jpg: ignoring corrupt image/label: labels require 5 columns, 6 columns detected\n",
            "\u001b[34m\u001b[1mtrain: \u001b[0m/content/drive/MyDrive/yolov11_test_cv/yolov11_dataset/images/train/3_1_frame_001475.jpg: ignoring corrupt image/label: labels require 5 columns, 6 columns detected\n",
            "\u001b[34m\u001b[1mtrain: \u001b[0m/content/drive/MyDrive/yolov11_test_cv/yolov11_dataset/images/train/3_1_frame_001476.jpg: ignoring corrupt image/label: labels require 5 columns, 6 columns detected\n",
            "\u001b[34m\u001b[1mtrain: \u001b[0m/content/drive/MyDrive/yolov11_test_cv/yolov11_dataset/images/train/3_1_frame_001488.jpg: ignoring corrupt image/label: labels require 5 columns, 6 columns detected\n",
            "\u001b[34m\u001b[1mtrain: \u001b[0m/content/drive/MyDrive/yolov11_test_cv/yolov11_dataset/images/train/3_1_frame_001524.jpg: ignoring corrupt image/label: labels require 5 columns, 6 columns detected\n",
            "\u001b[34m\u001b[1mtrain: \u001b[0m/content/drive/MyDrive/yolov11_test_cv/yolov11_dataset/images/train/3_1_frame_001572.jpg: ignoring corrupt image/label: labels require 5 columns, 6 columns detected\n",
            "\u001b[34m\u001b[1mtrain: \u001b[0m/content/drive/MyDrive/yolov11_test_cv/yolov11_dataset/images/train/3_1_frame_001584.jpg: ignoring corrupt image/label: labels require 5 columns, 6 columns detected\n",
            "\u001b[34m\u001b[1mtrain: \u001b[0m/content/drive/MyDrive/yolov11_test_cv/yolov11_dataset/images/train/3_1_frame_001600.jpg: ignoring corrupt image/label: labels require 5 columns, 6 columns detected\n",
            "\u001b[34m\u001b[1mtrain: \u001b[0m/content/drive/MyDrive/yolov11_test_cv/yolov11_dataset/images/train/3_1_frame_001625.jpg: ignoring corrupt image/label: labels require 5 columns, 6 columns detected\n",
            "\u001b[34m\u001b[1mtrain: \u001b[0m/content/drive/MyDrive/yolov11_test_cv/yolov11_dataset/images/train/3_1_frame_001632.jpg: ignoring corrupt image/label: labels require 5 columns, 6 columns detected\n",
            "\u001b[34m\u001b[1mtrain: \u001b[0m/content/drive/MyDrive/yolov11_test_cv/yolov11_dataset/images/train/3_1_frame_001644.jpg: ignoring corrupt image/label: labels require 5 columns, 6 columns detected\n",
            "\u001b[34m\u001b[1mtrain: \u001b[0m/content/drive/MyDrive/yolov11_test_cv/yolov11_dataset/images/train/3_1_frame_001650.jpg: ignoring corrupt image/label: labels require 5 columns, 6 columns detected\n",
            "\u001b[34m\u001b[1mtrain: \u001b[0m/content/drive/MyDrive/yolov11_test_cv/yolov11_dataset/images/train/3_1_frame_001656.jpg: ignoring corrupt image/label: labels require 5 columns, 6 columns detected\n",
            "\u001b[34m\u001b[1mtrain: \u001b[0m/content/drive/MyDrive/yolov11_test_cv/yolov11_dataset/images/train/3_1_frame_001700.jpg: ignoring corrupt image/label: labels require 5 columns, 6 columns detected\n",
            "\u001b[34m\u001b[1mtrain: \u001b[0m/content/drive/MyDrive/yolov11_test_cv/yolov11_dataset/images/train/3_1_frame_001704.jpg: ignoring corrupt image/label: labels require 5 columns, 6 columns detected\n",
            "\u001b[34m\u001b[1mtrain: \u001b[0m/content/drive/MyDrive/yolov11_test_cv/yolov11_dataset/images/train/3_1_frame_001716.jpg: ignoring corrupt image/label: labels require 5 columns, 6 columns detected\n",
            "\u001b[34m\u001b[1mtrain: \u001b[0m/content/drive/MyDrive/yolov11_test_cv/yolov11_dataset/images/train/3_1_frame_001725.jpg: ignoring corrupt image/label: labels require 5 columns, 6 columns detected\n",
            "\u001b[34m\u001b[1mtrain: \u001b[0m/content/drive/MyDrive/yolov11_test_cv/yolov11_dataset/images/train/3_1_frame_001740.jpg: ignoring corrupt image/label: labels require 5 columns, 6 columns detected\n",
            "\u001b[34m\u001b[1mtrain: \u001b[0m/content/drive/MyDrive/yolov11_test_cv/yolov11_dataset/images/train/3_1_frame_001750.jpg: ignoring corrupt image/label: labels require 5 columns, 6 columns detected\n",
            "\u001b[34m\u001b[1mtrain: \u001b[0m/content/drive/MyDrive/yolov11_test_cv/yolov11_dataset/images/train/3_1_frame_001752.jpg: ignoring corrupt image/label: labels require 5 columns, 6 columns detected\n",
            "\u001b[34m\u001b[1mtrain: \u001b[0m/content/drive/MyDrive/yolov11_test_cv/yolov11_dataset/images/train/3_1_frame_001764.jpg: ignoring corrupt image/label: labels require 5 columns, 6 columns detected\n",
            "\u001b[34m\u001b[1mtrain: \u001b[0m/content/drive/MyDrive/yolov11_test_cv/yolov11_dataset/images/train/3_1_frame_001775.jpg: ignoring corrupt image/label: labels require 5 columns, 6 columns detected\n",
            "\u001b[34m\u001b[1mtrain: \u001b[0m/content/drive/MyDrive/yolov11_test_cv/yolov11_dataset/images/train/3_1_frame_001776.jpg: ignoring corrupt image/label: labels require 5 columns, 6 columns detected\n",
            "\u001b[34m\u001b[1mtrain: \u001b[0m/content/drive/MyDrive/yolov11_test_cv/yolov11_dataset/images/train/3_1_frame_001788.jpg: ignoring corrupt image/label: labels require 5 columns, 6 columns detected\n",
            "\u001b[34m\u001b[1mtrain: \u001b[0m/content/drive/MyDrive/yolov11_test_cv/yolov11_dataset/images/train/3_1_frame_001800.jpg: ignoring corrupt image/label: labels require 5 columns, 6 columns detected\n",
            "\u001b[34m\u001b[1mtrain: \u001b[0m/content/drive/MyDrive/yolov11_test_cv/yolov11_dataset/images/train/3_1_frame_001812.jpg: ignoring corrupt image/label: labels require 5 columns, 6 columns detected\n",
            "\u001b[34m\u001b[1mtrain: \u001b[0m/content/drive/MyDrive/yolov11_test_cv/yolov11_dataset/images/train/3_1_frame_001836.jpg: ignoring corrupt image/label: labels require 5 columns, 6 columns detected\n",
            "\u001b[34m\u001b[1mtrain: \u001b[0m/content/drive/MyDrive/yolov11_test_cv/yolov11_dataset/images/train/3_1_frame_001848.jpg: ignoring corrupt image/label: labels require 5 columns, 6 columns detected\n",
            "\u001b[34m\u001b[1mtrain: \u001b[0m/content/drive/MyDrive/yolov11_test_cv/yolov11_dataset/images/train/3_1_frame_001850.jpg: ignoring corrupt image/label: labels require 5 columns, 6 columns detected\n",
            "\u001b[34m\u001b[1mtrain: \u001b[0m/content/drive/MyDrive/yolov11_test_cv/yolov11_dataset/images/train/3_1_frame_001860.jpg: ignoring corrupt image/label: labels require 5 columns, 6 columns detected\n",
            "\u001b[34m\u001b[1mtrain: \u001b[0m/content/drive/MyDrive/yolov11_test_cv/yolov11_dataset/images/train/3_1_frame_001875.jpg: ignoring corrupt image/label: labels require 5 columns, 6 columns detected\n",
            "\u001b[34m\u001b[1mtrain: \u001b[0m/content/drive/MyDrive/yolov11_test_cv/yolov11_dataset/images/train/3_1_frame_001900.jpg: ignoring corrupt image/label: labels require 5 columns, 6 columns detected\n",
            "\u001b[34m\u001b[1mtrain: \u001b[0m/content/drive/MyDrive/yolov11_test_cv/yolov11_dataset/images/train/3_1_frame_001908.jpg: ignoring corrupt image/label: labels require 5 columns, 6 columns detected\n",
            "\u001b[34m\u001b[1mtrain: \u001b[0m/content/drive/MyDrive/yolov11_test_cv/yolov11_dataset/images/train/3_1_frame_001932.jpg: ignoring corrupt image/label: labels require 5 columns, 6 columns detected\n",
            "\u001b[34m\u001b[1mtrain: \u001b[0m/content/drive/MyDrive/yolov11_test_cv/yolov11_dataset/images/train/3_1_frame_001944.jpg: ignoring corrupt image/label: labels require 5 columns, 6 columns detected\n",
            "\u001b[34m\u001b[1mtrain: \u001b[0m/content/drive/MyDrive/yolov11_test_cv/yolov11_dataset/images/train/3_1_frame_001956.jpg: ignoring corrupt image/label: labels require 5 columns, 6 columns detected\n",
            "\u001b[34m\u001b[1mtrain: \u001b[0m/content/drive/MyDrive/yolov11_test_cv/yolov11_dataset/images/train/3_1_frame_001968.jpg: ignoring corrupt image/label: labels require 5 columns, 6 columns detected\n",
            "\u001b[34m\u001b[1mtrain: \u001b[0m/content/drive/MyDrive/yolov11_test_cv/yolov11_dataset/images/train/3_1_frame_001975.jpg: ignoring corrupt image/label: labels require 5 columns, 6 columns detected\n",
            "\u001b[34m\u001b[1mtrain: \u001b[0m/content/drive/MyDrive/yolov11_test_cv/yolov11_dataset/images/train/3_1_frame_001980.jpg: ignoring corrupt image/label: labels require 5 columns, 6 columns detected\n",
            "\u001b[34m\u001b[1mtrain: \u001b[0m/content/drive/MyDrive/yolov11_test_cv/yolov11_dataset/images/train/3_1_frame_002000.jpg: ignoring corrupt image/label: labels require 5 columns, 6 columns detected\n",
            "\u001b[34m\u001b[1mtrain: \u001b[0m/content/drive/MyDrive/yolov11_test_cv/yolov11_dataset/images/train/3_1_frame_002016.jpg: ignoring corrupt image/label: labels require 5 columns, 6 columns detected\n",
            "\u001b[34m\u001b[1mtrain: \u001b[0m/content/drive/MyDrive/yolov11_test_cv/yolov11_dataset/images/train/3_1_frame_002025.jpg: ignoring corrupt image/label: labels require 5 columns, 6 columns detected\n",
            "\u001b[34m\u001b[1mtrain: \u001b[0m/content/drive/MyDrive/yolov11_test_cv/yolov11_dataset/images/train/3_1_frame_002028.jpg: ignoring corrupt image/label: labels require 5 columns, 6 columns detected\n",
            "\u001b[34m\u001b[1mtrain: \u001b[0m/content/drive/MyDrive/yolov11_test_cv/yolov11_dataset/images/train/3_1_frame_002040.jpg: ignoring corrupt image/label: labels require 5 columns, 6 columns detected\n",
            "\u001b[34m\u001b[1mtrain: \u001b[0m/content/drive/MyDrive/yolov11_test_cv/yolov11_dataset/images/train/3_1_frame_002050.jpg: ignoring corrupt image/label: labels require 5 columns, 6 columns detected\n",
            "\u001b[34m\u001b[1mtrain: \u001b[0m/content/drive/MyDrive/yolov11_test_cv/yolov11_dataset/images/train/3_1_frame_002052.jpg: ignoring corrupt image/label: labels require 5 columns, 6 columns detected\n",
            "\u001b[34m\u001b[1mtrain: \u001b[0m/content/drive/MyDrive/yolov11_test_cv/yolov11_dataset/images/train/3_1_frame_002064.jpg: ignoring corrupt image/label: labels require 5 columns, 6 columns detected\n",
            "\u001b[34m\u001b[1mtrain: \u001b[0m/content/drive/MyDrive/yolov11_test_cv/yolov11_dataset/images/train/3_1_frame_002088.jpg: ignoring corrupt image/label: labels require 5 columns, 6 columns detected\n",
            "\u001b[34m\u001b[1mtrain: \u001b[0m/content/drive/MyDrive/yolov11_test_cv/yolov11_dataset/images/train/3_1_frame_002100.jpg: ignoring corrupt image/label: labels require 5 columns, 6 columns detected\n",
            "\u001b[34m\u001b[1mtrain: \u001b[0m/content/drive/MyDrive/yolov11_test_cv/yolov11_dataset/images/train/3_1_frame_002112.jpg: ignoring corrupt image/label: labels require 5 columns, 6 columns detected\n",
            "\u001b[34m\u001b[1mtrain: \u001b[0m/content/drive/MyDrive/yolov11_test_cv/yolov11_dataset/images/train/3_1_frame_002124.jpg: ignoring corrupt image/label: labels require 5 columns, 6 columns detected\n",
            "\u001b[34m\u001b[1mtrain: \u001b[0m/content/drive/MyDrive/yolov11_test_cv/yolov11_dataset/images/train/3_1_frame_002125.jpg: ignoring corrupt image/label: labels require 5 columns, 6 columns detected\n",
            "\u001b[34m\u001b[1mtrain: \u001b[0m/content/drive/MyDrive/yolov11_test_cv/yolov11_dataset/images/train/3_1_frame_002136.jpg: ignoring corrupt image/label: labels require 5 columns, 6 columns detected\n",
            "\u001b[34m\u001b[1mtrain: \u001b[0m/content/drive/MyDrive/yolov11_test_cv/yolov11_dataset/images/train/3_1_frame_002148.jpg: ignoring corrupt image/label: labels require 5 columns, 6 columns detected\n",
            "\u001b[34m\u001b[1mtrain: \u001b[0m/content/drive/MyDrive/yolov11_test_cv/yolov11_dataset/images/train/3_1_frame_002160.jpg: ignoring corrupt image/label: labels require 5 columns, 6 columns detected\n",
            "\u001b[34m\u001b[1mtrain: \u001b[0m/content/drive/MyDrive/yolov11_test_cv/yolov11_dataset/images/train/3_1_frame_002172.jpg: ignoring corrupt image/label: labels require 5 columns, 6 columns detected\n",
            "\u001b[34m\u001b[1mtrain: \u001b[0m/content/drive/MyDrive/yolov11_test_cv/yolov11_dataset/images/train/3_1_frame_002184.jpg: ignoring corrupt image/label: labels require 5 columns, 6 columns detected\n",
            "\u001b[34m\u001b[1mtrain: \u001b[0m/content/drive/MyDrive/yolov11_test_cv/yolov11_dataset/images/train/3_1_frame_002196.jpg: ignoring corrupt image/label: labels require 5 columns, 6 columns detected\n",
            "\u001b[34m\u001b[1mtrain: \u001b[0m/content/drive/MyDrive/yolov11_test_cv/yolov11_dataset/images/train/3_1_frame_002225.jpg: ignoring corrupt image/label: labels require 5 columns, 6 columns detected\n",
            "\u001b[34m\u001b[1mtrain: \u001b[0m/content/drive/MyDrive/yolov11_test_cv/yolov11_dataset/images/train/3_1_frame_002244.jpg: ignoring corrupt image/label: labels require 5 columns, 6 columns detected\n",
            "\u001b[34m\u001b[1mtrain: \u001b[0m/content/drive/MyDrive/yolov11_test_cv/yolov11_dataset/images/train/3_1_frame_002250.jpg: ignoring corrupt image/label: labels require 5 columns, 6 columns detected\n",
            "\u001b[34m\u001b[1mtrain: \u001b[0m/content/drive/MyDrive/yolov11_test_cv/yolov11_dataset/images/train/3_1_frame_002280.jpg: ignoring corrupt image/label: labels require 5 columns, 6 columns detected\n",
            "\u001b[34m\u001b[1mtrain: \u001b[0m/content/drive/MyDrive/yolov11_test_cv/yolov11_dataset/images/train/3_1_frame_002292.jpg: ignoring corrupt image/label: labels require 5 columns, 6 columns detected\n",
            "\u001b[34m\u001b[1mtrain: \u001b[0m/content/drive/MyDrive/yolov11_test_cv/yolov11_dataset/images/train/3_1_frame_002316.jpg: ignoring corrupt image/label: labels require 5 columns, 6 columns detected\n",
            "\u001b[34m\u001b[1mtrain: \u001b[0m/content/drive/MyDrive/yolov11_test_cv/yolov11_dataset/images/train/3_1_frame_002325.jpg: ignoring corrupt image/label: labels require 5 columns, 6 columns detected\n",
            "\u001b[34m\u001b[1mtrain: \u001b[0m/content/drive/MyDrive/yolov11_test_cv/yolov11_dataset/images/train/3_1_frame_002328.jpg: ignoring corrupt image/label: labels require 5 columns, 6 columns detected\n",
            "\u001b[34m\u001b[1mtrain: \u001b[0m/content/drive/MyDrive/yolov11_test_cv/yolov11_dataset/images/train/3_1_frame_002340.jpg: ignoring corrupt image/label: labels require 5 columns, 6 columns detected\n",
            "\u001b[34m\u001b[1mtrain: \u001b[0m/content/drive/MyDrive/yolov11_test_cv/yolov11_dataset/images/train/3_1_frame_002375.jpg: ignoring corrupt image/label: labels require 5 columns, 6 columns detected\n",
            "\u001b[34m\u001b[1mtrain: \u001b[0m/content/drive/MyDrive/yolov11_test_cv/yolov11_dataset/images/train/3_1_frame_002400.jpg: ignoring corrupt image/label: labels require 5 columns, 6 columns detected\n",
            "\u001b[34m\u001b[1mtrain: \u001b[0m/content/drive/MyDrive/yolov11_test_cv/yolov11_dataset/images/train/3_1_frame_002424.jpg: ignoring corrupt image/label: labels require 5 columns, 6 columns detected\n",
            "\u001b[34m\u001b[1mtrain: \u001b[0m/content/drive/MyDrive/yolov11_test_cv/yolov11_dataset/images/train/3_1_frame_002460.jpg: ignoring corrupt image/label: labels require 5 columns, 6 columns detected\n",
            "\u001b[34m\u001b[1mtrain: \u001b[0m/content/drive/MyDrive/yolov11_test_cv/yolov11_dataset/images/train/3_1_frame_002472.jpg: ignoring corrupt image/label: labels require 5 columns, 6 columns detected\n",
            "\u001b[34m\u001b[1mtrain: \u001b[0m/content/drive/MyDrive/yolov11_test_cv/yolov11_dataset/images/train/3_1_frame_002484.jpg: ignoring corrupt image/label: labels require 5 columns, 6 columns detected\n",
            "\u001b[34m\u001b[1mtrain: \u001b[0m/content/drive/MyDrive/yolov11_test_cv/yolov11_dataset/images/train/3_1_frame_002496.jpg: ignoring corrupt image/label: labels require 5 columns, 6 columns detected\n",
            "\u001b[34m\u001b[1mtrain: \u001b[0m/content/drive/MyDrive/yolov11_test_cv/yolov11_dataset/images/train/3_1_frame_002500.jpg: ignoring corrupt image/label: labels require 5 columns, 6 columns detected\n",
            "\u001b[34m\u001b[1mtrain: \u001b[0m/content/drive/MyDrive/yolov11_test_cv/yolov11_dataset/images/train/3_1_frame_002525.jpg: ignoring corrupt image/label: labels require 5 columns, 6 columns detected\n",
            "\u001b[34m\u001b[1mtrain: \u001b[0m/content/drive/MyDrive/yolov11_test_cv/yolov11_dataset/images/train/3_1_frame_002544.jpg: ignoring corrupt image/label: labels require 5 columns, 6 columns detected\n",
            "\u001b[34m\u001b[1mtrain: \u001b[0m/content/drive/MyDrive/yolov11_test_cv/yolov11_dataset/images/train/3_1_frame_002556.jpg: ignoring corrupt image/label: labels require 5 columns, 6 columns detected\n",
            "\u001b[34m\u001b[1mtrain: \u001b[0m/content/drive/MyDrive/yolov11_test_cv/yolov11_dataset/images/train/3_1_frame_002575.jpg: ignoring corrupt image/label: labels require 5 columns, 6 columns detected\n",
            "\u001b[34m\u001b[1mtrain: \u001b[0m/content/drive/MyDrive/yolov11_test_cv/yolov11_dataset/images/train/3_1_frame_002600.jpg: ignoring corrupt image/label: labels require 5 columns, 6 columns detected\n",
            "\u001b[34m\u001b[1mtrain: \u001b[0m/content/drive/MyDrive/yolov11_test_cv/yolov11_dataset/images/train/3_1_frame_002604.jpg: ignoring corrupt image/label: labels require 5 columns, 6 columns detected\n",
            "\u001b[34m\u001b[1mtrain: \u001b[0m/content/drive/MyDrive/yolov11_test_cv/yolov11_dataset/images/train/3_1_frame_002625.jpg: ignoring corrupt image/label: labels require 5 columns, 6 columns detected\n",
            "\u001b[34m\u001b[1mtrain: \u001b[0m/content/drive/MyDrive/yolov11_test_cv/yolov11_dataset/images/train/3_1_frame_002650.jpg: ignoring corrupt image/label: labels require 5 columns, 6 columns detected\n",
            "\u001b[34m\u001b[1mtrain: \u001b[0m/content/drive/MyDrive/yolov11_test_cv/yolov11_dataset/images/train/3_1_frame_002664.jpg: ignoring corrupt image/label: labels require 5 columns, 6 columns detected\n",
            "\u001b[34m\u001b[1mtrain: \u001b[0m/content/drive/MyDrive/yolov11_test_cv/yolov11_dataset/images/train/3_1_frame_002675.jpg: ignoring corrupt image/label: labels require 5 columns, 6 columns detected\n",
            "\u001b[34m\u001b[1mtrain: \u001b[0m/content/drive/MyDrive/yolov11_test_cv/yolov11_dataset/images/train/3_1_frame_002676.jpg: ignoring corrupt image/label: labels require 5 columns, 6 columns detected\n",
            "\u001b[34m\u001b[1mtrain: \u001b[0m/content/drive/MyDrive/yolov11_test_cv/yolov11_dataset/images/train/3_1_frame_002700.jpg: ignoring corrupt image/label: labels require 5 columns, 6 columns detected\n",
            "\u001b[34m\u001b[1mtrain: \u001b[0m/content/drive/MyDrive/yolov11_test_cv/yolov11_dataset/images/train/3_1_frame_002712.jpg: ignoring corrupt image/label: labels require 5 columns, 6 columns detected\n",
            "\u001b[34m\u001b[1mtrain: \u001b[0m/content/drive/MyDrive/yolov11_test_cv/yolov11_dataset/images/train/3_1_frame_002736.jpg: ignoring corrupt image/label: labels require 5 columns, 6 columns detected\n",
            "\u001b[34m\u001b[1mtrain: \u001b[0m/content/drive/MyDrive/yolov11_test_cv/yolov11_dataset/images/train/3_1_frame_002772.jpg: ignoring corrupt image/label: labels require 5 columns, 6 columns detected\n",
            "\u001b[34m\u001b[1mtrain: \u001b[0m/content/drive/MyDrive/yolov11_test_cv/yolov11_dataset/images/train/3_1_frame_002784.jpg: ignoring corrupt image/label: labels require 5 columns, 6 columns detected\n",
            "\u001b[34m\u001b[1mtrain: \u001b[0m/content/drive/MyDrive/yolov11_test_cv/yolov11_dataset/images/train/3_1_frame_002808.jpg: ignoring corrupt image/label: labels require 5 columns, 6 columns detected\n",
            "\u001b[34m\u001b[1mtrain: \u001b[0m/content/drive/MyDrive/yolov11_test_cv/yolov11_dataset/images/train/3_1_frame_002820.jpg: ignoring corrupt image/label: labels require 5 columns, 6 columns detected\n",
            "\u001b[34m\u001b[1mtrain: \u001b[0m/content/drive/MyDrive/yolov11_test_cv/yolov11_dataset/images/train/3_1_frame_002844.jpg: ignoring corrupt image/label: labels require 5 columns, 6 columns detected\n",
            "\u001b[34m\u001b[1mtrain: \u001b[0m/content/drive/MyDrive/yolov11_test_cv/yolov11_dataset/images/train/3_1_frame_002850.jpg: ignoring corrupt image/label: labels require 5 columns, 6 columns detected\n",
            "\u001b[34m\u001b[1mtrain: \u001b[0m/content/drive/MyDrive/yolov11_test_cv/yolov11_dataset/images/train/3_1_frame_002868.jpg: ignoring corrupt image/label: labels require 5 columns, 6 columns detected\n",
            "\u001b[34m\u001b[1mtrain: \u001b[0m/content/drive/MyDrive/yolov11_test_cv/yolov11_dataset/images/train/3_1_frame_002875.jpg: ignoring corrupt image/label: labels require 5 columns, 6 columns detected\n",
            "\u001b[34m\u001b[1mtrain: \u001b[0m/content/drive/MyDrive/yolov11_test_cv/yolov11_dataset/images/train/3_1_frame_002916.jpg: ignoring corrupt image/label: labels require 5 columns, 6 columns detected\n",
            "\u001b[34m\u001b[1mtrain: \u001b[0m/content/drive/MyDrive/yolov11_test_cv/yolov11_dataset/images/train/3_1_frame_002925.jpg: ignoring corrupt image/label: labels require 5 columns, 6 columns detected\n",
            "\u001b[34m\u001b[1mtrain: \u001b[0m/content/drive/MyDrive/yolov11_test_cv/yolov11_dataset/images/train/3_1_frame_002928.jpg: ignoring corrupt image/label: labels require 5 columns, 6 columns detected\n",
            "\u001b[34m\u001b[1mtrain: \u001b[0m/content/drive/MyDrive/yolov11_test_cv/yolov11_dataset/images/train/3_1_frame_002950.jpg: ignoring corrupt image/label: labels require 5 columns, 6 columns detected\n",
            "\u001b[34m\u001b[1mtrain: \u001b[0m/content/drive/MyDrive/yolov11_test_cv/yolov11_dataset/images/train/3_2_frame_000000.jpg: ignoring corrupt image/label: labels require 5 columns, 6 columns detected\n",
            "\u001b[34m\u001b[1mtrain: \u001b[0m/content/drive/MyDrive/yolov11_test_cv/yolov11_dataset/images/train/3_2_frame_000027.jpg: ignoring corrupt image/label: labels require 5 columns, 6 columns detected\n",
            "\u001b[34m\u001b[1mtrain: \u001b[0m/content/drive/MyDrive/yolov11_test_cv/yolov11_dataset/images/train/3_2_frame_000054.jpg: ignoring corrupt image/label: labels require 5 columns, 6 columns detected\n",
            "\u001b[34m\u001b[1mtrain: \u001b[0m/content/drive/MyDrive/yolov11_test_cv/yolov11_dataset/images/train/3_2_frame_000081.jpg: ignoring corrupt image/label: labels require 5 columns, 6 columns detected\n",
            "\u001b[34m\u001b[1mtrain: \u001b[0m/content/drive/MyDrive/yolov11_test_cv/yolov11_dataset/images/train/3_2_frame_000135.jpg: ignoring corrupt image/label: labels require 5 columns, 6 columns detected\n",
            "\u001b[34m\u001b[1mtrain: \u001b[0m/content/drive/MyDrive/yolov11_test_cv/yolov11_dataset/images/train/3_2_frame_000189.jpg: ignoring corrupt image/label: labels require 5 columns, 6 columns detected\n",
            "\u001b[34m\u001b[1mtrain: \u001b[0m/content/drive/MyDrive/yolov11_test_cv/yolov11_dataset/images/train/3_2_frame_000216.jpg: ignoring corrupt image/label: labels require 5 columns, 6 columns detected\n",
            "\u001b[34m\u001b[1mtrain: \u001b[0m/content/drive/MyDrive/yolov11_test_cv/yolov11_dataset/images/train/3_2_frame_000243.jpg: ignoring corrupt image/label: labels require 5 columns, 6 columns detected\n",
            "\u001b[34m\u001b[1mtrain: \u001b[0m/content/drive/MyDrive/yolov11_test_cv/yolov11_dataset/images/train/3_2_frame_000297.jpg: ignoring corrupt image/label: labels require 5 columns, 6 columns detected\n",
            "\u001b[34m\u001b[1mtrain: \u001b[0m/content/drive/MyDrive/yolov11_test_cv/yolov11_dataset/images/train/3_2_frame_000378.jpg: ignoring corrupt image/label: labels require 5 columns, 6 columns detected\n",
            "\u001b[34m\u001b[1mtrain: \u001b[0m/content/drive/MyDrive/yolov11_test_cv/yolov11_dataset/images/train/3_2_frame_000405.jpg: ignoring corrupt image/label: labels require 5 columns, 6 columns detected\n",
            "\u001b[34m\u001b[1mtrain: \u001b[0m/content/drive/MyDrive/yolov11_test_cv/yolov11_dataset/images/train/3_2_frame_000513.jpg: ignoring corrupt image/label: labels require 5 columns, 6 columns detected\n",
            "\u001b[34m\u001b[1mtrain: \u001b[0m/content/drive/MyDrive/yolov11_test_cv/yolov11_dataset/images/train/3_2_frame_000567.jpg: ignoring corrupt image/label: labels require 5 columns, 6 columns detected\n",
            "\u001b[34m\u001b[1mtrain: \u001b[0m/content/drive/MyDrive/yolov11_test_cv/yolov11_dataset/images/train/3_2_frame_000675.jpg: ignoring corrupt image/label: labels require 5 columns, 6 columns detected\n",
            "\u001b[34m\u001b[1mtrain: \u001b[0m/content/drive/MyDrive/yolov11_test_cv/yolov11_dataset/images/train/3_2_frame_000810.jpg: ignoring corrupt image/label: labels require 5 columns, 6 columns detected\n",
            "\u001b[34m\u001b[1mtrain: \u001b[0m/content/drive/MyDrive/yolov11_test_cv/yolov11_dataset/images/train/3_2_frame_000999.jpg: ignoring corrupt image/label: labels require 5 columns, 6 columns detected\n",
            "\u001b[34m\u001b[1mtrain: \u001b[0m/content/drive/MyDrive/yolov11_test_cv/yolov11_dataset/images/train/3_2_frame_001080.jpg: ignoring corrupt image/label: labels require 5 columns, 6 columns detected\n",
            "\u001b[34m\u001b[1mtrain: \u001b[0m/content/drive/MyDrive/yolov11_test_cv/yolov11_dataset/images/train/3_2_frame_001134.jpg: ignoring corrupt image/label: labels require 5 columns, 6 columns detected\n",
            "\u001b[34m\u001b[1mtrain: \u001b[0m/content/drive/MyDrive/yolov11_test_cv/yolov11_dataset/images/train/3_2_frame_001161.jpg: ignoring corrupt image/label: labels require 5 columns, 6 columns detected\n",
            "\u001b[34m\u001b[1mtrain: \u001b[0m/content/drive/MyDrive/yolov11_test_cv/yolov11_dataset/images/train/3_2_frame_001215.jpg: ignoring corrupt image/label: labels require 5 columns, 6 columns detected\n",
            "\u001b[34m\u001b[1mtrain: \u001b[0m/content/drive/MyDrive/yolov11_test_cv/yolov11_dataset/images/train/3_2_frame_001269.jpg: ignoring corrupt image/label: labels require 5 columns, 6 columns detected\n",
            "\u001b[34m\u001b[1mtrain: \u001b[0m/content/drive/MyDrive/yolov11_test_cv/yolov11_dataset/images/train/3_2_frame_001296.jpg: ignoring corrupt image/label: labels require 5 columns, 6 columns detected\n",
            "\u001b[34m\u001b[1mtrain: \u001b[0m/content/drive/MyDrive/yolov11_test_cv/yolov11_dataset/images/train/3_2_frame_001350.jpg: ignoring corrupt image/label: labels require 5 columns, 6 columns detected\n",
            "\u001b[34m\u001b[1mtrain: \u001b[0m/content/drive/MyDrive/yolov11_test_cv/yolov11_dataset/images/train/3_2_frame_001377.jpg: ignoring corrupt image/label: labels require 5 columns, 6 columns detected\n",
            "\u001b[34m\u001b[1mtrain: \u001b[0m/content/drive/MyDrive/yolov11_test_cv/yolov11_dataset/images/train/3_2_frame_001431.jpg: ignoring corrupt image/label: labels require 5 columns, 6 columns detected\n",
            "\u001b[34m\u001b[1mtrain: \u001b[0m/content/drive/MyDrive/yolov11_test_cv/yolov11_dataset/images/train/3_2_frame_001512.jpg: ignoring corrupt image/label: labels require 5 columns, 6 columns detected\n",
            "\u001b[34m\u001b[1mtrain: \u001b[0m/content/drive/MyDrive/yolov11_test_cv/yolov11_dataset/images/train/3_2_frame_001620.jpg: ignoring corrupt image/label: labels require 5 columns, 6 columns detected\n",
            "\u001b[34m\u001b[1mtrain: \u001b[0m/content/drive/MyDrive/yolov11_test_cv/yolov11_dataset/images/train/4_1_frame_000000.jpg: ignoring corrupt image/label: labels require 5 columns, 6 columns detected\n",
            "\u001b[34m\u001b[1mtrain: \u001b[0m/content/drive/MyDrive/yolov11_test_cv/yolov11_dataset/images/train/4_1_frame_000054.jpg: ignoring corrupt image/label: labels require 5 columns, 6 columns detected\n",
            "\u001b[34m\u001b[1mtrain: \u001b[0m/content/drive/MyDrive/yolov11_test_cv/yolov11_dataset/images/train/4_1_frame_000108.jpg: ignoring corrupt image/label: labels require 5 columns, 6 columns detected\n",
            "\u001b[34m\u001b[1mtrain: \u001b[0m/content/drive/MyDrive/yolov11_test_cv/yolov11_dataset/images/train/4_1_frame_000162.jpg: ignoring corrupt image/label: labels require 5 columns, 6 columns detected\n",
            "\u001b[34m\u001b[1mtrain: \u001b[0m/content/drive/MyDrive/yolov11_test_cv/yolov11_dataset/images/train/4_1_frame_000405.jpg: ignoring corrupt image/label: labels require 5 columns, 6 columns detected\n",
            "\u001b[34m\u001b[1mtrain: \u001b[0m/content/drive/MyDrive/yolov11_test_cv/yolov11_dataset/images/train/4_1_frame_000486.jpg: ignoring corrupt image/label: labels require 5 columns, 6 columns detected\n",
            "\u001b[34m\u001b[1mtrain: \u001b[0m/content/drive/MyDrive/yolov11_test_cv/yolov11_dataset/images/train/4_1_frame_000513.jpg: ignoring corrupt image/label: labels require 5 columns, 6 columns detected\n",
            "\u001b[34m\u001b[1mtrain: \u001b[0m/content/drive/MyDrive/yolov11_test_cv/yolov11_dataset/images/train/4_1_frame_000567.jpg: ignoring corrupt image/label: labels require 5 columns, 6 columns detected\n",
            "\u001b[34m\u001b[1mtrain: \u001b[0m/content/drive/MyDrive/yolov11_test_cv/yolov11_dataset/images/train/4_1_frame_000594.jpg: ignoring corrupt image/label: labels require 5 columns, 6 columns detected\n",
            "\u001b[34m\u001b[1mtrain: \u001b[0m/content/drive/MyDrive/yolov11_test_cv/yolov11_dataset/images/train/4_1_frame_000648.jpg: ignoring corrupt image/label: labels require 5 columns, 6 columns detected\n",
            "\u001b[34m\u001b[1mtrain: \u001b[0m/content/drive/MyDrive/yolov11_test_cv/yolov11_dataset/images/train/4_1_frame_000675.jpg: ignoring corrupt image/label: labels require 5 columns, 6 columns detected\n",
            "\u001b[34m\u001b[1mtrain: \u001b[0m/content/drive/MyDrive/yolov11_test_cv/yolov11_dataset/images/train/4_1_frame_000702.jpg: ignoring corrupt image/label: labels require 5 columns, 6 columns detected\n",
            "\u001b[34m\u001b[1mtrain: \u001b[0m/content/drive/MyDrive/yolov11_test_cv/yolov11_dataset/images/train/4_1_frame_000729.jpg: ignoring corrupt image/label: labels require 5 columns, 6 columns detected\n",
            "\u001b[34m\u001b[1mtrain: \u001b[0m/content/drive/MyDrive/yolov11_test_cv/yolov11_dataset/images/train/4_1_frame_000783.jpg: ignoring corrupt image/label: labels require 5 columns, 6 columns detected\n",
            "\u001b[34m\u001b[1mtrain: \u001b[0m/content/drive/MyDrive/yolov11_test_cv/yolov11_dataset/images/train/4_1_frame_000810.jpg: ignoring corrupt image/label: labels require 5 columns, 6 columns detected\n",
            "\u001b[34m\u001b[1mtrain: \u001b[0m/content/drive/MyDrive/yolov11_test_cv/yolov11_dataset/images/train/4_1_frame_000972.jpg: ignoring corrupt image/label: labels require 5 columns, 6 columns detected\n",
            "\u001b[34m\u001b[1mtrain: \u001b[0m/content/drive/MyDrive/yolov11_test_cv/yolov11_dataset/images/train/4_frame_000000.jpg: ignoring corrupt image/label: labels require 5 columns, 6 columns detected\n",
            "\u001b[34m\u001b[1mtrain: \u001b[0m/content/drive/MyDrive/yolov11_test_cv/yolov11_dataset/images/train/4_frame_000036.jpg: ignoring corrupt image/label: labels require 5 columns, 6 columns detected\n",
            "\u001b[34m\u001b[1mtrain: \u001b[0m/content/drive/MyDrive/yolov11_test_cv/yolov11_dataset/images/train/4_frame_000050.jpg: ignoring corrupt image/label: labels require 5 columns, 6 columns detected\n",
            "\u001b[34m\u001b[1mtrain: \u001b[0m/content/drive/MyDrive/yolov11_test_cv/yolov11_dataset/images/train/4_frame_000060.jpg: ignoring corrupt image/label: labels require 5 columns, 6 columns detected\n",
            "\u001b[34m\u001b[1mtrain: \u001b[0m/content/drive/MyDrive/yolov11_test_cv/yolov11_dataset/images/train/4_frame_000072.jpg: ignoring corrupt image/label: labels require 5 columns, 6 columns detected\n",
            "\u001b[34m\u001b[1mtrain: \u001b[0m/content/drive/MyDrive/yolov11_test_cv/yolov11_dataset/images/train/4_frame_000084.jpg: ignoring corrupt image/label: labels require 5 columns, 6 columns detected\n",
            "\u001b[34m\u001b[1mtrain: \u001b[0m/content/drive/MyDrive/yolov11_test_cv/yolov11_dataset/images/train/4_frame_000096.jpg: ignoring corrupt image/label: labels require 5 columns, 6 columns detected\n",
            "\u001b[34m\u001b[1mtrain: \u001b[0m/content/drive/MyDrive/yolov11_test_cv/yolov11_dataset/images/train/4_frame_000108.jpg: ignoring corrupt image/label: labels require 5 columns, 6 columns detected\n",
            "\u001b[34m\u001b[1mtrain: \u001b[0m/content/drive/MyDrive/yolov11_test_cv/yolov11_dataset/images/train/4_frame_000125.jpg: ignoring corrupt image/label: labels require 5 columns, 6 columns detected\n",
            "\u001b[34m\u001b[1mtrain: \u001b[0m/content/drive/MyDrive/yolov11_test_cv/yolov11_dataset/images/train/4_frame_000150.jpg: ignoring corrupt image/label: labels require 5 columns, 6 columns detected\n",
            "\u001b[34m\u001b[1mtrain: \u001b[0m/content/drive/MyDrive/yolov11_test_cv/yolov11_dataset/images/train/4_frame_000175.jpg: ignoring corrupt image/label: labels require 5 columns, 6 columns detected\n",
            "\u001b[34m\u001b[1mtrain: \u001b[0m/content/drive/MyDrive/yolov11_test_cv/yolov11_dataset/images/train/4_frame_000180.jpg: ignoring corrupt image/label: labels require 5 columns, 6 columns detected\n",
            "\u001b[34m\u001b[1mtrain: \u001b[0m/content/drive/MyDrive/yolov11_test_cv/yolov11_dataset/images/train/4_frame_000192.jpg: ignoring corrupt image/label: labels require 5 columns, 6 columns detected\n",
            "\u001b[34m\u001b[1mtrain: \u001b[0m/content/drive/MyDrive/yolov11_test_cv/yolov11_dataset/images/train/4_frame_000204.jpg: ignoring corrupt image/label: labels require 5 columns, 6 columns detected\n",
            "\u001b[34m\u001b[1mtrain: \u001b[0m/content/drive/MyDrive/yolov11_test_cv/yolov11_dataset/images/train/4_frame_000216.jpg: ignoring corrupt image/label: labels require 5 columns, 6 columns detected\n",
            "\u001b[34m\u001b[1mtrain: \u001b[0m/content/drive/MyDrive/yolov11_test_cv/yolov11_dataset/images/train/4_frame_000225.jpg: ignoring corrupt image/label: labels require 5 columns, 6 columns detected\n",
            "\u001b[34m\u001b[1mtrain: \u001b[0m/content/drive/MyDrive/yolov11_test_cv/yolov11_dataset/images/train/4_frame_000250.jpg: ignoring corrupt image/label: labels require 5 columns, 6 columns detected\n",
            "\u001b[34m\u001b[1mtrain: \u001b[0m/content/drive/MyDrive/yolov11_test_cv/yolov11_dataset/images/train/4_frame_000275.jpg: ignoring corrupt image/label: labels require 5 columns, 6 columns detected\n",
            "\u001b[34m\u001b[1mtrain: \u001b[0m/content/drive/MyDrive/yolov11_test_cv/yolov11_dataset/images/train/4_frame_000348.jpg: ignoring corrupt image/label: labels require 5 columns, 6 columns detected\n",
            "\u001b[34m\u001b[1mtrain: \u001b[0m/content/drive/MyDrive/yolov11_test_cv/yolov11_dataset/images/train/4_frame_000350.jpg: ignoring corrupt image/label: labels require 5 columns, 6 columns detected\n",
            "\u001b[34m\u001b[1mtrain: \u001b[0m/content/drive/MyDrive/yolov11_test_cv/yolov11_dataset/images/train/4_frame_000375.jpg: ignoring corrupt image/label: labels require 5 columns, 6 columns detected\n",
            "\u001b[34m\u001b[1mtrain: \u001b[0m/content/drive/MyDrive/yolov11_test_cv/yolov11_dataset/images/train/4_frame_000400.jpg: ignoring corrupt image/label: labels require 5 columns, 6 columns detected\n",
            "\u001b[34m\u001b[1mtrain: \u001b[0m/content/drive/MyDrive/yolov11_test_cv/yolov11_dataset/images/train/4_frame_000500.jpg: ignoring corrupt image/label: labels require 5 columns, 6 columns detected\n",
            "\u001b[34m\u001b[1mtrain: \u001b[0m/content/drive/MyDrive/yolov11_test_cv/yolov11_dataset/images/train/4_frame_000525.jpg: ignoring corrupt image/label: labels require 5 columns, 6 columns detected\n",
            "\u001b[34m\u001b[1mtrain: \u001b[0m/content/drive/MyDrive/yolov11_test_cv/yolov11_dataset/images/train/4_frame_000550.jpg: ignoring corrupt image/label: labels require 5 columns, 6 columns detected\n",
            "\u001b[34m\u001b[1mtrain: \u001b[0m/content/drive/MyDrive/yolov11_test_cv/yolov11_dataset/images/train/4_frame_000600.jpg: ignoring corrupt image/label: labels require 5 columns, 6 columns detected\n",
            "\u001b[34m\u001b[1mtrain: \u001b[0m/content/drive/MyDrive/yolov11_test_cv/yolov11_dataset/images/train/4_frame_000612.jpg: ignoring corrupt image/label: labels require 5 columns, 6 columns detected\n",
            "\u001b[34m\u001b[1mtrain: \u001b[0m/content/drive/MyDrive/yolov11_test_cv/yolov11_dataset/images/train/4_frame_000625.jpg: ignoring corrupt image/label: labels require 5 columns, 6 columns detected\n",
            "\u001b[34m\u001b[1mtrain: \u001b[0m/content/drive/MyDrive/yolov11_test_cv/yolov11_dataset/images/train/4_frame_000650.jpg: ignoring corrupt image/label: labels require 5 columns, 6 columns detected\n",
            "\u001b[34m\u001b[1mtrain: \u001b[0m/content/drive/MyDrive/yolov11_test_cv/yolov11_dataset/images/train/4_frame_000672.jpg: ignoring corrupt image/label: labels require 5 columns, 6 columns detected\n",
            "\u001b[34m\u001b[1mtrain: \u001b[0m/content/drive/MyDrive/yolov11_test_cv/yolov11_dataset/images/train/4_frame_000675.jpg: ignoring corrupt image/label: labels require 5 columns, 6 columns detected\n",
            "\u001b[34m\u001b[1mtrain: \u001b[0m/content/drive/MyDrive/yolov11_test_cv/yolov11_dataset/images/train/4_frame_000700.jpg: ignoring corrupt image/label: labels require 5 columns, 6 columns detected\n",
            "\u001b[34m\u001b[1mtrain: \u001b[0m/content/drive/MyDrive/yolov11_test_cv/yolov11_dataset/images/train/4_frame_000732.jpg: ignoring corrupt image/label: labels require 5 columns, 6 columns detected\n",
            "\u001b[34m\u001b[1mtrain: \u001b[0m/content/drive/MyDrive/yolov11_test_cv/yolov11_dataset/images/train/4_frame_000744.jpg: ignoring corrupt image/label: labels require 5 columns, 6 columns detected\n",
            "\u001b[34m\u001b[1mtrain: \u001b[0m/content/drive/MyDrive/yolov11_test_cv/yolov11_dataset/images/train/4_frame_000775.jpg: ignoring corrupt image/label: labels require 5 columns, 6 columns detected\n",
            "\u001b[34m\u001b[1mtrain: \u001b[0m/content/drive/MyDrive/yolov11_test_cv/yolov11_dataset/images/train/4_frame_000804.jpg: ignoring corrupt image/label: labels require 5 columns, 6 columns detected\n",
            "\u001b[34m\u001b[1mtrain: \u001b[0m/content/drive/MyDrive/yolov11_test_cv/yolov11_dataset/images/train/4_frame_000825.jpg: ignoring corrupt image/label: labels require 5 columns, 6 columns detected\n",
            "\u001b[34m\u001b[1mtrain: \u001b[0m/content/drive/MyDrive/yolov11_test_cv/yolov11_dataset/images/train/4_frame_000828.jpg: ignoring corrupt image/label: labels require 5 columns, 6 columns detected\n",
            "\u001b[34m\u001b[1mtrain: \u001b[0m/content/drive/MyDrive/yolov11_test_cv/yolov11_dataset/images/train/4_frame_000850.jpg: ignoring corrupt image/label: labels require 5 columns, 6 columns detected\n",
            "\u001b[34m\u001b[1mtrain: \u001b[0m/content/drive/MyDrive/yolov11_test_cv/yolov11_dataset/images/train/4_frame_000875.jpg: ignoring corrupt image/label: labels require 5 columns, 6 columns detected\n",
            "\u001b[34m\u001b[1mtrain: \u001b[0m/content/drive/MyDrive/yolov11_test_cv/yolov11_dataset/images/train/4_frame_000900.jpg: ignoring corrupt image/label: labels require 5 columns, 6 columns detected\n",
            "\u001b[34m\u001b[1mtrain: \u001b[0m/content/drive/MyDrive/yolov11_test_cv/yolov11_dataset/images/train/4_frame_000925.jpg: ignoring corrupt image/label: labels require 5 columns, 6 columns detected\n",
            "\u001b[34m\u001b[1mtrain: \u001b[0m/content/drive/MyDrive/yolov11_test_cv/yolov11_dataset/images/train/4_frame_000950.jpg: ignoring corrupt image/label: labels require 5 columns, 6 columns detected\n",
            "\u001b[34m\u001b[1mtrain: \u001b[0m/content/drive/MyDrive/yolov11_test_cv/yolov11_dataset/images/train/4_frame_000975.jpg: ignoring corrupt image/label: labels require 5 columns, 6 columns detected\n",
            "\u001b[34m\u001b[1mtrain: \u001b[0m/content/drive/MyDrive/yolov11_test_cv/yolov11_dataset/images/train/4_frame_001100.jpg: ignoring corrupt image/label: labels require 5 columns, 6 columns detected\n",
            "\u001b[34m\u001b[1mtrain: \u001b[0m/content/drive/MyDrive/yolov11_test_cv/yolov11_dataset/images/train/4_frame_001175.jpg: ignoring corrupt image/label: labels require 5 columns, 6 columns detected\n",
            "\u001b[34m\u001b[1mtrain: \u001b[0m/content/drive/MyDrive/yolov11_test_cv/yolov11_dataset/images/train/4_frame_001176.jpg: ignoring corrupt image/label: labels require 5 columns, 6 columns detected\n",
            "\u001b[34m\u001b[1mtrain: \u001b[0m/content/drive/MyDrive/yolov11_test_cv/yolov11_dataset/images/train/4_frame_001188.jpg: ignoring corrupt image/label: labels require 5 columns, 6 columns detected\n",
            "\u001b[34m\u001b[1mtrain: \u001b[0m/content/drive/MyDrive/yolov11_test_cv/yolov11_dataset/images/train/4_frame_001200.jpg: ignoring corrupt image/label: labels require 5 columns, 6 columns detected\n",
            "\u001b[34m\u001b[1mtrain: \u001b[0m/content/drive/MyDrive/yolov11_test_cv/yolov11_dataset/images/train/4_frame_001224.jpg: ignoring corrupt image/label: labels require 5 columns, 6 columns detected\n",
            "\u001b[34m\u001b[1mtrain: \u001b[0m/content/drive/MyDrive/yolov11_test_cv/yolov11_dataset/images/train/4_frame_001225.jpg: ignoring corrupt image/label: labels require 5 columns, 6 columns detected\n",
            "\u001b[34m\u001b[1mtrain: \u001b[0m/content/drive/MyDrive/yolov11_test_cv/yolov11_dataset/images/train/4_frame_001236.jpg: ignoring corrupt image/label: labels require 5 columns, 6 columns detected\n",
            "\u001b[34m\u001b[1mtrain: \u001b[0m/content/drive/MyDrive/yolov11_test_cv/yolov11_dataset/images/train/4_frame_001248.jpg: ignoring corrupt image/label: labels require 5 columns, 6 columns detected\n",
            "\u001b[34m\u001b[1mtrain: \u001b[0m/content/drive/MyDrive/yolov11_test_cv/yolov11_dataset/images/train/4_frame_001250.jpg: ignoring corrupt image/label: labels require 5 columns, 6 columns detected\n",
            "\u001b[34m\u001b[1mtrain: \u001b[0m/content/drive/MyDrive/yolov11_test_cv/yolov11_dataset/images/train/4_frame_001260.jpg: ignoring corrupt image/label: labels require 5 columns, 6 columns detected\n",
            "\u001b[34m\u001b[1mtrain: \u001b[0m/content/drive/MyDrive/yolov11_test_cv/yolov11_dataset/images/train/4_frame_001320.jpg: ignoring corrupt image/label: labels require 5 columns, 6 columns detected\n",
            "\u001b[34m\u001b[1mtrain: \u001b[0m/content/drive/MyDrive/yolov11_test_cv/yolov11_dataset/images/train/4_frame_001325.jpg: ignoring corrupt image/label: labels require 5 columns, 6 columns detected\n",
            "\u001b[34m\u001b[1mtrain: \u001b[0m/content/drive/MyDrive/yolov11_test_cv/yolov11_dataset/images/train/4_frame_001332.jpg: ignoring corrupt image/label: labels require 5 columns, 6 columns detected\n",
            "\u001b[34m\u001b[1mtrain: \u001b[0m/content/drive/MyDrive/yolov11_test_cv/yolov11_dataset/images/train/4_frame_001344.jpg: ignoring corrupt image/label: labels require 5 columns, 6 columns detected\n",
            "\u001b[34m\u001b[1mtrain: \u001b[0m/content/drive/MyDrive/yolov11_test_cv/yolov11_dataset/images/train/4_frame_001380.jpg: ignoring corrupt image/label: labels require 5 columns, 6 columns detected\n",
            "\u001b[34m\u001b[1mtrain: \u001b[0m/content/drive/MyDrive/yolov11_test_cv/yolov11_dataset/images/train/4_frame_001440.jpg: ignoring corrupt image/label: labels require 5 columns, 6 columns detected\n",
            "\u001b[34m\u001b[1mtrain: \u001b[0m/content/drive/MyDrive/yolov11_test_cv/yolov11_dataset/images/train/4_frame_001450.jpg: ignoring corrupt image/label: labels require 5 columns, 6 columns detected\n",
            "\u001b[34m\u001b[1mtrain: \u001b[0m/content/drive/MyDrive/yolov11_test_cv/yolov11_dataset/images/train/4_frame_001452.jpg: ignoring corrupt image/label: labels require 5 columns, 6 columns detected\n",
            "\u001b[34m\u001b[1mtrain: \u001b[0m/content/drive/MyDrive/yolov11_test_cv/yolov11_dataset/images/train/4_frame_001512.jpg: ignoring corrupt image/label: labels require 5 columns, 6 columns detected\n",
            "\u001b[34m\u001b[1mtrain: \u001b[0m/content/drive/MyDrive/yolov11_test_cv/yolov11_dataset/images/train/4_frame_001572.jpg: ignoring corrupt image/label: labels require 5 columns, 6 columns detected\n",
            "\u001b[34m\u001b[1mtrain: \u001b[0m/content/drive/MyDrive/yolov11_test_cv/yolov11_dataset/images/train/4_frame_001596.jpg: ignoring corrupt image/label: labels require 5 columns, 6 columns detected\n",
            "\u001b[34m\u001b[1mtrain: \u001b[0m/content/drive/MyDrive/yolov11_test_cv/yolov11_dataset/images/train/4_frame_001700.jpg: ignoring corrupt image/label: labels require 5 columns, 6 columns detected\n",
            "\u001b[34m\u001b[1mtrain: \u001b[0m/content/drive/MyDrive/yolov11_test_cv/yolov11_dataset/images/train/4_frame_001728.jpg: ignoring corrupt image/label: labels require 5 columns, 6 columns detected\n",
            "\u001b[34m\u001b[1mtrain: \u001b[0m/content/drive/MyDrive/yolov11_test_cv/yolov11_dataset/images/train/4_frame_001752.jpg: ignoring corrupt image/label: labels require 5 columns, 6 columns detected\n",
            "\u001b[34m\u001b[1mtrain: \u001b[0m/content/drive/MyDrive/yolov11_test_cv/yolov11_dataset/images/train/4_frame_001824.jpg: ignoring corrupt image/label: labels require 5 columns, 6 columns detected\n",
            "\u001b[34m\u001b[1mtrain: \u001b[0m/content/drive/MyDrive/yolov11_test_cv/yolov11_dataset/images/train/4_frame_001884.jpg: ignoring corrupt image/label: labels require 5 columns, 6 columns detected\n",
            "\u001b[34m\u001b[1mtrain: \u001b[0m/content/drive/MyDrive/yolov11_test_cv/yolov11_dataset/images/train/4_frame_001900.jpg: ignoring corrupt image/label: labels require 5 columns, 6 columns detected\n",
            "\u001b[34m\u001b[1mtrain: \u001b[0m/content/drive/MyDrive/yolov11_test_cv/yolov11_dataset/images/train/4_frame_001908.jpg: ignoring corrupt image/label: labels require 5 columns, 6 columns detected\n",
            "\u001b[34m\u001b[1mtrain: \u001b[0m/content/drive/MyDrive/yolov11_test_cv/yolov11_dataset/images/train/4_frame_001925.jpg: ignoring corrupt image/label: labels require 5 columns, 6 columns detected\n",
            "\u001b[34m\u001b[1mtrain: \u001b[0m/content/drive/MyDrive/yolov11_test_cv/yolov11_dataset/images/train/4_frame_002000.jpg: ignoring corrupt image/label: labels require 5 columns, 6 columns detected\n",
            "\u001b[34m\u001b[1mtrain: \u001b[0m/content/drive/MyDrive/yolov11_test_cv/yolov11_dataset/images/train/4_frame_002050.jpg: ignoring corrupt image/label: labels require 5 columns, 6 columns detected\n",
            "\u001b[34m\u001b[1mtrain: \u001b[0m/content/drive/MyDrive/yolov11_test_cv/yolov11_dataset/images/train/4_frame_002100.jpg: ignoring corrupt image/label: labels require 5 columns, 6 columns detected\n",
            "\u001b[34m\u001b[1mtrain: \u001b[0m/content/drive/MyDrive/yolov11_test_cv/yolov11_dataset/images/train/4_frame_002125.jpg: ignoring corrupt image/label: labels require 5 columns, 6 columns detected\n",
            "\u001b[34m\u001b[1mtrain: \u001b[0m/content/drive/MyDrive/yolov11_test_cv/yolov11_dataset/images/train/4_frame_002136.jpg: ignoring corrupt image/label: labels require 5 columns, 6 columns detected\n",
            "\u001b[34m\u001b[1mtrain: \u001b[0m/content/drive/MyDrive/yolov11_test_cv/yolov11_dataset/images/train/4_frame_002150.jpg: ignoring corrupt image/label: labels require 5 columns, 6 columns detected\n",
            "\u001b[34m\u001b[1malbumentations: \u001b[0mBlur(p=0.01, blur_limit=(3, 7)), MedianBlur(p=0.01, blur_limit=(3, 7)), ToGray(p=0.01, method='weighted_average', num_output_channels=3), CLAHE(p=0.01, clip_limit=(1.0, 4.0), tile_grid_size=(8, 8))\n"
          ]
        },
        {
          "metadata": {
            "tags": null
          },
          "name": "stderr",
          "output_type": "stream",
          "text": [
            "\n",
            "/usr/local/lib/python3.11/dist-packages/torch/utils/data/dataloader.py:665: UserWarning: 'pin_memory' argument is set as true but no accelerator is found, then device pinned memory won't be used.\n",
            "  warnings.warn(warn_msg)\n"
          ]
        },
        {
          "metadata": {
            "tags": null
          },
          "name": "stdout",
          "output_type": "stream",
          "text": [
            "\u001b[34m\u001b[1mval: \u001b[0mFast image access ✅ (ping: 0.7±0.2 ms, read: 121.4±131.8 MB/s, size: 2120.5 KB)\n"
          ]
        },
        {
          "metadata": {
            "tags": null
          },
          "name": "stderr",
          "output_type": "stream",
          "text": [
            "\u001b[34m\u001b[1mval: \u001b[0mScanning /content/drive/MyDrive/yolov11_test_cv/yolov11_dataset/labels/val.cache... 125 images, 0 backgrounds, 93 corrupt: 100%|██████████| 125/125 [00:00<?, ?it/s]"
          ]
        },
        {
          "metadata": {
            "tags": null
          },
          "name": "stdout",
          "output_type": "stream",
          "text": [
            "\u001b[34m\u001b[1mval: \u001b[0m/content/drive/MyDrive/yolov11_test_cv/yolov11_dataset/images/val/1_frame_000058.jpg: ignoring corrupt image/label: labels require 5 columns, 6 columns detected\n",
            "\u001b[34m\u001b[1mval: \u001b[0m/content/drive/MyDrive/yolov11_test_cv/yolov11_dataset/images/val/1_frame_000071.jpg: ignoring corrupt image/label: labels require 5 columns, 6 columns detected\n",
            "\u001b[34m\u001b[1mval: \u001b[0m/content/drive/MyDrive/yolov11_test_cv/yolov11_dataset/images/val/1_frame_000178.jpg: ignoring corrupt image/label: labels require 5 columns, 6 columns detected\n",
            "\u001b[34m\u001b[1mval: \u001b[0m/content/drive/MyDrive/yolov11_test_cv/yolov11_dataset/images/val/2_1_frame_000297.jpg: ignoring corrupt image/label: labels require 5 columns, 6 columns detected\n",
            "\u001b[34m\u001b[1mval: \u001b[0m/content/drive/MyDrive/yolov11_test_cv/yolov11_dataset/images/val/2_1_frame_000594.jpg: ignoring corrupt image/label: labels require 5 columns, 6 columns detected\n",
            "\u001b[34m\u001b[1mval: \u001b[0m/content/drive/MyDrive/yolov11_test_cv/yolov11_dataset/images/val/2_1_frame_001404.jpg: ignoring corrupt image/label: labels require 5 columns, 6 columns detected\n",
            "\u001b[34m\u001b[1mval: \u001b[0m/content/drive/MyDrive/yolov11_test_cv/yolov11_dataset/images/val/2_1_frame_001458.jpg: ignoring corrupt image/label: labels require 5 columns, 6 columns detected\n",
            "\u001b[34m\u001b[1mval: \u001b[0m/content/drive/MyDrive/yolov11_test_cv/yolov11_dataset/images/val/3_1_frame_000050.jpg: ignoring corrupt image/label: labels require 5 columns, 6 columns detected\n",
            "\u001b[34m\u001b[1mval: \u001b[0m/content/drive/MyDrive/yolov11_test_cv/yolov11_dataset/images/val/3_1_frame_000108.jpg: ignoring corrupt image/label: labels require 5 columns, 6 columns detected\n",
            "\u001b[34m\u001b[1mval: \u001b[0m/content/drive/MyDrive/yolov11_test_cv/yolov11_dataset/images/val/3_1_frame_000144.jpg: ignoring corrupt image/label: labels require 5 columns, 6 columns detected\n",
            "\u001b[34m\u001b[1mval: \u001b[0m/content/drive/MyDrive/yolov11_test_cv/yolov11_dataset/images/val/3_1_frame_000372.jpg: ignoring corrupt image/label: labels require 5 columns, 6 columns detected\n",
            "\u001b[34m\u001b[1mval: \u001b[0m/content/drive/MyDrive/yolov11_test_cv/yolov11_dataset/images/val/3_1_frame_000408.jpg: ignoring corrupt image/label: labels require 5 columns, 6 columns detected\n",
            "\u001b[34m\u001b[1mval: \u001b[0m/content/drive/MyDrive/yolov11_test_cv/yolov11_dataset/images/val/3_1_frame_000444.jpg: ignoring corrupt image/label: labels require 5 columns, 6 columns detected\n",
            "\u001b[34m\u001b[1mval: \u001b[0m/content/drive/MyDrive/yolov11_test_cv/yolov11_dataset/images/val/3_1_frame_000525.jpg: ignoring corrupt image/label: labels require 5 columns, 6 columns detected\n",
            "\u001b[34m\u001b[1mval: \u001b[0m/content/drive/MyDrive/yolov11_test_cv/yolov11_dataset/images/val/3_1_frame_000528.jpg: ignoring corrupt image/label: labels require 5 columns, 6 columns detected\n",
            "\u001b[34m\u001b[1mval: \u001b[0m/content/drive/MyDrive/yolov11_test_cv/yolov11_dataset/images/val/3_1_frame_000552.jpg: ignoring corrupt image/label: labels require 5 columns, 6 columns detected\n",
            "\u001b[34m\u001b[1mval: \u001b[0m/content/drive/MyDrive/yolov11_test_cv/yolov11_dataset/images/val/3_1_frame_000600.jpg: ignoring corrupt image/label: labels require 5 columns, 6 columns detected\n",
            "\u001b[34m\u001b[1mval: \u001b[0m/content/drive/MyDrive/yolov11_test_cv/yolov11_dataset/images/val/3_1_frame_000624.jpg: ignoring corrupt image/label: labels require 5 columns, 6 columns detected\n",
            "\u001b[34m\u001b[1mval: \u001b[0m/content/drive/MyDrive/yolov11_test_cv/yolov11_dataset/images/val/3_1_frame_000625.jpg: ignoring corrupt image/label: labels require 5 columns, 6 columns detected\n",
            "\u001b[34m\u001b[1mval: \u001b[0m/content/drive/MyDrive/yolov11_test_cv/yolov11_dataset/images/val/3_1_frame_000660.jpg: ignoring corrupt image/label: labels require 5 columns, 6 columns detected\n",
            "\u001b[34m\u001b[1mval: \u001b[0m/content/drive/MyDrive/yolov11_test_cv/yolov11_dataset/images/val/3_1_frame_000780.jpg: ignoring corrupt image/label: labels require 5 columns, 6 columns detected\n",
            "\u001b[34m\u001b[1mval: \u001b[0m/content/drive/MyDrive/yolov11_test_cv/yolov11_dataset/images/val/3_1_frame_000792.jpg: ignoring corrupt image/label: labels require 5 columns, 6 columns detected\n",
            "\u001b[34m\u001b[1mval: \u001b[0m/content/drive/MyDrive/yolov11_test_cv/yolov11_dataset/images/val/3_1_frame_000840.jpg: ignoring corrupt image/label: labels require 5 columns, 6 columns detected\n",
            "\u001b[34m\u001b[1mval: \u001b[0m/content/drive/MyDrive/yolov11_test_cv/yolov11_dataset/images/val/3_1_frame_000864.jpg: ignoring corrupt image/label: labels require 5 columns, 6 columns detected\n",
            "\u001b[34m\u001b[1mval: \u001b[0m/content/drive/MyDrive/yolov11_test_cv/yolov11_dataset/images/val/3_1_frame_000888.jpg: ignoring corrupt image/label: labels require 5 columns, 6 columns detected\n",
            "\u001b[34m\u001b[1mval: \u001b[0m/content/drive/MyDrive/yolov11_test_cv/yolov11_dataset/images/val/3_1_frame_001025.jpg: ignoring corrupt image/label: labels require 5 columns, 6 columns detected\n",
            "\u001b[34m\u001b[1mval: \u001b[0m/content/drive/MyDrive/yolov11_test_cv/yolov11_dataset/images/val/3_1_frame_001075.jpg: ignoring corrupt image/label: labels require 5 columns, 6 columns detected\n",
            "\u001b[34m\u001b[1mval: \u001b[0m/content/drive/MyDrive/yolov11_test_cv/yolov11_dataset/images/val/3_1_frame_001224.jpg: ignoring corrupt image/label: labels require 5 columns, 6 columns detected\n",
            "\u001b[34m\u001b[1mval: \u001b[0m/content/drive/MyDrive/yolov11_test_cv/yolov11_dataset/images/val/3_1_frame_001236.jpg: ignoring corrupt image/label: labels require 5 columns, 6 columns detected\n",
            "\u001b[34m\u001b[1mval: \u001b[0m/content/drive/MyDrive/yolov11_test_cv/yolov11_dataset/images/val/3_1_frame_001248.jpg: ignoring corrupt image/label: labels require 5 columns, 6 columns detected\n",
            "\u001b[34m\u001b[1mval: \u001b[0m/content/drive/MyDrive/yolov11_test_cv/yolov11_dataset/images/val/3_1_frame_001320.jpg: ignoring corrupt image/label: labels require 5 columns, 6 columns detected\n",
            "\u001b[34m\u001b[1mval: \u001b[0m/content/drive/MyDrive/yolov11_test_cv/yolov11_dataset/images/val/3_1_frame_001325.jpg: ignoring corrupt image/label: labels require 5 columns, 6 columns detected\n",
            "\u001b[34m\u001b[1mval: \u001b[0m/content/drive/MyDrive/yolov11_test_cv/yolov11_dataset/images/val/3_1_frame_001404.jpg: ignoring corrupt image/label: labels require 5 columns, 6 columns detected\n",
            "\u001b[34m\u001b[1mval: \u001b[0m/content/drive/MyDrive/yolov11_test_cv/yolov11_dataset/images/val/3_1_frame_001416.jpg: ignoring corrupt image/label: labels require 5 columns, 6 columns detected\n",
            "\u001b[34m\u001b[1mval: \u001b[0m/content/drive/MyDrive/yolov11_test_cv/yolov11_dataset/images/val/3_1_frame_001525.jpg: ignoring corrupt image/label: labels require 5 columns, 6 columns detected\n",
            "\u001b[34m\u001b[1mval: \u001b[0m/content/drive/MyDrive/yolov11_test_cv/yolov11_dataset/images/val/3_1_frame_001536.jpg: ignoring corrupt image/label: labels require 5 columns, 6 columns detected\n",
            "\u001b[34m\u001b[1mval: \u001b[0m/content/drive/MyDrive/yolov11_test_cv/yolov11_dataset/images/val/3_1_frame_001560.jpg: ignoring corrupt image/label: labels require 5 columns, 6 columns detected\n",
            "\u001b[34m\u001b[1mval: \u001b[0m/content/drive/MyDrive/yolov11_test_cv/yolov11_dataset/images/val/3_1_frame_001575.jpg: ignoring corrupt image/label: labels require 5 columns, 6 columns detected\n",
            "\u001b[34m\u001b[1mval: \u001b[0m/content/drive/MyDrive/yolov11_test_cv/yolov11_dataset/images/val/3_1_frame_001680.jpg: ignoring corrupt image/label: labels require 5 columns, 6 columns detected\n",
            "\u001b[34m\u001b[1mval: \u001b[0m/content/drive/MyDrive/yolov11_test_cv/yolov11_dataset/images/val/3_1_frame_001825.jpg: ignoring corrupt image/label: labels require 5 columns, 6 columns detected\n",
            "\u001b[34m\u001b[1mval: \u001b[0m/content/drive/MyDrive/yolov11_test_cv/yolov11_dataset/images/val/3_1_frame_001896.jpg: ignoring corrupt image/label: labels require 5 columns, 6 columns detected\n",
            "\u001b[34m\u001b[1mval: \u001b[0m/content/drive/MyDrive/yolov11_test_cv/yolov11_dataset/images/val/3_1_frame_001950.jpg: ignoring corrupt image/label: labels require 5 columns, 6 columns detected\n",
            "\u001b[34m\u001b[1mval: \u001b[0m/content/drive/MyDrive/yolov11_test_cv/yolov11_dataset/images/val/3_1_frame_001992.jpg: ignoring corrupt image/label: labels require 5 columns, 6 columns detected\n",
            "\u001b[34m\u001b[1mval: \u001b[0m/content/drive/MyDrive/yolov11_test_cv/yolov11_dataset/images/val/3_1_frame_002076.jpg: ignoring corrupt image/label: labels require 5 columns, 6 columns detected\n",
            "\u001b[34m\u001b[1mval: \u001b[0m/content/drive/MyDrive/yolov11_test_cv/yolov11_dataset/images/val/3_1_frame_002175.jpg: ignoring corrupt image/label: labels require 5 columns, 6 columns detected\n",
            "\u001b[34m\u001b[1mval: \u001b[0m/content/drive/MyDrive/yolov11_test_cv/yolov11_dataset/images/val/3_1_frame_002200.jpg: ignoring corrupt image/label: labels require 5 columns, 6 columns detected\n",
            "\u001b[34m\u001b[1mval: \u001b[0m/content/drive/MyDrive/yolov11_test_cv/yolov11_dataset/images/val/3_1_frame_002275.jpg: ignoring corrupt image/label: labels require 5 columns, 6 columns detected\n",
            "\u001b[34m\u001b[1mval: \u001b[0m/content/drive/MyDrive/yolov11_test_cv/yolov11_dataset/images/val/3_1_frame_002304.jpg: ignoring corrupt image/label: labels require 5 columns, 6 columns detected\n",
            "\u001b[34m\u001b[1mval: \u001b[0m/content/drive/MyDrive/yolov11_test_cv/yolov11_dataset/images/val/3_1_frame_002364.jpg: ignoring corrupt image/label: labels require 5 columns, 6 columns detected\n",
            "\u001b[34m\u001b[1mval: \u001b[0m/content/drive/MyDrive/yolov11_test_cv/yolov11_dataset/images/val/3_1_frame_002376.jpg: ignoring corrupt image/label: labels require 5 columns, 6 columns detected\n",
            "\u001b[34m\u001b[1mval: \u001b[0m/content/drive/MyDrive/yolov11_test_cv/yolov11_dataset/images/val/3_1_frame_002412.jpg: ignoring corrupt image/label: labels require 5 columns, 6 columns detected\n",
            "\u001b[34m\u001b[1mval: \u001b[0m/content/drive/MyDrive/yolov11_test_cv/yolov11_dataset/images/val/3_1_frame_002425.jpg: ignoring corrupt image/label: labels require 5 columns, 6 columns detected\n",
            "\u001b[34m\u001b[1mval: \u001b[0m/content/drive/MyDrive/yolov11_test_cv/yolov11_dataset/images/val/3_1_frame_002448.jpg: ignoring corrupt image/label: labels require 5 columns, 6 columns detected\n",
            "\u001b[34m\u001b[1mval: \u001b[0m/content/drive/MyDrive/yolov11_test_cv/yolov11_dataset/images/val/3_1_frame_002532.jpg: ignoring corrupt image/label: labels require 5 columns, 6 columns detected\n",
            "\u001b[34m\u001b[1mval: \u001b[0m/content/drive/MyDrive/yolov11_test_cv/yolov11_dataset/images/val/3_1_frame_002568.jpg: ignoring corrupt image/label: labels require 5 columns, 6 columns detected\n",
            "\u001b[34m\u001b[1mval: \u001b[0m/content/drive/MyDrive/yolov11_test_cv/yolov11_dataset/images/val/3_1_frame_002616.jpg: ignoring corrupt image/label: labels require 5 columns, 6 columns detected\n",
            "\u001b[34m\u001b[1mval: \u001b[0m/content/drive/MyDrive/yolov11_test_cv/yolov11_dataset/images/val/3_1_frame_002640.jpg: ignoring corrupt image/label: labels require 5 columns, 6 columns detected\n",
            "\u001b[34m\u001b[1mval: \u001b[0m/content/drive/MyDrive/yolov11_test_cv/yolov11_dataset/images/val/3_1_frame_002725.jpg: ignoring corrupt image/label: labels require 5 columns, 6 columns detected\n",
            "\u001b[34m\u001b[1mval: \u001b[0m/content/drive/MyDrive/yolov11_test_cv/yolov11_dataset/images/val/3_1_frame_002832.jpg: ignoring corrupt image/label: labels require 5 columns, 6 columns detected\n",
            "\u001b[34m\u001b[1mval: \u001b[0m/content/drive/MyDrive/yolov11_test_cv/yolov11_dataset/images/val/3_1_frame_002880.jpg: ignoring corrupt image/label: labels require 5 columns, 6 columns detected\n",
            "\u001b[34m\u001b[1mval: \u001b[0m/content/drive/MyDrive/yolov11_test_cv/yolov11_dataset/images/val/3_1_frame_002892.jpg: ignoring corrupt image/label: labels require 5 columns, 6 columns detected\n",
            "\u001b[34m\u001b[1mval: \u001b[0m/content/drive/MyDrive/yolov11_test_cv/yolov11_dataset/images/val/3_1_frame_002904.jpg: ignoring corrupt image/label: labels require 5 columns, 6 columns detected\n",
            "\u001b[34m\u001b[1mval: \u001b[0m/content/drive/MyDrive/yolov11_test_cv/yolov11_dataset/images/val/3_1_frame_002940.jpg: ignoring corrupt image/label: labels require 5 columns, 6 columns detected\n",
            "\u001b[34m\u001b[1mval: \u001b[0m/content/drive/MyDrive/yolov11_test_cv/yolov11_dataset/images/val/3_1_frame_002952.jpg: ignoring corrupt image/label: labels require 5 columns, 6 columns detected\n",
            "\u001b[34m\u001b[1mval: \u001b[0m/content/drive/MyDrive/yolov11_test_cv/yolov11_dataset/images/val/3_2_frame_000918.jpg: ignoring corrupt image/label: labels require 5 columns, 6 columns detected\n",
            "\u001b[34m\u001b[1mval: \u001b[0m/content/drive/MyDrive/yolov11_test_cv/yolov11_dataset/images/val/3_2_frame_000972.jpg: ignoring corrupt image/label: labels require 5 columns, 6 columns detected\n",
            "\u001b[34m\u001b[1mval: \u001b[0m/content/drive/MyDrive/yolov11_test_cv/yolov11_dataset/images/val/3_2_frame_001053.jpg: ignoring corrupt image/label: labels require 5 columns, 6 columns detected\n",
            "\u001b[34m\u001b[1mval: \u001b[0m/content/drive/MyDrive/yolov11_test_cv/yolov11_dataset/images/val/4_1_frame_000297.jpg: ignoring corrupt image/label: labels require 5 columns, 6 columns detected\n",
            "\u001b[34m\u001b[1mval: \u001b[0m/content/drive/MyDrive/yolov11_test_cv/yolov11_dataset/images/val/4_1_frame_000324.jpg: ignoring corrupt image/label: labels require 5 columns, 6 columns detected\n",
            "\u001b[34m\u001b[1mval: \u001b[0m/content/drive/MyDrive/yolov11_test_cv/yolov11_dataset/images/val/4_1_frame_000351.jpg: ignoring corrupt image/label: labels require 5 columns, 6 columns detected\n",
            "\u001b[34m\u001b[1mval: \u001b[0m/content/drive/MyDrive/yolov11_test_cv/yolov11_dataset/images/val/4_1_frame_000432.jpg: ignoring corrupt image/label: labels require 5 columns, 6 columns detected\n",
            "\u001b[34m\u001b[1mval: \u001b[0m/content/drive/MyDrive/yolov11_test_cv/yolov11_dataset/images/val/4_1_frame_000918.jpg: ignoring corrupt image/label: labels require 5 columns, 6 columns detected\n",
            "\u001b[34m\u001b[1mval: \u001b[0m/content/drive/MyDrive/yolov11_test_cv/yolov11_dataset/images/val/4_frame_000025.jpg: ignoring corrupt image/label: labels require 5 columns, 6 columns detected\n",
            "\u001b[34m\u001b[1mval: \u001b[0m/content/drive/MyDrive/yolov11_test_cv/yolov11_dataset/images/val/4_frame_000228.jpg: ignoring corrupt image/label: labels require 5 columns, 6 columns detected\n",
            "\u001b[34m\u001b[1mval: \u001b[0m/content/drive/MyDrive/yolov11_test_cv/yolov11_dataset/images/val/4_frame_000300.jpg: ignoring corrupt image/label: labels require 5 columns, 6 columns detected\n",
            "\u001b[34m\u001b[1mval: \u001b[0m/content/drive/MyDrive/yolov11_test_cv/yolov11_dataset/images/val/4_frame_000324.jpg: ignoring corrupt image/label: labels require 5 columns, 6 columns detected\n",
            "\u001b[34m\u001b[1mval: \u001b[0m/content/drive/MyDrive/yolov11_test_cv/yolov11_dataset/images/val/4_frame_000450.jpg: ignoring corrupt image/label: labels require 5 columns, 6 columns detected\n",
            "\u001b[34m\u001b[1mval: \u001b[0m/content/drive/MyDrive/yolov11_test_cv/yolov11_dataset/images/val/4_frame_000475.jpg: ignoring corrupt image/label: labels require 5 columns, 6 columns detected\n",
            "\u001b[34m\u001b[1mval: \u001b[0m/content/drive/MyDrive/yolov11_test_cv/yolov11_dataset/images/val/4_frame_000575.jpg: ignoring corrupt image/label: labels require 5 columns, 6 columns detected\n",
            "\u001b[34m\u001b[1mval: \u001b[0m/content/drive/MyDrive/yolov11_test_cv/yolov11_dataset/images/val/4_frame_000800.jpg: ignoring corrupt image/label: labels require 5 columns, 6 columns detected\n",
            "\u001b[34m\u001b[1mval: \u001b[0m/content/drive/MyDrive/yolov11_test_cv/yolov11_dataset/images/val/4_frame_001025.jpg: ignoring corrupt image/label: labels require 5 columns, 6 columns detected\n",
            "\u001b[34m\u001b[1mval: \u001b[0m/content/drive/MyDrive/yolov11_test_cv/yolov11_dataset/images/val/4_frame_001075.jpg: ignoring corrupt image/label: labels require 5 columns, 6 columns detected\n",
            "\u001b[34m\u001b[1mval: \u001b[0m/content/drive/MyDrive/yolov11_test_cv/yolov11_dataset/images/val/4_frame_001125.jpg: ignoring corrupt image/label: labels require 5 columns, 6 columns detected\n",
            "\u001b[34m\u001b[1mval: \u001b[0m/content/drive/MyDrive/yolov11_test_cv/yolov11_dataset/images/val/4_frame_001150.jpg: ignoring corrupt image/label: labels require 5 columns, 6 columns detected\n",
            "\u001b[34m\u001b[1mval: \u001b[0m/content/drive/MyDrive/yolov11_test_cv/yolov11_dataset/images/val/4_frame_001375.jpg: ignoring corrupt image/label: labels require 5 columns, 6 columns detected\n",
            "\u001b[34m\u001b[1mval: \u001b[0m/content/drive/MyDrive/yolov11_test_cv/yolov11_dataset/images/val/4_frame_001525.jpg: ignoring corrupt image/label: labels require 5 columns, 6 columns detected\n",
            "\u001b[34m\u001b[1mval: \u001b[0m/content/drive/MyDrive/yolov11_test_cv/yolov11_dataset/images/val/4_frame_001675.jpg: ignoring corrupt image/label: labels require 5 columns, 6 columns detected\n",
            "\u001b[34m\u001b[1mval: \u001b[0m/content/drive/MyDrive/yolov11_test_cv/yolov11_dataset/images/val/4_frame_001850.jpg: ignoring corrupt image/label: labels require 5 columns, 6 columns detected\n",
            "\u001b[34m\u001b[1mval: \u001b[0m/content/drive/MyDrive/yolov11_test_cv/yolov11_dataset/images/val/4_frame_001875.jpg: ignoring corrupt image/label: labels require 5 columns, 6 columns detected\n",
            "\u001b[34m\u001b[1mval: \u001b[0m/content/drive/MyDrive/yolov11_test_cv/yolov11_dataset/images/val/4_frame_001896.jpg: ignoring corrupt image/label: labels require 5 columns, 6 columns detected\n",
            "\u001b[34m\u001b[1mval: \u001b[0m/content/drive/MyDrive/yolov11_test_cv/yolov11_dataset/images/val/4_frame_001950.jpg: ignoring corrupt image/label: labels require 5 columns, 6 columns detected\n",
            "\u001b[34m\u001b[1mval: \u001b[0m/content/drive/MyDrive/yolov11_test_cv/yolov11_dataset/images/val/4_frame_001975.jpg: ignoring corrupt image/label: labels require 5 columns, 6 columns detected\n",
            "\u001b[34m\u001b[1mval: \u001b[0m/content/drive/MyDrive/yolov11_test_cv/yolov11_dataset/images/val/4_frame_002025.jpg: ignoring corrupt image/label: labels require 5 columns, 6 columns detected\n",
            "Plotting labels to runs/train/yolov11-exp_opt_2/labels.jpg... \n"
          ]
        },
        {
          "metadata": {
            "tags": null
          },
          "name": "stderr",
          "output_type": "stream",
          "text": [
            "\n",
            "/usr/local/lib/python3.11/dist-packages/torch/utils/data/dataloader.py:665: UserWarning: 'pin_memory' argument is set as true but no accelerator is found, then device pinned memory won't be used.\n",
            "  warnings.warn(warn_msg)\n"
          ]
        },
        {
          "metadata": {
            "tags": null
          },
          "name": "stdout",
          "output_type": "stream",
          "text": [
            "\u001b[34m\u001b[1moptimizer:\u001b[0m 'optimizer=auto' found, ignoring 'lr0=0.01' and 'momentum=0.937' and determining best 'optimizer', 'lr0' and 'momentum' automatically... \n",
            "\u001b[34m\u001b[1moptimizer:\u001b[0m AdamW(lr=0.000833, momentum=0.9) with parameter groups 57 weight(decay=0.0), 64 weight(decay=0.0005), 63 bias(decay=0.0)\n",
            "Image sizes 512 train, 512 val\n",
            "Using 0 dataloader workers\n",
            "Logging results to \u001b[1mruns/train/yolov11-exp_opt_2\u001b[0m\n",
            "Starting training for 2 epochs...\n",
            "\n",
            "      Epoch    GPU_mem   box_loss   cls_loss   dfl_loss  Instances       Size\n"
          ]
        },
        {
          "metadata": {
            "tags": null
          },
          "name": "stderr",
          "output_type": "stream",
          "text": [
            "        1/2         0G     0.5549     0.3815     0.8856         52        512: 100%|██████████| 168/168 [32:13<00:00, 11.51s/it]\n",
            "                 Class     Images  Instances      Box(P          R      mAP50  mAP50-95): 100%|██████████| 2/2 [00:11<00:00,  5.58s/it]"
          ]
        },
        {
          "metadata": {
            "tags": null
          },
          "name": "stdout",
          "output_type": "stream",
          "text": [
            "                   all         32        202      0.995      0.987      0.992      0.847\n"
          ]
        },
        {
          "metadata": {
            "tags": null
          },
          "name": "stderr",
          "output_type": "stream",
          "text": [
            "\n"
          ]
        },
        {
          "metadata": {
            "tags": null
          },
          "name": "stdout",
          "output_type": "stream",
          "text": [
            "\n",
            "      Epoch    GPU_mem   box_loss   cls_loss   dfl_loss  Instances       Size\n"
          ]
        },
        {
          "metadata": {
            "tags": null
          },
          "name": "stderr",
          "output_type": "stream",
          "text": [
            "        2/2         0G     0.5147     0.3441     0.8741         35        512: 100%|██████████| 168/168 [32:07<00:00, 11.47s/it]\n",
            "                 Class     Images  Instances      Box(P          R      mAP50  mAP50-95): 100%|██████████| 2/2 [00:11<00:00,  5.55s/it]"
          ]
        },
        {
          "metadata": {
            "tags": null
          },
          "name": "stdout",
          "output_type": "stream",
          "text": [
            "                   all         32        202      0.996      0.991      0.992      0.859\n"
          ]
        },
        {
          "metadata": {
            "tags": null
          },
          "name": "stderr",
          "output_type": "stream",
          "text": [
            "\n"
          ]
        },
        {
          "metadata": {
            "tags": null
          },
          "name": "stdout",
          "output_type": "stream",
          "text": [
            "\n",
            "2 epochs completed in 1.079 hours.\n",
            "Optimizer stripped from runs/train/yolov11-exp_opt_2/weights/last.pt, 22.5MB\n",
            "Optimizer stripped from runs/train/yolov11-exp_opt_2/weights/best.pt, 22.5MB\n",
            "\n",
            "Validating runs/train/yolov11-exp_opt_2/weights/best.pt...\n",
            "Ultralytics 8.3.162 🚀 Python-3.11.13 torch-2.7.1+cu118 CPU (Intel Xeon 2.20GHz)\n",
            "Model summary (fused): 72 layers, 11,128,680 parameters, 0 gradients, 28.5 GFLOPs\n"
          ]
        },
        {
          "metadata": {
            "tags": null
          },
          "name": "stderr",
          "output_type": "stream",
          "text": [
            "                 Class     Images  Instances      Box(P          R      mAP50  mAP50-95): 100%|██████████| 2/2 [00:10<00:00,  5.41s/it]\n"
          ]
        },
        {
          "metadata": {
            "tags": null
          },
          "name": "stdout",
          "output_type": "stream",
          "text": [
            "                   all         32        202      0.996      0.991      0.992      0.859\n",
            "                   cup         32         87          1      0.979      0.995      0.825\n",
            "                  meat         15         15       0.99          1      0.995       0.84\n",
            "                 salad         15         30      0.996          1      0.995      0.812\n",
            "                  dish         27         27      0.995          1      0.995      0.914\n",
            "                 plate         14         43      0.999      0.977      0.981      0.904\n",
            "Speed: 0.9ms preprocess, 265.1ms inference, 0.0ms loss, 0.5ms postprocess per image\n",
            "Results saved to \u001b[1mruns/train/yolov11-exp_opt_2\u001b[0m\n",
            "\n",
            "Running validation...\n",
            "Ultralytics 8.3.162 🚀 Python-3.11.13 torch-2.7.1+cu118 CPU (Intel Xeon 2.20GHz)\n",
            "Model summary (fused): 72 layers, 11,128,680 parameters, 0 gradients, 28.5 GFLOPs\n",
            "\u001b[34m\u001b[1mval: \u001b[0mFast image access ✅ (ping: 1.4±1.5 ms, read: 54.1±41.4 MB/s, size: 2107.8 KB)\n"
          ]
        },
        {
          "metadata": {
            "tags": null
          },
          "name": "stderr",
          "output_type": "stream",
          "text": [
            "\u001b[34m\u001b[1mval: \u001b[0mScanning /content/drive/MyDrive/yolov11_test_cv/yolov11_dataset/labels/val.cache... 125 images, 0 backgrounds, 93 corrupt: 100%|██████████| 125/125 [00:00<?, ?it/s]"
          ]
        },
        {
          "metadata": {
            "tags": null
          },
          "name": "stdout",
          "output_type": "stream",
          "text": [
            "\u001b[34m\u001b[1mval: \u001b[0m/content/drive/MyDrive/yolov11_test_cv/yolov11_dataset/images/val/1_frame_000058.jpg: ignoring corrupt image/label: labels require 5 columns, 6 columns detected\n",
            "\u001b[34m\u001b[1mval: \u001b[0m/content/drive/MyDrive/yolov11_test_cv/yolov11_dataset/images/val/1_frame_000071.jpg: ignoring corrupt image/label: labels require 5 columns, 6 columns detected\n",
            "\u001b[34m\u001b[1mval: \u001b[0m/content/drive/MyDrive/yolov11_test_cv/yolov11_dataset/images/val/1_frame_000178.jpg: ignoring corrupt image/label: labels require 5 columns, 6 columns detected\n",
            "\u001b[34m\u001b[1mval: \u001b[0m/content/drive/MyDrive/yolov11_test_cv/yolov11_dataset/images/val/2_1_frame_000297.jpg: ignoring corrupt image/label: labels require 5 columns, 6 columns detected\n",
            "\u001b[34m\u001b[1mval: \u001b[0m/content/drive/MyDrive/yolov11_test_cv/yolov11_dataset/images/val/2_1_frame_000594.jpg: ignoring corrupt image/label: labels require 5 columns, 6 columns detected\n",
            "\u001b[34m\u001b[1mval: \u001b[0m/content/drive/MyDrive/yolov11_test_cv/yolov11_dataset/images/val/2_1_frame_001404.jpg: ignoring corrupt image/label: labels require 5 columns, 6 columns detected\n",
            "\u001b[34m\u001b[1mval: \u001b[0m/content/drive/MyDrive/yolov11_test_cv/yolov11_dataset/images/val/2_1_frame_001458.jpg: ignoring corrupt image/label: labels require 5 columns, 6 columns detected\n",
            "\u001b[34m\u001b[1mval: \u001b[0m/content/drive/MyDrive/yolov11_test_cv/yolov11_dataset/images/val/3_1_frame_000050.jpg: ignoring corrupt image/label: labels require 5 columns, 6 columns detected\n",
            "\u001b[34m\u001b[1mval: \u001b[0m/content/drive/MyDrive/yolov11_test_cv/yolov11_dataset/images/val/3_1_frame_000108.jpg: ignoring corrupt image/label: labels require 5 columns, 6 columns detected\n",
            "\u001b[34m\u001b[1mval: \u001b[0m/content/drive/MyDrive/yolov11_test_cv/yolov11_dataset/images/val/3_1_frame_000144.jpg: ignoring corrupt image/label: labels require 5 columns, 6 columns detected\n",
            "\u001b[34m\u001b[1mval: \u001b[0m/content/drive/MyDrive/yolov11_test_cv/yolov11_dataset/images/val/3_1_frame_000372.jpg: ignoring corrupt image/label: labels require 5 columns, 6 columns detected\n",
            "\u001b[34m\u001b[1mval: \u001b[0m/content/drive/MyDrive/yolov11_test_cv/yolov11_dataset/images/val/3_1_frame_000408.jpg: ignoring corrupt image/label: labels require 5 columns, 6 columns detected\n",
            "\u001b[34m\u001b[1mval: \u001b[0m/content/drive/MyDrive/yolov11_test_cv/yolov11_dataset/images/val/3_1_frame_000444.jpg: ignoring corrupt image/label: labels require 5 columns, 6 columns detected\n",
            "\u001b[34m\u001b[1mval: \u001b[0m/content/drive/MyDrive/yolov11_test_cv/yolov11_dataset/images/val/3_1_frame_000525.jpg: ignoring corrupt image/label: labels require 5 columns, 6 columns detected\n",
            "\u001b[34m\u001b[1mval: \u001b[0m/content/drive/MyDrive/yolov11_test_cv/yolov11_dataset/images/val/3_1_frame_000528.jpg: ignoring corrupt image/label: labels require 5 columns, 6 columns detected\n",
            "\u001b[34m\u001b[1mval: \u001b[0m/content/drive/MyDrive/yolov11_test_cv/yolov11_dataset/images/val/3_1_frame_000552.jpg: ignoring corrupt image/label: labels require 5 columns, 6 columns detected\n",
            "\u001b[34m\u001b[1mval: \u001b[0m/content/drive/MyDrive/yolov11_test_cv/yolov11_dataset/images/val/3_1_frame_000600.jpg: ignoring corrupt image/label: labels require 5 columns, 6 columns detected\n",
            "\u001b[34m\u001b[1mval: \u001b[0m/content/drive/MyDrive/yolov11_test_cv/yolov11_dataset/images/val/3_1_frame_000624.jpg: ignoring corrupt image/label: labels require 5 columns, 6 columns detected\n",
            "\u001b[34m\u001b[1mval: \u001b[0m/content/drive/MyDrive/yolov11_test_cv/yolov11_dataset/images/val/3_1_frame_000625.jpg: ignoring corrupt image/label: labels require 5 columns, 6 columns detected\n",
            "\u001b[34m\u001b[1mval: \u001b[0m/content/drive/MyDrive/yolov11_test_cv/yolov11_dataset/images/val/3_1_frame_000660.jpg: ignoring corrupt image/label: labels require 5 columns, 6 columns detected\n",
            "\u001b[34m\u001b[1mval: \u001b[0m/content/drive/MyDrive/yolov11_test_cv/yolov11_dataset/images/val/3_1_frame_000780.jpg: ignoring corrupt image/label: labels require 5 columns, 6 columns detected\n",
            "\u001b[34m\u001b[1mval: \u001b[0m/content/drive/MyDrive/yolov11_test_cv/yolov11_dataset/images/val/3_1_frame_000792.jpg: ignoring corrupt image/label: labels require 5 columns, 6 columns detected\n",
            "\u001b[34m\u001b[1mval: \u001b[0m/content/drive/MyDrive/yolov11_test_cv/yolov11_dataset/images/val/3_1_frame_000840.jpg: ignoring corrupt image/label: labels require 5 columns, 6 columns detected\n",
            "\u001b[34m\u001b[1mval: \u001b[0m/content/drive/MyDrive/yolov11_test_cv/yolov11_dataset/images/val/3_1_frame_000864.jpg: ignoring corrupt image/label: labels require 5 columns, 6 columns detected\n",
            "\u001b[34m\u001b[1mval: \u001b[0m/content/drive/MyDrive/yolov11_test_cv/yolov11_dataset/images/val/3_1_frame_000888.jpg: ignoring corrupt image/label: labels require 5 columns, 6 columns detected\n",
            "\u001b[34m\u001b[1mval: \u001b[0m/content/drive/MyDrive/yolov11_test_cv/yolov11_dataset/images/val/3_1_frame_001025.jpg: ignoring corrupt image/label: labels require 5 columns, 6 columns detected\n",
            "\u001b[34m\u001b[1mval: \u001b[0m/content/drive/MyDrive/yolov11_test_cv/yolov11_dataset/images/val/3_1_frame_001075.jpg: ignoring corrupt image/label: labels require 5 columns, 6 columns detected\n",
            "\u001b[34m\u001b[1mval: \u001b[0m/content/drive/MyDrive/yolov11_test_cv/yolov11_dataset/images/val/3_1_frame_001224.jpg: ignoring corrupt image/label: labels require 5 columns, 6 columns detected\n",
            "\u001b[34m\u001b[1mval: \u001b[0m/content/drive/MyDrive/yolov11_test_cv/yolov11_dataset/images/val/3_1_frame_001236.jpg: ignoring corrupt image/label: labels require 5 columns, 6 columns detected\n",
            "\u001b[34m\u001b[1mval: \u001b[0m/content/drive/MyDrive/yolov11_test_cv/yolov11_dataset/images/val/3_1_frame_001248.jpg: ignoring corrupt image/label: labels require 5 columns, 6 columns detected\n",
            "\u001b[34m\u001b[1mval: \u001b[0m/content/drive/MyDrive/yolov11_test_cv/yolov11_dataset/images/val/3_1_frame_001320.jpg: ignoring corrupt image/label: labels require 5 columns, 6 columns detected\n",
            "\u001b[34m\u001b[1mval: \u001b[0m/content/drive/MyDrive/yolov11_test_cv/yolov11_dataset/images/val/3_1_frame_001325.jpg: ignoring corrupt image/label: labels require 5 columns, 6 columns detected\n",
            "\u001b[34m\u001b[1mval: \u001b[0m/content/drive/MyDrive/yolov11_test_cv/yolov11_dataset/images/val/3_1_frame_001404.jpg: ignoring corrupt image/label: labels require 5 columns, 6 columns detected\n",
            "\u001b[34m\u001b[1mval: \u001b[0m/content/drive/MyDrive/yolov11_test_cv/yolov11_dataset/images/val/3_1_frame_001416.jpg: ignoring corrupt image/label: labels require 5 columns, 6 columns detected\n",
            "\u001b[34m\u001b[1mval: \u001b[0m/content/drive/MyDrive/yolov11_test_cv/yolov11_dataset/images/val/3_1_frame_001525.jpg: ignoring corrupt image/label: labels require 5 columns, 6 columns detected\n",
            "\u001b[34m\u001b[1mval: \u001b[0m/content/drive/MyDrive/yolov11_test_cv/yolov11_dataset/images/val/3_1_frame_001536.jpg: ignoring corrupt image/label: labels require 5 columns, 6 columns detected\n",
            "\u001b[34m\u001b[1mval: \u001b[0m/content/drive/MyDrive/yolov11_test_cv/yolov11_dataset/images/val/3_1_frame_001560.jpg: ignoring corrupt image/label: labels require 5 columns, 6 columns detected\n",
            "\u001b[34m\u001b[1mval: \u001b[0m/content/drive/MyDrive/yolov11_test_cv/yolov11_dataset/images/val/3_1_frame_001575.jpg: ignoring corrupt image/label: labels require 5 columns, 6 columns detected\n",
            "\u001b[34m\u001b[1mval: \u001b[0m/content/drive/MyDrive/yolov11_test_cv/yolov11_dataset/images/val/3_1_frame_001680.jpg: ignoring corrupt image/label: labels require 5 columns, 6 columns detected\n",
            "\u001b[34m\u001b[1mval: \u001b[0m/content/drive/MyDrive/yolov11_test_cv/yolov11_dataset/images/val/3_1_frame_001825.jpg: ignoring corrupt image/label: labels require 5 columns, 6 columns detected\n",
            "\u001b[34m\u001b[1mval: \u001b[0m/content/drive/MyDrive/yolov11_test_cv/yolov11_dataset/images/val/3_1_frame_001896.jpg: ignoring corrupt image/label: labels require 5 columns, 6 columns detected\n",
            "\u001b[34m\u001b[1mval: \u001b[0m/content/drive/MyDrive/yolov11_test_cv/yolov11_dataset/images/val/3_1_frame_001950.jpg: ignoring corrupt image/label: labels require 5 columns, 6 columns detected\n",
            "\u001b[34m\u001b[1mval: \u001b[0m/content/drive/MyDrive/yolov11_test_cv/yolov11_dataset/images/val/3_1_frame_001992.jpg: ignoring corrupt image/label: labels require 5 columns, 6 columns detected\n",
            "\u001b[34m\u001b[1mval: \u001b[0m/content/drive/MyDrive/yolov11_test_cv/yolov11_dataset/images/val/3_1_frame_002076.jpg: ignoring corrupt image/label: labels require 5 columns, 6 columns detected\n",
            "\u001b[34m\u001b[1mval: \u001b[0m/content/drive/MyDrive/yolov11_test_cv/yolov11_dataset/images/val/3_1_frame_002175.jpg: ignoring corrupt image/label: labels require 5 columns, 6 columns detected\n",
            "\u001b[34m\u001b[1mval: \u001b[0m/content/drive/MyDrive/yolov11_test_cv/yolov11_dataset/images/val/3_1_frame_002200.jpg: ignoring corrupt image/label: labels require 5 columns, 6 columns detected\n",
            "\u001b[34m\u001b[1mval: \u001b[0m/content/drive/MyDrive/yolov11_test_cv/yolov11_dataset/images/val/3_1_frame_002275.jpg: ignoring corrupt image/label: labels require 5 columns, 6 columns detected\n",
            "\u001b[34m\u001b[1mval: \u001b[0m/content/drive/MyDrive/yolov11_test_cv/yolov11_dataset/images/val/3_1_frame_002304.jpg: ignoring corrupt image/label: labels require 5 columns, 6 columns detected\n",
            "\u001b[34m\u001b[1mval: \u001b[0m/content/drive/MyDrive/yolov11_test_cv/yolov11_dataset/images/val/3_1_frame_002364.jpg: ignoring corrupt image/label: labels require 5 columns, 6 columns detected\n",
            "\u001b[34m\u001b[1mval: \u001b[0m/content/drive/MyDrive/yolov11_test_cv/yolov11_dataset/images/val/3_1_frame_002376.jpg: ignoring corrupt image/label: labels require 5 columns, 6 columns detected\n",
            "\u001b[34m\u001b[1mval: \u001b[0m/content/drive/MyDrive/yolov11_test_cv/yolov11_dataset/images/val/3_1_frame_002412.jpg: ignoring corrupt image/label: labels require 5 columns, 6 columns detected\n",
            "\u001b[34m\u001b[1mval: \u001b[0m/content/drive/MyDrive/yolov11_test_cv/yolov11_dataset/images/val/3_1_frame_002425.jpg: ignoring corrupt image/label: labels require 5 columns, 6 columns detected\n",
            "\u001b[34m\u001b[1mval: \u001b[0m/content/drive/MyDrive/yolov11_test_cv/yolov11_dataset/images/val/3_1_frame_002448.jpg: ignoring corrupt image/label: labels require 5 columns, 6 columns detected\n",
            "\u001b[34m\u001b[1mval: \u001b[0m/content/drive/MyDrive/yolov11_test_cv/yolov11_dataset/images/val/3_1_frame_002532.jpg: ignoring corrupt image/label: labels require 5 columns, 6 columns detected\n",
            "\u001b[34m\u001b[1mval: \u001b[0m/content/drive/MyDrive/yolov11_test_cv/yolov11_dataset/images/val/3_1_frame_002568.jpg: ignoring corrupt image/label: labels require 5 columns, 6 columns detected\n",
            "\u001b[34m\u001b[1mval: \u001b[0m/content/drive/MyDrive/yolov11_test_cv/yolov11_dataset/images/val/3_1_frame_002616.jpg: ignoring corrupt image/label: labels require 5 columns, 6 columns detected\n",
            "\u001b[34m\u001b[1mval: \u001b[0m/content/drive/MyDrive/yolov11_test_cv/yolov11_dataset/images/val/3_1_frame_002640.jpg: ignoring corrupt image/label: labels require 5 columns, 6 columns detected\n",
            "\u001b[34m\u001b[1mval: \u001b[0m/content/drive/MyDrive/yolov11_test_cv/yolov11_dataset/images/val/3_1_frame_002725.jpg: ignoring corrupt image/label: labels require 5 columns, 6 columns detected\n",
            "\u001b[34m\u001b[1mval: \u001b[0m/content/drive/MyDrive/yolov11_test_cv/yolov11_dataset/images/val/3_1_frame_002832.jpg: ignoring corrupt image/label: labels require 5 columns, 6 columns detected\n",
            "\u001b[34m\u001b[1mval: \u001b[0m/content/drive/MyDrive/yolov11_test_cv/yolov11_dataset/images/val/3_1_frame_002880.jpg: ignoring corrupt image/label: labels require 5 columns, 6 columns detected\n",
            "\u001b[34m\u001b[1mval: \u001b[0m/content/drive/MyDrive/yolov11_test_cv/yolov11_dataset/images/val/3_1_frame_002892.jpg: ignoring corrupt image/label: labels require 5 columns, 6 columns detected\n",
            "\u001b[34m\u001b[1mval: \u001b[0m/content/drive/MyDrive/yolov11_test_cv/yolov11_dataset/images/val/3_1_frame_002904.jpg: ignoring corrupt image/label: labels require 5 columns, 6 columns detected\n",
            "\u001b[34m\u001b[1mval: \u001b[0m/content/drive/MyDrive/yolov11_test_cv/yolov11_dataset/images/val/3_1_frame_002940.jpg: ignoring corrupt image/label: labels require 5 columns, 6 columns detected\n",
            "\u001b[34m\u001b[1mval: \u001b[0m/content/drive/MyDrive/yolov11_test_cv/yolov11_dataset/images/val/3_1_frame_002952.jpg: ignoring corrupt image/label: labels require 5 columns, 6 columns detected\n",
            "\u001b[34m\u001b[1mval: \u001b[0m/content/drive/MyDrive/yolov11_test_cv/yolov11_dataset/images/val/3_2_frame_000918.jpg: ignoring corrupt image/label: labels require 5 columns, 6 columns detected\n",
            "\u001b[34m\u001b[1mval: \u001b[0m/content/drive/MyDrive/yolov11_test_cv/yolov11_dataset/images/val/3_2_frame_000972.jpg: ignoring corrupt image/label: labels require 5 columns, 6 columns detected\n",
            "\u001b[34m\u001b[1mval: \u001b[0m/content/drive/MyDrive/yolov11_test_cv/yolov11_dataset/images/val/3_2_frame_001053.jpg: ignoring corrupt image/label: labels require 5 columns, 6 columns detected\n",
            "\u001b[34m\u001b[1mval: \u001b[0m/content/drive/MyDrive/yolov11_test_cv/yolov11_dataset/images/val/4_1_frame_000297.jpg: ignoring corrupt image/label: labels require 5 columns, 6 columns detected\n",
            "\u001b[34m\u001b[1mval: \u001b[0m/content/drive/MyDrive/yolov11_test_cv/yolov11_dataset/images/val/4_1_frame_000324.jpg: ignoring corrupt image/label: labels require 5 columns, 6 columns detected\n",
            "\u001b[34m\u001b[1mval: \u001b[0m/content/drive/MyDrive/yolov11_test_cv/yolov11_dataset/images/val/4_1_frame_000351.jpg: ignoring corrupt image/label: labels require 5 columns, 6 columns detected\n",
            "\u001b[34m\u001b[1mval: \u001b[0m/content/drive/MyDrive/yolov11_test_cv/yolov11_dataset/images/val/4_1_frame_000432.jpg: ignoring corrupt image/label: labels require 5 columns, 6 columns detected\n",
            "\u001b[34m\u001b[1mval: \u001b[0m/content/drive/MyDrive/yolov11_test_cv/yolov11_dataset/images/val/4_1_frame_000918.jpg: ignoring corrupt image/label: labels require 5 columns, 6 columns detected\n",
            "\u001b[34m\u001b[1mval: \u001b[0m/content/drive/MyDrive/yolov11_test_cv/yolov11_dataset/images/val/4_frame_000025.jpg: ignoring corrupt image/label: labels require 5 columns, 6 columns detected\n",
            "\u001b[34m\u001b[1mval: \u001b[0m/content/drive/MyDrive/yolov11_test_cv/yolov11_dataset/images/val/4_frame_000228.jpg: ignoring corrupt image/label: labels require 5 columns, 6 columns detected\n",
            "\u001b[34m\u001b[1mval: \u001b[0m/content/drive/MyDrive/yolov11_test_cv/yolov11_dataset/images/val/4_frame_000300.jpg: ignoring corrupt image/label: labels require 5 columns, 6 columns detected\n",
            "\u001b[34m\u001b[1mval: \u001b[0m/content/drive/MyDrive/yolov11_test_cv/yolov11_dataset/images/val/4_frame_000324.jpg: ignoring corrupt image/label: labels require 5 columns, 6 columns detected\n",
            "\u001b[34m\u001b[1mval: \u001b[0m/content/drive/MyDrive/yolov11_test_cv/yolov11_dataset/images/val/4_frame_000450.jpg: ignoring corrupt image/label: labels require 5 columns, 6 columns detected\n",
            "\u001b[34m\u001b[1mval: \u001b[0m/content/drive/MyDrive/yolov11_test_cv/yolov11_dataset/images/val/4_frame_000475.jpg: ignoring corrupt image/label: labels require 5 columns, 6 columns detected\n",
            "\u001b[34m\u001b[1mval: \u001b[0m/content/drive/MyDrive/yolov11_test_cv/yolov11_dataset/images/val/4_frame_000575.jpg: ignoring corrupt image/label: labels require 5 columns, 6 columns detected\n",
            "\u001b[34m\u001b[1mval: \u001b[0m/content/drive/MyDrive/yolov11_test_cv/yolov11_dataset/images/val/4_frame_000800.jpg: ignoring corrupt image/label: labels require 5 columns, 6 columns detected\n",
            "\u001b[34m\u001b[1mval: \u001b[0m/content/drive/MyDrive/yolov11_test_cv/yolov11_dataset/images/val/4_frame_001025.jpg: ignoring corrupt image/label: labels require 5 columns, 6 columns detected\n",
            "\u001b[34m\u001b[1mval: \u001b[0m/content/drive/MyDrive/yolov11_test_cv/yolov11_dataset/images/val/4_frame_001075.jpg: ignoring corrupt image/label: labels require 5 columns, 6 columns detected\n",
            "\u001b[34m\u001b[1mval: \u001b[0m/content/drive/MyDrive/yolov11_test_cv/yolov11_dataset/images/val/4_frame_001125.jpg: ignoring corrupt image/label: labels require 5 columns, 6 columns detected\n",
            "\u001b[34m\u001b[1mval: \u001b[0m/content/drive/MyDrive/yolov11_test_cv/yolov11_dataset/images/val/4_frame_001150.jpg: ignoring corrupt image/label: labels require 5 columns, 6 columns detected\n",
            "\u001b[34m\u001b[1mval: \u001b[0m/content/drive/MyDrive/yolov11_test_cv/yolov11_dataset/images/val/4_frame_001375.jpg: ignoring corrupt image/label: labels require 5 columns, 6 columns detected\n",
            "\u001b[34m\u001b[1mval: \u001b[0m/content/drive/MyDrive/yolov11_test_cv/yolov11_dataset/images/val/4_frame_001525.jpg: ignoring corrupt image/label: labels require 5 columns, 6 columns detected\n",
            "\u001b[34m\u001b[1mval: \u001b[0m/content/drive/MyDrive/yolov11_test_cv/yolov11_dataset/images/val/4_frame_001675.jpg: ignoring corrupt image/label: labels require 5 columns, 6 columns detected\n",
            "\u001b[34m\u001b[1mval: \u001b[0m/content/drive/MyDrive/yolov11_test_cv/yolov11_dataset/images/val/4_frame_001850.jpg: ignoring corrupt image/label: labels require 5 columns, 6 columns detected\n",
            "\u001b[34m\u001b[1mval: \u001b[0m/content/drive/MyDrive/yolov11_test_cv/yolov11_dataset/images/val/4_frame_001875.jpg: ignoring corrupt image/label: labels require 5 columns, 6 columns detected\n",
            "\u001b[34m\u001b[1mval: \u001b[0m/content/drive/MyDrive/yolov11_test_cv/yolov11_dataset/images/val/4_frame_001896.jpg: ignoring corrupt image/label: labels require 5 columns, 6 columns detected\n",
            "\u001b[34m\u001b[1mval: \u001b[0m/content/drive/MyDrive/yolov11_test_cv/yolov11_dataset/images/val/4_frame_001950.jpg: ignoring corrupt image/label: labels require 5 columns, 6 columns detected\n",
            "\u001b[34m\u001b[1mval: \u001b[0m/content/drive/MyDrive/yolov11_test_cv/yolov11_dataset/images/val/4_frame_001975.jpg: ignoring corrupt image/label: labels require 5 columns, 6 columns detected\n",
            "\u001b[34m\u001b[1mval: \u001b[0m/content/drive/MyDrive/yolov11_test_cv/yolov11_dataset/images/val/4_frame_002025.jpg: ignoring corrupt image/label: labels require 5 columns, 6 columns detected\n"
          ]
        },
        {
          "metadata": {
            "tags": null
          },
          "name": "stderr",
          "output_type": "stream",
          "text": [
            "\n",
            "/usr/local/lib/python3.11/dist-packages/torch/utils/data/dataloader.py:665: UserWarning: 'pin_memory' argument is set as true but no accelerator is found, then device pinned memory won't be used.\n",
            "  warnings.warn(warn_msg)\n",
            "                 Class     Images  Instances      Box(P          R      mAP50  mAP50-95): 100%|██████████| 4/4 [00:11<00:00,  2.78s/it]\n"
          ]
        },
        {
          "metadata": {
            "tags": null
          },
          "name": "stdout",
          "output_type": "stream",
          "text": [
            "                   all         32        202      0.996      0.991      0.992      0.859\n",
            "                   cup         32         87          1      0.979      0.995      0.825\n",
            "                  meat         15         15       0.99          1      0.995       0.84\n",
            "                 salad         15         30      0.996          1      0.995      0.812\n",
            "                  dish         27         27      0.995          1      0.995      0.914\n",
            "                 plate         14         43      0.999      0.977      0.981      0.904\n",
            "Speed: 0.7ms preprocess, 252.6ms inference, 0.0ms loss, 0.5ms postprocess per image\n",
            "Results saved to \u001b[1mruns/detect/val\u001b[0m\n",
            "\n",
            "Validation Results:\n",
            "mAP50: 0.9922\n",
            "mAP50-95: 0.8590\n",
            "Validation error: unsupported format string passed to numpy.ndarray.__format__\n",
            "Iteration 1 failed: 'NoneType' object is not subscriptable\n",
            "\n",
            "Iteration 2/2: {'batch': 8, 'lr0': 0.01, 'weight_decay': 0.001}\n",
            "\n",
            "Training configuration:\n",
            "data: runs/train/temp_dataset.yaml\n",
            "epochs: 2\n",
            "batch: 8\n",
            "imgsz: 512\n",
            "device: cpu\n",
            "workers: 2\n",
            "seed: 0\n",
            "project: runs/train\n",
            "name: yolov11-exp_opt_3\n",
            "exist_ok: True\n",
            "cos_lr: True\n",
            "lr0: 0.01\n",
            "momentum: 0.937\n",
            "weight_decay: 0.001\n",
            "fliplr: 0.5\n",
            "Ultralytics 8.3.162 🚀 Python-3.11.13 torch-2.7.1+cu118 CPU (Intel Xeon 2.20GHz)\n",
            "\u001b[34m\u001b[1mengine/trainer: \u001b[0magnostic_nms=False, amp=True, augment=False, auto_augment=randaugment, batch=8, bgr=0.0, box=7.5, cache=False, cfg=None, classes=None, close_mosaic=10, cls=0.5, conf=None, copy_paste=0.0, copy_paste_mode=flip, cos_lr=True, cutmix=0.0, data=runs/train/temp_dataset.yaml, degrees=0.0, deterministic=True, device=cpu, dfl=1.5, dnn=False, dropout=0.0, dynamic=False, embed=None, epochs=2, erasing=0.4, exist_ok=True, fliplr=0.5, flipud=0.0, format=torchscript, fraction=1.0, freeze=None, half=False, hsv_h=0.015, hsv_s=0.7, hsv_v=0.4, imgsz=512, int8=False, iou=0.7, keras=False, kobj=1.0, line_width=None, lr0=0.01, lrf=0.01, mask_ratio=4, max_det=300, mixup=0.0, mode=train, model=yolov8s.pt, momentum=0.937, mosaic=1.0, multi_scale=False, name=yolov11-exp_opt_3, nbs=64, nms=False, opset=None, optimize=False, optimizer=auto, overlap_mask=True, patience=100, perspective=0.0, plots=True, pose=12.0, pretrained=True, profile=False, project=runs/train, rect=False, resume=False, retina_masks=False, save=True, save_conf=False, save_crop=False, save_dir=runs/train/yolov11-exp_opt_3, save_frames=False, save_json=False, save_period=-1, save_txt=False, scale=0.5, seed=0, shear=0.0, show=False, show_boxes=True, show_conf=True, show_labels=True, simplify=True, single_cls=False, source=None, split=val, stream_buffer=False, task=detect, time=None, tracker=botsort.yaml, translate=0.1, val=True, verbose=True, vid_stride=1, visualize=False, warmup_bias_lr=0.0, warmup_epochs=3.0, warmup_momentum=0.8, weight_decay=0.001, workers=2, workspace=None\n",
            "\n",
            "                   from  n    params  module                                       arguments                     \n",
            "  0                  -1  1       928  ultralytics.nn.modules.conv.Conv             [3, 32, 3, 2]                 \n",
            "  1                  -1  1     18560  ultralytics.nn.modules.conv.Conv             [32, 64, 3, 2]                \n",
            "  2                  -1  1     29056  ultralytics.nn.modules.block.C2f             [64, 64, 1, True]             \n",
            "  3                  -1  1     73984  ultralytics.nn.modules.conv.Conv             [64, 128, 3, 2]               \n",
            "  4                  -1  2    197632  ultralytics.nn.modules.block.C2f             [128, 128, 2, True]           \n",
            "  5                  -1  1    295424  ultralytics.nn.modules.conv.Conv             [128, 256, 3, 2]              \n",
            "  6                  -1  2    788480  ultralytics.nn.modules.block.C2f             [256, 256, 2, True]           \n",
            "  7                  -1  1   1180672  ultralytics.nn.modules.conv.Conv             [256, 512, 3, 2]              \n",
            "  8                  -1  1   1838080  ultralytics.nn.modules.block.C2f             [512, 512, 1, True]           \n",
            "  9                  -1  1    656896  ultralytics.nn.modules.block.SPPF            [512, 512, 5]                 \n",
            " 10                  -1  1         0  torch.nn.modules.upsampling.Upsample         [None, 2, 'nearest']          \n",
            " 11             [-1, 6]  1         0  ultralytics.nn.modules.conv.Concat           [1]                           \n",
            " 12                  -1  1    591360  ultralytics.nn.modules.block.C2f             [768, 256, 1]                 \n",
            " 13                  -1  1         0  torch.nn.modules.upsampling.Upsample         [None, 2, 'nearest']          \n",
            " 14             [-1, 4]  1         0  ultralytics.nn.modules.conv.Concat           [1]                           \n",
            " 15                  -1  1    148224  ultralytics.nn.modules.block.C2f             [384, 128, 1]                 \n",
            " 16                  -1  1    147712  ultralytics.nn.modules.conv.Conv             [128, 128, 3, 2]              \n",
            " 17            [-1, 12]  1         0  ultralytics.nn.modules.conv.Concat           [1]                           \n",
            " 18                  -1  1    493056  ultralytics.nn.modules.block.C2f             [384, 256, 1]                 \n",
            " 19                  -1  1    590336  ultralytics.nn.modules.conv.Conv             [256, 256, 3, 2]              \n",
            " 20             [-1, 9]  1         0  ultralytics.nn.modules.conv.Concat           [1]                           \n",
            " 21                  -1  1   1969152  ultralytics.nn.modules.block.C2f             [768, 512, 1]                 \n",
            " 22        [15, 18, 21]  1   2119144  ultralytics.nn.modules.head.Detect           [8, [128, 256, 512]]          \n",
            "Model summary: 129 layers, 11,138,696 parameters, 11,138,680 gradients, 28.7 GFLOPs\n",
            "\n",
            "Transferred 355/355 items from pretrained weights\n",
            "Freezing layer 'model.22.dfl.conv.weight'\n",
            "\u001b[34m\u001b[1mtrain: \u001b[0mFast image access ✅ (ping: 0.6±0.1 ms, read: 136.1±131.1 MB/s, size: 1341.3 KB)\n"
          ]
        },
        {
          "metadata": {
            "tags": null
          },
          "name": "stderr",
          "output_type": "stream",
          "text": [
            "\u001b[34m\u001b[1mtrain: \u001b[0mScanning /content/drive/MyDrive/yolov11_test_cv/yolov11_dataset/labels/train.cache... 1695 images, 1 backgrounds, 355 corrupt: 100%|██████████| 1695/1695 [00:00<?, ?it/s]"
          ]
        },
        {
          "metadata": {
            "tags": null
          },
          "name": "stdout",
          "output_type": "stream",
          "text": [
            "\u001b[34m\u001b[1mtrain: \u001b[0m/content/drive/MyDrive/yolov11_test_cv/yolov11_dataset/images/train/1_frame_000009.jpg: ignoring corrupt image/label: labels require 5 columns, 6 columns detected\n",
            "\u001b[34m\u001b[1mtrain: \u001b[0m/content/drive/MyDrive/yolov11_test_cv/yolov11_dataset/images/train/1_frame_000014.jpg: ignoring corrupt image/label: labels require 5 columns, 6 columns detected\n",
            "\u001b[34m\u001b[1mtrain: \u001b[0m/content/drive/MyDrive/yolov11_test_cv/yolov11_dataset/images/train/1_frame_000020.jpg: ignoring corrupt image/label: labels require 5 columns, 6 columns detected\n",
            "\u001b[34m\u001b[1mtrain: \u001b[0m/content/drive/MyDrive/yolov11_test_cv/yolov11_dataset/images/train/1_frame_000026.jpg: ignoring corrupt image/label: labels require 5 columns, 6 columns detected\n",
            "\u001b[34m\u001b[1mtrain: \u001b[0m/content/drive/MyDrive/yolov11_test_cv/yolov11_dataset/images/train/1_frame_000028.jpg: ignoring corrupt image/label: labels require 5 columns, 6 columns detected\n",
            "\u001b[34m\u001b[1mtrain: \u001b[0m/content/drive/MyDrive/yolov11_test_cv/yolov11_dataset/images/train/1_frame_000050.jpg: ignoring corrupt image/label: labels require 5 columns, 6 columns detected\n",
            "\u001b[34m\u001b[1mtrain: \u001b[0m/content/drive/MyDrive/yolov11_test_cv/yolov11_dataset/images/train/1_frame_000056.jpg: ignoring corrupt image/label: labels require 5 columns, 6 columns detected\n",
            "\u001b[34m\u001b[1mtrain: \u001b[0m/content/drive/MyDrive/yolov11_test_cv/yolov11_dataset/images/train/1_frame_000084.jpg: ignoring corrupt image/label: labels require 5 columns, 6 columns detected\n",
            "\u001b[34m\u001b[1mtrain: \u001b[0m/content/drive/MyDrive/yolov11_test_cv/yolov11_dataset/images/train/1_frame_000087.jpg: ignoring corrupt image/label: labels require 5 columns, 6 columns detected\n",
            "\u001b[34m\u001b[1mtrain: \u001b[0m/content/drive/MyDrive/yolov11_test_cv/yolov11_dataset/images/train/1_frame_000098.jpg: ignoring corrupt image/label: labels require 5 columns, 6 columns detected\n",
            "\u001b[34m\u001b[1mtrain: \u001b[0m/content/drive/MyDrive/yolov11_test_cv/yolov11_dataset/images/train/1_frame_000163.jpg: ignoring corrupt image/label: labels require 5 columns, 6 columns detected\n",
            "\u001b[34m\u001b[1mtrain: \u001b[0m/content/drive/MyDrive/yolov11_test_cv/yolov11_dataset/images/train/2_1_frame_000054.jpg: ignoring corrupt image/label: labels require 5 columns, 6 columns detected\n",
            "\u001b[34m\u001b[1mtrain: \u001b[0m/content/drive/MyDrive/yolov11_test_cv/yolov11_dataset/images/train/2_1_frame_000108.jpg: ignoring corrupt image/label: labels require 5 columns, 6 columns detected\n",
            "\u001b[34m\u001b[1mtrain: \u001b[0m/content/drive/MyDrive/yolov11_test_cv/yolov11_dataset/images/train/2_1_frame_000324.jpg: ignoring corrupt image/label: labels require 5 columns, 6 columns detected\n",
            "\u001b[34m\u001b[1mtrain: \u001b[0m/content/drive/MyDrive/yolov11_test_cv/yolov11_dataset/images/train/2_1_frame_000432.jpg: ignoring corrupt image/label: labels require 5 columns, 6 columns detected\n",
            "\u001b[34m\u001b[1mtrain: \u001b[0m/content/drive/MyDrive/yolov11_test_cv/yolov11_dataset/images/train/2_1_frame_000486.jpg: ignoring corrupt image/label: labels require 5 columns, 6 columns detected\n",
            "\u001b[34m\u001b[1mtrain: \u001b[0m/content/drive/MyDrive/yolov11_test_cv/yolov11_dataset/images/train/2_1_frame_000702.jpg: ignoring corrupt image/label: labels require 5 columns, 6 columns detected\n",
            "\u001b[34m\u001b[1mtrain: \u001b[0m/content/drive/MyDrive/yolov11_test_cv/yolov11_dataset/images/train/2_1_frame_000810.jpg: ignoring corrupt image/label: labels require 5 columns, 6 columns detected\n",
            "\u001b[34m\u001b[1mtrain: \u001b[0m/content/drive/MyDrive/yolov11_test_cv/yolov11_dataset/images/train/2_1_frame_000972.jpg: ignoring corrupt image/label: labels require 5 columns, 6 columns detected\n",
            "\u001b[34m\u001b[1mtrain: \u001b[0m/content/drive/MyDrive/yolov11_test_cv/yolov11_dataset/images/train/2_1_frame_001026.jpg: ignoring corrupt image/label: labels require 5 columns, 6 columns detected\n",
            "\u001b[34m\u001b[1mtrain: \u001b[0m/content/drive/MyDrive/yolov11_test_cv/yolov11_dataset/images/train/2_1_frame_001080.jpg: ignoring corrupt image/label: labels require 5 columns, 6 columns detected\n",
            "\u001b[34m\u001b[1mtrain: \u001b[0m/content/drive/MyDrive/yolov11_test_cv/yolov11_dataset/images/train/2_1_frame_001134.jpg: ignoring corrupt image/label: labels require 5 columns, 6 columns detected\n",
            "\u001b[34m\u001b[1mtrain: \u001b[0m/content/drive/MyDrive/yolov11_test_cv/yolov11_dataset/images/train/2_1_frame_001377.jpg: ignoring corrupt image/label: labels require 5 columns, 6 columns detected\n",
            "\u001b[34m\u001b[1mtrain: \u001b[0m/content/drive/MyDrive/yolov11_test_cv/yolov11_dataset/images/train/3_1_frame_000025.jpg: ignoring corrupt image/label: labels require 5 columns, 6 columns detected\n",
            "\u001b[34m\u001b[1mtrain: \u001b[0m/content/drive/MyDrive/yolov11_test_cv/yolov11_dataset/images/train/3_1_frame_000060.jpg: ignoring corrupt image/label: labels require 5 columns, 6 columns detected\n",
            "\u001b[34m\u001b[1mtrain: \u001b[0m/content/drive/MyDrive/yolov11_test_cv/yolov11_dataset/images/train/3_1_frame_000075.jpg: ignoring corrupt image/label: labels require 5 columns, 6 columns detected\n",
            "\u001b[34m\u001b[1mtrain: \u001b[0m/content/drive/MyDrive/yolov11_test_cv/yolov11_dataset/images/train/3_1_frame_000096.jpg: ignoring corrupt image/label: labels require 5 columns, 6 columns detected\n",
            "\u001b[34m\u001b[1mtrain: \u001b[0m/content/drive/MyDrive/yolov11_test_cv/yolov11_dataset/images/train/3_1_frame_000100.jpg: ignoring corrupt image/label: labels require 5 columns, 6 columns detected\n",
            "\u001b[34m\u001b[1mtrain: \u001b[0m/content/drive/MyDrive/yolov11_test_cv/yolov11_dataset/images/train/3_1_frame_000125.jpg: ignoring corrupt image/label: labels require 5 columns, 6 columns detected\n",
            "\u001b[34m\u001b[1mtrain: \u001b[0m/content/drive/MyDrive/yolov11_test_cv/yolov11_dataset/images/train/3_1_frame_000132.jpg: ignoring corrupt image/label: labels require 5 columns, 6 columns detected\n",
            "\u001b[34m\u001b[1mtrain: \u001b[0m/content/drive/MyDrive/yolov11_test_cv/yolov11_dataset/images/train/3_1_frame_000150.jpg: ignoring corrupt image/label: labels require 5 columns, 6 columns detected\n",
            "\u001b[34m\u001b[1mtrain: \u001b[0m/content/drive/MyDrive/yolov11_test_cv/yolov11_dataset/images/train/3_1_frame_000156.jpg: ignoring corrupt image/label: labels require 5 columns, 6 columns detected\n",
            "\u001b[34m\u001b[1mtrain: \u001b[0m/content/drive/MyDrive/yolov11_test_cv/yolov11_dataset/images/train/3_1_frame_000168.jpg: ignoring corrupt image/label: labels require 5 columns, 6 columns detected\n",
            "\u001b[34m\u001b[1mtrain: \u001b[0m/content/drive/MyDrive/yolov11_test_cv/yolov11_dataset/images/train/3_1_frame_000192.jpg: ignoring corrupt image/label: labels require 5 columns, 6 columns detected\n",
            "\u001b[34m\u001b[1mtrain: \u001b[0m/content/drive/MyDrive/yolov11_test_cv/yolov11_dataset/images/train/3_1_frame_000200.jpg: ignoring corrupt image/label: labels require 5 columns, 6 columns detected\n",
            "\u001b[34m\u001b[1mtrain: \u001b[0m/content/drive/MyDrive/yolov11_test_cv/yolov11_dataset/images/train/3_1_frame_000204.jpg: ignoring corrupt image/label: labels require 5 columns, 6 columns detected\n",
            "\u001b[34m\u001b[1mtrain: \u001b[0m/content/drive/MyDrive/yolov11_test_cv/yolov11_dataset/images/train/3_1_frame_000216.jpg: ignoring corrupt image/label: labels require 5 columns, 6 columns detected\n",
            "\u001b[34m\u001b[1mtrain: \u001b[0m/content/drive/MyDrive/yolov11_test_cv/yolov11_dataset/images/train/3_1_frame_000225.jpg: ignoring corrupt image/label: labels require 5 columns, 6 columns detected\n",
            "\u001b[34m\u001b[1mtrain: \u001b[0m/content/drive/MyDrive/yolov11_test_cv/yolov11_dataset/images/train/3_1_frame_000228.jpg: ignoring corrupt image/label: labels require 5 columns, 6 columns detected\n",
            "\u001b[34m\u001b[1mtrain: \u001b[0m/content/drive/MyDrive/yolov11_test_cv/yolov11_dataset/images/train/3_1_frame_000250.jpg: ignoring corrupt image/label: labels require 5 columns, 6 columns detected\n",
            "\u001b[34m\u001b[1mtrain: \u001b[0m/content/drive/MyDrive/yolov11_test_cv/yolov11_dataset/images/train/3_1_frame_000264.jpg: ignoring corrupt image/label: labels require 5 columns, 6 columns detected\n",
            "\u001b[34m\u001b[1mtrain: \u001b[0m/content/drive/MyDrive/yolov11_test_cv/yolov11_dataset/images/train/3_1_frame_000275.jpg: ignoring corrupt image/label: labels require 5 columns, 6 columns detected\n",
            "\u001b[34m\u001b[1mtrain: \u001b[0m/content/drive/MyDrive/yolov11_test_cv/yolov11_dataset/images/train/3_1_frame_000276.jpg: ignoring corrupt image/label: labels require 5 columns, 6 columns detected\n",
            "\u001b[34m\u001b[1mtrain: \u001b[0m/content/drive/MyDrive/yolov11_test_cv/yolov11_dataset/images/train/3_1_frame_000288.jpg: ignoring corrupt image/label: labels require 5 columns, 6 columns detected\n",
            "\u001b[34m\u001b[1mtrain: \u001b[0m/content/drive/MyDrive/yolov11_test_cv/yolov11_dataset/images/train/3_1_frame_000300.jpg: ignoring corrupt image/label: labels require 5 columns, 6 columns detected\n",
            "\u001b[34m\u001b[1mtrain: \u001b[0m/content/drive/MyDrive/yolov11_test_cv/yolov11_dataset/images/train/3_1_frame_000312.jpg: ignoring corrupt image/label: labels require 5 columns, 6 columns detected\n",
            "\u001b[34m\u001b[1mtrain: \u001b[0m/content/drive/MyDrive/yolov11_test_cv/yolov11_dataset/images/train/3_1_frame_000324.jpg: ignoring corrupt image/label: labels require 5 columns, 6 columns detected\n",
            "\u001b[34m\u001b[1mtrain: \u001b[0m/content/drive/MyDrive/yolov11_test_cv/yolov11_dataset/images/train/3_1_frame_000325.jpg: ignoring corrupt image/label: labels require 5 columns, 6 columns detected\n",
            "\u001b[34m\u001b[1mtrain: \u001b[0m/content/drive/MyDrive/yolov11_test_cv/yolov11_dataset/images/train/3_1_frame_000336.jpg: ignoring corrupt image/label: labels require 5 columns, 6 columns detected\n",
            "\u001b[34m\u001b[1mtrain: \u001b[0m/content/drive/MyDrive/yolov11_test_cv/yolov11_dataset/images/train/3_1_frame_000348.jpg: ignoring corrupt image/label: labels require 5 columns, 6 columns detected\n",
            "\u001b[34m\u001b[1mtrain: \u001b[0m/content/drive/MyDrive/yolov11_test_cv/yolov11_dataset/images/train/3_1_frame_000350.jpg: ignoring corrupt image/label: labels require 5 columns, 6 columns detected\n",
            "\u001b[34m\u001b[1mtrain: \u001b[0m/content/drive/MyDrive/yolov11_test_cv/yolov11_dataset/images/train/3_1_frame_000375.jpg: ignoring corrupt image/label: labels require 5 columns, 6 columns detected\n",
            "\u001b[34m\u001b[1mtrain: \u001b[0m/content/drive/MyDrive/yolov11_test_cv/yolov11_dataset/images/train/3_1_frame_000384.jpg: ignoring corrupt image/label: labels require 5 columns, 6 columns detected\n",
            "\u001b[34m\u001b[1mtrain: \u001b[0m/content/drive/MyDrive/yolov11_test_cv/yolov11_dataset/images/train/3_1_frame_000396.jpg: ignoring corrupt image/label: labels require 5 columns, 6 columns detected\n",
            "\u001b[34m\u001b[1mtrain: \u001b[0m/content/drive/MyDrive/yolov11_test_cv/yolov11_dataset/images/train/3_1_frame_000400.jpg: ignoring corrupt image/label: labels require 5 columns, 6 columns detected\n",
            "\u001b[34m\u001b[1mtrain: \u001b[0m/content/drive/MyDrive/yolov11_test_cv/yolov11_dataset/images/train/3_1_frame_000420.jpg: ignoring corrupt image/label: labels require 5 columns, 6 columns detected\n",
            "\u001b[34m\u001b[1mtrain: \u001b[0m/content/drive/MyDrive/yolov11_test_cv/yolov11_dataset/images/train/3_1_frame_000425.jpg: ignoring corrupt image/label: labels require 5 columns, 6 columns detected\n",
            "\u001b[34m\u001b[1mtrain: \u001b[0m/content/drive/MyDrive/yolov11_test_cv/yolov11_dataset/images/train/3_1_frame_000432.jpg: ignoring corrupt image/label: labels require 5 columns, 6 columns detected\n",
            "\u001b[34m\u001b[1mtrain: \u001b[0m/content/drive/MyDrive/yolov11_test_cv/yolov11_dataset/images/train/3_1_frame_000450.jpg: ignoring corrupt image/label: labels require 5 columns, 6 columns detected\n",
            "\u001b[34m\u001b[1mtrain: \u001b[0m/content/drive/MyDrive/yolov11_test_cv/yolov11_dataset/images/train/3_1_frame_000468.jpg: ignoring corrupt image/label: labels require 5 columns, 6 columns detected\n",
            "\u001b[34m\u001b[1mtrain: \u001b[0m/content/drive/MyDrive/yolov11_test_cv/yolov11_dataset/images/train/3_1_frame_000475.jpg: ignoring corrupt image/label: labels require 5 columns, 6 columns detected\n",
            "\u001b[34m\u001b[1mtrain: \u001b[0m/content/drive/MyDrive/yolov11_test_cv/yolov11_dataset/images/train/3_1_frame_000480.jpg: ignoring corrupt image/label: labels require 5 columns, 6 columns detected\n",
            "\u001b[34m\u001b[1mtrain: \u001b[0m/content/drive/MyDrive/yolov11_test_cv/yolov11_dataset/images/train/3_1_frame_000492.jpg: ignoring corrupt image/label: labels require 5 columns, 6 columns detected\n",
            "\u001b[34m\u001b[1mtrain: \u001b[0m/content/drive/MyDrive/yolov11_test_cv/yolov11_dataset/images/train/3_1_frame_000500.jpg: ignoring corrupt image/label: labels require 5 columns, 6 columns detected\n",
            "\u001b[34m\u001b[1mtrain: \u001b[0m/content/drive/MyDrive/yolov11_test_cv/yolov11_dataset/images/train/3_1_frame_000504.jpg: ignoring corrupt image/label: labels require 5 columns, 6 columns detected\n",
            "\u001b[34m\u001b[1mtrain: \u001b[0m/content/drive/MyDrive/yolov11_test_cv/yolov11_dataset/images/train/3_1_frame_000516.jpg: ignoring corrupt image/label: labels require 5 columns, 6 columns detected\n",
            "\u001b[34m\u001b[1mtrain: \u001b[0m/content/drive/MyDrive/yolov11_test_cv/yolov11_dataset/images/train/3_1_frame_000540.jpg: ignoring corrupt image/label: labels require 5 columns, 6 columns detected\n",
            "\u001b[34m\u001b[1mtrain: \u001b[0m/content/drive/MyDrive/yolov11_test_cv/yolov11_dataset/images/train/3_1_frame_000575.jpg: ignoring corrupt image/label: labels require 5 columns, 6 columns detected\n",
            "\u001b[34m\u001b[1mtrain: \u001b[0m/content/drive/MyDrive/yolov11_test_cv/yolov11_dataset/images/train/3_1_frame_000576.jpg: ignoring corrupt image/label: labels require 5 columns, 6 columns detected\n",
            "\u001b[34m\u001b[1mtrain: \u001b[0m/content/drive/MyDrive/yolov11_test_cv/yolov11_dataset/images/train/3_1_frame_000588.jpg: ignoring corrupt image/label: labels require 5 columns, 6 columns detected\n",
            "\u001b[34m\u001b[1mtrain: \u001b[0m/content/drive/MyDrive/yolov11_test_cv/yolov11_dataset/images/train/3_1_frame_000612.jpg: ignoring corrupt image/label: labels require 5 columns, 6 columns detected\n",
            "\u001b[34m\u001b[1mtrain: \u001b[0m/content/drive/MyDrive/yolov11_test_cv/yolov11_dataset/images/train/3_1_frame_000648.jpg: ignoring corrupt image/label: labels require 5 columns, 6 columns detected\n",
            "\u001b[34m\u001b[1mtrain: \u001b[0m/content/drive/MyDrive/yolov11_test_cv/yolov11_dataset/images/train/3_1_frame_000650.jpg: ignoring corrupt image/label: labels require 5 columns, 6 columns detected\n",
            "\u001b[34m\u001b[1mtrain: \u001b[0m/content/drive/MyDrive/yolov11_test_cv/yolov11_dataset/images/train/3_1_frame_000675.jpg: ignoring corrupt image/label: labels require 5 columns, 6 columns detected\n",
            "\u001b[34m\u001b[1mtrain: \u001b[0m/content/drive/MyDrive/yolov11_test_cv/yolov11_dataset/images/train/3_1_frame_000684.jpg: ignoring corrupt image/label: labels require 5 columns, 6 columns detected\n",
            "\u001b[34m\u001b[1mtrain: \u001b[0m/content/drive/MyDrive/yolov11_test_cv/yolov11_dataset/images/train/3_1_frame_000696.jpg: ignoring corrupt image/label: labels require 5 columns, 6 columns detected\n",
            "\u001b[34m\u001b[1mtrain: \u001b[0m/content/drive/MyDrive/yolov11_test_cv/yolov11_dataset/images/train/3_1_frame_000700.jpg: ignoring corrupt image/label: labels require 5 columns, 6 columns detected\n",
            "\u001b[34m\u001b[1mtrain: \u001b[0m/content/drive/MyDrive/yolov11_test_cv/yolov11_dataset/images/train/3_1_frame_000708.jpg: ignoring corrupt image/label: labels require 5 columns, 6 columns detected\n",
            "\u001b[34m\u001b[1mtrain: \u001b[0m/content/drive/MyDrive/yolov11_test_cv/yolov11_dataset/images/train/3_1_frame_000720.jpg: ignoring corrupt image/label: labels require 5 columns, 6 columns detected\n",
            "\u001b[34m\u001b[1mtrain: \u001b[0m/content/drive/MyDrive/yolov11_test_cv/yolov11_dataset/images/train/3_1_frame_000725.jpg: ignoring corrupt image/label: labels require 5 columns, 6 columns detected\n",
            "\u001b[34m\u001b[1mtrain: \u001b[0m/content/drive/MyDrive/yolov11_test_cv/yolov11_dataset/images/train/3_1_frame_000732.jpg: ignoring corrupt image/label: labels require 5 columns, 6 columns detected\n",
            "\u001b[34m\u001b[1mtrain: \u001b[0m/content/drive/MyDrive/yolov11_test_cv/yolov11_dataset/images/train/3_1_frame_000744.jpg: ignoring corrupt image/label: labels require 5 columns, 6 columns detected\n",
            "\u001b[34m\u001b[1mtrain: \u001b[0m/content/drive/MyDrive/yolov11_test_cv/yolov11_dataset/images/train/3_1_frame_000750.jpg: ignoring corrupt image/label: labels require 5 columns, 6 columns detected\n",
            "\u001b[34m\u001b[1mtrain: \u001b[0m/content/drive/MyDrive/yolov11_test_cv/yolov11_dataset/images/train/3_1_frame_000756.jpg: ignoring corrupt image/label: labels require 5 columns, 6 columns detected\n",
            "\u001b[34m\u001b[1mtrain: \u001b[0m/content/drive/MyDrive/yolov11_test_cv/yolov11_dataset/images/train/3_1_frame_000775.jpg: ignoring corrupt image/label: labels require 5 columns, 6 columns detected\n",
            "\u001b[34m\u001b[1mtrain: \u001b[0m/content/drive/MyDrive/yolov11_test_cv/yolov11_dataset/images/train/3_1_frame_000800.jpg: ignoring corrupt image/label: labels require 5 columns, 6 columns detected\n",
            "\u001b[34m\u001b[1mtrain: \u001b[0m/content/drive/MyDrive/yolov11_test_cv/yolov11_dataset/images/train/3_1_frame_000804.jpg: ignoring corrupt image/label: labels require 5 columns, 6 columns detected\n",
            "\u001b[34m\u001b[1mtrain: \u001b[0m/content/drive/MyDrive/yolov11_test_cv/yolov11_dataset/images/train/3_1_frame_000816.jpg: ignoring corrupt image/label: labels require 5 columns, 6 columns detected\n",
            "\u001b[34m\u001b[1mtrain: \u001b[0m/content/drive/MyDrive/yolov11_test_cv/yolov11_dataset/images/train/3_1_frame_000828.jpg: ignoring corrupt image/label: labels require 5 columns, 6 columns detected\n",
            "\u001b[34m\u001b[1mtrain: \u001b[0m/content/drive/MyDrive/yolov11_test_cv/yolov11_dataset/images/train/3_1_frame_000850.jpg: ignoring corrupt image/label: labels require 5 columns, 6 columns detected\n",
            "\u001b[34m\u001b[1mtrain: \u001b[0m/content/drive/MyDrive/yolov11_test_cv/yolov11_dataset/images/train/3_1_frame_000875.jpg: ignoring corrupt image/label: labels require 5 columns, 6 columns detected\n",
            "\u001b[34m\u001b[1mtrain: \u001b[0m/content/drive/MyDrive/yolov11_test_cv/yolov11_dataset/images/train/3_1_frame_000900.jpg: ignoring corrupt image/label: labels require 5 columns, 6 columns detected\n",
            "\u001b[34m\u001b[1mtrain: \u001b[0m/content/drive/MyDrive/yolov11_test_cv/yolov11_dataset/images/train/3_1_frame_000924.jpg: ignoring corrupt image/label: labels require 5 columns, 6 columns detected\n",
            "\u001b[34m\u001b[1mtrain: \u001b[0m/content/drive/MyDrive/yolov11_test_cv/yolov11_dataset/images/train/3_1_frame_000950.jpg: ignoring corrupt image/label: labels require 5 columns, 6 columns detected\n",
            "\u001b[34m\u001b[1mtrain: \u001b[0m/content/drive/MyDrive/yolov11_test_cv/yolov11_dataset/images/train/3_1_frame_000975.jpg: ignoring corrupt image/label: labels require 5 columns, 6 columns detected\n",
            "\u001b[34m\u001b[1mtrain: \u001b[0m/content/drive/MyDrive/yolov11_test_cv/yolov11_dataset/images/train/3_1_frame_000984.jpg: ignoring corrupt image/label: labels require 5 columns, 6 columns detected\n",
            "\u001b[34m\u001b[1mtrain: \u001b[0m/content/drive/MyDrive/yolov11_test_cv/yolov11_dataset/images/train/3_1_frame_001000.jpg: ignoring corrupt image/label: labels require 5 columns, 6 columns detected\n",
            "\u001b[34m\u001b[1mtrain: \u001b[0m/content/drive/MyDrive/yolov11_test_cv/yolov11_dataset/images/train/3_1_frame_001008.jpg: ignoring corrupt image/label: labels require 5 columns, 6 columns detected\n",
            "\u001b[34m\u001b[1mtrain: \u001b[0m/content/drive/MyDrive/yolov11_test_cv/yolov11_dataset/images/train/3_1_frame_001020.jpg: ignoring corrupt image/label: labels require 5 columns, 6 columns detected\n",
            "\u001b[34m\u001b[1mtrain: \u001b[0m/content/drive/MyDrive/yolov11_test_cv/yolov11_dataset/images/train/3_1_frame_001032.jpg: ignoring corrupt image/label: labels require 5 columns, 6 columns detected\n",
            "\u001b[34m\u001b[1mtrain: \u001b[0m/content/drive/MyDrive/yolov11_test_cv/yolov11_dataset/images/train/3_1_frame_001044.jpg: ignoring corrupt image/label: labels require 5 columns, 6 columns detected\n",
            "\u001b[34m\u001b[1mtrain: \u001b[0m/content/drive/MyDrive/yolov11_test_cv/yolov11_dataset/images/train/3_1_frame_001050.jpg: ignoring corrupt image/label: labels require 5 columns, 6 columns detected\n",
            "\u001b[34m\u001b[1mtrain: \u001b[0m/content/drive/MyDrive/yolov11_test_cv/yolov11_dataset/images/train/3_1_frame_001056.jpg: ignoring corrupt image/label: labels require 5 columns, 6 columns detected\n",
            "\u001b[34m\u001b[1mtrain: \u001b[0m/content/drive/MyDrive/yolov11_test_cv/yolov11_dataset/images/train/3_1_frame_001068.jpg: ignoring corrupt image/label: labels require 5 columns, 6 columns detected\n",
            "\u001b[34m\u001b[1mtrain: \u001b[0m/content/drive/MyDrive/yolov11_test_cv/yolov11_dataset/images/train/3_1_frame_001080.jpg: ignoring corrupt image/label: labels require 5 columns, 6 columns detected\n",
            "\u001b[34m\u001b[1mtrain: \u001b[0m/content/drive/MyDrive/yolov11_test_cv/yolov11_dataset/images/train/3_1_frame_001092.jpg: ignoring corrupt image/label: labels require 5 columns, 6 columns detected\n",
            "\u001b[34m\u001b[1mtrain: \u001b[0m/content/drive/MyDrive/yolov11_test_cv/yolov11_dataset/images/train/3_1_frame_001100.jpg: ignoring corrupt image/label: labels require 5 columns, 6 columns detected\n",
            "\u001b[34m\u001b[1mtrain: \u001b[0m/content/drive/MyDrive/yolov11_test_cv/yolov11_dataset/images/train/3_1_frame_001104.jpg: ignoring corrupt image/label: labels require 5 columns, 6 columns detected\n",
            "\u001b[34m\u001b[1mtrain: \u001b[0m/content/drive/MyDrive/yolov11_test_cv/yolov11_dataset/images/train/3_1_frame_001116.jpg: ignoring corrupt image/label: labels require 5 columns, 6 columns detected\n",
            "\u001b[34m\u001b[1mtrain: \u001b[0m/content/drive/MyDrive/yolov11_test_cv/yolov11_dataset/images/train/3_1_frame_001128.jpg: ignoring corrupt image/label: labels require 5 columns, 6 columns detected\n",
            "\u001b[34m\u001b[1mtrain: \u001b[0m/content/drive/MyDrive/yolov11_test_cv/yolov11_dataset/images/train/3_1_frame_001140.jpg: ignoring corrupt image/label: labels require 5 columns, 6 columns detected\n",
            "\u001b[34m\u001b[1mtrain: \u001b[0m/content/drive/MyDrive/yolov11_test_cv/yolov11_dataset/images/train/3_1_frame_001150.jpg: ignoring corrupt image/label: labels require 5 columns, 6 columns detected\n",
            "\u001b[34m\u001b[1mtrain: \u001b[0m/content/drive/MyDrive/yolov11_test_cv/yolov11_dataset/images/train/3_1_frame_001152.jpg: ignoring corrupt image/label: labels require 5 columns, 6 columns detected\n",
            "\u001b[34m\u001b[1mtrain: \u001b[0m/content/drive/MyDrive/yolov11_test_cv/yolov11_dataset/images/train/3_1_frame_001164.jpg: ignoring corrupt image/label: labels require 5 columns, 6 columns detected\n",
            "\u001b[34m\u001b[1mtrain: \u001b[0m/content/drive/MyDrive/yolov11_test_cv/yolov11_dataset/images/train/3_1_frame_001175.jpg: ignoring corrupt image/label: labels require 5 columns, 6 columns detected\n",
            "\u001b[34m\u001b[1mtrain: \u001b[0m/content/drive/MyDrive/yolov11_test_cv/yolov11_dataset/images/train/3_1_frame_001225.jpg: ignoring corrupt image/label: labels require 5 columns, 6 columns detected\n",
            "\u001b[34m\u001b[1mtrain: \u001b[0m/content/drive/MyDrive/yolov11_test_cv/yolov11_dataset/images/train/3_1_frame_001250.jpg: ignoring corrupt image/label: labels require 5 columns, 6 columns detected\n",
            "\u001b[34m\u001b[1mtrain: \u001b[0m/content/drive/MyDrive/yolov11_test_cv/yolov11_dataset/images/train/3_1_frame_001260.jpg: ignoring corrupt image/label: labels require 5 columns, 6 columns detected\n",
            "\u001b[34m\u001b[1mtrain: \u001b[0m/content/drive/MyDrive/yolov11_test_cv/yolov11_dataset/images/train/3_1_frame_001275.jpg: ignoring corrupt image/label: labels require 5 columns, 6 columns detected\n",
            "\u001b[34m\u001b[1mtrain: \u001b[0m/content/drive/MyDrive/yolov11_test_cv/yolov11_dataset/images/train/3_1_frame_001284.jpg: ignoring corrupt image/label: labels require 5 columns, 6 columns detected\n",
            "\u001b[34m\u001b[1mtrain: \u001b[0m/content/drive/MyDrive/yolov11_test_cv/yolov11_dataset/images/train/3_1_frame_001296.jpg: ignoring corrupt image/label: labels require 5 columns, 6 columns detected\n",
            "\u001b[34m\u001b[1mtrain: \u001b[0m/content/drive/MyDrive/yolov11_test_cv/yolov11_dataset/images/train/3_1_frame_001300.jpg: ignoring corrupt image/label: labels require 5 columns, 6 columns detected\n",
            "\u001b[34m\u001b[1mtrain: \u001b[0m/content/drive/MyDrive/yolov11_test_cv/yolov11_dataset/images/train/3_1_frame_001332.jpg: ignoring corrupt image/label: labels require 5 columns, 6 columns detected\n",
            "\u001b[34m\u001b[1mtrain: \u001b[0m/content/drive/MyDrive/yolov11_test_cv/yolov11_dataset/images/train/3_1_frame_001350.jpg: ignoring corrupt image/label: labels require 5 columns, 6 columns detected\n",
            "\u001b[34m\u001b[1mtrain: \u001b[0m/content/drive/MyDrive/yolov11_test_cv/yolov11_dataset/images/train/3_1_frame_001356.jpg: ignoring corrupt image/label: labels require 5 columns, 6 columns detected\n",
            "\u001b[34m\u001b[1mtrain: \u001b[0m/content/drive/MyDrive/yolov11_test_cv/yolov11_dataset/images/train/3_1_frame_001368.jpg: ignoring corrupt image/label: labels require 5 columns, 6 columns detected\n",
            "\u001b[34m\u001b[1mtrain: \u001b[0m/content/drive/MyDrive/yolov11_test_cv/yolov11_dataset/images/train/3_1_frame_001375.jpg: ignoring corrupt image/label: labels require 5 columns, 6 columns detected\n",
            "\u001b[34m\u001b[1mtrain: \u001b[0m/content/drive/MyDrive/yolov11_test_cv/yolov11_dataset/images/train/3_1_frame_001425.jpg: ignoring corrupt image/label: labels require 5 columns, 6 columns detected\n",
            "\u001b[34m\u001b[1mtrain: \u001b[0m/content/drive/MyDrive/yolov11_test_cv/yolov11_dataset/images/train/3_1_frame_001440.jpg: ignoring corrupt image/label: labels require 5 columns, 6 columns detected\n",
            "\u001b[34m\u001b[1mtrain: \u001b[0m/content/drive/MyDrive/yolov11_test_cv/yolov11_dataset/images/train/3_1_frame_001450.jpg: ignoring corrupt image/label: labels require 5 columns, 6 columns detected\n",
            "\u001b[34m\u001b[1mtrain: \u001b[0m/content/drive/MyDrive/yolov11_test_cv/yolov11_dataset/images/train/3_1_frame_001452.jpg: ignoring corrupt image/label: labels require 5 columns, 6 columns detected\n",
            "\u001b[34m\u001b[1mtrain: \u001b[0m/content/drive/MyDrive/yolov11_test_cv/yolov11_dataset/images/train/3_1_frame_001464.jpg: ignoring corrupt image/label: labels require 5 columns, 6 columns detected\n",
            "\u001b[34m\u001b[1mtrain: \u001b[0m/content/drive/MyDrive/yolov11_test_cv/yolov11_dataset/images/train/3_1_frame_001475.jpg: ignoring corrupt image/label: labels require 5 columns, 6 columns detected\n",
            "\u001b[34m\u001b[1mtrain: \u001b[0m/content/drive/MyDrive/yolov11_test_cv/yolov11_dataset/images/train/3_1_frame_001476.jpg: ignoring corrupt image/label: labels require 5 columns, 6 columns detected\n",
            "\u001b[34m\u001b[1mtrain: \u001b[0m/content/drive/MyDrive/yolov11_test_cv/yolov11_dataset/images/train/3_1_frame_001488.jpg: ignoring corrupt image/label: labels require 5 columns, 6 columns detected\n",
            "\u001b[34m\u001b[1mtrain: \u001b[0m/content/drive/MyDrive/yolov11_test_cv/yolov11_dataset/images/train/3_1_frame_001524.jpg: ignoring corrupt image/label: labels require 5 columns, 6 columns detected\n",
            "\u001b[34m\u001b[1mtrain: \u001b[0m/content/drive/MyDrive/yolov11_test_cv/yolov11_dataset/images/train/3_1_frame_001572.jpg: ignoring corrupt image/label: labels require 5 columns, 6 columns detected\n",
            "\u001b[34m\u001b[1mtrain: \u001b[0m/content/drive/MyDrive/yolov11_test_cv/yolov11_dataset/images/train/3_1_frame_001584.jpg: ignoring corrupt image/label: labels require 5 columns, 6 columns detected\n",
            "\u001b[34m\u001b[1mtrain: \u001b[0m/content/drive/MyDrive/yolov11_test_cv/yolov11_dataset/images/train/3_1_frame_001600.jpg: ignoring corrupt image/label: labels require 5 columns, 6 columns detected\n",
            "\u001b[34m\u001b[1mtrain: \u001b[0m/content/drive/MyDrive/yolov11_test_cv/yolov11_dataset/images/train/3_1_frame_001625.jpg: ignoring corrupt image/label: labels require 5 columns, 6 columns detected\n",
            "\u001b[34m\u001b[1mtrain: \u001b[0m/content/drive/MyDrive/yolov11_test_cv/yolov11_dataset/images/train/3_1_frame_001632.jpg: ignoring corrupt image/label: labels require 5 columns, 6 columns detected\n",
            "\u001b[34m\u001b[1mtrain: \u001b[0m/content/drive/MyDrive/yolov11_test_cv/yolov11_dataset/images/train/3_1_frame_001644.jpg: ignoring corrupt image/label: labels require 5 columns, 6 columns detected\n",
            "\u001b[34m\u001b[1mtrain: \u001b[0m/content/drive/MyDrive/yolov11_test_cv/yolov11_dataset/images/train/3_1_frame_001650.jpg: ignoring corrupt image/label: labels require 5 columns, 6 columns detected\n",
            "\u001b[34m\u001b[1mtrain: \u001b[0m/content/drive/MyDrive/yolov11_test_cv/yolov11_dataset/images/train/3_1_frame_001656.jpg: ignoring corrupt image/label: labels require 5 columns, 6 columns detected\n",
            "\u001b[34m\u001b[1mtrain: \u001b[0m/content/drive/MyDrive/yolov11_test_cv/yolov11_dataset/images/train/3_1_frame_001700.jpg: ignoring corrupt image/label: labels require 5 columns, 6 columns detected\n",
            "\u001b[34m\u001b[1mtrain: \u001b[0m/content/drive/MyDrive/yolov11_test_cv/yolov11_dataset/images/train/3_1_frame_001704.jpg: ignoring corrupt image/label: labels require 5 columns, 6 columns detected\n",
            "\u001b[34m\u001b[1mtrain: \u001b[0m/content/drive/MyDrive/yolov11_test_cv/yolov11_dataset/images/train/3_1_frame_001716.jpg: ignoring corrupt image/label: labels require 5 columns, 6 columns detected\n",
            "\u001b[34m\u001b[1mtrain: \u001b[0m/content/drive/MyDrive/yolov11_test_cv/yolov11_dataset/images/train/3_1_frame_001725.jpg: ignoring corrupt image/label: labels require 5 columns, 6 columns detected\n",
            "\u001b[34m\u001b[1mtrain: \u001b[0m/content/drive/MyDrive/yolov11_test_cv/yolov11_dataset/images/train/3_1_frame_001740.jpg: ignoring corrupt image/label: labels require 5 columns, 6 columns detected\n",
            "\u001b[34m\u001b[1mtrain: \u001b[0m/content/drive/MyDrive/yolov11_test_cv/yolov11_dataset/images/train/3_1_frame_001750.jpg: ignoring corrupt image/label: labels require 5 columns, 6 columns detected\n",
            "\u001b[34m\u001b[1mtrain: \u001b[0m/content/drive/MyDrive/yolov11_test_cv/yolov11_dataset/images/train/3_1_frame_001752.jpg: ignoring corrupt image/label: labels require 5 columns, 6 columns detected\n",
            "\u001b[34m\u001b[1mtrain: \u001b[0m/content/drive/MyDrive/yolov11_test_cv/yolov11_dataset/images/train/3_1_frame_001764.jpg: ignoring corrupt image/label: labels require 5 columns, 6 columns detected\n",
            "\u001b[34m\u001b[1mtrain: \u001b[0m/content/drive/MyDrive/yolov11_test_cv/yolov11_dataset/images/train/3_1_frame_001775.jpg: ignoring corrupt image/label: labels require 5 columns, 6 columns detected\n",
            "\u001b[34m\u001b[1mtrain: \u001b[0m/content/drive/MyDrive/yolov11_test_cv/yolov11_dataset/images/train/3_1_frame_001776.jpg: ignoring corrupt image/label: labels require 5 columns, 6 columns detected\n",
            "\u001b[34m\u001b[1mtrain: \u001b[0m/content/drive/MyDrive/yolov11_test_cv/yolov11_dataset/images/train/3_1_frame_001788.jpg: ignoring corrupt image/label: labels require 5 columns, 6 columns detected\n",
            "\u001b[34m\u001b[1mtrain: \u001b[0m/content/drive/MyDrive/yolov11_test_cv/yolov11_dataset/images/train/3_1_frame_001800.jpg: ignoring corrupt image/label: labels require 5 columns, 6 columns detected\n",
            "\u001b[34m\u001b[1mtrain: \u001b[0m/content/drive/MyDrive/yolov11_test_cv/yolov11_dataset/images/train/3_1_frame_001812.jpg: ignoring corrupt image/label: labels require 5 columns, 6 columns detected\n",
            "\u001b[34m\u001b[1mtrain: \u001b[0m/content/drive/MyDrive/yolov11_test_cv/yolov11_dataset/images/train/3_1_frame_001836.jpg: ignoring corrupt image/label: labels require 5 columns, 6 columns detected\n",
            "\u001b[34m\u001b[1mtrain: \u001b[0m/content/drive/MyDrive/yolov11_test_cv/yolov11_dataset/images/train/3_1_frame_001848.jpg: ignoring corrupt image/label: labels require 5 columns, 6 columns detected\n",
            "\u001b[34m\u001b[1mtrain: \u001b[0m/content/drive/MyDrive/yolov11_test_cv/yolov11_dataset/images/train/3_1_frame_001850.jpg: ignoring corrupt image/label: labels require 5 columns, 6 columns detected\n",
            "\u001b[34m\u001b[1mtrain: \u001b[0m/content/drive/MyDrive/yolov11_test_cv/yolov11_dataset/images/train/3_1_frame_001860.jpg: ignoring corrupt image/label: labels require 5 columns, 6 columns detected\n",
            "\u001b[34m\u001b[1mtrain: \u001b[0m/content/drive/MyDrive/yolov11_test_cv/yolov11_dataset/images/train/3_1_frame_001875.jpg: ignoring corrupt image/label: labels require 5 columns, 6 columns detected\n",
            "\u001b[34m\u001b[1mtrain: \u001b[0m/content/drive/MyDrive/yolov11_test_cv/yolov11_dataset/images/train/3_1_frame_001900.jpg: ignoring corrupt image/label: labels require 5 columns, 6 columns detected\n",
            "\u001b[34m\u001b[1mtrain: \u001b[0m/content/drive/MyDrive/yolov11_test_cv/yolov11_dataset/images/train/3_1_frame_001908.jpg: ignoring corrupt image/label: labels require 5 columns, 6 columns detected\n",
            "\u001b[34m\u001b[1mtrain: \u001b[0m/content/drive/MyDrive/yolov11_test_cv/yolov11_dataset/images/train/3_1_frame_001932.jpg: ignoring corrupt image/label: labels require 5 columns, 6 columns detected\n",
            "\u001b[34m\u001b[1mtrain: \u001b[0m/content/drive/MyDrive/yolov11_test_cv/yolov11_dataset/images/train/3_1_frame_001944.jpg: ignoring corrupt image/label: labels require 5 columns, 6 columns detected\n",
            "\u001b[34m\u001b[1mtrain: \u001b[0m/content/drive/MyDrive/yolov11_test_cv/yolov11_dataset/images/train/3_1_frame_001956.jpg: ignoring corrupt image/label: labels require 5 columns, 6 columns detected\n",
            "\u001b[34m\u001b[1mtrain: \u001b[0m/content/drive/MyDrive/yolov11_test_cv/yolov11_dataset/images/train/3_1_frame_001968.jpg: ignoring corrupt image/label: labels require 5 columns, 6 columns detected\n",
            "\u001b[34m\u001b[1mtrain: \u001b[0m/content/drive/MyDrive/yolov11_test_cv/yolov11_dataset/images/train/3_1_frame_001975.jpg: ignoring corrupt image/label: labels require 5 columns, 6 columns detected\n",
            "\u001b[34m\u001b[1mtrain: \u001b[0m/content/drive/MyDrive/yolov11_test_cv/yolov11_dataset/images/train/3_1_frame_001980.jpg: ignoring corrupt image/label: labels require 5 columns, 6 columns detected\n",
            "\u001b[34m\u001b[1mtrain: \u001b[0m/content/drive/MyDrive/yolov11_test_cv/yolov11_dataset/images/train/3_1_frame_002000.jpg: ignoring corrupt image/label: labels require 5 columns, 6 columns detected\n",
            "\u001b[34m\u001b[1mtrain: \u001b[0m/content/drive/MyDrive/yolov11_test_cv/yolov11_dataset/images/train/3_1_frame_002016.jpg: ignoring corrupt image/label: labels require 5 columns, 6 columns detected\n",
            "\u001b[34m\u001b[1mtrain: \u001b[0m/content/drive/MyDrive/yolov11_test_cv/yolov11_dataset/images/train/3_1_frame_002025.jpg: ignoring corrupt image/label: labels require 5 columns, 6 columns detected\n",
            "\u001b[34m\u001b[1mtrain: \u001b[0m/content/drive/MyDrive/yolov11_test_cv/yolov11_dataset/images/train/3_1_frame_002028.jpg: ignoring corrupt image/label: labels require 5 columns, 6 columns detected\n",
            "\u001b[34m\u001b[1mtrain: \u001b[0m/content/drive/MyDrive/yolov11_test_cv/yolov11_dataset/images/train/3_1_frame_002040.jpg: ignoring corrupt image/label: labels require 5 columns, 6 columns detected\n",
            "\u001b[34m\u001b[1mtrain: \u001b[0m/content/drive/MyDrive/yolov11_test_cv/yolov11_dataset/images/train/3_1_frame_002050.jpg: ignoring corrupt image/label: labels require 5 columns, 6 columns detected\n",
            "\u001b[34m\u001b[1mtrain: \u001b[0m/content/drive/MyDrive/yolov11_test_cv/yolov11_dataset/images/train/3_1_frame_002052.jpg: ignoring corrupt image/label: labels require 5 columns, 6 columns detected\n",
            "\u001b[34m\u001b[1mtrain: \u001b[0m/content/drive/MyDrive/yolov11_test_cv/yolov11_dataset/images/train/3_1_frame_002064.jpg: ignoring corrupt image/label: labels require 5 columns, 6 columns detected\n",
            "\u001b[34m\u001b[1mtrain: \u001b[0m/content/drive/MyDrive/yolov11_test_cv/yolov11_dataset/images/train/3_1_frame_002088.jpg: ignoring corrupt image/label: labels require 5 columns, 6 columns detected\n",
            "\u001b[34m\u001b[1mtrain: \u001b[0m/content/drive/MyDrive/yolov11_test_cv/yolov11_dataset/images/train/3_1_frame_002100.jpg: ignoring corrupt image/label: labels require 5 columns, 6 columns detected\n",
            "\u001b[34m\u001b[1mtrain: \u001b[0m/content/drive/MyDrive/yolov11_test_cv/yolov11_dataset/images/train/3_1_frame_002112.jpg: ignoring corrupt image/label: labels require 5 columns, 6 columns detected\n",
            "\u001b[34m\u001b[1mtrain: \u001b[0m/content/drive/MyDrive/yolov11_test_cv/yolov11_dataset/images/train/3_1_frame_002124.jpg: ignoring corrupt image/label: labels require 5 columns, 6 columns detected\n",
            "\u001b[34m\u001b[1mtrain: \u001b[0m/content/drive/MyDrive/yolov11_test_cv/yolov11_dataset/images/train/3_1_frame_002125.jpg: ignoring corrupt image/label: labels require 5 columns, 6 columns detected\n",
            "\u001b[34m\u001b[1mtrain: \u001b[0m/content/drive/MyDrive/yolov11_test_cv/yolov11_dataset/images/train/3_1_frame_002136.jpg: ignoring corrupt image/label: labels require 5 columns, 6 columns detected\n",
            "\u001b[34m\u001b[1mtrain: \u001b[0m/content/drive/MyDrive/yolov11_test_cv/yolov11_dataset/images/train/3_1_frame_002148.jpg: ignoring corrupt image/label: labels require 5 columns, 6 columns detected\n",
            "\u001b[34m\u001b[1mtrain: \u001b[0m/content/drive/MyDrive/yolov11_test_cv/yolov11_dataset/images/train/3_1_frame_002160.jpg: ignoring corrupt image/label: labels require 5 columns, 6 columns detected\n",
            "\u001b[34m\u001b[1mtrain: \u001b[0m/content/drive/MyDrive/yolov11_test_cv/yolov11_dataset/images/train/3_1_frame_002172.jpg: ignoring corrupt image/label: labels require 5 columns, 6 columns detected\n",
            "\u001b[34m\u001b[1mtrain: \u001b[0m/content/drive/MyDrive/yolov11_test_cv/yolov11_dataset/images/train/3_1_frame_002184.jpg: ignoring corrupt image/label: labels require 5 columns, 6 columns detected\n",
            "\u001b[34m\u001b[1mtrain: \u001b[0m/content/drive/MyDrive/yolov11_test_cv/yolov11_dataset/images/train/3_1_frame_002196.jpg: ignoring corrupt image/label: labels require 5 columns, 6 columns detected\n",
            "\u001b[34m\u001b[1mtrain: \u001b[0m/content/drive/MyDrive/yolov11_test_cv/yolov11_dataset/images/train/3_1_frame_002225.jpg: ignoring corrupt image/label: labels require 5 columns, 6 columns detected\n",
            "\u001b[34m\u001b[1mtrain: \u001b[0m/content/drive/MyDrive/yolov11_test_cv/yolov11_dataset/images/train/3_1_frame_002244.jpg: ignoring corrupt image/label: labels require 5 columns, 6 columns detected\n",
            "\u001b[34m\u001b[1mtrain: \u001b[0m/content/drive/MyDrive/yolov11_test_cv/yolov11_dataset/images/train/3_1_frame_002250.jpg: ignoring corrupt image/label: labels require 5 columns, 6 columns detected\n",
            "\u001b[34m\u001b[1mtrain: \u001b[0m/content/drive/MyDrive/yolov11_test_cv/yolov11_dataset/images/train/3_1_frame_002280.jpg: ignoring corrupt image/label: labels require 5 columns, 6 columns detected\n",
            "\u001b[34m\u001b[1mtrain: \u001b[0m/content/drive/MyDrive/yolov11_test_cv/yolov11_dataset/images/train/3_1_frame_002292.jpg: ignoring corrupt image/label: labels require 5 columns, 6 columns detected\n",
            "\u001b[34m\u001b[1mtrain: \u001b[0m/content/drive/MyDrive/yolov11_test_cv/yolov11_dataset/images/train/3_1_frame_002316.jpg: ignoring corrupt image/label: labels require 5 columns, 6 columns detected\n",
            "\u001b[34m\u001b[1mtrain: \u001b[0m/content/drive/MyDrive/yolov11_test_cv/yolov11_dataset/images/train/3_1_frame_002325.jpg: ignoring corrupt image/label: labels require 5 columns, 6 columns detected\n",
            "\u001b[34m\u001b[1mtrain: \u001b[0m/content/drive/MyDrive/yolov11_test_cv/yolov11_dataset/images/train/3_1_frame_002328.jpg: ignoring corrupt image/label: labels require 5 columns, 6 columns detected\n",
            "\u001b[34m\u001b[1mtrain: \u001b[0m/content/drive/MyDrive/yolov11_test_cv/yolov11_dataset/images/train/3_1_frame_002340.jpg: ignoring corrupt image/label: labels require 5 columns, 6 columns detected\n",
            "\u001b[34m\u001b[1mtrain: \u001b[0m/content/drive/MyDrive/yolov11_test_cv/yolov11_dataset/images/train/3_1_frame_002375.jpg: ignoring corrupt image/label: labels require 5 columns, 6 columns detected\n",
            "\u001b[34m\u001b[1mtrain: \u001b[0m/content/drive/MyDrive/yolov11_test_cv/yolov11_dataset/images/train/3_1_frame_002400.jpg: ignoring corrupt image/label: labels require 5 columns, 6 columns detected\n",
            "\u001b[34m\u001b[1mtrain: \u001b[0m/content/drive/MyDrive/yolov11_test_cv/yolov11_dataset/images/train/3_1_frame_002424.jpg: ignoring corrupt image/label: labels require 5 columns, 6 columns detected\n",
            "\u001b[34m\u001b[1mtrain: \u001b[0m/content/drive/MyDrive/yolov11_test_cv/yolov11_dataset/images/train/3_1_frame_002460.jpg: ignoring corrupt image/label: labels require 5 columns, 6 columns detected\n",
            "\u001b[34m\u001b[1mtrain: \u001b[0m/content/drive/MyDrive/yolov11_test_cv/yolov11_dataset/images/train/3_1_frame_002472.jpg: ignoring corrupt image/label: labels require 5 columns, 6 columns detected\n",
            "\u001b[34m\u001b[1mtrain: \u001b[0m/content/drive/MyDrive/yolov11_test_cv/yolov11_dataset/images/train/3_1_frame_002484.jpg: ignoring corrupt image/label: labels require 5 columns, 6 columns detected\n",
            "\u001b[34m\u001b[1mtrain: \u001b[0m/content/drive/MyDrive/yolov11_test_cv/yolov11_dataset/images/train/3_1_frame_002496.jpg: ignoring corrupt image/label: labels require 5 columns, 6 columns detected\n",
            "\u001b[34m\u001b[1mtrain: \u001b[0m/content/drive/MyDrive/yolov11_test_cv/yolov11_dataset/images/train/3_1_frame_002500.jpg: ignoring corrupt image/label: labels require 5 columns, 6 columns detected\n",
            "\u001b[34m\u001b[1mtrain: \u001b[0m/content/drive/MyDrive/yolov11_test_cv/yolov11_dataset/images/train/3_1_frame_002525.jpg: ignoring corrupt image/label: labels require 5 columns, 6 columns detected\n",
            "\u001b[34m\u001b[1mtrain: \u001b[0m/content/drive/MyDrive/yolov11_test_cv/yolov11_dataset/images/train/3_1_frame_002544.jpg: ignoring corrupt image/label: labels require 5 columns, 6 columns detected\n",
            "\u001b[34m\u001b[1mtrain: \u001b[0m/content/drive/MyDrive/yolov11_test_cv/yolov11_dataset/images/train/3_1_frame_002556.jpg: ignoring corrupt image/label: labels require 5 columns, 6 columns detected\n",
            "\u001b[34m\u001b[1mtrain: \u001b[0m/content/drive/MyDrive/yolov11_test_cv/yolov11_dataset/images/train/3_1_frame_002575.jpg: ignoring corrupt image/label: labels require 5 columns, 6 columns detected\n",
            "\u001b[34m\u001b[1mtrain: \u001b[0m/content/drive/MyDrive/yolov11_test_cv/yolov11_dataset/images/train/3_1_frame_002600.jpg: ignoring corrupt image/label: labels require 5 columns, 6 columns detected\n",
            "\u001b[34m\u001b[1mtrain: \u001b[0m/content/drive/MyDrive/yolov11_test_cv/yolov11_dataset/images/train/3_1_frame_002604.jpg: ignoring corrupt image/label: labels require 5 columns, 6 columns detected\n",
            "\u001b[34m\u001b[1mtrain: \u001b[0m/content/drive/MyDrive/yolov11_test_cv/yolov11_dataset/images/train/3_1_frame_002625.jpg: ignoring corrupt image/label: labels require 5 columns, 6 columns detected\n",
            "\u001b[34m\u001b[1mtrain: \u001b[0m/content/drive/MyDrive/yolov11_test_cv/yolov11_dataset/images/train/3_1_frame_002650.jpg: ignoring corrupt image/label: labels require 5 columns, 6 columns detected\n",
            "\u001b[34m\u001b[1mtrain: \u001b[0m/content/drive/MyDrive/yolov11_test_cv/yolov11_dataset/images/train/3_1_frame_002664.jpg: ignoring corrupt image/label: labels require 5 columns, 6 columns detected\n",
            "\u001b[34m\u001b[1mtrain: \u001b[0m/content/drive/MyDrive/yolov11_test_cv/yolov11_dataset/images/train/3_1_frame_002675.jpg: ignoring corrupt image/label: labels require 5 columns, 6 columns detected\n",
            "\u001b[34m\u001b[1mtrain: \u001b[0m/content/drive/MyDrive/yolov11_test_cv/yolov11_dataset/images/train/3_1_frame_002676.jpg: ignoring corrupt image/label: labels require 5 columns, 6 columns detected\n",
            "\u001b[34m\u001b[1mtrain: \u001b[0m/content/drive/MyDrive/yolov11_test_cv/yolov11_dataset/images/train/3_1_frame_002700.jpg: ignoring corrupt image/label: labels require 5 columns, 6 columns detected\n",
            "\u001b[34m\u001b[1mtrain: \u001b[0m/content/drive/MyDrive/yolov11_test_cv/yolov11_dataset/images/train/3_1_frame_002712.jpg: ignoring corrupt image/label: labels require 5 columns, 6 columns detected\n",
            "\u001b[34m\u001b[1mtrain: \u001b[0m/content/drive/MyDrive/yolov11_test_cv/yolov11_dataset/images/train/3_1_frame_002736.jpg: ignoring corrupt image/label: labels require 5 columns, 6 columns detected\n",
            "\u001b[34m\u001b[1mtrain: \u001b[0m/content/drive/MyDrive/yolov11_test_cv/yolov11_dataset/images/train/3_1_frame_002772.jpg: ignoring corrupt image/label: labels require 5 columns, 6 columns detected\n",
            "\u001b[34m\u001b[1mtrain: \u001b[0m/content/drive/MyDrive/yolov11_test_cv/yolov11_dataset/images/train/3_1_frame_002784.jpg: ignoring corrupt image/label: labels require 5 columns, 6 columns detected\n",
            "\u001b[34m\u001b[1mtrain: \u001b[0m/content/drive/MyDrive/yolov11_test_cv/yolov11_dataset/images/train/3_1_frame_002808.jpg: ignoring corrupt image/label: labels require 5 columns, 6 columns detected\n",
            "\u001b[34m\u001b[1mtrain: \u001b[0m/content/drive/MyDrive/yolov11_test_cv/yolov11_dataset/images/train/3_1_frame_002820.jpg: ignoring corrupt image/label: labels require 5 columns, 6 columns detected\n",
            "\u001b[34m\u001b[1mtrain: \u001b[0m/content/drive/MyDrive/yolov11_test_cv/yolov11_dataset/images/train/3_1_frame_002844.jpg: ignoring corrupt image/label: labels require 5 columns, 6 columns detected\n",
            "\u001b[34m\u001b[1mtrain: \u001b[0m/content/drive/MyDrive/yolov11_test_cv/yolov11_dataset/images/train/3_1_frame_002850.jpg: ignoring corrupt image/label: labels require 5 columns, 6 columns detected\n",
            "\u001b[34m\u001b[1mtrain: \u001b[0m/content/drive/MyDrive/yolov11_test_cv/yolov11_dataset/images/train/3_1_frame_002868.jpg: ignoring corrupt image/label: labels require 5 columns, 6 columns detected\n",
            "\u001b[34m\u001b[1mtrain: \u001b[0m/content/drive/MyDrive/yolov11_test_cv/yolov11_dataset/images/train/3_1_frame_002875.jpg: ignoring corrupt image/label: labels require 5 columns, 6 columns detected\n",
            "\u001b[34m\u001b[1mtrain: \u001b[0m/content/drive/MyDrive/yolov11_test_cv/yolov11_dataset/images/train/3_1_frame_002916.jpg: ignoring corrupt image/label: labels require 5 columns, 6 columns detected\n",
            "\u001b[34m\u001b[1mtrain: \u001b[0m/content/drive/MyDrive/yolov11_test_cv/yolov11_dataset/images/train/3_1_frame_002925.jpg: ignoring corrupt image/label: labels require 5 columns, 6 columns detected\n",
            "\u001b[34m\u001b[1mtrain: \u001b[0m/content/drive/MyDrive/yolov11_test_cv/yolov11_dataset/images/train/3_1_frame_002928.jpg: ignoring corrupt image/label: labels require 5 columns, 6 columns detected\n",
            "\u001b[34m\u001b[1mtrain: \u001b[0m/content/drive/MyDrive/yolov11_test_cv/yolov11_dataset/images/train/3_1_frame_002950.jpg: ignoring corrupt image/label: labels require 5 columns, 6 columns detected\n",
            "\u001b[34m\u001b[1mtrain: \u001b[0m/content/drive/MyDrive/yolov11_test_cv/yolov11_dataset/images/train/3_2_frame_000000.jpg: ignoring corrupt image/label: labels require 5 columns, 6 columns detected\n",
            "\u001b[34m\u001b[1mtrain: \u001b[0m/content/drive/MyDrive/yolov11_test_cv/yolov11_dataset/images/train/3_2_frame_000027.jpg: ignoring corrupt image/label: labels require 5 columns, 6 columns detected\n",
            "\u001b[34m\u001b[1mtrain: \u001b[0m/content/drive/MyDrive/yolov11_test_cv/yolov11_dataset/images/train/3_2_frame_000054.jpg: ignoring corrupt image/label: labels require 5 columns, 6 columns detected\n",
            "\u001b[34m\u001b[1mtrain: \u001b[0m/content/drive/MyDrive/yolov11_test_cv/yolov11_dataset/images/train/3_2_frame_000081.jpg: ignoring corrupt image/label: labels require 5 columns, 6 columns detected\n",
            "\u001b[34m\u001b[1mtrain: \u001b[0m/content/drive/MyDrive/yolov11_test_cv/yolov11_dataset/images/train/3_2_frame_000135.jpg: ignoring corrupt image/label: labels require 5 columns, 6 columns detected\n",
            "\u001b[34m\u001b[1mtrain: \u001b[0m/content/drive/MyDrive/yolov11_test_cv/yolov11_dataset/images/train/3_2_frame_000189.jpg: ignoring corrupt image/label: labels require 5 columns, 6 columns detected\n",
            "\u001b[34m\u001b[1mtrain: \u001b[0m/content/drive/MyDrive/yolov11_test_cv/yolov11_dataset/images/train/3_2_frame_000216.jpg: ignoring corrupt image/label: labels require 5 columns, 6 columns detected\n",
            "\u001b[34m\u001b[1mtrain: \u001b[0m/content/drive/MyDrive/yolov11_test_cv/yolov11_dataset/images/train/3_2_frame_000243.jpg: ignoring corrupt image/label: labels require 5 columns, 6 columns detected\n",
            "\u001b[34m\u001b[1mtrain: \u001b[0m/content/drive/MyDrive/yolov11_test_cv/yolov11_dataset/images/train/3_2_frame_000297.jpg: ignoring corrupt image/label: labels require 5 columns, 6 columns detected\n",
            "\u001b[34m\u001b[1mtrain: \u001b[0m/content/drive/MyDrive/yolov11_test_cv/yolov11_dataset/images/train/3_2_frame_000378.jpg: ignoring corrupt image/label: labels require 5 columns, 6 columns detected\n",
            "\u001b[34m\u001b[1mtrain: \u001b[0m/content/drive/MyDrive/yolov11_test_cv/yolov11_dataset/images/train/3_2_frame_000405.jpg: ignoring corrupt image/label: labels require 5 columns, 6 columns detected\n",
            "\u001b[34m\u001b[1mtrain: \u001b[0m/content/drive/MyDrive/yolov11_test_cv/yolov11_dataset/images/train/3_2_frame_000513.jpg: ignoring corrupt image/label: labels require 5 columns, 6 columns detected\n",
            "\u001b[34m\u001b[1mtrain: \u001b[0m/content/drive/MyDrive/yolov11_test_cv/yolov11_dataset/images/train/3_2_frame_000567.jpg: ignoring corrupt image/label: labels require 5 columns, 6 columns detected\n",
            "\u001b[34m\u001b[1mtrain: \u001b[0m/content/drive/MyDrive/yolov11_test_cv/yolov11_dataset/images/train/3_2_frame_000675.jpg: ignoring corrupt image/label: labels require 5 columns, 6 columns detected\n",
            "\u001b[34m\u001b[1mtrain: \u001b[0m/content/drive/MyDrive/yolov11_test_cv/yolov11_dataset/images/train/3_2_frame_000810.jpg: ignoring corrupt image/label: labels require 5 columns, 6 columns detected\n",
            "\u001b[34m\u001b[1mtrain: \u001b[0m/content/drive/MyDrive/yolov11_test_cv/yolov11_dataset/images/train/3_2_frame_000999.jpg: ignoring corrupt image/label: labels require 5 columns, 6 columns detected\n",
            "\u001b[34m\u001b[1mtrain: \u001b[0m/content/drive/MyDrive/yolov11_test_cv/yolov11_dataset/images/train/3_2_frame_001080.jpg: ignoring corrupt image/label: labels require 5 columns, 6 columns detected\n",
            "\u001b[34m\u001b[1mtrain: \u001b[0m/content/drive/MyDrive/yolov11_test_cv/yolov11_dataset/images/train/3_2_frame_001134.jpg: ignoring corrupt image/label: labels require 5 columns, 6 columns detected\n",
            "\u001b[34m\u001b[1mtrain: \u001b[0m/content/drive/MyDrive/yolov11_test_cv/yolov11_dataset/images/train/3_2_frame_001161.jpg: ignoring corrupt image/label: labels require 5 columns, 6 columns detected\n",
            "\u001b[34m\u001b[1mtrain: \u001b[0m/content/drive/MyDrive/yolov11_test_cv/yolov11_dataset/images/train/3_2_frame_001215.jpg: ignoring corrupt image/label: labels require 5 columns, 6 columns detected\n",
            "\u001b[34m\u001b[1mtrain: \u001b[0m/content/drive/MyDrive/yolov11_test_cv/yolov11_dataset/images/train/3_2_frame_001269.jpg: ignoring corrupt image/label: labels require 5 columns, 6 columns detected\n",
            "\u001b[34m\u001b[1mtrain: \u001b[0m/content/drive/MyDrive/yolov11_test_cv/yolov11_dataset/images/train/3_2_frame_001296.jpg: ignoring corrupt image/label: labels require 5 columns, 6 columns detected\n",
            "\u001b[34m\u001b[1mtrain: \u001b[0m/content/drive/MyDrive/yolov11_test_cv/yolov11_dataset/images/train/3_2_frame_001350.jpg: ignoring corrupt image/label: labels require 5 columns, 6 columns detected\n",
            "\u001b[34m\u001b[1mtrain: \u001b[0m/content/drive/MyDrive/yolov11_test_cv/yolov11_dataset/images/train/3_2_frame_001377.jpg: ignoring corrupt image/label: labels require 5 columns, 6 columns detected\n",
            "\u001b[34m\u001b[1mtrain: \u001b[0m/content/drive/MyDrive/yolov11_test_cv/yolov11_dataset/images/train/3_2_frame_001431.jpg: ignoring corrupt image/label: labels require 5 columns, 6 columns detected\n",
            "\u001b[34m\u001b[1mtrain: \u001b[0m/content/drive/MyDrive/yolov11_test_cv/yolov11_dataset/images/train/3_2_frame_001512.jpg: ignoring corrupt image/label: labels require 5 columns, 6 columns detected\n",
            "\u001b[34m\u001b[1mtrain: \u001b[0m/content/drive/MyDrive/yolov11_test_cv/yolov11_dataset/images/train/3_2_frame_001620.jpg: ignoring corrupt image/label: labels require 5 columns, 6 columns detected\n",
            "\u001b[34m\u001b[1mtrain: \u001b[0m/content/drive/MyDrive/yolov11_test_cv/yolov11_dataset/images/train/4_1_frame_000000.jpg: ignoring corrupt image/label: labels require 5 columns, 6 columns detected\n",
            "\u001b[34m\u001b[1mtrain: \u001b[0m/content/drive/MyDrive/yolov11_test_cv/yolov11_dataset/images/train/4_1_frame_000054.jpg: ignoring corrupt image/label: labels require 5 columns, 6 columns detected\n",
            "\u001b[34m\u001b[1mtrain: \u001b[0m/content/drive/MyDrive/yolov11_test_cv/yolov11_dataset/images/train/4_1_frame_000108.jpg: ignoring corrupt image/label: labels require 5 columns, 6 columns detected\n",
            "\u001b[34m\u001b[1mtrain: \u001b[0m/content/drive/MyDrive/yolov11_test_cv/yolov11_dataset/images/train/4_1_frame_000162.jpg: ignoring corrupt image/label: labels require 5 columns, 6 columns detected\n",
            "\u001b[34m\u001b[1mtrain: \u001b[0m/content/drive/MyDrive/yolov11_test_cv/yolov11_dataset/images/train/4_1_frame_000405.jpg: ignoring corrupt image/label: labels require 5 columns, 6 columns detected\n",
            "\u001b[34m\u001b[1mtrain: \u001b[0m/content/drive/MyDrive/yolov11_test_cv/yolov11_dataset/images/train/4_1_frame_000486.jpg: ignoring corrupt image/label: labels require 5 columns, 6 columns detected\n",
            "\u001b[34m\u001b[1mtrain: \u001b[0m/content/drive/MyDrive/yolov11_test_cv/yolov11_dataset/images/train/4_1_frame_000513.jpg: ignoring corrupt image/label: labels require 5 columns, 6 columns detected\n",
            "\u001b[34m\u001b[1mtrain: \u001b[0m/content/drive/MyDrive/yolov11_test_cv/yolov11_dataset/images/train/4_1_frame_000567.jpg: ignoring corrupt image/label: labels require 5 columns, 6 columns detected\n",
            "\u001b[34m\u001b[1mtrain: \u001b[0m/content/drive/MyDrive/yolov11_test_cv/yolov11_dataset/images/train/4_1_frame_000594.jpg: ignoring corrupt image/label: labels require 5 columns, 6 columns detected\n",
            "\u001b[34m\u001b[1mtrain: \u001b[0m/content/drive/MyDrive/yolov11_test_cv/yolov11_dataset/images/train/4_1_frame_000648.jpg: ignoring corrupt image/label: labels require 5 columns, 6 columns detected\n",
            "\u001b[34m\u001b[1mtrain: \u001b[0m/content/drive/MyDrive/yolov11_test_cv/yolov11_dataset/images/train/4_1_frame_000675.jpg: ignoring corrupt image/label: labels require 5 columns, 6 columns detected\n",
            "\u001b[34m\u001b[1mtrain: \u001b[0m/content/drive/MyDrive/yolov11_test_cv/yolov11_dataset/images/train/4_1_frame_000702.jpg: ignoring corrupt image/label: labels require 5 columns, 6 columns detected\n",
            "\u001b[34m\u001b[1mtrain: \u001b[0m/content/drive/MyDrive/yolov11_test_cv/yolov11_dataset/images/train/4_1_frame_000729.jpg: ignoring corrupt image/label: labels require 5 columns, 6 columns detected\n",
            "\u001b[34m\u001b[1mtrain: \u001b[0m/content/drive/MyDrive/yolov11_test_cv/yolov11_dataset/images/train/4_1_frame_000783.jpg: ignoring corrupt image/label: labels require 5 columns, 6 columns detected\n",
            "\u001b[34m\u001b[1mtrain: \u001b[0m/content/drive/MyDrive/yolov11_test_cv/yolov11_dataset/images/train/4_1_frame_000810.jpg: ignoring corrupt image/label: labels require 5 columns, 6 columns detected\n",
            "\u001b[34m\u001b[1mtrain: \u001b[0m/content/drive/MyDrive/yolov11_test_cv/yolov11_dataset/images/train/4_1_frame_000972.jpg: ignoring corrupt image/label: labels require 5 columns, 6 columns detected\n",
            "\u001b[34m\u001b[1mtrain: \u001b[0m/content/drive/MyDrive/yolov11_test_cv/yolov11_dataset/images/train/4_frame_000000.jpg: ignoring corrupt image/label: labels require 5 columns, 6 columns detected\n",
            "\u001b[34m\u001b[1mtrain: \u001b[0m/content/drive/MyDrive/yolov11_test_cv/yolov11_dataset/images/train/4_frame_000036.jpg: ignoring corrupt image/label: labels require 5 columns, 6 columns detected\n",
            "\u001b[34m\u001b[1mtrain: \u001b[0m/content/drive/MyDrive/yolov11_test_cv/yolov11_dataset/images/train/4_frame_000050.jpg: ignoring corrupt image/label: labels require 5 columns, 6 columns detected\n",
            "\u001b[34m\u001b[1mtrain: \u001b[0m/content/drive/MyDrive/yolov11_test_cv/yolov11_dataset/images/train/4_frame_000060.jpg: ignoring corrupt image/label: labels require 5 columns, 6 columns detected\n",
            "\u001b[34m\u001b[1mtrain: \u001b[0m/content/drive/MyDrive/yolov11_test_cv/yolov11_dataset/images/train/4_frame_000072.jpg: ignoring corrupt image/label: labels require 5 columns, 6 columns detected\n",
            "\u001b[34m\u001b[1mtrain: \u001b[0m/content/drive/MyDrive/yolov11_test_cv/yolov11_dataset/images/train/4_frame_000084.jpg: ignoring corrupt image/label: labels require 5 columns, 6 columns detected\n",
            "\u001b[34m\u001b[1mtrain: \u001b[0m/content/drive/MyDrive/yolov11_test_cv/yolov11_dataset/images/train/4_frame_000096.jpg: ignoring corrupt image/label: labels require 5 columns, 6 columns detected\n",
            "\u001b[34m\u001b[1mtrain: \u001b[0m/content/drive/MyDrive/yolov11_test_cv/yolov11_dataset/images/train/4_frame_000108.jpg: ignoring corrupt image/label: labels require 5 columns, 6 columns detected\n",
            "\u001b[34m\u001b[1mtrain: \u001b[0m/content/drive/MyDrive/yolov11_test_cv/yolov11_dataset/images/train/4_frame_000125.jpg: ignoring corrupt image/label: labels require 5 columns, 6 columns detected\n",
            "\u001b[34m\u001b[1mtrain: \u001b[0m/content/drive/MyDrive/yolov11_test_cv/yolov11_dataset/images/train/4_frame_000150.jpg: ignoring corrupt image/label: labels require 5 columns, 6 columns detected\n",
            "\u001b[34m\u001b[1mtrain: \u001b[0m/content/drive/MyDrive/yolov11_test_cv/yolov11_dataset/images/train/4_frame_000175.jpg: ignoring corrupt image/label: labels require 5 columns, 6 columns detected\n",
            "\u001b[34m\u001b[1mtrain: \u001b[0m/content/drive/MyDrive/yolov11_test_cv/yolov11_dataset/images/train/4_frame_000180.jpg: ignoring corrupt image/label: labels require 5 columns, 6 columns detected\n",
            "\u001b[34m\u001b[1mtrain: \u001b[0m/content/drive/MyDrive/yolov11_test_cv/yolov11_dataset/images/train/4_frame_000192.jpg: ignoring corrupt image/label: labels require 5 columns, 6 columns detected\n",
            "\u001b[34m\u001b[1mtrain: \u001b[0m/content/drive/MyDrive/yolov11_test_cv/yolov11_dataset/images/train/4_frame_000204.jpg: ignoring corrupt image/label: labels require 5 columns, 6 columns detected\n",
            "\u001b[34m\u001b[1mtrain: \u001b[0m/content/drive/MyDrive/yolov11_test_cv/yolov11_dataset/images/train/4_frame_000216.jpg: ignoring corrupt image/label: labels require 5 columns, 6 columns detected\n",
            "\u001b[34m\u001b[1mtrain: \u001b[0m/content/drive/MyDrive/yolov11_test_cv/yolov11_dataset/images/train/4_frame_000225.jpg: ignoring corrupt image/label: labels require 5 columns, 6 columns detected\n",
            "\u001b[34m\u001b[1mtrain: \u001b[0m/content/drive/MyDrive/yolov11_test_cv/yolov11_dataset/images/train/4_frame_000250.jpg: ignoring corrupt image/label: labels require 5 columns, 6 columns detected\n",
            "\u001b[34m\u001b[1mtrain: \u001b[0m/content/drive/MyDrive/yolov11_test_cv/yolov11_dataset/images/train/4_frame_000275.jpg: ignoring corrupt image/label: labels require 5 columns, 6 columns detected\n",
            "\u001b[34m\u001b[1mtrain: \u001b[0m/content/drive/MyDrive/yolov11_test_cv/yolov11_dataset/images/train/4_frame_000348.jpg: ignoring corrupt image/label: labels require 5 columns, 6 columns detected\n",
            "\u001b[34m\u001b[1mtrain: \u001b[0m/content/drive/MyDrive/yolov11_test_cv/yolov11_dataset/images/train/4_frame_000350.jpg: ignoring corrupt image/label: labels require 5 columns, 6 columns detected\n",
            "\u001b[34m\u001b[1mtrain: \u001b[0m/content/drive/MyDrive/yolov11_test_cv/yolov11_dataset/images/train/4_frame_000375.jpg: ignoring corrupt image/label: labels require 5 columns, 6 columns detected\n",
            "\u001b[34m\u001b[1mtrain: \u001b[0m/content/drive/MyDrive/yolov11_test_cv/yolov11_dataset/images/train/4_frame_000400.jpg: ignoring corrupt image/label: labels require 5 columns, 6 columns detected\n",
            "\u001b[34m\u001b[1mtrain: \u001b[0m/content/drive/MyDrive/yolov11_test_cv/yolov11_dataset/images/train/4_frame_000500.jpg: ignoring corrupt image/label: labels require 5 columns, 6 columns detected\n",
            "\u001b[34m\u001b[1mtrain: \u001b[0m/content/drive/MyDrive/yolov11_test_cv/yolov11_dataset/images/train/4_frame_000525.jpg: ignoring corrupt image/label: labels require 5 columns, 6 columns detected\n",
            "\u001b[34m\u001b[1mtrain: \u001b[0m/content/drive/MyDrive/yolov11_test_cv/yolov11_dataset/images/train/4_frame_000550.jpg: ignoring corrupt image/label: labels require 5 columns, 6 columns detected\n",
            "\u001b[34m\u001b[1mtrain: \u001b[0m/content/drive/MyDrive/yolov11_test_cv/yolov11_dataset/images/train/4_frame_000600.jpg: ignoring corrupt image/label: labels require 5 columns, 6 columns detected\n",
            "\u001b[34m\u001b[1mtrain: \u001b[0m/content/drive/MyDrive/yolov11_test_cv/yolov11_dataset/images/train/4_frame_000612.jpg: ignoring corrupt image/label: labels require 5 columns, 6 columns detected\n",
            "\u001b[34m\u001b[1mtrain: \u001b[0m/content/drive/MyDrive/yolov11_test_cv/yolov11_dataset/images/train/4_frame_000625.jpg: ignoring corrupt image/label: labels require 5 columns, 6 columns detected\n",
            "\u001b[34m\u001b[1mtrain: \u001b[0m/content/drive/MyDrive/yolov11_test_cv/yolov11_dataset/images/train/4_frame_000650.jpg: ignoring corrupt image/label: labels require 5 columns, 6 columns detected\n",
            "\u001b[34m\u001b[1mtrain: \u001b[0m/content/drive/MyDrive/yolov11_test_cv/yolov11_dataset/images/train/4_frame_000672.jpg: ignoring corrupt image/label: labels require 5 columns, 6 columns detected\n",
            "\u001b[34m\u001b[1mtrain: \u001b[0m/content/drive/MyDrive/yolov11_test_cv/yolov11_dataset/images/train/4_frame_000675.jpg: ignoring corrupt image/label: labels require 5 columns, 6 columns detected\n",
            "\u001b[34m\u001b[1mtrain: \u001b[0m/content/drive/MyDrive/yolov11_test_cv/yolov11_dataset/images/train/4_frame_000700.jpg: ignoring corrupt image/label: labels require 5 columns, 6 columns detected\n",
            "\u001b[34m\u001b[1mtrain: \u001b[0m/content/drive/MyDrive/yolov11_test_cv/yolov11_dataset/images/train/4_frame_000732.jpg: ignoring corrupt image/label: labels require 5 columns, 6 columns detected\n",
            "\u001b[34m\u001b[1mtrain: \u001b[0m/content/drive/MyDrive/yolov11_test_cv/yolov11_dataset/images/train/4_frame_000744.jpg: ignoring corrupt image/label: labels require 5 columns, 6 columns detected\n",
            "\u001b[34m\u001b[1mtrain: \u001b[0m/content/drive/MyDrive/yolov11_test_cv/yolov11_dataset/images/train/4_frame_000775.jpg: ignoring corrupt image/label: labels require 5 columns, 6 columns detected\n",
            "\u001b[34m\u001b[1mtrain: \u001b[0m/content/drive/MyDrive/yolov11_test_cv/yolov11_dataset/images/train/4_frame_000804.jpg: ignoring corrupt image/label: labels require 5 columns, 6 columns detected\n",
            "\u001b[34m\u001b[1mtrain: \u001b[0m/content/drive/MyDrive/yolov11_test_cv/yolov11_dataset/images/train/4_frame_000825.jpg: ignoring corrupt image/label: labels require 5 columns, 6 columns detected\n",
            "\u001b[34m\u001b[1mtrain: \u001b[0m/content/drive/MyDrive/yolov11_test_cv/yolov11_dataset/images/train/4_frame_000828.jpg: ignoring corrupt image/label: labels require 5 columns, 6 columns detected\n",
            "\u001b[34m\u001b[1mtrain: \u001b[0m/content/drive/MyDrive/yolov11_test_cv/yolov11_dataset/images/train/4_frame_000850.jpg: ignoring corrupt image/label: labels require 5 columns, 6 columns detected\n",
            "\u001b[34m\u001b[1mtrain: \u001b[0m/content/drive/MyDrive/yolov11_test_cv/yolov11_dataset/images/train/4_frame_000875.jpg: ignoring corrupt image/label: labels require 5 columns, 6 columns detected\n",
            "\u001b[34m\u001b[1mtrain: \u001b[0m/content/drive/MyDrive/yolov11_test_cv/yolov11_dataset/images/train/4_frame_000900.jpg: ignoring corrupt image/label: labels require 5 columns, 6 columns detected\n",
            "\u001b[34m\u001b[1mtrain: \u001b[0m/content/drive/MyDrive/yolov11_test_cv/yolov11_dataset/images/train/4_frame_000925.jpg: ignoring corrupt image/label: labels require 5 columns, 6 columns detected\n",
            "\u001b[34m\u001b[1mtrain: \u001b[0m/content/drive/MyDrive/yolov11_test_cv/yolov11_dataset/images/train/4_frame_000950.jpg: ignoring corrupt image/label: labels require 5 columns, 6 columns detected\n",
            "\u001b[34m\u001b[1mtrain: \u001b[0m/content/drive/MyDrive/yolov11_test_cv/yolov11_dataset/images/train/4_frame_000975.jpg: ignoring corrupt image/label: labels require 5 columns, 6 columns detected\n",
            "\u001b[34m\u001b[1mtrain: \u001b[0m/content/drive/MyDrive/yolov11_test_cv/yolov11_dataset/images/train/4_frame_001100.jpg: ignoring corrupt image/label: labels require 5 columns, 6 columns detected\n",
            "\u001b[34m\u001b[1mtrain: \u001b[0m/content/drive/MyDrive/yolov11_test_cv/yolov11_dataset/images/train/4_frame_001175.jpg: ignoring corrupt image/label: labels require 5 columns, 6 columns detected\n",
            "\u001b[34m\u001b[1mtrain: \u001b[0m/content/drive/MyDrive/yolov11_test_cv/yolov11_dataset/images/train/4_frame_001176.jpg: ignoring corrupt image/label: labels require 5 columns, 6 columns detected\n",
            "\u001b[34m\u001b[1mtrain: \u001b[0m/content/drive/MyDrive/yolov11_test_cv/yolov11_dataset/images/train/4_frame_001188.jpg: ignoring corrupt image/label: labels require 5 columns, 6 columns detected\n",
            "\u001b[34m\u001b[1mtrain: \u001b[0m/content/drive/MyDrive/yolov11_test_cv/yolov11_dataset/images/train/4_frame_001200.jpg: ignoring corrupt image/label: labels require 5 columns, 6 columns detected\n",
            "\u001b[34m\u001b[1mtrain: \u001b[0m/content/drive/MyDrive/yolov11_test_cv/yolov11_dataset/images/train/4_frame_001224.jpg: ignoring corrupt image/label: labels require 5 columns, 6 columns detected\n",
            "\u001b[34m\u001b[1mtrain: \u001b[0m/content/drive/MyDrive/yolov11_test_cv/yolov11_dataset/images/train/4_frame_001225.jpg: ignoring corrupt image/label: labels require 5 columns, 6 columns detected\n",
            "\u001b[34m\u001b[1mtrain: \u001b[0m/content/drive/MyDrive/yolov11_test_cv/yolov11_dataset/images/train/4_frame_001236.jpg: ignoring corrupt image/label: labels require 5 columns, 6 columns detected\n",
            "\u001b[34m\u001b[1mtrain: \u001b[0m/content/drive/MyDrive/yolov11_test_cv/yolov11_dataset/images/train/4_frame_001248.jpg: ignoring corrupt image/label: labels require 5 columns, 6 columns detected\n",
            "\u001b[34m\u001b[1mtrain: \u001b[0m/content/drive/MyDrive/yolov11_test_cv/yolov11_dataset/images/train/4_frame_001250.jpg: ignoring corrupt image/label: labels require 5 columns, 6 columns detected\n",
            "\u001b[34m\u001b[1mtrain: \u001b[0m/content/drive/MyDrive/yolov11_test_cv/yolov11_dataset/images/train/4_frame_001260.jpg: ignoring corrupt image/label: labels require 5 columns, 6 columns detected\n",
            "\u001b[34m\u001b[1mtrain: \u001b[0m/content/drive/MyDrive/yolov11_test_cv/yolov11_dataset/images/train/4_frame_001320.jpg: ignoring corrupt image/label: labels require 5 columns, 6 columns detected\n",
            "\u001b[34m\u001b[1mtrain: \u001b[0m/content/drive/MyDrive/yolov11_test_cv/yolov11_dataset/images/train/4_frame_001325.jpg: ignoring corrupt image/label: labels require 5 columns, 6 columns detected\n",
            "\u001b[34m\u001b[1mtrain: \u001b[0m/content/drive/MyDrive/yolov11_test_cv/yolov11_dataset/images/train/4_frame_001332.jpg: ignoring corrupt image/label: labels require 5 columns, 6 columns detected\n",
            "\u001b[34m\u001b[1mtrain: \u001b[0m/content/drive/MyDrive/yolov11_test_cv/yolov11_dataset/images/train/4_frame_001344.jpg: ignoring corrupt image/label: labels require 5 columns, 6 columns detected\n",
            "\u001b[34m\u001b[1mtrain: \u001b[0m/content/drive/MyDrive/yolov11_test_cv/yolov11_dataset/images/train/4_frame_001380.jpg: ignoring corrupt image/label: labels require 5 columns, 6 columns detected\n",
            "\u001b[34m\u001b[1mtrain: \u001b[0m/content/drive/MyDrive/yolov11_test_cv/yolov11_dataset/images/train/4_frame_001440.jpg: ignoring corrupt image/label: labels require 5 columns, 6 columns detected\n",
            "\u001b[34m\u001b[1mtrain: \u001b[0m/content/drive/MyDrive/yolov11_test_cv/yolov11_dataset/images/train/4_frame_001450.jpg: ignoring corrupt image/label: labels require 5 columns, 6 columns detected\n",
            "\u001b[34m\u001b[1mtrain: \u001b[0m/content/drive/MyDrive/yolov11_test_cv/yolov11_dataset/images/train/4_frame_001452.jpg: ignoring corrupt image/label: labels require 5 columns, 6 columns detected\n",
            "\u001b[34m\u001b[1mtrain: \u001b[0m/content/drive/MyDrive/yolov11_test_cv/yolov11_dataset/images/train/4_frame_001512.jpg: ignoring corrupt image/label: labels require 5 columns, 6 columns detected\n",
            "\u001b[34m\u001b[1mtrain: \u001b[0m/content/drive/MyDrive/yolov11_test_cv/yolov11_dataset/images/train/4_frame_001572.jpg: ignoring corrupt image/label: labels require 5 columns, 6 columns detected\n",
            "\u001b[34m\u001b[1mtrain: \u001b[0m/content/drive/MyDrive/yolov11_test_cv/yolov11_dataset/images/train/4_frame_001596.jpg: ignoring corrupt image/label: labels require 5 columns, 6 columns detected\n",
            "\u001b[34m\u001b[1mtrain: \u001b[0m/content/drive/MyDrive/yolov11_test_cv/yolov11_dataset/images/train/4_frame_001700.jpg: ignoring corrupt image/label: labels require 5 columns, 6 columns detected\n",
            "\u001b[34m\u001b[1mtrain: \u001b[0m/content/drive/MyDrive/yolov11_test_cv/yolov11_dataset/images/train/4_frame_001728.jpg: ignoring corrupt image/label: labels require 5 columns, 6 columns detected\n",
            "\u001b[34m\u001b[1mtrain: \u001b[0m/content/drive/MyDrive/yolov11_test_cv/yolov11_dataset/images/train/4_frame_001752.jpg: ignoring corrupt image/label: labels require 5 columns, 6 columns detected\n",
            "\u001b[34m\u001b[1mtrain: \u001b[0m/content/drive/MyDrive/yolov11_test_cv/yolov11_dataset/images/train/4_frame_001824.jpg: ignoring corrupt image/label: labels require 5 columns, 6 columns detected\n",
            "\u001b[34m\u001b[1mtrain: \u001b[0m/content/drive/MyDrive/yolov11_test_cv/yolov11_dataset/images/train/4_frame_001884.jpg: ignoring corrupt image/label: labels require 5 columns, 6 columns detected\n",
            "\u001b[34m\u001b[1mtrain: \u001b[0m/content/drive/MyDrive/yolov11_test_cv/yolov11_dataset/images/train/4_frame_001900.jpg: ignoring corrupt image/label: labels require 5 columns, 6 columns detected\n",
            "\u001b[34m\u001b[1mtrain: \u001b[0m/content/drive/MyDrive/yolov11_test_cv/yolov11_dataset/images/train/4_frame_001908.jpg: ignoring corrupt image/label: labels require 5 columns, 6 columns detected\n",
            "\u001b[34m\u001b[1mtrain: \u001b[0m/content/drive/MyDrive/yolov11_test_cv/yolov11_dataset/images/train/4_frame_001925.jpg: ignoring corrupt image/label: labels require 5 columns, 6 columns detected\n",
            "\u001b[34m\u001b[1mtrain: \u001b[0m/content/drive/MyDrive/yolov11_test_cv/yolov11_dataset/images/train/4_frame_002000.jpg: ignoring corrupt image/label: labels require 5 columns, 6 columns detected\n",
            "\u001b[34m\u001b[1mtrain: \u001b[0m/content/drive/MyDrive/yolov11_test_cv/yolov11_dataset/images/train/4_frame_002050.jpg: ignoring corrupt image/label: labels require 5 columns, 6 columns detected\n",
            "\u001b[34m\u001b[1mtrain: \u001b[0m/content/drive/MyDrive/yolov11_test_cv/yolov11_dataset/images/train/4_frame_002100.jpg: ignoring corrupt image/label: labels require 5 columns, 6 columns detected\n",
            "\u001b[34m\u001b[1mtrain: \u001b[0m/content/drive/MyDrive/yolov11_test_cv/yolov11_dataset/images/train/4_frame_002125.jpg: ignoring corrupt image/label: labels require 5 columns, 6 columns detected\n",
            "\u001b[34m\u001b[1mtrain: \u001b[0m/content/drive/MyDrive/yolov11_test_cv/yolov11_dataset/images/train/4_frame_002136.jpg: ignoring corrupt image/label: labels require 5 columns, 6 columns detected\n",
            "\u001b[34m\u001b[1mtrain: \u001b[0m/content/drive/MyDrive/yolov11_test_cv/yolov11_dataset/images/train/4_frame_002150.jpg: ignoring corrupt image/label: labels require 5 columns, 6 columns detected\n",
            "\u001b[34m\u001b[1malbumentations: \u001b[0mBlur(p=0.01, blur_limit=(3, 7)), MedianBlur(p=0.01, blur_limit=(3, 7)), ToGray(p=0.01, method='weighted_average', num_output_channels=3), CLAHE(p=0.01, clip_limit=(1.0, 4.0), tile_grid_size=(8, 8))\n",
            "\u001b[34m\u001b[1mval: \u001b[0mFast image access ✅ (ping: 0.6±0.2 ms, read: 175.2±113.8 MB/s, size: 2120.5 KB)\n"
          ]
        },
        {
          "metadata": {
            "tags": null
          },
          "name": "stderr",
          "output_type": "stream",
          "text": [
            "\n",
            "/usr/local/lib/python3.11/dist-packages/torch/utils/data/dataloader.py:665: UserWarning: 'pin_memory' argument is set as true but no accelerator is found, then device pinned memory won't be used.\n",
            "  warnings.warn(warn_msg)\n",
            "\u001b[34m\u001b[1mval: \u001b[0mScanning /content/drive/MyDrive/yolov11_test_cv/yolov11_dataset/labels/val.cache... 125 images, 0 backgrounds, 93 corrupt: 100%|██████████| 125/125 [00:00<?, ?it/s]"
          ]
        },
        {
          "metadata": {
            "tags": null
          },
          "name": "stdout",
          "output_type": "stream",
          "text": [
            "\u001b[34m\u001b[1mval: \u001b[0m/content/drive/MyDrive/yolov11_test_cv/yolov11_dataset/images/val/1_frame_000058.jpg: ignoring corrupt image/label: labels require 5 columns, 6 columns detected\n",
            "\u001b[34m\u001b[1mval: \u001b[0m/content/drive/MyDrive/yolov11_test_cv/yolov11_dataset/images/val/1_frame_000071.jpg: ignoring corrupt image/label: labels require 5 columns, 6 columns detected\n",
            "\u001b[34m\u001b[1mval: \u001b[0m/content/drive/MyDrive/yolov11_test_cv/yolov11_dataset/images/val/1_frame_000178.jpg: ignoring corrupt image/label: labels require 5 columns, 6 columns detected\n",
            "\u001b[34m\u001b[1mval: \u001b[0m/content/drive/MyDrive/yolov11_test_cv/yolov11_dataset/images/val/2_1_frame_000297.jpg: ignoring corrupt image/label: labels require 5 columns, 6 columns detected\n",
            "\u001b[34m\u001b[1mval: \u001b[0m/content/drive/MyDrive/yolov11_test_cv/yolov11_dataset/images/val/2_1_frame_000594.jpg: ignoring corrupt image/label: labels require 5 columns, 6 columns detected\n",
            "\u001b[34m\u001b[1mval: \u001b[0m/content/drive/MyDrive/yolov11_test_cv/yolov11_dataset/images/val/2_1_frame_001404.jpg: ignoring corrupt image/label: labels require 5 columns, 6 columns detected\n",
            "\u001b[34m\u001b[1mval: \u001b[0m/content/drive/MyDrive/yolov11_test_cv/yolov11_dataset/images/val/2_1_frame_001458.jpg: ignoring corrupt image/label: labels require 5 columns, 6 columns detected\n",
            "\u001b[34m\u001b[1mval: \u001b[0m/content/drive/MyDrive/yolov11_test_cv/yolov11_dataset/images/val/3_1_frame_000050.jpg: ignoring corrupt image/label: labels require 5 columns, 6 columns detected\n",
            "\u001b[34m\u001b[1mval: \u001b[0m/content/drive/MyDrive/yolov11_test_cv/yolov11_dataset/images/val/3_1_frame_000108.jpg: ignoring corrupt image/label: labels require 5 columns, 6 columns detected\n",
            "\u001b[34m\u001b[1mval: \u001b[0m/content/drive/MyDrive/yolov11_test_cv/yolov11_dataset/images/val/3_1_frame_000144.jpg: ignoring corrupt image/label: labels require 5 columns, 6 columns detected\n",
            "\u001b[34m\u001b[1mval: \u001b[0m/content/drive/MyDrive/yolov11_test_cv/yolov11_dataset/images/val/3_1_frame_000372.jpg: ignoring corrupt image/label: labels require 5 columns, 6 columns detected\n",
            "\u001b[34m\u001b[1mval: \u001b[0m/content/drive/MyDrive/yolov11_test_cv/yolov11_dataset/images/val/3_1_frame_000408.jpg: ignoring corrupt image/label: labels require 5 columns, 6 columns detected\n",
            "\u001b[34m\u001b[1mval: \u001b[0m/content/drive/MyDrive/yolov11_test_cv/yolov11_dataset/images/val/3_1_frame_000444.jpg: ignoring corrupt image/label: labels require 5 columns, 6 columns detected\n",
            "\u001b[34m\u001b[1mval: \u001b[0m/content/drive/MyDrive/yolov11_test_cv/yolov11_dataset/images/val/3_1_frame_000525.jpg: ignoring corrupt image/label: labels require 5 columns, 6 columns detected\n",
            "\u001b[34m\u001b[1mval: \u001b[0m/content/drive/MyDrive/yolov11_test_cv/yolov11_dataset/images/val/3_1_frame_000528.jpg: ignoring corrupt image/label: labels require 5 columns, 6 columns detected\n",
            "\u001b[34m\u001b[1mval: \u001b[0m/content/drive/MyDrive/yolov11_test_cv/yolov11_dataset/images/val/3_1_frame_000552.jpg: ignoring corrupt image/label: labels require 5 columns, 6 columns detected\n",
            "\u001b[34m\u001b[1mval: \u001b[0m/content/drive/MyDrive/yolov11_test_cv/yolov11_dataset/images/val/3_1_frame_000600.jpg: ignoring corrupt image/label: labels require 5 columns, 6 columns detected\n",
            "\u001b[34m\u001b[1mval: \u001b[0m/content/drive/MyDrive/yolov11_test_cv/yolov11_dataset/images/val/3_1_frame_000624.jpg: ignoring corrupt image/label: labels require 5 columns, 6 columns detected\n",
            "\u001b[34m\u001b[1mval: \u001b[0m/content/drive/MyDrive/yolov11_test_cv/yolov11_dataset/images/val/3_1_frame_000625.jpg: ignoring corrupt image/label: labels require 5 columns, 6 columns detected\n",
            "\u001b[34m\u001b[1mval: \u001b[0m/content/drive/MyDrive/yolov11_test_cv/yolov11_dataset/images/val/3_1_frame_000660.jpg: ignoring corrupt image/label: labels require 5 columns, 6 columns detected\n",
            "\u001b[34m\u001b[1mval: \u001b[0m/content/drive/MyDrive/yolov11_test_cv/yolov11_dataset/images/val/3_1_frame_000780.jpg: ignoring corrupt image/label: labels require 5 columns, 6 columns detected\n",
            "\u001b[34m\u001b[1mval: \u001b[0m/content/drive/MyDrive/yolov11_test_cv/yolov11_dataset/images/val/3_1_frame_000792.jpg: ignoring corrupt image/label: labels require 5 columns, 6 columns detected\n",
            "\u001b[34m\u001b[1mval: \u001b[0m/content/drive/MyDrive/yolov11_test_cv/yolov11_dataset/images/val/3_1_frame_000840.jpg: ignoring corrupt image/label: labels require 5 columns, 6 columns detected\n",
            "\u001b[34m\u001b[1mval: \u001b[0m/content/drive/MyDrive/yolov11_test_cv/yolov11_dataset/images/val/3_1_frame_000864.jpg: ignoring corrupt image/label: labels require 5 columns, 6 columns detected\n",
            "\u001b[34m\u001b[1mval: \u001b[0m/content/drive/MyDrive/yolov11_test_cv/yolov11_dataset/images/val/3_1_frame_000888.jpg: ignoring corrupt image/label: labels require 5 columns, 6 columns detected\n",
            "\u001b[34m\u001b[1mval: \u001b[0m/content/drive/MyDrive/yolov11_test_cv/yolov11_dataset/images/val/3_1_frame_001025.jpg: ignoring corrupt image/label: labels require 5 columns, 6 columns detected\n",
            "\u001b[34m\u001b[1mval: \u001b[0m/content/drive/MyDrive/yolov11_test_cv/yolov11_dataset/images/val/3_1_frame_001075.jpg: ignoring corrupt image/label: labels require 5 columns, 6 columns detected\n",
            "\u001b[34m\u001b[1mval: \u001b[0m/content/drive/MyDrive/yolov11_test_cv/yolov11_dataset/images/val/3_1_frame_001224.jpg: ignoring corrupt image/label: labels require 5 columns, 6 columns detected\n",
            "\u001b[34m\u001b[1mval: \u001b[0m/content/drive/MyDrive/yolov11_test_cv/yolov11_dataset/images/val/3_1_frame_001236.jpg: ignoring corrupt image/label: labels require 5 columns, 6 columns detected\n",
            "\u001b[34m\u001b[1mval: \u001b[0m/content/drive/MyDrive/yolov11_test_cv/yolov11_dataset/images/val/3_1_frame_001248.jpg: ignoring corrupt image/label: labels require 5 columns, 6 columns detected\n",
            "\u001b[34m\u001b[1mval: \u001b[0m/content/drive/MyDrive/yolov11_test_cv/yolov11_dataset/images/val/3_1_frame_001320.jpg: ignoring corrupt image/label: labels require 5 columns, 6 columns detected\n",
            "\u001b[34m\u001b[1mval: \u001b[0m/content/drive/MyDrive/yolov11_test_cv/yolov11_dataset/images/val/3_1_frame_001325.jpg: ignoring corrupt image/label: labels require 5 columns, 6 columns detected\n",
            "\u001b[34m\u001b[1mval: \u001b[0m/content/drive/MyDrive/yolov11_test_cv/yolov11_dataset/images/val/3_1_frame_001404.jpg: ignoring corrupt image/label: labels require 5 columns, 6 columns detected\n",
            "\u001b[34m\u001b[1mval: \u001b[0m/content/drive/MyDrive/yolov11_test_cv/yolov11_dataset/images/val/3_1_frame_001416.jpg: ignoring corrupt image/label: labels require 5 columns, 6 columns detected\n",
            "\u001b[34m\u001b[1mval: \u001b[0m/content/drive/MyDrive/yolov11_test_cv/yolov11_dataset/images/val/3_1_frame_001525.jpg: ignoring corrupt image/label: labels require 5 columns, 6 columns detected\n",
            "\u001b[34m\u001b[1mval: \u001b[0m/content/drive/MyDrive/yolov11_test_cv/yolov11_dataset/images/val/3_1_frame_001536.jpg: ignoring corrupt image/label: labels require 5 columns, 6 columns detected\n",
            "\u001b[34m\u001b[1mval: \u001b[0m/content/drive/MyDrive/yolov11_test_cv/yolov11_dataset/images/val/3_1_frame_001560.jpg: ignoring corrupt image/label: labels require 5 columns, 6 columns detected\n",
            "\u001b[34m\u001b[1mval: \u001b[0m/content/drive/MyDrive/yolov11_test_cv/yolov11_dataset/images/val/3_1_frame_001575.jpg: ignoring corrupt image/label: labels require 5 columns, 6 columns detected\n",
            "\u001b[34m\u001b[1mval: \u001b[0m/content/drive/MyDrive/yolov11_test_cv/yolov11_dataset/images/val/3_1_frame_001680.jpg: ignoring corrupt image/label: labels require 5 columns, 6 columns detected\n",
            "\u001b[34m\u001b[1mval: \u001b[0m/content/drive/MyDrive/yolov11_test_cv/yolov11_dataset/images/val/3_1_frame_001825.jpg: ignoring corrupt image/label: labels require 5 columns, 6 columns detected\n",
            "\u001b[34m\u001b[1mval: \u001b[0m/content/drive/MyDrive/yolov11_test_cv/yolov11_dataset/images/val/3_1_frame_001896.jpg: ignoring corrupt image/label: labels require 5 columns, 6 columns detected\n",
            "\u001b[34m\u001b[1mval: \u001b[0m/content/drive/MyDrive/yolov11_test_cv/yolov11_dataset/images/val/3_1_frame_001950.jpg: ignoring corrupt image/label: labels require 5 columns, 6 columns detected\n",
            "\u001b[34m\u001b[1mval: \u001b[0m/content/drive/MyDrive/yolov11_test_cv/yolov11_dataset/images/val/3_1_frame_001992.jpg: ignoring corrupt image/label: labels require 5 columns, 6 columns detected\n",
            "\u001b[34m\u001b[1mval: \u001b[0m/content/drive/MyDrive/yolov11_test_cv/yolov11_dataset/images/val/3_1_frame_002076.jpg: ignoring corrupt image/label: labels require 5 columns, 6 columns detected\n",
            "\u001b[34m\u001b[1mval: \u001b[0m/content/drive/MyDrive/yolov11_test_cv/yolov11_dataset/images/val/3_1_frame_002175.jpg: ignoring corrupt image/label: labels require 5 columns, 6 columns detected\n",
            "\u001b[34m\u001b[1mval: \u001b[0m/content/drive/MyDrive/yolov11_test_cv/yolov11_dataset/images/val/3_1_frame_002200.jpg: ignoring corrupt image/label: labels require 5 columns, 6 columns detected\n",
            "\u001b[34m\u001b[1mval: \u001b[0m/content/drive/MyDrive/yolov11_test_cv/yolov11_dataset/images/val/3_1_frame_002275.jpg: ignoring corrupt image/label: labels require 5 columns, 6 columns detected\n",
            "\u001b[34m\u001b[1mval: \u001b[0m/content/drive/MyDrive/yolov11_test_cv/yolov11_dataset/images/val/3_1_frame_002304.jpg: ignoring corrupt image/label: labels require 5 columns, 6 columns detected\n",
            "\u001b[34m\u001b[1mval: \u001b[0m/content/drive/MyDrive/yolov11_test_cv/yolov11_dataset/images/val/3_1_frame_002364.jpg: ignoring corrupt image/label: labels require 5 columns, 6 columns detected\n",
            "\u001b[34m\u001b[1mval: \u001b[0m/content/drive/MyDrive/yolov11_test_cv/yolov11_dataset/images/val/3_1_frame_002376.jpg: ignoring corrupt image/label: labels require 5 columns, 6 columns detected\n",
            "\u001b[34m\u001b[1mval: \u001b[0m/content/drive/MyDrive/yolov11_test_cv/yolov11_dataset/images/val/3_1_frame_002412.jpg: ignoring corrupt image/label: labels require 5 columns, 6 columns detected\n",
            "\u001b[34m\u001b[1mval: \u001b[0m/content/drive/MyDrive/yolov11_test_cv/yolov11_dataset/images/val/3_1_frame_002425.jpg: ignoring corrupt image/label: labels require 5 columns, 6 columns detected\n",
            "\u001b[34m\u001b[1mval: \u001b[0m/content/drive/MyDrive/yolov11_test_cv/yolov11_dataset/images/val/3_1_frame_002448.jpg: ignoring corrupt image/label: labels require 5 columns, 6 columns detected\n",
            "\u001b[34m\u001b[1mval: \u001b[0m/content/drive/MyDrive/yolov11_test_cv/yolov11_dataset/images/val/3_1_frame_002532.jpg: ignoring corrupt image/label: labels require 5 columns, 6 columns detected\n",
            "\u001b[34m\u001b[1mval: \u001b[0m/content/drive/MyDrive/yolov11_test_cv/yolov11_dataset/images/val/3_1_frame_002568.jpg: ignoring corrupt image/label: labels require 5 columns, 6 columns detected\n",
            "\u001b[34m\u001b[1mval: \u001b[0m/content/drive/MyDrive/yolov11_test_cv/yolov11_dataset/images/val/3_1_frame_002616.jpg: ignoring corrupt image/label: labels require 5 columns, 6 columns detected\n",
            "\u001b[34m\u001b[1mval: \u001b[0m/content/drive/MyDrive/yolov11_test_cv/yolov11_dataset/images/val/3_1_frame_002640.jpg: ignoring corrupt image/label: labels require 5 columns, 6 columns detected\n",
            "\u001b[34m\u001b[1mval: \u001b[0m/content/drive/MyDrive/yolov11_test_cv/yolov11_dataset/images/val/3_1_frame_002725.jpg: ignoring corrupt image/label: labels require 5 columns, 6 columns detected\n",
            "\u001b[34m\u001b[1mval: \u001b[0m/content/drive/MyDrive/yolov11_test_cv/yolov11_dataset/images/val/3_1_frame_002832.jpg: ignoring corrupt image/label: labels require 5 columns, 6 columns detected\n",
            "\u001b[34m\u001b[1mval: \u001b[0m/content/drive/MyDrive/yolov11_test_cv/yolov11_dataset/images/val/3_1_frame_002880.jpg: ignoring corrupt image/label: labels require 5 columns, 6 columns detected\n",
            "\u001b[34m\u001b[1mval: \u001b[0m/content/drive/MyDrive/yolov11_test_cv/yolov11_dataset/images/val/3_1_frame_002892.jpg: ignoring corrupt image/label: labels require 5 columns, 6 columns detected\n",
            "\u001b[34m\u001b[1mval: \u001b[0m/content/drive/MyDrive/yolov11_test_cv/yolov11_dataset/images/val/3_1_frame_002904.jpg: ignoring corrupt image/label: labels require 5 columns, 6 columns detected\n",
            "\u001b[34m\u001b[1mval: \u001b[0m/content/drive/MyDrive/yolov11_test_cv/yolov11_dataset/images/val/3_1_frame_002940.jpg: ignoring corrupt image/label: labels require 5 columns, 6 columns detected\n",
            "\u001b[34m\u001b[1mval: \u001b[0m/content/drive/MyDrive/yolov11_test_cv/yolov11_dataset/images/val/3_1_frame_002952.jpg: ignoring corrupt image/label: labels require 5 columns, 6 columns detected\n",
            "\u001b[34m\u001b[1mval: \u001b[0m/content/drive/MyDrive/yolov11_test_cv/yolov11_dataset/images/val/3_2_frame_000918.jpg: ignoring corrupt image/label: labels require 5 columns, 6 columns detected\n",
            "\u001b[34m\u001b[1mval: \u001b[0m/content/drive/MyDrive/yolov11_test_cv/yolov11_dataset/images/val/3_2_frame_000972.jpg: ignoring corrupt image/label: labels require 5 columns, 6 columns detected\n",
            "\u001b[34m\u001b[1mval: \u001b[0m/content/drive/MyDrive/yolov11_test_cv/yolov11_dataset/images/val/3_2_frame_001053.jpg: ignoring corrupt image/label: labels require 5 columns, 6 columns detected\n",
            "\u001b[34m\u001b[1mval: \u001b[0m/content/drive/MyDrive/yolov11_test_cv/yolov11_dataset/images/val/4_1_frame_000297.jpg: ignoring corrupt image/label: labels require 5 columns, 6 columns detected\n",
            "\u001b[34m\u001b[1mval: \u001b[0m/content/drive/MyDrive/yolov11_test_cv/yolov11_dataset/images/val/4_1_frame_000324.jpg: ignoring corrupt image/label: labels require 5 columns, 6 columns detected\n",
            "\u001b[34m\u001b[1mval: \u001b[0m/content/drive/MyDrive/yolov11_test_cv/yolov11_dataset/images/val/4_1_frame_000351.jpg: ignoring corrupt image/label: labels require 5 columns, 6 columns detected\n",
            "\u001b[34m\u001b[1mval: \u001b[0m/content/drive/MyDrive/yolov11_test_cv/yolov11_dataset/images/val/4_1_frame_000432.jpg: ignoring corrupt image/label: labels require 5 columns, 6 columns detected\n",
            "\u001b[34m\u001b[1mval: \u001b[0m/content/drive/MyDrive/yolov11_test_cv/yolov11_dataset/images/val/4_1_frame_000918.jpg: ignoring corrupt image/label: labels require 5 columns, 6 columns detected\n",
            "\u001b[34m\u001b[1mval: \u001b[0m/content/drive/MyDrive/yolov11_test_cv/yolov11_dataset/images/val/4_frame_000025.jpg: ignoring corrupt image/label: labels require 5 columns, 6 columns detected\n",
            "\u001b[34m\u001b[1mval: \u001b[0m/content/drive/MyDrive/yolov11_test_cv/yolov11_dataset/images/val/4_frame_000228.jpg: ignoring corrupt image/label: labels require 5 columns, 6 columns detected\n",
            "\u001b[34m\u001b[1mval: \u001b[0m/content/drive/MyDrive/yolov11_test_cv/yolov11_dataset/images/val/4_frame_000300.jpg: ignoring corrupt image/label: labels require 5 columns, 6 columns detected\n",
            "\u001b[34m\u001b[1mval: \u001b[0m/content/drive/MyDrive/yolov11_test_cv/yolov11_dataset/images/val/4_frame_000324.jpg: ignoring corrupt image/label: labels require 5 columns, 6 columns detected\n",
            "\u001b[34m\u001b[1mval: \u001b[0m/content/drive/MyDrive/yolov11_test_cv/yolov11_dataset/images/val/4_frame_000450.jpg: ignoring corrupt image/label: labels require 5 columns, 6 columns detected\n",
            "\u001b[34m\u001b[1mval: \u001b[0m/content/drive/MyDrive/yolov11_test_cv/yolov11_dataset/images/val/4_frame_000475.jpg: ignoring corrupt image/label: labels require 5 columns, 6 columns detected\n",
            "\u001b[34m\u001b[1mval: \u001b[0m/content/drive/MyDrive/yolov11_test_cv/yolov11_dataset/images/val/4_frame_000575.jpg: ignoring corrupt image/label: labels require 5 columns, 6 columns detected\n",
            "\u001b[34m\u001b[1mval: \u001b[0m/content/drive/MyDrive/yolov11_test_cv/yolov11_dataset/images/val/4_frame_000800.jpg: ignoring corrupt image/label: labels require 5 columns, 6 columns detected\n",
            "\u001b[34m\u001b[1mval: \u001b[0m/content/drive/MyDrive/yolov11_test_cv/yolov11_dataset/images/val/4_frame_001025.jpg: ignoring corrupt image/label: labels require 5 columns, 6 columns detected\n",
            "\u001b[34m\u001b[1mval: \u001b[0m/content/drive/MyDrive/yolov11_test_cv/yolov11_dataset/images/val/4_frame_001075.jpg: ignoring corrupt image/label: labels require 5 columns, 6 columns detected\n",
            "\u001b[34m\u001b[1mval: \u001b[0m/content/drive/MyDrive/yolov11_test_cv/yolov11_dataset/images/val/4_frame_001125.jpg: ignoring corrupt image/label: labels require 5 columns, 6 columns detected\n",
            "\u001b[34m\u001b[1mval: \u001b[0m/content/drive/MyDrive/yolov11_test_cv/yolov11_dataset/images/val/4_frame_001150.jpg: ignoring corrupt image/label: labels require 5 columns, 6 columns detected\n",
            "\u001b[34m\u001b[1mval: \u001b[0m/content/drive/MyDrive/yolov11_test_cv/yolov11_dataset/images/val/4_frame_001375.jpg: ignoring corrupt image/label: labels require 5 columns, 6 columns detected\n",
            "\u001b[34m\u001b[1mval: \u001b[0m/content/drive/MyDrive/yolov11_test_cv/yolov11_dataset/images/val/4_frame_001525.jpg: ignoring corrupt image/label: labels require 5 columns, 6 columns detected\n",
            "\u001b[34m\u001b[1mval: \u001b[0m/content/drive/MyDrive/yolov11_test_cv/yolov11_dataset/images/val/4_frame_001675.jpg: ignoring corrupt image/label: labels require 5 columns, 6 columns detected\n",
            "\u001b[34m\u001b[1mval: \u001b[0m/content/drive/MyDrive/yolov11_test_cv/yolov11_dataset/images/val/4_frame_001850.jpg: ignoring corrupt image/label: labels require 5 columns, 6 columns detected\n",
            "\u001b[34m\u001b[1mval: \u001b[0m/content/drive/MyDrive/yolov11_test_cv/yolov11_dataset/images/val/4_frame_001875.jpg: ignoring corrupt image/label: labels require 5 columns, 6 columns detected\n",
            "\u001b[34m\u001b[1mval: \u001b[0m/content/drive/MyDrive/yolov11_test_cv/yolov11_dataset/images/val/4_frame_001896.jpg: ignoring corrupt image/label: labels require 5 columns, 6 columns detected\n",
            "\u001b[34m\u001b[1mval: \u001b[0m/content/drive/MyDrive/yolov11_test_cv/yolov11_dataset/images/val/4_frame_001950.jpg: ignoring corrupt image/label: labels require 5 columns, 6 columns detected\n",
            "\u001b[34m\u001b[1mval: \u001b[0m/content/drive/MyDrive/yolov11_test_cv/yolov11_dataset/images/val/4_frame_001975.jpg: ignoring corrupt image/label: labels require 5 columns, 6 columns detected\n",
            "\u001b[34m\u001b[1mval: \u001b[0m/content/drive/MyDrive/yolov11_test_cv/yolov11_dataset/images/val/4_frame_002025.jpg: ignoring corrupt image/label: labels require 5 columns, 6 columns detected\n",
            "Plotting labels to runs/train/yolov11-exp_opt_3/labels.jpg... \n"
          ]
        },
        {
          "metadata": {
            "tags": null
          },
          "name": "stderr",
          "output_type": "stream",
          "text": [
            "\n",
            "/usr/local/lib/python3.11/dist-packages/torch/utils/data/dataloader.py:665: UserWarning: 'pin_memory' argument is set as true but no accelerator is found, then device pinned memory won't be used.\n",
            "  warnings.warn(warn_msg)\n"
          ]
        },
        {
          "metadata": {
            "tags": null
          },
          "name": "stdout",
          "output_type": "stream",
          "text": [
            "\u001b[34m\u001b[1moptimizer:\u001b[0m 'optimizer=auto' found, ignoring 'lr0=0.01' and 'momentum=0.937' and determining best 'optimizer', 'lr0' and 'momentum' automatically... \n",
            "\u001b[34m\u001b[1moptimizer:\u001b[0m AdamW(lr=0.000833, momentum=0.9) with parameter groups 57 weight(decay=0.0), 64 weight(decay=0.001), 63 bias(decay=0.0)\n",
            "Image sizes 512 train, 512 val\n",
            "Using 0 dataloader workers\n",
            "Logging results to \u001b[1mruns/train/yolov11-exp_opt_3\u001b[0m\n",
            "Starting training for 2 epochs...\n",
            "\n",
            "      Epoch    GPU_mem   box_loss   cls_loss   dfl_loss  Instances       Size\n"
          ]
        },
        {
          "metadata": {
            "tags": null
          },
          "name": "stderr",
          "output_type": "stream",
          "text": [
            "        1/2         0G     0.4649     0.3092      0.857         52        512: 100%|██████████| 168/168 [31:32<00:00, 11.26s/it]\n",
            "                 Class     Images  Instances      Box(P          R      mAP50  mAP50-95): 100%|██████████| 2/2 [00:11<00:00,  5.89s/it]"
          ]
        },
        {
          "metadata": {
            "tags": null
          },
          "name": "stdout",
          "output_type": "stream",
          "text": [
            "                   all         32        202      0.995      0.991      0.991      0.851\n"
          ]
        },
        {
          "metadata": {
            "tags": null
          },
          "name": "stderr",
          "output_type": "stream",
          "text": [
            "\n"
          ]
        },
        {
          "metadata": {
            "tags": null
          },
          "name": "stdout",
          "output_type": "stream",
          "text": [
            "\n",
            "      Epoch    GPU_mem   box_loss   cls_loss   dfl_loss  Instances       Size\n"
          ]
        },
        {
          "output_type": "stream",
          "name": "stderr",
          "text": [
            "        2/2         0G     0.4699      0.307     0.8589         35        512: 100%|██████████| 168/168 [31:27<00:00, 11.24s/it]\n",
            "                 Class     Images  Instances      Box(P          R      mAP50  mAP50-95): 100%|██████████| 2/2 [00:11<00:00,  5.54s/it]"
          ]
        },
        {
          "output_type": "stream",
          "name": "stdout",
          "text": [
            "                   all         32        202      0.995      0.991      0.992      0.861\n"
          ]
        },
        {
          "output_type": "stream",
          "name": "stderr",
          "text": [
            "\n"
          ]
        },
        {
          "output_type": "stream",
          "name": "stdout",
          "text": [
            "\n",
            "2 epochs completed in 1.057 hours.\n",
            "Optimizer stripped from runs/train/yolov11-exp_opt_3/weights/last.pt, 22.5MB\n",
            "Optimizer stripped from runs/train/yolov11-exp_opt_3/weights/best.pt, 22.5MB\n",
            "\n",
            "Validating runs/train/yolov11-exp_opt_3/weights/best.pt...\n",
            "Ultralytics 8.3.162 🚀 Python-3.11.13 torch-2.7.1+cu118 CPU (Intel Xeon 2.20GHz)\n",
            "Model summary (fused): 72 layers, 11,128,680 parameters, 0 gradients, 28.5 GFLOPs\n"
          ]
        },
        {
          "output_type": "stream",
          "name": "stderr",
          "text": [
            "                 Class     Images  Instances      Box(P          R      mAP50  mAP50-95): 100%|██████████| 2/2 [00:10<00:00,  5.49s/it]\n"
          ]
        },
        {
          "output_type": "stream",
          "name": "stdout",
          "text": [
            "                   all         32        202      0.995      0.991      0.992      0.861\n",
            "                   cup         32         87          1      0.978      0.995      0.829\n",
            "                  meat         15         15      0.991          1      0.995      0.852\n",
            "                 salad         15         30      0.996          1      0.995      0.831\n",
            "                  dish         27         27      0.993          1      0.995       0.91\n",
            "                 plate         14         43      0.997      0.977       0.98      0.883\n",
            "Speed: 0.9ms preprocess, 261.5ms inference, 0.0ms loss, 0.5ms postprocess per image\n",
            "Results saved to \u001b[1mruns/train/yolov11-exp_opt_3\u001b[0m\n",
            "\n",
            "Running validation...\n",
            "Ultralytics 8.3.162 🚀 Python-3.11.13 torch-2.7.1+cu118 CPU (Intel Xeon 2.20GHz)\n",
            "Model summary (fused): 72 layers, 11,128,680 parameters, 0 gradients, 28.5 GFLOPs\n",
            "WARNING ⚠️ \u001b[34m\u001b[1mval: \u001b[0mSlow image access detected (ping: 12.9±27.5 ms, read: 63.2±43.4 MB/s, size: 2107.8 KB). Use local storage instead of remote/mounted storage for better performance. See https://docs.ultralytics.com/guides/model-training-tips/\n"
          ]
        },
        {
          "output_type": "stream",
          "name": "stderr",
          "text": [
            "\u001b[34m\u001b[1mval: \u001b[0mScanning /content/drive/MyDrive/yolov11_test_cv/yolov11_dataset/labels/val.cache... 125 images, 0 backgrounds, 93 corrupt: 100%|██████████| 125/125 [00:00<?, ?it/s]"
          ]
        },
        {
          "output_type": "stream",
          "name": "stdout",
          "text": [
            "\u001b[34m\u001b[1mval: \u001b[0m/content/drive/MyDrive/yolov11_test_cv/yolov11_dataset/images/val/1_frame_000058.jpg: ignoring corrupt image/label: labels require 5 columns, 6 columns detected\n",
            "\u001b[34m\u001b[1mval: \u001b[0m/content/drive/MyDrive/yolov11_test_cv/yolov11_dataset/images/val/1_frame_000071.jpg: ignoring corrupt image/label: labels require 5 columns, 6 columns detected\n",
            "\u001b[34m\u001b[1mval: \u001b[0m/content/drive/MyDrive/yolov11_test_cv/yolov11_dataset/images/val/1_frame_000178.jpg: ignoring corrupt image/label: labels require 5 columns, 6 columns detected\n",
            "\u001b[34m\u001b[1mval: \u001b[0m/content/drive/MyDrive/yolov11_test_cv/yolov11_dataset/images/val/2_1_frame_000297.jpg: ignoring corrupt image/label: labels require 5 columns, 6 columns detected\n",
            "\u001b[34m\u001b[1mval: \u001b[0m/content/drive/MyDrive/yolov11_test_cv/yolov11_dataset/images/val/2_1_frame_000594.jpg: ignoring corrupt image/label: labels require 5 columns, 6 columns detected\n",
            "\u001b[34m\u001b[1mval: \u001b[0m/content/drive/MyDrive/yolov11_test_cv/yolov11_dataset/images/val/2_1_frame_001404.jpg: ignoring corrupt image/label: labels require 5 columns, 6 columns detected\n",
            "\u001b[34m\u001b[1mval: \u001b[0m/content/drive/MyDrive/yolov11_test_cv/yolov11_dataset/images/val/2_1_frame_001458.jpg: ignoring corrupt image/label: labels require 5 columns, 6 columns detected\n",
            "\u001b[34m\u001b[1mval: \u001b[0m/content/drive/MyDrive/yolov11_test_cv/yolov11_dataset/images/val/3_1_frame_000050.jpg: ignoring corrupt image/label: labels require 5 columns, 6 columns detected\n",
            "\u001b[34m\u001b[1mval: \u001b[0m/content/drive/MyDrive/yolov11_test_cv/yolov11_dataset/images/val/3_1_frame_000108.jpg: ignoring corrupt image/label: labels require 5 columns, 6 columns detected\n",
            "\u001b[34m\u001b[1mval: \u001b[0m/content/drive/MyDrive/yolov11_test_cv/yolov11_dataset/images/val/3_1_frame_000144.jpg: ignoring corrupt image/label: labels require 5 columns, 6 columns detected\n",
            "\u001b[34m\u001b[1mval: \u001b[0m/content/drive/MyDrive/yolov11_test_cv/yolov11_dataset/images/val/3_1_frame_000372.jpg: ignoring corrupt image/label: labels require 5 columns, 6 columns detected\n",
            "\u001b[34m\u001b[1mval: \u001b[0m/content/drive/MyDrive/yolov11_test_cv/yolov11_dataset/images/val/3_1_frame_000408.jpg: ignoring corrupt image/label: labels require 5 columns, 6 columns detected\n",
            "\u001b[34m\u001b[1mval: \u001b[0m/content/drive/MyDrive/yolov11_test_cv/yolov11_dataset/images/val/3_1_frame_000444.jpg: ignoring corrupt image/label: labels require 5 columns, 6 columns detected\n",
            "\u001b[34m\u001b[1mval: \u001b[0m/content/drive/MyDrive/yolov11_test_cv/yolov11_dataset/images/val/3_1_frame_000525.jpg: ignoring corrupt image/label: labels require 5 columns, 6 columns detected\n",
            "\u001b[34m\u001b[1mval: \u001b[0m/content/drive/MyDrive/yolov11_test_cv/yolov11_dataset/images/val/3_1_frame_000528.jpg: ignoring corrupt image/label: labels require 5 columns, 6 columns detected\n",
            "\u001b[34m\u001b[1mval: \u001b[0m/content/drive/MyDrive/yolov11_test_cv/yolov11_dataset/images/val/3_1_frame_000552.jpg: ignoring corrupt image/label: labels require 5 columns, 6 columns detected\n",
            "\u001b[34m\u001b[1mval: \u001b[0m/content/drive/MyDrive/yolov11_test_cv/yolov11_dataset/images/val/3_1_frame_000600.jpg: ignoring corrupt image/label: labels require 5 columns, 6 columns detected\n",
            "\u001b[34m\u001b[1mval: \u001b[0m/content/drive/MyDrive/yolov11_test_cv/yolov11_dataset/images/val/3_1_frame_000624.jpg: ignoring corrupt image/label: labels require 5 columns, 6 columns detected\n",
            "\u001b[34m\u001b[1mval: \u001b[0m/content/drive/MyDrive/yolov11_test_cv/yolov11_dataset/images/val/3_1_frame_000625.jpg: ignoring corrupt image/label: labels require 5 columns, 6 columns detected\n",
            "\u001b[34m\u001b[1mval: \u001b[0m/content/drive/MyDrive/yolov11_test_cv/yolov11_dataset/images/val/3_1_frame_000660.jpg: ignoring corrupt image/label: labels require 5 columns, 6 columns detected\n",
            "\u001b[34m\u001b[1mval: \u001b[0m/content/drive/MyDrive/yolov11_test_cv/yolov11_dataset/images/val/3_1_frame_000780.jpg: ignoring corrupt image/label: labels require 5 columns, 6 columns detected\n",
            "\u001b[34m\u001b[1mval: \u001b[0m/content/drive/MyDrive/yolov11_test_cv/yolov11_dataset/images/val/3_1_frame_000792.jpg: ignoring corrupt image/label: labels require 5 columns, 6 columns detected\n",
            "\u001b[34m\u001b[1mval: \u001b[0m/content/drive/MyDrive/yolov11_test_cv/yolov11_dataset/images/val/3_1_frame_000840.jpg: ignoring corrupt image/label: labels require 5 columns, 6 columns detected\n",
            "\u001b[34m\u001b[1mval: \u001b[0m/content/drive/MyDrive/yolov11_test_cv/yolov11_dataset/images/val/3_1_frame_000864.jpg: ignoring corrupt image/label: labels require 5 columns, 6 columns detected\n",
            "\u001b[34m\u001b[1mval: \u001b[0m/content/drive/MyDrive/yolov11_test_cv/yolov11_dataset/images/val/3_1_frame_000888.jpg: ignoring corrupt image/label: labels require 5 columns, 6 columns detected\n",
            "\u001b[34m\u001b[1mval: \u001b[0m/content/drive/MyDrive/yolov11_test_cv/yolov11_dataset/images/val/3_1_frame_001025.jpg: ignoring corrupt image/label: labels require 5 columns, 6 columns detected\n",
            "\u001b[34m\u001b[1mval: \u001b[0m/content/drive/MyDrive/yolov11_test_cv/yolov11_dataset/images/val/3_1_frame_001075.jpg: ignoring corrupt image/label: labels require 5 columns, 6 columns detected\n",
            "\u001b[34m\u001b[1mval: \u001b[0m/content/drive/MyDrive/yolov11_test_cv/yolov11_dataset/images/val/3_1_frame_001224.jpg: ignoring corrupt image/label: labels require 5 columns, 6 columns detected\n",
            "\u001b[34m\u001b[1mval: \u001b[0m/content/drive/MyDrive/yolov11_test_cv/yolov11_dataset/images/val/3_1_frame_001236.jpg: ignoring corrupt image/label: labels require 5 columns, 6 columns detected\n",
            "\u001b[34m\u001b[1mval: \u001b[0m/content/drive/MyDrive/yolov11_test_cv/yolov11_dataset/images/val/3_1_frame_001248.jpg: ignoring corrupt image/label: labels require 5 columns, 6 columns detected\n",
            "\u001b[34m\u001b[1mval: \u001b[0m/content/drive/MyDrive/yolov11_test_cv/yolov11_dataset/images/val/3_1_frame_001320.jpg: ignoring corrupt image/label: labels require 5 columns, 6 columns detected\n",
            "\u001b[34m\u001b[1mval: \u001b[0m/content/drive/MyDrive/yolov11_test_cv/yolov11_dataset/images/val/3_1_frame_001325.jpg: ignoring corrupt image/label: labels require 5 columns, 6 columns detected\n",
            "\u001b[34m\u001b[1mval: \u001b[0m/content/drive/MyDrive/yolov11_test_cv/yolov11_dataset/images/val/3_1_frame_001404.jpg: ignoring corrupt image/label: labels require 5 columns, 6 columns detected\n",
            "\u001b[34m\u001b[1mval: \u001b[0m/content/drive/MyDrive/yolov11_test_cv/yolov11_dataset/images/val/3_1_frame_001416.jpg: ignoring corrupt image/label: labels require 5 columns, 6 columns detected\n",
            "\u001b[34m\u001b[1mval: \u001b[0m/content/drive/MyDrive/yolov11_test_cv/yolov11_dataset/images/val/3_1_frame_001525.jpg: ignoring corrupt image/label: labels require 5 columns, 6 columns detected\n",
            "\u001b[34m\u001b[1mval: \u001b[0m/content/drive/MyDrive/yolov11_test_cv/yolov11_dataset/images/val/3_1_frame_001536.jpg: ignoring corrupt image/label: labels require 5 columns, 6 columns detected\n",
            "\u001b[34m\u001b[1mval: \u001b[0m/content/drive/MyDrive/yolov11_test_cv/yolov11_dataset/images/val/3_1_frame_001560.jpg: ignoring corrupt image/label: labels require 5 columns, 6 columns detected\n",
            "\u001b[34m\u001b[1mval: \u001b[0m/content/drive/MyDrive/yolov11_test_cv/yolov11_dataset/images/val/3_1_frame_001575.jpg: ignoring corrupt image/label: labels require 5 columns, 6 columns detected\n",
            "\u001b[34m\u001b[1mval: \u001b[0m/content/drive/MyDrive/yolov11_test_cv/yolov11_dataset/images/val/3_1_frame_001680.jpg: ignoring corrupt image/label: labels require 5 columns, 6 columns detected\n",
            "\u001b[34m\u001b[1mval: \u001b[0m/content/drive/MyDrive/yolov11_test_cv/yolov11_dataset/images/val/3_1_frame_001825.jpg: ignoring corrupt image/label: labels require 5 columns, 6 columns detected\n",
            "\u001b[34m\u001b[1mval: \u001b[0m/content/drive/MyDrive/yolov11_test_cv/yolov11_dataset/images/val/3_1_frame_001896.jpg: ignoring corrupt image/label: labels require 5 columns, 6 columns detected\n",
            "\u001b[34m\u001b[1mval: \u001b[0m/content/drive/MyDrive/yolov11_test_cv/yolov11_dataset/images/val/3_1_frame_001950.jpg: ignoring corrupt image/label: labels require 5 columns, 6 columns detected\n",
            "\u001b[34m\u001b[1mval: \u001b[0m/content/drive/MyDrive/yolov11_test_cv/yolov11_dataset/images/val/3_1_frame_001992.jpg: ignoring corrupt image/label: labels require 5 columns, 6 columns detected\n",
            "\u001b[34m\u001b[1mval: \u001b[0m/content/drive/MyDrive/yolov11_test_cv/yolov11_dataset/images/val/3_1_frame_002076.jpg: ignoring corrupt image/label: labels require 5 columns, 6 columns detected\n",
            "\u001b[34m\u001b[1mval: \u001b[0m/content/drive/MyDrive/yolov11_test_cv/yolov11_dataset/images/val/3_1_frame_002175.jpg: ignoring corrupt image/label: labels require 5 columns, 6 columns detected\n",
            "\u001b[34m\u001b[1mval: \u001b[0m/content/drive/MyDrive/yolov11_test_cv/yolov11_dataset/images/val/3_1_frame_002200.jpg: ignoring corrupt image/label: labels require 5 columns, 6 columns detected\n",
            "\u001b[34m\u001b[1mval: \u001b[0m/content/drive/MyDrive/yolov11_test_cv/yolov11_dataset/images/val/3_1_frame_002275.jpg: ignoring corrupt image/label: labels require 5 columns, 6 columns detected\n",
            "\u001b[34m\u001b[1mval: \u001b[0m/content/drive/MyDrive/yolov11_test_cv/yolov11_dataset/images/val/3_1_frame_002304.jpg: ignoring corrupt image/label: labels require 5 columns, 6 columns detected\n",
            "\u001b[34m\u001b[1mval: \u001b[0m/content/drive/MyDrive/yolov11_test_cv/yolov11_dataset/images/val/3_1_frame_002364.jpg: ignoring corrupt image/label: labels require 5 columns, 6 columns detected\n",
            "\u001b[34m\u001b[1mval: \u001b[0m/content/drive/MyDrive/yolov11_test_cv/yolov11_dataset/images/val/3_1_frame_002376.jpg: ignoring corrupt image/label: labels require 5 columns, 6 columns detected\n",
            "\u001b[34m\u001b[1mval: \u001b[0m/content/drive/MyDrive/yolov11_test_cv/yolov11_dataset/images/val/3_1_frame_002412.jpg: ignoring corrupt image/label: labels require 5 columns, 6 columns detected\n",
            "\u001b[34m\u001b[1mval: \u001b[0m/content/drive/MyDrive/yolov11_test_cv/yolov11_dataset/images/val/3_1_frame_002425.jpg: ignoring corrupt image/label: labels require 5 columns, 6 columns detected\n",
            "\u001b[34m\u001b[1mval: \u001b[0m/content/drive/MyDrive/yolov11_test_cv/yolov11_dataset/images/val/3_1_frame_002448.jpg: ignoring corrupt image/label: labels require 5 columns, 6 columns detected\n",
            "\u001b[34m\u001b[1mval: \u001b[0m/content/drive/MyDrive/yolov11_test_cv/yolov11_dataset/images/val/3_1_frame_002532.jpg: ignoring corrupt image/label: labels require 5 columns, 6 columns detected\n",
            "\u001b[34m\u001b[1mval: \u001b[0m/content/drive/MyDrive/yolov11_test_cv/yolov11_dataset/images/val/3_1_frame_002568.jpg: ignoring corrupt image/label: labels require 5 columns, 6 columns detected\n",
            "\u001b[34m\u001b[1mval: \u001b[0m/content/drive/MyDrive/yolov11_test_cv/yolov11_dataset/images/val/3_1_frame_002616.jpg: ignoring corrupt image/label: labels require 5 columns, 6 columns detected\n",
            "\u001b[34m\u001b[1mval: \u001b[0m/content/drive/MyDrive/yolov11_test_cv/yolov11_dataset/images/val/3_1_frame_002640.jpg: ignoring corrupt image/label: labels require 5 columns, 6 columns detected\n",
            "\u001b[34m\u001b[1mval: \u001b[0m/content/drive/MyDrive/yolov11_test_cv/yolov11_dataset/images/val/3_1_frame_002725.jpg: ignoring corrupt image/label: labels require 5 columns, 6 columns detected\n",
            "\u001b[34m\u001b[1mval: \u001b[0m/content/drive/MyDrive/yolov11_test_cv/yolov11_dataset/images/val/3_1_frame_002832.jpg: ignoring corrupt image/label: labels require 5 columns, 6 columns detected\n",
            "\u001b[34m\u001b[1mval: \u001b[0m/content/drive/MyDrive/yolov11_test_cv/yolov11_dataset/images/val/3_1_frame_002880.jpg: ignoring corrupt image/label: labels require 5 columns, 6 columns detected\n",
            "\u001b[34m\u001b[1mval: \u001b[0m/content/drive/MyDrive/yolov11_test_cv/yolov11_dataset/images/val/3_1_frame_002892.jpg: ignoring corrupt image/label: labels require 5 columns, 6 columns detected\n",
            "\u001b[34m\u001b[1mval: \u001b[0m/content/drive/MyDrive/yolov11_test_cv/yolov11_dataset/images/val/3_1_frame_002904.jpg: ignoring corrupt image/label: labels require 5 columns, 6 columns detected\n",
            "\u001b[34m\u001b[1mval: \u001b[0m/content/drive/MyDrive/yolov11_test_cv/yolov11_dataset/images/val/3_1_frame_002940.jpg: ignoring corrupt image/label: labels require 5 columns, 6 columns detected\n",
            "\u001b[34m\u001b[1mval: \u001b[0m/content/drive/MyDrive/yolov11_test_cv/yolov11_dataset/images/val/3_1_frame_002952.jpg: ignoring corrupt image/label: labels require 5 columns, 6 columns detected\n",
            "\u001b[34m\u001b[1mval: \u001b[0m/content/drive/MyDrive/yolov11_test_cv/yolov11_dataset/images/val/3_2_frame_000918.jpg: ignoring corrupt image/label: labels require 5 columns, 6 columns detected\n",
            "\u001b[34m\u001b[1mval: \u001b[0m/content/drive/MyDrive/yolov11_test_cv/yolov11_dataset/images/val/3_2_frame_000972.jpg: ignoring corrupt image/label: labels require 5 columns, 6 columns detected\n",
            "\u001b[34m\u001b[1mval: \u001b[0m/content/drive/MyDrive/yolov11_test_cv/yolov11_dataset/images/val/3_2_frame_001053.jpg: ignoring corrupt image/label: labels require 5 columns, 6 columns detected\n",
            "\u001b[34m\u001b[1mval: \u001b[0m/content/drive/MyDrive/yolov11_test_cv/yolov11_dataset/images/val/4_1_frame_000297.jpg: ignoring corrupt image/label: labels require 5 columns, 6 columns detected\n",
            "\u001b[34m\u001b[1mval: \u001b[0m/content/drive/MyDrive/yolov11_test_cv/yolov11_dataset/images/val/4_1_frame_000324.jpg: ignoring corrupt image/label: labels require 5 columns, 6 columns detected\n",
            "\u001b[34m\u001b[1mval: \u001b[0m/content/drive/MyDrive/yolov11_test_cv/yolov11_dataset/images/val/4_1_frame_000351.jpg: ignoring corrupt image/label: labels require 5 columns, 6 columns detected\n",
            "\u001b[34m\u001b[1mval: \u001b[0m/content/drive/MyDrive/yolov11_test_cv/yolov11_dataset/images/val/4_1_frame_000432.jpg: ignoring corrupt image/label: labels require 5 columns, 6 columns detected\n",
            "\u001b[34m\u001b[1mval: \u001b[0m/content/drive/MyDrive/yolov11_test_cv/yolov11_dataset/images/val/4_1_frame_000918.jpg: ignoring corrupt image/label: labels require 5 columns, 6 columns detected\n",
            "\u001b[34m\u001b[1mval: \u001b[0m/content/drive/MyDrive/yolov11_test_cv/yolov11_dataset/images/val/4_frame_000025.jpg: ignoring corrupt image/label: labels require 5 columns, 6 columns detected\n",
            "\u001b[34m\u001b[1mval: \u001b[0m/content/drive/MyDrive/yolov11_test_cv/yolov11_dataset/images/val/4_frame_000228.jpg: ignoring corrupt image/label: labels require 5 columns, 6 columns detected\n",
            "\u001b[34m\u001b[1mval: \u001b[0m/content/drive/MyDrive/yolov11_test_cv/yolov11_dataset/images/val/4_frame_000300.jpg: ignoring corrupt image/label: labels require 5 columns, 6 columns detected\n",
            "\u001b[34m\u001b[1mval: \u001b[0m/content/drive/MyDrive/yolov11_test_cv/yolov11_dataset/images/val/4_frame_000324.jpg: ignoring corrupt image/label: labels require 5 columns, 6 columns detected\n",
            "\u001b[34m\u001b[1mval: \u001b[0m/content/drive/MyDrive/yolov11_test_cv/yolov11_dataset/images/val/4_frame_000450.jpg: ignoring corrupt image/label: labels require 5 columns, 6 columns detected\n",
            "\u001b[34m\u001b[1mval: \u001b[0m/content/drive/MyDrive/yolov11_test_cv/yolov11_dataset/images/val/4_frame_000475.jpg: ignoring corrupt image/label: labels require 5 columns, 6 columns detected\n",
            "\u001b[34m\u001b[1mval: \u001b[0m/content/drive/MyDrive/yolov11_test_cv/yolov11_dataset/images/val/4_frame_000575.jpg: ignoring corrupt image/label: labels require 5 columns, 6 columns detected\n",
            "\u001b[34m\u001b[1mval: \u001b[0m/content/drive/MyDrive/yolov11_test_cv/yolov11_dataset/images/val/4_frame_000800.jpg: ignoring corrupt image/label: labels require 5 columns, 6 columns detected\n",
            "\u001b[34m\u001b[1mval: \u001b[0m/content/drive/MyDrive/yolov11_test_cv/yolov11_dataset/images/val/4_frame_001025.jpg: ignoring corrupt image/label: labels require 5 columns, 6 columns detected\n",
            "\u001b[34m\u001b[1mval: \u001b[0m/content/drive/MyDrive/yolov11_test_cv/yolov11_dataset/images/val/4_frame_001075.jpg: ignoring corrupt image/label: labels require 5 columns, 6 columns detected\n",
            "\u001b[34m\u001b[1mval: \u001b[0m/content/drive/MyDrive/yolov11_test_cv/yolov11_dataset/images/val/4_frame_001125.jpg: ignoring corrupt image/label: labels require 5 columns, 6 columns detected\n",
            "\u001b[34m\u001b[1mval: \u001b[0m/content/drive/MyDrive/yolov11_test_cv/yolov11_dataset/images/val/4_frame_001150.jpg: ignoring corrupt image/label: labels require 5 columns, 6 columns detected\n",
            "\u001b[34m\u001b[1mval: \u001b[0m/content/drive/MyDrive/yolov11_test_cv/yolov11_dataset/images/val/4_frame_001375.jpg: ignoring corrupt image/label: labels require 5 columns, 6 columns detected\n",
            "\u001b[34m\u001b[1mval: \u001b[0m/content/drive/MyDrive/yolov11_test_cv/yolov11_dataset/images/val/4_frame_001525.jpg: ignoring corrupt image/label: labels require 5 columns, 6 columns detected\n",
            "\u001b[34m\u001b[1mval: \u001b[0m/content/drive/MyDrive/yolov11_test_cv/yolov11_dataset/images/val/4_frame_001675.jpg: ignoring corrupt image/label: labels require 5 columns, 6 columns detected\n",
            "\u001b[34m\u001b[1mval: \u001b[0m/content/drive/MyDrive/yolov11_test_cv/yolov11_dataset/images/val/4_frame_001850.jpg: ignoring corrupt image/label: labels require 5 columns, 6 columns detected\n",
            "\u001b[34m\u001b[1mval: \u001b[0m/content/drive/MyDrive/yolov11_test_cv/yolov11_dataset/images/val/4_frame_001875.jpg: ignoring corrupt image/label: labels require 5 columns, 6 columns detected\n",
            "\u001b[34m\u001b[1mval: \u001b[0m/content/drive/MyDrive/yolov11_test_cv/yolov11_dataset/images/val/4_frame_001896.jpg: ignoring corrupt image/label: labels require 5 columns, 6 columns detected\n",
            "\u001b[34m\u001b[1mval: \u001b[0m/content/drive/MyDrive/yolov11_test_cv/yolov11_dataset/images/val/4_frame_001950.jpg: ignoring corrupt image/label: labels require 5 columns, 6 columns detected\n",
            "\u001b[34m\u001b[1mval: \u001b[0m/content/drive/MyDrive/yolov11_test_cv/yolov11_dataset/images/val/4_frame_001975.jpg: ignoring corrupt image/label: labels require 5 columns, 6 columns detected\n",
            "\u001b[34m\u001b[1mval: \u001b[0m/content/drive/MyDrive/yolov11_test_cv/yolov11_dataset/images/val/4_frame_002025.jpg: ignoring corrupt image/label: labels require 5 columns, 6 columns detected\n"
          ]
        },
        {
          "output_type": "stream",
          "name": "stderr",
          "text": [
            "\n",
            "/usr/local/lib/python3.11/dist-packages/torch/utils/data/dataloader.py:665: UserWarning: 'pin_memory' argument is set as true but no accelerator is found, then device pinned memory won't be used.\n",
            "  warnings.warn(warn_msg)\n",
            "                 Class     Images  Instances      Box(P          R      mAP50  mAP50-95): 100%|██████████| 4/4 [00:09<00:00,  2.47s/it]\n"
          ]
        },
        {
          "output_type": "stream",
          "name": "stdout",
          "text": [
            "                   all         32        202      0.995      0.991      0.992      0.861\n",
            "                   cup         32         87          1      0.978      0.995      0.829\n",
            "                  meat         15         15      0.991          1      0.995      0.852\n",
            "                 salad         15         30      0.996          1      0.995      0.831\n",
            "                  dish         27         27      0.993          1      0.995       0.91\n",
            "                 plate         14         43      0.997      0.977       0.98      0.883\n",
            "Speed: 0.7ms preprocess, 222.1ms inference, 0.0ms loss, 0.6ms postprocess per image\n",
            "Results saved to \u001b[1mruns/detect/val2\u001b[0m\n",
            "\n",
            "Validation Results:\n",
            "mAP50: 0.9920\n",
            "mAP50-95: 0.8612\n",
            "Validation error: unsupported format string passed to numpy.ndarray.__format__\n",
            "Iteration 2 failed: 'NoneType' object is not subscriptable\n",
            "\n",
            "Best mAP50-95: 0.0000\n",
            "Best parameters: None\n",
            "\n",
            "3. Generating report...\n",
            "\n",
            "Running validation...\n",
            "Ultralytics 8.3.162 🚀 Python-3.11.13 torch-2.7.1+cu118 CPU (Intel Xeon 2.20GHz)\n",
            "Model summary (fused): 72 layers, 11,128,680 parameters, 0 gradients, 28.5 GFLOPs\n",
            "\u001b[34m\u001b[1mval: \u001b[0mFast image access ✅ (ping: 0.6±0.2 ms, read: 199.5±88.1 MB/s, size: 2092.5 KB)\n"
          ]
        },
        {
          "output_type": "stream",
          "name": "stderr",
          "text": [
            "\u001b[34m\u001b[1mval: \u001b[0mScanning /content/drive/MyDrive/yolov11_test_cv/yolov11_dataset/labels/val.cache... 125 images, 0 backgrounds, 93 corrupt: 100%|██████████| 125/125 [00:00<?, ?it/s]"
          ]
        },
        {
          "output_type": "stream",
          "name": "stdout",
          "text": [
            "\u001b[34m\u001b[1mval: \u001b[0m/content/drive/MyDrive/yolov11_test_cv/yolov11_dataset/images/val/1_frame_000058.jpg: ignoring corrupt image/label: labels require 5 columns, 6 columns detected\n",
            "\u001b[34m\u001b[1mval: \u001b[0m/content/drive/MyDrive/yolov11_test_cv/yolov11_dataset/images/val/1_frame_000071.jpg: ignoring corrupt image/label: labels require 5 columns, 6 columns detected\n",
            "\u001b[34m\u001b[1mval: \u001b[0m/content/drive/MyDrive/yolov11_test_cv/yolov11_dataset/images/val/1_frame_000178.jpg: ignoring corrupt image/label: labels require 5 columns, 6 columns detected\n",
            "\u001b[34m\u001b[1mval: \u001b[0m/content/drive/MyDrive/yolov11_test_cv/yolov11_dataset/images/val/2_1_frame_000297.jpg: ignoring corrupt image/label: labels require 5 columns, 6 columns detected\n",
            "\u001b[34m\u001b[1mval: \u001b[0m/content/drive/MyDrive/yolov11_test_cv/yolov11_dataset/images/val/2_1_frame_000594.jpg: ignoring corrupt image/label: labels require 5 columns, 6 columns detected\n",
            "\u001b[34m\u001b[1mval: \u001b[0m/content/drive/MyDrive/yolov11_test_cv/yolov11_dataset/images/val/2_1_frame_001404.jpg: ignoring corrupt image/label: labels require 5 columns, 6 columns detected\n",
            "\u001b[34m\u001b[1mval: \u001b[0m/content/drive/MyDrive/yolov11_test_cv/yolov11_dataset/images/val/2_1_frame_001458.jpg: ignoring corrupt image/label: labels require 5 columns, 6 columns detected\n",
            "\u001b[34m\u001b[1mval: \u001b[0m/content/drive/MyDrive/yolov11_test_cv/yolov11_dataset/images/val/3_1_frame_000050.jpg: ignoring corrupt image/label: labels require 5 columns, 6 columns detected\n",
            "\u001b[34m\u001b[1mval: \u001b[0m/content/drive/MyDrive/yolov11_test_cv/yolov11_dataset/images/val/3_1_frame_000108.jpg: ignoring corrupt image/label: labels require 5 columns, 6 columns detected\n",
            "\u001b[34m\u001b[1mval: \u001b[0m/content/drive/MyDrive/yolov11_test_cv/yolov11_dataset/images/val/3_1_frame_000144.jpg: ignoring corrupt image/label: labels require 5 columns, 6 columns detected\n",
            "\u001b[34m\u001b[1mval: \u001b[0m/content/drive/MyDrive/yolov11_test_cv/yolov11_dataset/images/val/3_1_frame_000372.jpg: ignoring corrupt image/label: labels require 5 columns, 6 columns detected\n",
            "\u001b[34m\u001b[1mval: \u001b[0m/content/drive/MyDrive/yolov11_test_cv/yolov11_dataset/images/val/3_1_frame_000408.jpg: ignoring corrupt image/label: labels require 5 columns, 6 columns detected\n",
            "\u001b[34m\u001b[1mval: \u001b[0m/content/drive/MyDrive/yolov11_test_cv/yolov11_dataset/images/val/3_1_frame_000444.jpg: ignoring corrupt image/label: labels require 5 columns, 6 columns detected\n",
            "\u001b[34m\u001b[1mval: \u001b[0m/content/drive/MyDrive/yolov11_test_cv/yolov11_dataset/images/val/3_1_frame_000525.jpg: ignoring corrupt image/label: labels require 5 columns, 6 columns detected\n",
            "\u001b[34m\u001b[1mval: \u001b[0m/content/drive/MyDrive/yolov11_test_cv/yolov11_dataset/images/val/3_1_frame_000528.jpg: ignoring corrupt image/label: labels require 5 columns, 6 columns detected\n",
            "\u001b[34m\u001b[1mval: \u001b[0m/content/drive/MyDrive/yolov11_test_cv/yolov11_dataset/images/val/3_1_frame_000552.jpg: ignoring corrupt image/label: labels require 5 columns, 6 columns detected\n",
            "\u001b[34m\u001b[1mval: \u001b[0m/content/drive/MyDrive/yolov11_test_cv/yolov11_dataset/images/val/3_1_frame_000600.jpg: ignoring corrupt image/label: labels require 5 columns, 6 columns detected\n",
            "\u001b[34m\u001b[1mval: \u001b[0m/content/drive/MyDrive/yolov11_test_cv/yolov11_dataset/images/val/3_1_frame_000624.jpg: ignoring corrupt image/label: labels require 5 columns, 6 columns detected\n",
            "\u001b[34m\u001b[1mval: \u001b[0m/content/drive/MyDrive/yolov11_test_cv/yolov11_dataset/images/val/3_1_frame_000625.jpg: ignoring corrupt image/label: labels require 5 columns, 6 columns detected\n",
            "\u001b[34m\u001b[1mval: \u001b[0m/content/drive/MyDrive/yolov11_test_cv/yolov11_dataset/images/val/3_1_frame_000660.jpg: ignoring corrupt image/label: labels require 5 columns, 6 columns detected\n",
            "\u001b[34m\u001b[1mval: \u001b[0m/content/drive/MyDrive/yolov11_test_cv/yolov11_dataset/images/val/3_1_frame_000780.jpg: ignoring corrupt image/label: labels require 5 columns, 6 columns detected\n",
            "\u001b[34m\u001b[1mval: \u001b[0m/content/drive/MyDrive/yolov11_test_cv/yolov11_dataset/images/val/3_1_frame_000792.jpg: ignoring corrupt image/label: labels require 5 columns, 6 columns detected\n",
            "\u001b[34m\u001b[1mval: \u001b[0m/content/drive/MyDrive/yolov11_test_cv/yolov11_dataset/images/val/3_1_frame_000840.jpg: ignoring corrupt image/label: labels require 5 columns, 6 columns detected\n",
            "\u001b[34m\u001b[1mval: \u001b[0m/content/drive/MyDrive/yolov11_test_cv/yolov11_dataset/images/val/3_1_frame_000864.jpg: ignoring corrupt image/label: labels require 5 columns, 6 columns detected\n",
            "\u001b[34m\u001b[1mval: \u001b[0m/content/drive/MyDrive/yolov11_test_cv/yolov11_dataset/images/val/3_1_frame_000888.jpg: ignoring corrupt image/label: labels require 5 columns, 6 columns detected\n",
            "\u001b[34m\u001b[1mval: \u001b[0m/content/drive/MyDrive/yolov11_test_cv/yolov11_dataset/images/val/3_1_frame_001025.jpg: ignoring corrupt image/label: labels require 5 columns, 6 columns detected\n",
            "\u001b[34m\u001b[1mval: \u001b[0m/content/drive/MyDrive/yolov11_test_cv/yolov11_dataset/images/val/3_1_frame_001075.jpg: ignoring corrupt image/label: labels require 5 columns, 6 columns detected\n",
            "\u001b[34m\u001b[1mval: \u001b[0m/content/drive/MyDrive/yolov11_test_cv/yolov11_dataset/images/val/3_1_frame_001224.jpg: ignoring corrupt image/label: labels require 5 columns, 6 columns detected\n",
            "\u001b[34m\u001b[1mval: \u001b[0m/content/drive/MyDrive/yolov11_test_cv/yolov11_dataset/images/val/3_1_frame_001236.jpg: ignoring corrupt image/label: labels require 5 columns, 6 columns detected\n",
            "\u001b[34m\u001b[1mval: \u001b[0m/content/drive/MyDrive/yolov11_test_cv/yolov11_dataset/images/val/3_1_frame_001248.jpg: ignoring corrupt image/label: labels require 5 columns, 6 columns detected\n",
            "\u001b[34m\u001b[1mval: \u001b[0m/content/drive/MyDrive/yolov11_test_cv/yolov11_dataset/images/val/3_1_frame_001320.jpg: ignoring corrupt image/label: labels require 5 columns, 6 columns detected\n",
            "\u001b[34m\u001b[1mval: \u001b[0m/content/drive/MyDrive/yolov11_test_cv/yolov11_dataset/images/val/3_1_frame_001325.jpg: ignoring corrupt image/label: labels require 5 columns, 6 columns detected\n",
            "\u001b[34m\u001b[1mval: \u001b[0m/content/drive/MyDrive/yolov11_test_cv/yolov11_dataset/images/val/3_1_frame_001404.jpg: ignoring corrupt image/label: labels require 5 columns, 6 columns detected\n",
            "\u001b[34m\u001b[1mval: \u001b[0m/content/drive/MyDrive/yolov11_test_cv/yolov11_dataset/images/val/3_1_frame_001416.jpg: ignoring corrupt image/label: labels require 5 columns, 6 columns detected\n",
            "\u001b[34m\u001b[1mval: \u001b[0m/content/drive/MyDrive/yolov11_test_cv/yolov11_dataset/images/val/3_1_frame_001525.jpg: ignoring corrupt image/label: labels require 5 columns, 6 columns detected\n",
            "\u001b[34m\u001b[1mval: \u001b[0m/content/drive/MyDrive/yolov11_test_cv/yolov11_dataset/images/val/3_1_frame_001536.jpg: ignoring corrupt image/label: labels require 5 columns, 6 columns detected\n",
            "\u001b[34m\u001b[1mval: \u001b[0m/content/drive/MyDrive/yolov11_test_cv/yolov11_dataset/images/val/3_1_frame_001560.jpg: ignoring corrupt image/label: labels require 5 columns, 6 columns detected\n",
            "\u001b[34m\u001b[1mval: \u001b[0m/content/drive/MyDrive/yolov11_test_cv/yolov11_dataset/images/val/3_1_frame_001575.jpg: ignoring corrupt image/label: labels require 5 columns, 6 columns detected\n",
            "\u001b[34m\u001b[1mval: \u001b[0m/content/drive/MyDrive/yolov11_test_cv/yolov11_dataset/images/val/3_1_frame_001680.jpg: ignoring corrupt image/label: labels require 5 columns, 6 columns detected\n",
            "\u001b[34m\u001b[1mval: \u001b[0m/content/drive/MyDrive/yolov11_test_cv/yolov11_dataset/images/val/3_1_frame_001825.jpg: ignoring corrupt image/label: labels require 5 columns, 6 columns detected\n",
            "\u001b[34m\u001b[1mval: \u001b[0m/content/drive/MyDrive/yolov11_test_cv/yolov11_dataset/images/val/3_1_frame_001896.jpg: ignoring corrupt image/label: labels require 5 columns, 6 columns detected\n",
            "\u001b[34m\u001b[1mval: \u001b[0m/content/drive/MyDrive/yolov11_test_cv/yolov11_dataset/images/val/3_1_frame_001950.jpg: ignoring corrupt image/label: labels require 5 columns, 6 columns detected\n",
            "\u001b[34m\u001b[1mval: \u001b[0m/content/drive/MyDrive/yolov11_test_cv/yolov11_dataset/images/val/3_1_frame_001992.jpg: ignoring corrupt image/label: labels require 5 columns, 6 columns detected\n",
            "\u001b[34m\u001b[1mval: \u001b[0m/content/drive/MyDrive/yolov11_test_cv/yolov11_dataset/images/val/3_1_frame_002076.jpg: ignoring corrupt image/label: labels require 5 columns, 6 columns detected\n",
            "\u001b[34m\u001b[1mval: \u001b[0m/content/drive/MyDrive/yolov11_test_cv/yolov11_dataset/images/val/3_1_frame_002175.jpg: ignoring corrupt image/label: labels require 5 columns, 6 columns detected\n",
            "\u001b[34m\u001b[1mval: \u001b[0m/content/drive/MyDrive/yolov11_test_cv/yolov11_dataset/images/val/3_1_frame_002200.jpg: ignoring corrupt image/label: labels require 5 columns, 6 columns detected\n",
            "\u001b[34m\u001b[1mval: \u001b[0m/content/drive/MyDrive/yolov11_test_cv/yolov11_dataset/images/val/3_1_frame_002275.jpg: ignoring corrupt image/label: labels require 5 columns, 6 columns detected\n",
            "\u001b[34m\u001b[1mval: \u001b[0m/content/drive/MyDrive/yolov11_test_cv/yolov11_dataset/images/val/3_1_frame_002304.jpg: ignoring corrupt image/label: labels require 5 columns, 6 columns detected\n",
            "\u001b[34m\u001b[1mval: \u001b[0m/content/drive/MyDrive/yolov11_test_cv/yolov11_dataset/images/val/3_1_frame_002364.jpg: ignoring corrupt image/label: labels require 5 columns, 6 columns detected\n",
            "\u001b[34m\u001b[1mval: \u001b[0m/content/drive/MyDrive/yolov11_test_cv/yolov11_dataset/images/val/3_1_frame_002376.jpg: ignoring corrupt image/label: labels require 5 columns, 6 columns detected\n",
            "\u001b[34m\u001b[1mval: \u001b[0m/content/drive/MyDrive/yolov11_test_cv/yolov11_dataset/images/val/3_1_frame_002412.jpg: ignoring corrupt image/label: labels require 5 columns, 6 columns detected\n",
            "\u001b[34m\u001b[1mval: \u001b[0m/content/drive/MyDrive/yolov11_test_cv/yolov11_dataset/images/val/3_1_frame_002425.jpg: ignoring corrupt image/label: labels require 5 columns, 6 columns detected\n",
            "\u001b[34m\u001b[1mval: \u001b[0m/content/drive/MyDrive/yolov11_test_cv/yolov11_dataset/images/val/3_1_frame_002448.jpg: ignoring corrupt image/label: labels require 5 columns, 6 columns detected\n",
            "\u001b[34m\u001b[1mval: \u001b[0m/content/drive/MyDrive/yolov11_test_cv/yolov11_dataset/images/val/3_1_frame_002532.jpg: ignoring corrupt image/label: labels require 5 columns, 6 columns detected\n",
            "\u001b[34m\u001b[1mval: \u001b[0m/content/drive/MyDrive/yolov11_test_cv/yolov11_dataset/images/val/3_1_frame_002568.jpg: ignoring corrupt image/label: labels require 5 columns, 6 columns detected\n",
            "\u001b[34m\u001b[1mval: \u001b[0m/content/drive/MyDrive/yolov11_test_cv/yolov11_dataset/images/val/3_1_frame_002616.jpg: ignoring corrupt image/label: labels require 5 columns, 6 columns detected\n",
            "\u001b[34m\u001b[1mval: \u001b[0m/content/drive/MyDrive/yolov11_test_cv/yolov11_dataset/images/val/3_1_frame_002640.jpg: ignoring corrupt image/label: labels require 5 columns, 6 columns detected\n",
            "\u001b[34m\u001b[1mval: \u001b[0m/content/drive/MyDrive/yolov11_test_cv/yolov11_dataset/images/val/3_1_frame_002725.jpg: ignoring corrupt image/label: labels require 5 columns, 6 columns detected\n",
            "\u001b[34m\u001b[1mval: \u001b[0m/content/drive/MyDrive/yolov11_test_cv/yolov11_dataset/images/val/3_1_frame_002832.jpg: ignoring corrupt image/label: labels require 5 columns, 6 columns detected\n",
            "\u001b[34m\u001b[1mval: \u001b[0m/content/drive/MyDrive/yolov11_test_cv/yolov11_dataset/images/val/3_1_frame_002880.jpg: ignoring corrupt image/label: labels require 5 columns, 6 columns detected\n",
            "\u001b[34m\u001b[1mval: \u001b[0m/content/drive/MyDrive/yolov11_test_cv/yolov11_dataset/images/val/3_1_frame_002892.jpg: ignoring corrupt image/label: labels require 5 columns, 6 columns detected\n",
            "\u001b[34m\u001b[1mval: \u001b[0m/content/drive/MyDrive/yolov11_test_cv/yolov11_dataset/images/val/3_1_frame_002904.jpg: ignoring corrupt image/label: labels require 5 columns, 6 columns detected\n",
            "\u001b[34m\u001b[1mval: \u001b[0m/content/drive/MyDrive/yolov11_test_cv/yolov11_dataset/images/val/3_1_frame_002940.jpg: ignoring corrupt image/label: labels require 5 columns, 6 columns detected\n",
            "\u001b[34m\u001b[1mval: \u001b[0m/content/drive/MyDrive/yolov11_test_cv/yolov11_dataset/images/val/3_1_frame_002952.jpg: ignoring corrupt image/label: labels require 5 columns, 6 columns detected\n",
            "\u001b[34m\u001b[1mval: \u001b[0m/content/drive/MyDrive/yolov11_test_cv/yolov11_dataset/images/val/3_2_frame_000918.jpg: ignoring corrupt image/label: labels require 5 columns, 6 columns detected\n",
            "\u001b[34m\u001b[1mval: \u001b[0m/content/drive/MyDrive/yolov11_test_cv/yolov11_dataset/images/val/3_2_frame_000972.jpg: ignoring corrupt image/label: labels require 5 columns, 6 columns detected\n",
            "\u001b[34m\u001b[1mval: \u001b[0m/content/drive/MyDrive/yolov11_test_cv/yolov11_dataset/images/val/3_2_frame_001053.jpg: ignoring corrupt image/label: labels require 5 columns, 6 columns detected\n",
            "\u001b[34m\u001b[1mval: \u001b[0m/content/drive/MyDrive/yolov11_test_cv/yolov11_dataset/images/val/4_1_frame_000297.jpg: ignoring corrupt image/label: labels require 5 columns, 6 columns detected\n",
            "\u001b[34m\u001b[1mval: \u001b[0m/content/drive/MyDrive/yolov11_test_cv/yolov11_dataset/images/val/4_1_frame_000324.jpg: ignoring corrupt image/label: labels require 5 columns, 6 columns detected\n",
            "\u001b[34m\u001b[1mval: \u001b[0m/content/drive/MyDrive/yolov11_test_cv/yolov11_dataset/images/val/4_1_frame_000351.jpg: ignoring corrupt image/label: labels require 5 columns, 6 columns detected\n",
            "\u001b[34m\u001b[1mval: \u001b[0m/content/drive/MyDrive/yolov11_test_cv/yolov11_dataset/images/val/4_1_frame_000432.jpg: ignoring corrupt image/label: labels require 5 columns, 6 columns detected\n",
            "\u001b[34m\u001b[1mval: \u001b[0m/content/drive/MyDrive/yolov11_test_cv/yolov11_dataset/images/val/4_1_frame_000918.jpg: ignoring corrupt image/label: labels require 5 columns, 6 columns detected\n",
            "\u001b[34m\u001b[1mval: \u001b[0m/content/drive/MyDrive/yolov11_test_cv/yolov11_dataset/images/val/4_frame_000025.jpg: ignoring corrupt image/label: labels require 5 columns, 6 columns detected\n",
            "\u001b[34m\u001b[1mval: \u001b[0m/content/drive/MyDrive/yolov11_test_cv/yolov11_dataset/images/val/4_frame_000228.jpg: ignoring corrupt image/label: labels require 5 columns, 6 columns detected\n",
            "\u001b[34m\u001b[1mval: \u001b[0m/content/drive/MyDrive/yolov11_test_cv/yolov11_dataset/images/val/4_frame_000300.jpg: ignoring corrupt image/label: labels require 5 columns, 6 columns detected\n",
            "\u001b[34m\u001b[1mval: \u001b[0m/content/drive/MyDrive/yolov11_test_cv/yolov11_dataset/images/val/4_frame_000324.jpg: ignoring corrupt image/label: labels require 5 columns, 6 columns detected\n",
            "\u001b[34m\u001b[1mval: \u001b[0m/content/drive/MyDrive/yolov11_test_cv/yolov11_dataset/images/val/4_frame_000450.jpg: ignoring corrupt image/label: labels require 5 columns, 6 columns detected\n",
            "\u001b[34m\u001b[1mval: \u001b[0m/content/drive/MyDrive/yolov11_test_cv/yolov11_dataset/images/val/4_frame_000475.jpg: ignoring corrupt image/label: labels require 5 columns, 6 columns detected\n",
            "\u001b[34m\u001b[1mval: \u001b[0m/content/drive/MyDrive/yolov11_test_cv/yolov11_dataset/images/val/4_frame_000575.jpg: ignoring corrupt image/label: labels require 5 columns, 6 columns detected\n",
            "\u001b[34m\u001b[1mval: \u001b[0m/content/drive/MyDrive/yolov11_test_cv/yolov11_dataset/images/val/4_frame_000800.jpg: ignoring corrupt image/label: labels require 5 columns, 6 columns detected\n",
            "\u001b[34m\u001b[1mval: \u001b[0m/content/drive/MyDrive/yolov11_test_cv/yolov11_dataset/images/val/4_frame_001025.jpg: ignoring corrupt image/label: labels require 5 columns, 6 columns detected\n",
            "\u001b[34m\u001b[1mval: \u001b[0m/content/drive/MyDrive/yolov11_test_cv/yolov11_dataset/images/val/4_frame_001075.jpg: ignoring corrupt image/label: labels require 5 columns, 6 columns detected\n",
            "\u001b[34m\u001b[1mval: \u001b[0m/content/drive/MyDrive/yolov11_test_cv/yolov11_dataset/images/val/4_frame_001125.jpg: ignoring corrupt image/label: labels require 5 columns, 6 columns detected\n",
            "\u001b[34m\u001b[1mval: \u001b[0m/content/drive/MyDrive/yolov11_test_cv/yolov11_dataset/images/val/4_frame_001150.jpg: ignoring corrupt image/label: labels require 5 columns, 6 columns detected\n",
            "\u001b[34m\u001b[1mval: \u001b[0m/content/drive/MyDrive/yolov11_test_cv/yolov11_dataset/images/val/4_frame_001375.jpg: ignoring corrupt image/label: labels require 5 columns, 6 columns detected\n",
            "\u001b[34m\u001b[1mval: \u001b[0m/content/drive/MyDrive/yolov11_test_cv/yolov11_dataset/images/val/4_frame_001525.jpg: ignoring corrupt image/label: labels require 5 columns, 6 columns detected\n",
            "\u001b[34m\u001b[1mval: \u001b[0m/content/drive/MyDrive/yolov11_test_cv/yolov11_dataset/images/val/4_frame_001675.jpg: ignoring corrupt image/label: labels require 5 columns, 6 columns detected\n",
            "\u001b[34m\u001b[1mval: \u001b[0m/content/drive/MyDrive/yolov11_test_cv/yolov11_dataset/images/val/4_frame_001850.jpg: ignoring corrupt image/label: labels require 5 columns, 6 columns detected\n",
            "\u001b[34m\u001b[1mval: \u001b[0m/content/drive/MyDrive/yolov11_test_cv/yolov11_dataset/images/val/4_frame_001875.jpg: ignoring corrupt image/label: labels require 5 columns, 6 columns detected\n",
            "\u001b[34m\u001b[1mval: \u001b[0m/content/drive/MyDrive/yolov11_test_cv/yolov11_dataset/images/val/4_frame_001896.jpg: ignoring corrupt image/label: labels require 5 columns, 6 columns detected\n",
            "\u001b[34m\u001b[1mval: \u001b[0m/content/drive/MyDrive/yolov11_test_cv/yolov11_dataset/images/val/4_frame_001950.jpg: ignoring corrupt image/label: labels require 5 columns, 6 columns detected\n",
            "\u001b[34m\u001b[1mval: \u001b[0m/content/drive/MyDrive/yolov11_test_cv/yolov11_dataset/images/val/4_frame_001975.jpg: ignoring corrupt image/label: labels require 5 columns, 6 columns detected\n",
            "\u001b[34m\u001b[1mval: \u001b[0m/content/drive/MyDrive/yolov11_test_cv/yolov11_dataset/images/val/4_frame_002025.jpg: ignoring corrupt image/label: labels require 5 columns, 6 columns detected\n"
          ]
        },
        {
          "output_type": "stream",
          "name": "stderr",
          "text": [
            "\n",
            "/usr/local/lib/python3.11/dist-packages/torch/utils/data/dataloader.py:665: UserWarning: 'pin_memory' argument is set as true but no accelerator is found, then device pinned memory won't be used.\n",
            "  warnings.warn(warn_msg)\n",
            "                 Class     Images  Instances      Box(P          R      mAP50  mAP50-95): 100%|██████████| 4/4 [00:09<00:00,  2.38s/it]\n"
          ]
        },
        {
          "output_type": "stream",
          "name": "stdout",
          "text": [
            "                   all         32        202      0.995      0.991      0.992      0.861\n",
            "                   cup         32         87          1      0.978      0.995      0.829\n",
            "                  meat         15         15      0.991          1      0.995      0.852\n",
            "                 salad         15         30      0.996          1      0.995      0.831\n",
            "                  dish         27         27      0.993          1      0.995       0.91\n",
            "                 plate         14         43      0.997      0.977       0.98      0.883\n",
            "Speed: 0.7ms preprocess, 218.8ms inference, 0.0ms loss, 0.5ms postprocess per image\n",
            "Results saved to \u001b[1mruns/detect/val3\u001b[0m\n",
            "\n",
            "Validation Results:\n",
            "mAP50: 0.9920\n",
            "mAP50-95: 0.8612\n",
            "Validation error: unsupported format string passed to numpy.ndarray.__format__\n",
            "Report generated: runs/train/training_report.md\n",
            "\n",
            "4. Running validation...\n",
            "\n",
            "Running validation...\n",
            "Ultralytics 8.3.162 🚀 Python-3.11.13 torch-2.7.1+cu118 CPU (Intel Xeon 2.20GHz)\n",
            "Model summary (fused): 72 layers, 11,128,680 parameters, 0 gradients, 28.5 GFLOPs\n",
            "\u001b[34m\u001b[1mval: \u001b[0mFast image access ✅ (ping: 0.5±0.2 ms, read: 137.7±38.3 MB/s, size: 2142.1 KB)\n"
          ]
        },
        {
          "output_type": "stream",
          "name": "stderr",
          "text": [
            "\u001b[34m\u001b[1mval: \u001b[0mScanning /content/drive/MyDrive/yolov11_test_cv/yolov11_dataset/labels/val.cache... 125 images, 0 backgrounds, 93 corrupt: 100%|██████████| 125/125 [00:00<?, ?it/s]"
          ]
        },
        {
          "output_type": "stream",
          "name": "stdout",
          "text": [
            "\u001b[34m\u001b[1mval: \u001b[0m/content/drive/MyDrive/yolov11_test_cv/yolov11_dataset/images/val/1_frame_000058.jpg: ignoring corrupt image/label: labels require 5 columns, 6 columns detected\n",
            "\u001b[34m\u001b[1mval: \u001b[0m/content/drive/MyDrive/yolov11_test_cv/yolov11_dataset/images/val/1_frame_000071.jpg: ignoring corrupt image/label: labels require 5 columns, 6 columns detected\n",
            "\u001b[34m\u001b[1mval: \u001b[0m/content/drive/MyDrive/yolov11_test_cv/yolov11_dataset/images/val/1_frame_000178.jpg: ignoring corrupt image/label: labels require 5 columns, 6 columns detected\n",
            "\u001b[34m\u001b[1mval: \u001b[0m/content/drive/MyDrive/yolov11_test_cv/yolov11_dataset/images/val/2_1_frame_000297.jpg: ignoring corrupt image/label: labels require 5 columns, 6 columns detected\n",
            "\u001b[34m\u001b[1mval: \u001b[0m/content/drive/MyDrive/yolov11_test_cv/yolov11_dataset/images/val/2_1_frame_000594.jpg: ignoring corrupt image/label: labels require 5 columns, 6 columns detected\n",
            "\u001b[34m\u001b[1mval: \u001b[0m/content/drive/MyDrive/yolov11_test_cv/yolov11_dataset/images/val/2_1_frame_001404.jpg: ignoring corrupt image/label: labels require 5 columns, 6 columns detected\n",
            "\u001b[34m\u001b[1mval: \u001b[0m/content/drive/MyDrive/yolov11_test_cv/yolov11_dataset/images/val/2_1_frame_001458.jpg: ignoring corrupt image/label: labels require 5 columns, 6 columns detected\n",
            "\u001b[34m\u001b[1mval: \u001b[0m/content/drive/MyDrive/yolov11_test_cv/yolov11_dataset/images/val/3_1_frame_000050.jpg: ignoring corrupt image/label: labels require 5 columns, 6 columns detected\n",
            "\u001b[34m\u001b[1mval: \u001b[0m/content/drive/MyDrive/yolov11_test_cv/yolov11_dataset/images/val/3_1_frame_000108.jpg: ignoring corrupt image/label: labels require 5 columns, 6 columns detected\n",
            "\u001b[34m\u001b[1mval: \u001b[0m/content/drive/MyDrive/yolov11_test_cv/yolov11_dataset/images/val/3_1_frame_000144.jpg: ignoring corrupt image/label: labels require 5 columns, 6 columns detected\n",
            "\u001b[34m\u001b[1mval: \u001b[0m/content/drive/MyDrive/yolov11_test_cv/yolov11_dataset/images/val/3_1_frame_000372.jpg: ignoring corrupt image/label: labels require 5 columns, 6 columns detected\n",
            "\u001b[34m\u001b[1mval: \u001b[0m/content/drive/MyDrive/yolov11_test_cv/yolov11_dataset/images/val/3_1_frame_000408.jpg: ignoring corrupt image/label: labels require 5 columns, 6 columns detected\n",
            "\u001b[34m\u001b[1mval: \u001b[0m/content/drive/MyDrive/yolov11_test_cv/yolov11_dataset/images/val/3_1_frame_000444.jpg: ignoring corrupt image/label: labels require 5 columns, 6 columns detected\n",
            "\u001b[34m\u001b[1mval: \u001b[0m/content/drive/MyDrive/yolov11_test_cv/yolov11_dataset/images/val/3_1_frame_000525.jpg: ignoring corrupt image/label: labels require 5 columns, 6 columns detected\n",
            "\u001b[34m\u001b[1mval: \u001b[0m/content/drive/MyDrive/yolov11_test_cv/yolov11_dataset/images/val/3_1_frame_000528.jpg: ignoring corrupt image/label: labels require 5 columns, 6 columns detected\n",
            "\u001b[34m\u001b[1mval: \u001b[0m/content/drive/MyDrive/yolov11_test_cv/yolov11_dataset/images/val/3_1_frame_000552.jpg: ignoring corrupt image/label: labels require 5 columns, 6 columns detected\n",
            "\u001b[34m\u001b[1mval: \u001b[0m/content/drive/MyDrive/yolov11_test_cv/yolov11_dataset/images/val/3_1_frame_000600.jpg: ignoring corrupt image/label: labels require 5 columns, 6 columns detected\n",
            "\u001b[34m\u001b[1mval: \u001b[0m/content/drive/MyDrive/yolov11_test_cv/yolov11_dataset/images/val/3_1_frame_000624.jpg: ignoring corrupt image/label: labels require 5 columns, 6 columns detected\n",
            "\u001b[34m\u001b[1mval: \u001b[0m/content/drive/MyDrive/yolov11_test_cv/yolov11_dataset/images/val/3_1_frame_000625.jpg: ignoring corrupt image/label: labels require 5 columns, 6 columns detected\n",
            "\u001b[34m\u001b[1mval: \u001b[0m/content/drive/MyDrive/yolov11_test_cv/yolov11_dataset/images/val/3_1_frame_000660.jpg: ignoring corrupt image/label: labels require 5 columns, 6 columns detected\n",
            "\u001b[34m\u001b[1mval: \u001b[0m/content/drive/MyDrive/yolov11_test_cv/yolov11_dataset/images/val/3_1_frame_000780.jpg: ignoring corrupt image/label: labels require 5 columns, 6 columns detected\n",
            "\u001b[34m\u001b[1mval: \u001b[0m/content/drive/MyDrive/yolov11_test_cv/yolov11_dataset/images/val/3_1_frame_000792.jpg: ignoring corrupt image/label: labels require 5 columns, 6 columns detected\n",
            "\u001b[34m\u001b[1mval: \u001b[0m/content/drive/MyDrive/yolov11_test_cv/yolov11_dataset/images/val/3_1_frame_000840.jpg: ignoring corrupt image/label: labels require 5 columns, 6 columns detected\n",
            "\u001b[34m\u001b[1mval: \u001b[0m/content/drive/MyDrive/yolov11_test_cv/yolov11_dataset/images/val/3_1_frame_000864.jpg: ignoring corrupt image/label: labels require 5 columns, 6 columns detected\n",
            "\u001b[34m\u001b[1mval: \u001b[0m/content/drive/MyDrive/yolov11_test_cv/yolov11_dataset/images/val/3_1_frame_000888.jpg: ignoring corrupt image/label: labels require 5 columns, 6 columns detected\n",
            "\u001b[34m\u001b[1mval: \u001b[0m/content/drive/MyDrive/yolov11_test_cv/yolov11_dataset/images/val/3_1_frame_001025.jpg: ignoring corrupt image/label: labels require 5 columns, 6 columns detected\n",
            "\u001b[34m\u001b[1mval: \u001b[0m/content/drive/MyDrive/yolov11_test_cv/yolov11_dataset/images/val/3_1_frame_001075.jpg: ignoring corrupt image/label: labels require 5 columns, 6 columns detected\n",
            "\u001b[34m\u001b[1mval: \u001b[0m/content/drive/MyDrive/yolov11_test_cv/yolov11_dataset/images/val/3_1_frame_001224.jpg: ignoring corrupt image/label: labels require 5 columns, 6 columns detected\n",
            "\u001b[34m\u001b[1mval: \u001b[0m/content/drive/MyDrive/yolov11_test_cv/yolov11_dataset/images/val/3_1_frame_001236.jpg: ignoring corrupt image/label: labels require 5 columns, 6 columns detected\n",
            "\u001b[34m\u001b[1mval: \u001b[0m/content/drive/MyDrive/yolov11_test_cv/yolov11_dataset/images/val/3_1_frame_001248.jpg: ignoring corrupt image/label: labels require 5 columns, 6 columns detected\n",
            "\u001b[34m\u001b[1mval: \u001b[0m/content/drive/MyDrive/yolov11_test_cv/yolov11_dataset/images/val/3_1_frame_001320.jpg: ignoring corrupt image/label: labels require 5 columns, 6 columns detected\n",
            "\u001b[34m\u001b[1mval: \u001b[0m/content/drive/MyDrive/yolov11_test_cv/yolov11_dataset/images/val/3_1_frame_001325.jpg: ignoring corrupt image/label: labels require 5 columns, 6 columns detected\n",
            "\u001b[34m\u001b[1mval: \u001b[0m/content/drive/MyDrive/yolov11_test_cv/yolov11_dataset/images/val/3_1_frame_001404.jpg: ignoring corrupt image/label: labels require 5 columns, 6 columns detected\n",
            "\u001b[34m\u001b[1mval: \u001b[0m/content/drive/MyDrive/yolov11_test_cv/yolov11_dataset/images/val/3_1_frame_001416.jpg: ignoring corrupt image/label: labels require 5 columns, 6 columns detected\n",
            "\u001b[34m\u001b[1mval: \u001b[0m/content/drive/MyDrive/yolov11_test_cv/yolov11_dataset/images/val/3_1_frame_001525.jpg: ignoring corrupt image/label: labels require 5 columns, 6 columns detected\n",
            "\u001b[34m\u001b[1mval: \u001b[0m/content/drive/MyDrive/yolov11_test_cv/yolov11_dataset/images/val/3_1_frame_001536.jpg: ignoring corrupt image/label: labels require 5 columns, 6 columns detected\n",
            "\u001b[34m\u001b[1mval: \u001b[0m/content/drive/MyDrive/yolov11_test_cv/yolov11_dataset/images/val/3_1_frame_001560.jpg: ignoring corrupt image/label: labels require 5 columns, 6 columns detected\n",
            "\u001b[34m\u001b[1mval: \u001b[0m/content/drive/MyDrive/yolov11_test_cv/yolov11_dataset/images/val/3_1_frame_001575.jpg: ignoring corrupt image/label: labels require 5 columns, 6 columns detected\n",
            "\u001b[34m\u001b[1mval: \u001b[0m/content/drive/MyDrive/yolov11_test_cv/yolov11_dataset/images/val/3_1_frame_001680.jpg: ignoring corrupt image/label: labels require 5 columns, 6 columns detected\n",
            "\u001b[34m\u001b[1mval: \u001b[0m/content/drive/MyDrive/yolov11_test_cv/yolov11_dataset/images/val/3_1_frame_001825.jpg: ignoring corrupt image/label: labels require 5 columns, 6 columns detected\n",
            "\u001b[34m\u001b[1mval: \u001b[0m/content/drive/MyDrive/yolov11_test_cv/yolov11_dataset/images/val/3_1_frame_001896.jpg: ignoring corrupt image/label: labels require 5 columns, 6 columns detected\n",
            "\u001b[34m\u001b[1mval: \u001b[0m/content/drive/MyDrive/yolov11_test_cv/yolov11_dataset/images/val/3_1_frame_001950.jpg: ignoring corrupt image/label: labels require 5 columns, 6 columns detected\n",
            "\u001b[34m\u001b[1mval: \u001b[0m/content/drive/MyDrive/yolov11_test_cv/yolov11_dataset/images/val/3_1_frame_001992.jpg: ignoring corrupt image/label: labels require 5 columns, 6 columns detected\n",
            "\u001b[34m\u001b[1mval: \u001b[0m/content/drive/MyDrive/yolov11_test_cv/yolov11_dataset/images/val/3_1_frame_002076.jpg: ignoring corrupt image/label: labels require 5 columns, 6 columns detected\n",
            "\u001b[34m\u001b[1mval: \u001b[0m/content/drive/MyDrive/yolov11_test_cv/yolov11_dataset/images/val/3_1_frame_002175.jpg: ignoring corrupt image/label: labels require 5 columns, 6 columns detected\n",
            "\u001b[34m\u001b[1mval: \u001b[0m/content/drive/MyDrive/yolov11_test_cv/yolov11_dataset/images/val/3_1_frame_002200.jpg: ignoring corrupt image/label: labels require 5 columns, 6 columns detected\n",
            "\u001b[34m\u001b[1mval: \u001b[0m/content/drive/MyDrive/yolov11_test_cv/yolov11_dataset/images/val/3_1_frame_002275.jpg: ignoring corrupt image/label: labels require 5 columns, 6 columns detected\n",
            "\u001b[34m\u001b[1mval: \u001b[0m/content/drive/MyDrive/yolov11_test_cv/yolov11_dataset/images/val/3_1_frame_002304.jpg: ignoring corrupt image/label: labels require 5 columns, 6 columns detected\n",
            "\u001b[34m\u001b[1mval: \u001b[0m/content/drive/MyDrive/yolov11_test_cv/yolov11_dataset/images/val/3_1_frame_002364.jpg: ignoring corrupt image/label: labels require 5 columns, 6 columns detected\n",
            "\u001b[34m\u001b[1mval: \u001b[0m/content/drive/MyDrive/yolov11_test_cv/yolov11_dataset/images/val/3_1_frame_002376.jpg: ignoring corrupt image/label: labels require 5 columns, 6 columns detected\n",
            "\u001b[34m\u001b[1mval: \u001b[0m/content/drive/MyDrive/yolov11_test_cv/yolov11_dataset/images/val/3_1_frame_002412.jpg: ignoring corrupt image/label: labels require 5 columns, 6 columns detected\n",
            "\u001b[34m\u001b[1mval: \u001b[0m/content/drive/MyDrive/yolov11_test_cv/yolov11_dataset/images/val/3_1_frame_002425.jpg: ignoring corrupt image/label: labels require 5 columns, 6 columns detected\n",
            "\u001b[34m\u001b[1mval: \u001b[0m/content/drive/MyDrive/yolov11_test_cv/yolov11_dataset/images/val/3_1_frame_002448.jpg: ignoring corrupt image/label: labels require 5 columns, 6 columns detected\n",
            "\u001b[34m\u001b[1mval: \u001b[0m/content/drive/MyDrive/yolov11_test_cv/yolov11_dataset/images/val/3_1_frame_002532.jpg: ignoring corrupt image/label: labels require 5 columns, 6 columns detected\n",
            "\u001b[34m\u001b[1mval: \u001b[0m/content/drive/MyDrive/yolov11_test_cv/yolov11_dataset/images/val/3_1_frame_002568.jpg: ignoring corrupt image/label: labels require 5 columns, 6 columns detected\n",
            "\u001b[34m\u001b[1mval: \u001b[0m/content/drive/MyDrive/yolov11_test_cv/yolov11_dataset/images/val/3_1_frame_002616.jpg: ignoring corrupt image/label: labels require 5 columns, 6 columns detected\n",
            "\u001b[34m\u001b[1mval: \u001b[0m/content/drive/MyDrive/yolov11_test_cv/yolov11_dataset/images/val/3_1_frame_002640.jpg: ignoring corrupt image/label: labels require 5 columns, 6 columns detected\n",
            "\u001b[34m\u001b[1mval: \u001b[0m/content/drive/MyDrive/yolov11_test_cv/yolov11_dataset/images/val/3_1_frame_002725.jpg: ignoring corrupt image/label: labels require 5 columns, 6 columns detected\n",
            "\u001b[34m\u001b[1mval: \u001b[0m/content/drive/MyDrive/yolov11_test_cv/yolov11_dataset/images/val/3_1_frame_002832.jpg: ignoring corrupt image/label: labels require 5 columns, 6 columns detected\n",
            "\u001b[34m\u001b[1mval: \u001b[0m/content/drive/MyDrive/yolov11_test_cv/yolov11_dataset/images/val/3_1_frame_002880.jpg: ignoring corrupt image/label: labels require 5 columns, 6 columns detected\n",
            "\u001b[34m\u001b[1mval: \u001b[0m/content/drive/MyDrive/yolov11_test_cv/yolov11_dataset/images/val/3_1_frame_002892.jpg: ignoring corrupt image/label: labels require 5 columns, 6 columns detected\n",
            "\u001b[34m\u001b[1mval: \u001b[0m/content/drive/MyDrive/yolov11_test_cv/yolov11_dataset/images/val/3_1_frame_002904.jpg: ignoring corrupt image/label: labels require 5 columns, 6 columns detected\n",
            "\u001b[34m\u001b[1mval: \u001b[0m/content/drive/MyDrive/yolov11_test_cv/yolov11_dataset/images/val/3_1_frame_002940.jpg: ignoring corrupt image/label: labels require 5 columns, 6 columns detected\n",
            "\u001b[34m\u001b[1mval: \u001b[0m/content/drive/MyDrive/yolov11_test_cv/yolov11_dataset/images/val/3_1_frame_002952.jpg: ignoring corrupt image/label: labels require 5 columns, 6 columns detected\n",
            "\u001b[34m\u001b[1mval: \u001b[0m/content/drive/MyDrive/yolov11_test_cv/yolov11_dataset/images/val/3_2_frame_000918.jpg: ignoring corrupt image/label: labels require 5 columns, 6 columns detected\n",
            "\u001b[34m\u001b[1mval: \u001b[0m/content/drive/MyDrive/yolov11_test_cv/yolov11_dataset/images/val/3_2_frame_000972.jpg: ignoring corrupt image/label: labels require 5 columns, 6 columns detected\n",
            "\u001b[34m\u001b[1mval: \u001b[0m/content/drive/MyDrive/yolov11_test_cv/yolov11_dataset/images/val/3_2_frame_001053.jpg: ignoring corrupt image/label: labels require 5 columns, 6 columns detected\n",
            "\u001b[34m\u001b[1mval: \u001b[0m/content/drive/MyDrive/yolov11_test_cv/yolov11_dataset/images/val/4_1_frame_000297.jpg: ignoring corrupt image/label: labels require 5 columns, 6 columns detected\n",
            "\u001b[34m\u001b[1mval: \u001b[0m/content/drive/MyDrive/yolov11_test_cv/yolov11_dataset/images/val/4_1_frame_000324.jpg: ignoring corrupt image/label: labels require 5 columns, 6 columns detected\n",
            "\u001b[34m\u001b[1mval: \u001b[0m/content/drive/MyDrive/yolov11_test_cv/yolov11_dataset/images/val/4_1_frame_000351.jpg: ignoring corrupt image/label: labels require 5 columns, 6 columns detected\n",
            "\u001b[34m\u001b[1mval: \u001b[0m/content/drive/MyDrive/yolov11_test_cv/yolov11_dataset/images/val/4_1_frame_000432.jpg: ignoring corrupt image/label: labels require 5 columns, 6 columns detected\n",
            "\u001b[34m\u001b[1mval: \u001b[0m/content/drive/MyDrive/yolov11_test_cv/yolov11_dataset/images/val/4_1_frame_000918.jpg: ignoring corrupt image/label: labels require 5 columns, 6 columns detected\n",
            "\u001b[34m\u001b[1mval: \u001b[0m/content/drive/MyDrive/yolov11_test_cv/yolov11_dataset/images/val/4_frame_000025.jpg: ignoring corrupt image/label: labels require 5 columns, 6 columns detected\n",
            "\u001b[34m\u001b[1mval: \u001b[0m/content/drive/MyDrive/yolov11_test_cv/yolov11_dataset/images/val/4_frame_000228.jpg: ignoring corrupt image/label: labels require 5 columns, 6 columns detected\n",
            "\u001b[34m\u001b[1mval: \u001b[0m/content/drive/MyDrive/yolov11_test_cv/yolov11_dataset/images/val/4_frame_000300.jpg: ignoring corrupt image/label: labels require 5 columns, 6 columns detected\n",
            "\u001b[34m\u001b[1mval: \u001b[0m/content/drive/MyDrive/yolov11_test_cv/yolov11_dataset/images/val/4_frame_000324.jpg: ignoring corrupt image/label: labels require 5 columns, 6 columns detected\n",
            "\u001b[34m\u001b[1mval: \u001b[0m/content/drive/MyDrive/yolov11_test_cv/yolov11_dataset/images/val/4_frame_000450.jpg: ignoring corrupt image/label: labels require 5 columns, 6 columns detected\n",
            "\u001b[34m\u001b[1mval: \u001b[0m/content/drive/MyDrive/yolov11_test_cv/yolov11_dataset/images/val/4_frame_000475.jpg: ignoring corrupt image/label: labels require 5 columns, 6 columns detected\n",
            "\u001b[34m\u001b[1mval: \u001b[0m/content/drive/MyDrive/yolov11_test_cv/yolov11_dataset/images/val/4_frame_000575.jpg: ignoring corrupt image/label: labels require 5 columns, 6 columns detected\n",
            "\u001b[34m\u001b[1mval: \u001b[0m/content/drive/MyDrive/yolov11_test_cv/yolov11_dataset/images/val/4_frame_000800.jpg: ignoring corrupt image/label: labels require 5 columns, 6 columns detected\n",
            "\u001b[34m\u001b[1mval: \u001b[0m/content/drive/MyDrive/yolov11_test_cv/yolov11_dataset/images/val/4_frame_001025.jpg: ignoring corrupt image/label: labels require 5 columns, 6 columns detected\n",
            "\u001b[34m\u001b[1mval: \u001b[0m/content/drive/MyDrive/yolov11_test_cv/yolov11_dataset/images/val/4_frame_001075.jpg: ignoring corrupt image/label: labels require 5 columns, 6 columns detected\n",
            "\u001b[34m\u001b[1mval: \u001b[0m/content/drive/MyDrive/yolov11_test_cv/yolov11_dataset/images/val/4_frame_001125.jpg: ignoring corrupt image/label: labels require 5 columns, 6 columns detected\n",
            "\u001b[34m\u001b[1mval: \u001b[0m/content/drive/MyDrive/yolov11_test_cv/yolov11_dataset/images/val/4_frame_001150.jpg: ignoring corrupt image/label: labels require 5 columns, 6 columns detected\n",
            "\u001b[34m\u001b[1mval: \u001b[0m/content/drive/MyDrive/yolov11_test_cv/yolov11_dataset/images/val/4_frame_001375.jpg: ignoring corrupt image/label: labels require 5 columns, 6 columns detected\n",
            "\u001b[34m\u001b[1mval: \u001b[0m/content/drive/MyDrive/yolov11_test_cv/yolov11_dataset/images/val/4_frame_001525.jpg: ignoring corrupt image/label: labels require 5 columns, 6 columns detected\n",
            "\u001b[34m\u001b[1mval: \u001b[0m/content/drive/MyDrive/yolov11_test_cv/yolov11_dataset/images/val/4_frame_001675.jpg: ignoring corrupt image/label: labels require 5 columns, 6 columns detected\n",
            "\u001b[34m\u001b[1mval: \u001b[0m/content/drive/MyDrive/yolov11_test_cv/yolov11_dataset/images/val/4_frame_001850.jpg: ignoring corrupt image/label: labels require 5 columns, 6 columns detected\n",
            "\u001b[34m\u001b[1mval: \u001b[0m/content/drive/MyDrive/yolov11_test_cv/yolov11_dataset/images/val/4_frame_001875.jpg: ignoring corrupt image/label: labels require 5 columns, 6 columns detected\n",
            "\u001b[34m\u001b[1mval: \u001b[0m/content/drive/MyDrive/yolov11_test_cv/yolov11_dataset/images/val/4_frame_001896.jpg: ignoring corrupt image/label: labels require 5 columns, 6 columns detected\n",
            "\u001b[34m\u001b[1mval: \u001b[0m/content/drive/MyDrive/yolov11_test_cv/yolov11_dataset/images/val/4_frame_001950.jpg: ignoring corrupt image/label: labels require 5 columns, 6 columns detected\n",
            "\u001b[34m\u001b[1mval: \u001b[0m/content/drive/MyDrive/yolov11_test_cv/yolov11_dataset/images/val/4_frame_001975.jpg: ignoring corrupt image/label: labels require 5 columns, 6 columns detected\n",
            "\u001b[34m\u001b[1mval: \u001b[0m/content/drive/MyDrive/yolov11_test_cv/yolov11_dataset/images/val/4_frame_002025.jpg: ignoring corrupt image/label: labels require 5 columns, 6 columns detected\n"
          ]
        },
        {
          "output_type": "stream",
          "name": "stderr",
          "text": [
            "\n",
            "/usr/local/lib/python3.11/dist-packages/torch/utils/data/dataloader.py:665: UserWarning: 'pin_memory' argument is set as true but no accelerator is found, then device pinned memory won't be used.\n",
            "  warnings.warn(warn_msg)\n",
            "                 Class     Images  Instances      Box(P          R      mAP50  mAP50-95): 100%|██████████| 4/4 [00:11<00:00,  2.79s/it]\n"
          ]
        },
        {
          "output_type": "stream",
          "name": "stdout",
          "text": [
            "                   all         32        202      0.995      0.991      0.992      0.861\n",
            "                   cup         32         87          1      0.978      0.995      0.829\n",
            "                  meat         15         15      0.991          1      0.995      0.852\n",
            "                 salad         15         30      0.996          1      0.995      0.831\n",
            "                  dish         27         27      0.993          1      0.995       0.91\n",
            "                 plate         14         43      0.997      0.977       0.98      0.883\n",
            "Speed: 0.7ms preprocess, 264.5ms inference, 0.0ms loss, 0.5ms postprocess per image\n",
            "Results saved to \u001b[1mruns/detect/val4\u001b[0m\n",
            "\n",
            "Validation Results:\n",
            "mAP50: 0.9920\n",
            "mAP50-95: 0.8612\n",
            "Validation error: unsupported format string passed to numpy.ndarray.__format__\n",
            "\n",
            "5. Testing and visualizing results...\n",
            "\n",
            "Testing model on 5 samples...\n",
            "\n",
            "image 1/1 /content/drive/MyDrive/yolov11_test_cv/yolov11_dataset/images/test/4_1_frame_000135.jpg: 288x512 3 cups, 1 dish, 2 plates, 228.7ms\n",
            "Speed: 4.3ms preprocess, 228.7ms inference, 33.0ms postprocess per image at shape (1, 3, 288, 512)\n",
            "Saved: runs/train/test_results/result_4_1_frame_000135.jpg\n",
            "\n",
            "image 1/1 /content/drive/MyDrive/yolov11_test_cv/yolov11_dataset/images/test/3_1_frame_001500.jpg: 288x512 2 cups, 1 meat, 2 salads, 1 dish, 227.1ms\n",
            "Speed: 2.7ms preprocess, 227.1ms inference, 1.0ms postprocess per image at shape (1, 3, 288, 512)\n",
            "Saved: runs/train/test_results/result_3_1_frame_001500.jpg\n",
            "\n",
            "image 1/1 /content/drive/MyDrive/yolov11_test_cv/yolov11_dataset/images/test/2_1_frame_000000.jpg: 288x512 2 cups, 1 meat, 2 salads, 1 dish, 203.6ms\n",
            "Speed: 2.5ms preprocess, 203.6ms inference, 1.1ms postprocess per image at shape (1, 3, 288, 512)\n",
            "Saved: runs/train/test_results/result_2_1_frame_000000.jpg\n",
            "\n",
            "image 1/1 /content/drive/MyDrive/yolov11_test_cv/yolov11_dataset/images/test/3_1_frame_000672.jpg: 288x512 3 cups, 1 meat, 2 salads, 1 dish, 227.7ms\n",
            "Speed: 2.4ms preprocess, 227.7ms inference, 1.0ms postprocess per image at shape (1, 3, 288, 512)\n",
            "Saved: runs/train/test_results/result_3_1_frame_000672.jpg\n",
            "\n",
            "image 1/1 /content/drive/MyDrive/yolov11_test_cv/yolov11_dataset/images/test/1_frame_000168.jpg: 288x512 2 cups, 204.4ms\n",
            "Speed: 2.4ms preprocess, 204.4ms inference, 1.1ms postprocess per image at shape (1, 3, 288, 512)\n",
            "Saved: runs/train/test_results/result_1_frame_000168.jpg\n",
            "Ultralytics 8.3.162 🚀 Python-3.11.13 torch-2.7.1+cu118 CPU (Intel Xeon 2.20GHz)\n",
            "\u001b[34m\u001b[1mval: \u001b[0mFast image access ✅ (ping: 0.6±0.2 ms, read: 118.1±67.5 MB/s, size: 2093.2 KB)\n"
          ]
        },
        {
          "output_type": "stream",
          "name": "stderr",
          "text": [
            "\u001b[34m\u001b[1mval: \u001b[0mScanning /content/drive/MyDrive/yolov11_test_cv/yolov11_dataset/labels/test... 54 images, 0 backgrounds, 0 corrupt: 100%|██████████| 54/54 [00:00<00:00, 64.32it/s]\n"
          ]
        },
        {
          "output_type": "stream",
          "name": "stdout",
          "text": [
            "\u001b[34m\u001b[1mval: \u001b[0mNew cache created: /content/drive/MyDrive/yolov11_test_cv/yolov11_dataset/labels/test.cache\n"
          ]
        },
        {
          "output_type": "stream",
          "name": "stderr",
          "text": [
            "/usr/local/lib/python3.11/dist-packages/torch/utils/data/dataloader.py:665: UserWarning: 'pin_memory' argument is set as true but no accelerator is found, then device pinned memory won't be used.\n",
            "  warnings.warn(warn_msg)\n",
            "                 Class     Images  Instances      Box(P          R      mAP50  mAP50-95): 100%|██████████| 7/7 [00:17<00:00,  2.50s/it]\n"
          ]
        },
        {
          "output_type": "stream",
          "name": "stdout",
          "text": [
            "                   all         54        337      0.995      0.984      0.991      0.845\n",
            "                   cup         54        150          1       0.99      0.995       0.83\n",
            "                  meat         22         22      0.993          1      0.995        0.8\n",
            "                 salad         22         44      0.997          1      0.995      0.822\n",
            "                  dish         49         49      0.989      0.959      0.992      0.907\n",
            "                 plate         29         72      0.997      0.972      0.979      0.865\n",
            "Speed: 0.7ms preprocess, 238.8ms inference, 0.0ms loss, 0.6ms postprocess per image\n",
            "Results saved to \u001b[1mruns/detect/val5\u001b[0m\n",
            "\n",
            "Test Set Metrics:\n",
            "mAP50: 0.9912\n",
            "mAP50-95: 0.8447\n",
            "Testing error: unsupported format string passed to numpy.ndarray.__format__\n",
            "\n",
            "Training complete! Results saved in: runs/train\n"
          ]
        }
      ]
    },
    {
      "cell_type": "code",
      "source": [
        "from google.colab import files\n",
        "import shutil\n",
        "\n",
        "# Zip the folder\n",
        "shutil.make_archive('/content/runs', 'zip', '/content/runs')\n",
        "\n",
        "# Download the zipped folder\n",
        "files.download('/content/runs.zip')\n"
      ],
      "metadata": {
        "colab": {
          "base_uri": "https://localhost:8080/",
          "height": 17
        },
        "id": "_ftPyqFb_E8M",
        "outputId": "f64a7ebc-3fe1-4e49-93a1-d81217b96463"
      },
      "execution_count": 6,
      "outputs": [
        {
          "output_type": "display_data",
          "data": {
            "text/plain": [
              "<IPython.core.display.Javascript object>"
            ],
            "application/javascript": [
              "\n",
              "    async function download(id, filename, size) {\n",
              "      if (!google.colab.kernel.accessAllowed) {\n",
              "        return;\n",
              "      }\n",
              "      const div = document.createElement('div');\n",
              "      const label = document.createElement('label');\n",
              "      label.textContent = `Downloading \"${filename}\": `;\n",
              "      div.appendChild(label);\n",
              "      const progress = document.createElement('progress');\n",
              "      progress.max = size;\n",
              "      div.appendChild(progress);\n",
              "      document.body.appendChild(div);\n",
              "\n",
              "      const buffers = [];\n",
              "      let downloaded = 0;\n",
              "\n",
              "      const channel = await google.colab.kernel.comms.open(id);\n",
              "      // Send a message to notify the kernel that we're ready.\n",
              "      channel.send({})\n",
              "\n",
              "      for await (const message of channel.messages) {\n",
              "        // Send a message to notify the kernel that we're ready.\n",
              "        channel.send({})\n",
              "        if (message.buffers) {\n",
              "          for (const buffer of message.buffers) {\n",
              "            buffers.push(buffer);\n",
              "            downloaded += buffer.byteLength;\n",
              "            progress.value = downloaded;\n",
              "          }\n",
              "        }\n",
              "      }\n",
              "      const blob = new Blob(buffers, {type: 'application/binary'});\n",
              "      const a = document.createElement('a');\n",
              "      a.href = window.URL.createObjectURL(blob);\n",
              "      a.download = filename;\n",
              "      div.appendChild(a);\n",
              "      a.click();\n",
              "      div.remove();\n",
              "    }\n",
              "  "
            ]
          },
          "metadata": {}
        },
        {
          "output_type": "display_data",
          "data": {
            "text/plain": [
              "<IPython.core.display.Javascript object>"
            ],
            "application/javascript": [
              "download(\"download_f537df49-a979-4683-87b7-d6ce87b87171\", \"runs.zip\", 154190285)"
            ]
          },
          "metadata": {}
        }
      ]
    }
  ],
  "metadata": {
    "colab": {
      "provenance": []
    },
    "kernelspec": {
      "display_name": "Python 3",
      "name": "python3"
    },
    "language_info": {
      "name": "python"
    }
  },
  "nbformat": 4,
  "nbformat_minor": 0
}